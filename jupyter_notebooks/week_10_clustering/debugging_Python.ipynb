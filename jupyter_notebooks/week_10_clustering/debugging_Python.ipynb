{
 "cells": [
  {
   "cell_type": "markdown",
   "metadata": {},
   "source": [
    "https://swcarpentry.github.io/python-novice-inflammation/07-errors/"
   ]
  },
  {
   "cell_type": "code",
   "execution_count": null,
   "metadata": {},
   "outputs": [],
   "source": [
    "print(\"hello\")\n",
    "print(a)"
   ]
  },
  {
   "cell_type": "markdown",
   "metadata": {},
   "source": [
    "The traceback indicates the line on which the error is observed\n",
    "\n",
    "List of potential error conditions in Python: https://docs.python.org/3/library/exceptions.html"
   ]
  },
  {
   "cell_type": "markdown",
   "metadata": {},
   "source": [
    "# Syntax as source of error"
   ]
  },
  {
   "cell_type": "code",
   "execution_count": null,
   "metadata": {},
   "outputs": [],
   "source": [
    "def a_func(my_lst)\n",
    "    return my_lst[5]"
   ]
  },
  {
   "cell_type": "markdown",
   "metadata": {},
   "source": [
    "solution: provide valid Python\n",
    "\n",
    "Often Python will complain about the line following the invalid syntax"
   ]
  },
  {
   "cell_type": "code",
   "execution_count": null,
   "metadata": {},
   "outputs": [],
   "source": [
    "def a_func(my_lst)\n",
    "     print('hello')\n",
    "    return my_lst[5]"
   ]
  },
  {
   "cell_type": "markdown",
   "metadata": {},
   "source": [
    "# dealing with errors\n",
    "\n",
    "Create a list with three elements"
   ]
  },
  {
   "cell_type": "code",
   "execution_count": null,
   "metadata": {},
   "outputs": [],
   "source": [
    "lst = ['a', 'b', 'c']"
   ]
  },
  {
   "cell_type": "code",
   "execution_count": null,
   "metadata": {},
   "outputs": [],
   "source": [
    "len(lst)"
   ]
  },
  {
   "cell_type": "markdown",
   "metadata": {},
   "source": [
    "Try to access the element at index 5"
   ]
  },
  {
   "cell_type": "code",
   "execution_count": null,
   "metadata": {},
   "outputs": [],
   "source": [
    "lst[5]"
   ]
  },
  {
   "cell_type": "markdown",
   "metadata": {},
   "source": [
    "If there are expected types of errors, we can catch these"
   ]
  },
  {
   "cell_type": "code",
   "execution_count": null,
   "metadata": {},
   "outputs": [],
   "source": [
    "try:\n",
    "    lst[5]\n",
    "except IndexError:\n",
    "    print('index out of bounds for lst')"
   ]
  },
  {
   "cell_type": "markdown",
   "metadata": {},
   "source": [
    "The error still occurs, but now the Python program does not halt when the error exists"
   ]
  },
  {
   "cell_type": "markdown",
   "metadata": {},
   "source": [
    "# Nested calls\n",
    "\n",
    "A common issue is that an error occurs within functions"
   ]
  },
  {
   "cell_type": "code",
   "execution_count": null,
   "metadata": {},
   "outputs": [],
   "source": [
    "def a_func(my_lst):\n",
    "#   print('reached a_func')\n",
    "    return my_lst[5]\n",
    "\n",
    "def speaker(phone_number,lst):\n",
    "#    print(\"reached speaker\")\n",
    "    val = a_func(lst)\n",
    "    return val"
   ]
  },
  {
   "cell_type": "markdown",
   "metadata": {},
   "source": [
    "Both functions are valid Python, so no error is indicated."
   ]
  },
  {
   "cell_type": "code",
   "execution_count": null,
   "metadata": {},
   "outputs": [],
   "source": [
    "the_value = speaker('424-5241',lst)"
   ]
  },
  {
   "cell_type": "markdown",
   "metadata": {},
   "source": [
    "There are three arrows. The error is the bottom arrow\n",
    "\n",
    "We can verify the function executions by using print statements"
   ]
  },
  {
   "cell_type": "code",
   "execution_count": null,
   "metadata": {},
   "outputs": [],
   "source": [
    "def a_func(my_lst):\n",
    "    print('reached a_func')\n",
    "    return my_lst[5]\n",
    "\n",
    "def speaker(phone_number,lst):\n",
    "    print(\"reached speaker\")\n",
    "    val = a_func(lst)\n",
    "    return val"
   ]
  },
  {
   "cell_type": "code",
   "execution_count": null,
   "metadata": {},
   "outputs": [],
   "source": [
    "the_value = speaker('424-5241',lst)"
   ]
  },
  {
   "cell_type": "markdown",
   "metadata": {},
   "source": [
    "Add error handling"
   ]
  },
  {
   "cell_type": "code",
   "execution_count": null,
   "metadata": {},
   "outputs": [],
   "source": [
    "def a_func(my_lst):\n",
    "    print('reached a_func')\n",
    "    try:\n",
    "        return my_lst[5]\n",
    "    except IndexError:\n",
    "        print('index out of range, returning None')\n",
    "        return None\n",
    "\n",
    "def speaker(phone_number,lst):\n",
    "    print(\"reached speaker\")\n",
    "    val = a_func(lst)\n",
    "    return val"
   ]
  },
  {
   "cell_type": "code",
   "execution_count": null,
   "metadata": {},
   "outputs": [],
   "source": [
    "the_value = speaker('424-5241',lst)"
   ]
  },
  {
   "cell_type": "markdown",
   "metadata": {},
   "source": [
    "# checking assumptions\n",
    "\n",
    "* check the variable type\n",
    "* check the size of the list\n",
    "* check whether keys are present in dictionary\n",
    "\n",
    "Every variable has a type"
   ]
  },
  {
   "cell_type": "code",
   "execution_count": null,
   "metadata": {},
   "outputs": [],
   "source": [
    "type('hello')"
   ]
  },
  {
   "cell_type": "markdown",
   "metadata": {},
   "source": [
    "wrong way to verify type match\n",
    "\n",
    "https://docs.quantifiedcode.com/python-anti-patterns/readability/do_not_compare_types_use_isinstance.html\n",
    "https://stackoverflow.com/questions/707674/how-to-compare-type-of-an-object-in-python"
   ]
  },
  {
   "cell_type": "code",
   "execution_count": null,
   "metadata": {},
   "outputs": [],
   "source": [
    "type('hello')=='str'"
   ]
  },
  {
   "cell_type": "markdown",
   "metadata": {},
   "source": [
    "correct way to compare variable type"
   ]
  },
  {
   "cell_type": "code",
   "execution_count": null,
   "metadata": {},
   "outputs": [],
   "source": [
    "isinstance('hello', str)"
   ]
  },
  {
   "cell_type": "code",
   "execution_count": null,
   "metadata": {},
   "outputs": [],
   "source": [
    "isinstance(['a','b'],list)"
   ]
  },
  {
   "cell_type": "markdown",
   "metadata": {},
   "source": [
    "We can use `isinstance()` to validate the argument types"
   ]
  },
  {
   "cell_type": "code",
   "execution_count": null,
   "metadata": {},
   "outputs": [],
   "source": [
    "def a_func(my_lst):\n",
    "    print('reached a_func')\n",
    "    if not isinstance(my_lst,list):\n",
    "        raise TypeError('a_func was provided the wrong type',type(my_lst))\n",
    "    try:\n",
    "        return my_lst[5]\n",
    "    except IndexError:\n",
    "        print('index out of range, returning None')\n",
    "        return None\n",
    "\n",
    "def speaker(phone_number,lst):\n",
    "    print(\"reached speaker\")\n",
    "    val = a_func(lst)\n",
    "    return val"
   ]
  },
  {
   "cell_type": "code",
   "execution_count": null,
   "metadata": {},
   "outputs": [],
   "source": [
    "the_value = speaker('424-5241','bob')"
   ]
  },
  {
   "cell_type": "markdown",
   "metadata": {},
   "source": [
    "Use of `isinstance()` is considered a Python <a href=\"https://en.wikipedia.org/wiki/Anti-pattern\">anti-pattern</a> (see http://canonical.org/~kragen/isinstance/) because Python is a <a href=\"https://en.wikipedia.org/wiki/Duck_typing\">duck type language</a>\n",
    "\n",
    "For example, even though a_func is expecting a list, the function still works when I pass a string because strings are indexed like lists"
   ]
  },
  {
   "cell_type": "code",
   "execution_count": null,
   "metadata": {},
   "outputs": [],
   "source": [
    "def a_func(my_lst):\n",
    "    print('reached a_func')\n",
    "    try:\n",
    "        return my_lst[5]\n",
    "    except IndexError:\n",
    "        print('index out of range, returning None')\n",
    "        return None\n",
    "\n",
    "def speaker(phone_number,lst):\n",
    "    print(\"reached speaker\")\n",
    "    val = a_func(lst)\n",
    "    return val"
   ]
  },
  {
   "cell_type": "code",
   "execution_count": null,
   "metadata": {},
   "outputs": [],
   "source": [
    "speaker('424-5241','asdfjbas')"
   ]
  },
  {
   "cell_type": "code",
   "execution_count": null,
   "metadata": {},
   "outputs": [],
   "source": []
  }
 ],
 "metadata": {
  "kernelspec": {
   "display_name": "Python 3",
   "language": "python",
   "name": "python3"
  },
  "language_info": {
   "codemirror_mode": {
    "name": "ipython",
    "version": 3
   },
   "file_extension": ".py",
   "mimetype": "text/x-python",
   "name": "python",
   "nbconvert_exporter": "python",
   "pygments_lexer": "ipython3",
   "version": "3.6.7"
  }
 },
 "nbformat": 4,
 "nbformat_minor": 2
}
