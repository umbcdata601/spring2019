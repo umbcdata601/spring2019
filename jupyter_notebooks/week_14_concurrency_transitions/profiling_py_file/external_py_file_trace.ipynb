{
 "cells": [
  {
   "cell_type": "markdown",
   "metadata": {},
   "source": [
    "https://docs.python.org/3/library/trace.html"
   ]
  },
  {
   "cell_type": "code",
   "execution_count": 1,
   "metadata": {},
   "outputs": [
    {
     "name": "stdout",
     "output_type": "stream",
     "text": [
      "Traceback (most recent call last):\n",
      "  File \"/opt/conda/lib/python3.6/runpy.py\", line 193, in _run_module_as_main\n",
      "    \"__main__\", mod_spec)\n",
      "  File \"/opt/conda/lib/python3.6/runpy.py\", line 85, in _run_code\n",
      "    exec(code, run_globals)\n",
      "  File \"/opt/conda/lib/python3.6/trace.py\", line 735, in <module>\n",
      "    main()\n",
      "  File \"/opt/conda/lib/python3.6/trace.py\", line 723, in main\n",
      "    t.runctx(code, globs, globs)\n",
      "  File \"/opt/conda/lib/python3.6/trace.py\", line 462, in runctx\n",
      "    exec(cmd, globals, locals)\n",
      "  File \"run_train_SVM.py\", line 11, in <module>\n",
      "    from train_SVM import *\n",
      "  File \"/home/jovyan/week_14_cost-benefit/train_SVM.py\", line 11, in <module>\n",
      "    from load_MITBIH import *\n",
      "  File \"/home/jovyan/week_14_cost-benefit/load_MITBIH.py\", line 30, in <module>\n",
      "    from features_ECG import *\n",
      "  File \"/home/jovyan/week_14_cost-benefit/features_ECG.py\", line 17, in <module>\n",
      "    from mit_db import *\n",
      "ModuleNotFoundError: No module named 'mit_db'\n"
     ]
    }
   ],
   "source": [
    "!python -m trace --trackcalls -C . run_train_SVM.py"
   ]
  },
  {
   "cell_type": "code",
   "execution_count": null,
   "metadata": {},
   "outputs": [],
   "source": []
  }
 ],
 "metadata": {
  "kernelspec": {
   "display_name": "Python 3",
   "language": "python",
   "name": "python3"
  },
  "language_info": {
   "codemirror_mode": {
    "name": "ipython",
    "version": 3
   },
   "file_extension": ".py",
   "mimetype": "text/x-python",
   "name": "python",
   "nbconvert_exporter": "python",
   "pygments_lexer": "ipython3",
   "version": "3.6.7"
  }
 },
 "nbformat": 4,
 "nbformat_minor": 2
}
