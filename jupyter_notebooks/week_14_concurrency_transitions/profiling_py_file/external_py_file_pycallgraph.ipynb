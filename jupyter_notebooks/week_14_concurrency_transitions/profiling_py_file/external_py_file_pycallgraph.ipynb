{
 "cells": [
  {
   "cell_type": "code",
   "execution_count": 3,
   "metadata": {},
   "outputs": [
    {
     "name": "stdout",
     "output_type": "stream",
     "text": [
      "Requirement already satisfied: pycallgraph in /opt/conda/lib/python3.6/site-packages (1.0.1)\n"
     ]
    }
   ],
   "source": [
    "!pip install pycallgraph"
   ]
  },
  {
   "cell_type": "code",
   "execution_count": 4,
   "metadata": {},
   "outputs": [],
   "source": [
    "import pycallgraph"
   ]
  },
  {
   "cell_type": "code",
   "execution_count": 8,
   "metadata": {},
   "outputs": [
    {
     "name": "stdout",
     "output_type": "stream",
     "text": [
      "Traceback (most recent call last):\n",
      "  File \"/opt/conda/bin/pycallgraph\", line 26, in <module>\n",
      "    exec(__file_content)\n",
      "  File \"<string>\", line 11, in <module>\n",
      "  File \"/home/jovyan/week_14_cost-benefit/train_SVM.py\", line 14, in <module>\n",
      "    from oversampling import *\n",
      "ModuleNotFoundError: No module named 'oversampling'\n"
     ]
    }
   ],
   "source": [
    "!pycallgraph graphviz -- ./run_train_SVM.py"
   ]
  },
  {
   "cell_type": "raw",
   "metadata": {},
   "source": [
    "https://stackoverflow.com/questions/10326936/sort-cprofile-output-by-percall-when-profiling-a-python-script"
   ]
  }
 ],
 "metadata": {
  "kernelspec": {
   "display_name": "Python 3",
   "language": "python",
   "name": "python3"
  },
  "language_info": {
   "codemirror_mode": {
    "name": "ipython",
    "version": 3
   },
   "file_extension": ".py",
   "mimetype": "text/x-python",
   "name": "python",
   "nbconvert_exporter": "python",
   "pygments_lexer": "ipython3",
   "version": "3.6.7"
  }
 },
 "nbformat": 4,
 "nbformat_minor": 2
}
