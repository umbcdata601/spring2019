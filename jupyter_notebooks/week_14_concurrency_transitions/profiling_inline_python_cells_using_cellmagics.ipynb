{
 "cells": [
  {
   "cell_type": "markdown",
   "metadata": {},
   "source": [
    "https://jakevdp.github.io/PythonDataScienceHandbook/01.07-timing-and-profiling.html summary:\n",
    "\n",
    "* `%time`: Time the execution of a single statement\n",
    "* `%timeit`: Time repeated execution of a single statement for more accuracy\n",
    "* `%prun`: Run code with the profiler\n",
    "* `%lprun`: Run code with the line-by-line profiler\n",
    "* `%memit`: Measure the memory use of a single statement\n",
    "* `%mprun`: Run code with the line-by-line memory profiler\n",
    "\n",
    "\n",
    "http://codedelish.com/resources/Python/profiling.html\n",
    "\n",
    "http://pynash.org/2013/03/06/timing-and-profiling/"
   ]
  },
  {
   "cell_type": "code",
   "execution_count": 1,
   "metadata": {},
   "outputs": [
    {
     "name": "stdout",
     "output_type": "stream",
     "text": [
      "3.6.7 |Anaconda, Inc.| (default, Oct 23 2018, 19:16:44) \n",
      "[GCC 7.3.0]\n"
     ]
    }
   ],
   "source": [
    "import sys\n",
    "print(sys.version)"
   ]
  },
  {
   "cell_type": "code",
   "execution_count": 2,
   "metadata": {},
   "outputs": [
    {
     "name": "stdout",
     "output_type": "stream",
     "text": [
      "Requirement already satisfied: line-profiler in /opt/conda/lib/python3.6/site-packages (2.1.2)\n",
      "Requirement already satisfied: IPython>=0.13 in /opt/conda/lib/python3.6/site-packages (from line-profiler) (7.0.1)\n",
      "Requirement already satisfied: setuptools>=18.5 in /opt/conda/lib/python3.6/site-packages (from IPython>=0.13->line-profiler) (40.4.3)\n",
      "Requirement already satisfied: jedi>=0.10 in /opt/conda/lib/python3.6/site-packages (from IPython>=0.13->line-profiler) (0.13.1)\n",
      "Requirement already satisfied: decorator in /opt/conda/lib/python3.6/site-packages (from IPython>=0.13->line-profiler) (4.3.0)\n",
      "Requirement already satisfied: pickleshare in /opt/conda/lib/python3.6/site-packages (from IPython>=0.13->line-profiler) (0.7.5)\n",
      "Requirement already satisfied: simplegeneric>0.8 in /opt/conda/lib/python3.6/site-packages (from IPython>=0.13->line-profiler) (0.8.1)\n",
      "Requirement already satisfied: traitlets>=4.2 in /opt/conda/lib/python3.6/site-packages (from IPython>=0.13->line-profiler) (4.3.2)\n",
      "Requirement already satisfied: prompt_toolkit<2.1.0,>=2.0.0 in /opt/conda/lib/python3.6/site-packages (from IPython>=0.13->line-profiler) (2.0.6)\n",
      "Requirement already satisfied: pygments in /opt/conda/lib/python3.6/site-packages (from IPython>=0.13->line-profiler) (2.2.0)\n",
      "Requirement already satisfied: backcall in /opt/conda/lib/python3.6/site-packages (from IPython>=0.13->line-profiler) (0.1.0)\n",
      "Requirement already satisfied: pexpect in /opt/conda/lib/python3.6/site-packages (from IPython>=0.13->line-profiler) (4.6.0)\n",
      "Requirement already satisfied: parso>=0.3.0 in /opt/conda/lib/python3.6/site-packages (from jedi>=0.10->IPython>=0.13->line-profiler) (0.3.1)\n",
      "Requirement already satisfied: ipython_genutils in /opt/conda/lib/python3.6/site-packages (from traitlets>=4.2->IPython>=0.13->line-profiler) (0.2.0)\n",
      "Requirement already satisfied: six in /opt/conda/lib/python3.6/site-packages (from traitlets>=4.2->IPython>=0.13->line-profiler) (1.11.0)\n",
      "Requirement already satisfied: wcwidth in /opt/conda/lib/python3.6/site-packages (from prompt_toolkit<2.1.0,>=2.0.0->IPython>=0.13->line-profiler) (0.1.7)\n",
      "Requirement already satisfied: ptyprocess>=0.5 in /opt/conda/lib/python3.6/site-packages (from pexpect->IPython>=0.13->line-profiler) (0.6.0)\n",
      "Collecting psutil\n",
      "Installing collected packages: psutil\n",
      "Successfully installed psutil-5.6.2\n",
      "Collecting memory_profiler\n",
      "Requirement already satisfied: psutil in /opt/conda/lib/python3.6/site-packages (from memory_profiler) (5.6.2)\n",
      "Installing collected packages: memory-profiler\n",
      "Successfully installed memory-profiler-0.55.0\n"
     ]
    }
   ],
   "source": [
    "!pip install line-profiler\n",
    "!pip install psutil\n",
    "!pip install memory_profiler"
   ]
  },
  {
   "cell_type": "markdown",
   "metadata": {},
   "source": [
    "two functions that we will profile"
   ]
  },
  {
   "cell_type": "code",
   "execution_count": 4,
   "metadata": {},
   "outputs": [],
   "source": [
    "def mult_by(inpt):\n",
    "    \"\"\"\n",
    "    a simple function that is not complicated\n",
    "    \"\"\"\n",
    "    avalu = inpt*2\n",
    "    avalu+=1\n",
    "    return\n",
    "\n",
    "def primes(n=1000): \n",
    "    \"\"\"\n",
    "    A more complicated function to be profiled\n",
    "    \"\"\"\n",
    "    A = [True] * (n+1)\n",
    "    A[0] = False\n",
    "    A[1] = False\n",
    "    for i in range(2, int(n**0.5)):\n",
    "        if A[i]:\n",
    "            mult_by(i) # not actually relevant to determining a prime number\n",
    "            for j in range(i**2, n+1, i):\n",
    "                A[j] = False\n",
    "\n",
    "    return [x for x in range(2, n) if A[x]]"
   ]
  },
  {
   "cell_type": "markdown",
   "metadata": {},
   "source": [
    "# time magic function \n",
    "\n",
    "https://ipython.readthedocs.io/en/stable/interactive/magics.html"
   ]
  },
  {
   "cell_type": "markdown",
   "metadata": {},
   "source": [
    "how long does execution of a function take?\n",
    "\n",
    "`%time` applies to a single line"
   ]
  },
  {
   "cell_type": "code",
   "execution_count": 5,
   "metadata": {},
   "outputs": [
    {
     "name": "stdout",
     "output_type": "stream",
     "text": [
      "CPU times: user 0 ns, sys: 0 ns, total: 0 ns\n",
      "Wall time: 3.35 ms\n"
     ]
    },
    {
     "data": {
      "text/plain": [
       "[2, 3, 5, 7, 11, 13, 17, 19]"
      ]
     },
     "execution_count": 5,
     "metadata": {},
     "output_type": "execute_result"
    }
   ],
   "source": [
    "%time primes(20)"
   ]
  },
  {
   "cell_type": "markdown",
   "metadata": {},
   "source": [
    "`%%time` applies to the entire cell"
   ]
  },
  {
   "cell_type": "code",
   "execution_count": 6,
   "metadata": {},
   "outputs": [
    {
     "name": "stdout",
     "output_type": "stream",
     "text": [
      "CPU times: user 0 ns, sys: 0 ns, total: 0 ns\n",
      "Wall time: 63.4 µs\n"
     ]
    },
    {
     "data": {
      "text/plain": [
       "[2, 3, 5, 7, 11, 13, 17, 19]"
      ]
     },
     "execution_count": 6,
     "metadata": {},
     "output_type": "execute_result"
    }
   ],
   "source": [
    "%%time \n",
    "primes(20)"
   ]
  },
  {
   "cell_type": "markdown",
   "metadata": {},
   "source": [
    "Displaying output skews measurement results for cell execution, so store output to a variable"
   ]
  },
  {
   "cell_type": "code",
   "execution_count": 7,
   "metadata": {},
   "outputs": [
    {
     "name": "stdout",
     "output_type": "stream",
     "text": [
      "CPU times: user 0 ns, sys: 0 ns, total: 0 ns\n",
      "Wall time: 30.8 µs\n"
     ]
    }
   ],
   "source": [
    "%time reslt=primes(20)"
   ]
  },
  {
   "cell_type": "markdown",
   "metadata": {},
   "source": [
    "There's not much difference for a small output, but the relevance increases when the input is higher"
   ]
  },
  {
   "cell_type": "code",
   "execution_count": 8,
   "metadata": {},
   "outputs": [
    {
     "name": "stdout",
     "output_type": "stream",
     "text": [
      "CPU times: user 770 ms, sys: 100 ms, total: 870 ms\n",
      "Wall time: 1.01 s\n",
      "length of array: 78498\n"
     ]
    }
   ],
   "source": [
    "%time reslt=primes(1000000)\n",
    "\n",
    "print('length of array:',len(reslt))"
   ]
  },
  {
   "cell_type": "markdown",
   "metadata": {},
   "source": [
    "for \"microseconds\" versus \"milliseconds\", see https://en.wikipedia.org/wiki/Metric_prefix#List_of_SI_prefixes\n",
    "\n",
    "To run multiple timing test, use `%timeit`"
   ]
  },
  {
   "cell_type": "code",
   "execution_count": 9,
   "metadata": {},
   "outputs": [
    {
     "name": "stdout",
     "output_type": "stream",
     "text": [
      "479 ms ± 33 ms per loop (mean ± std. dev. of 7 runs, 1 loop each)\n"
     ]
    }
   ],
   "source": [
    "%timeit reslt=primes(1000000)"
   ]
  },
  {
   "cell_type": "markdown",
   "metadata": {},
   "source": [
    "Want to capture the output to a variable? See https://stackoverflow.com/questions/24812253/how-can-i-capture-return-value-with-python-timeit-module"
   ]
  },
  {
   "cell_type": "markdown",
   "metadata": {},
   "source": [
    "# cProfile\n",
    "\n",
    "https://docs.python.org/3/library/profile.html"
   ]
  },
  {
   "cell_type": "code",
   "execution_count": 6,
   "metadata": {},
   "outputs": [],
   "source": [
    "import cProfile"
   ]
  },
  {
   "cell_type": "code",
   "execution_count": 7,
   "metadata": {},
   "outputs": [
    {
     "name": "stdout",
     "output_type": "stream",
     "text": [
      "         451 function calls in 7.122 seconds\n",
      "\n",
      "   Ordered by: standard name\n",
      "\n",
      "   ncalls  tottime  percall  cumtime  percall filename:lineno(function)\n",
      "      446    0.008    0.000    0.008    0.000 <ipython-input-2-03d799ffa7ac>:1(mult_by)\n",
      "        1    1.535    1.535    1.535    1.535 <ipython-input-2-03d799ffa7ac>:15(<listcomp>)\n",
      "        1    5.472    5.472    7.015    7.015 <ipython-input-2-03d799ffa7ac>:5(primes)\n",
      "        1    0.107    0.107    7.122    7.122 <string>:1(<module>)\n",
      "        1    0.000    0.000    7.122    7.122 {built-in method builtins.exec}\n",
      "        1    0.000    0.000    0.000    0.000 {method 'disable' of '_lsprof.Profiler' objects}\n",
      "\n",
      "\n"
     ]
    }
   ],
   "source": [
    "cProfile.run('primes(10000000)')"
   ]
  },
  {
   "cell_type": "raw",
   "metadata": {},
   "source": [
    "ncalls\n",
    "    How many times it was called\n",
    "tottime\n",
    "    for the total time spent in the given function (and excluding time made in calls to sub-functions)\n",
    "percall\n",
    "    is the quotient of tottime divided by ncalls\n",
    "cumtime\n",
    "    is the cumulative time spent in this and all subfunctions (from invocation till exit). This figure is accurate even for recursive functions.\n",
    "percall\n",
    "    is the quotient of cumtime divided by primitive calls\n",
    "filename:lineno(function)\n",
    "    provides the respective data of each function"
   ]
  },
  {
   "cell_type": "markdown",
   "metadata": {},
   "source": [
    "# line time"
   ]
  },
  {
   "cell_type": "markdown",
   "metadata": {},
   "source": [
    "https://nyu-cds.github.io/python-performance-tuning/03-line_profiler/\n",
    "    \n",
    "https://jakevdp.github.io/PythonDataScienceHandbook/01.07-timing-and-profiling.html"
   ]
  },
  {
   "cell_type": "code",
   "execution_count": 13,
   "metadata": {},
   "outputs": [],
   "source": [
    "%load_ext line_profiler"
   ]
  },
  {
   "cell_type": "code",
   "execution_count": 14,
   "metadata": {},
   "outputs": [
    {
     "data": {
      "text/plain": [
       "\u001b[0;31mDocstring:\u001b[0m\n",
       "Execute a statement under the line-by-line profiler from the\n",
       "line_profiler module.\n",
       "\n",
       "Usage:\n",
       "  %lprun -f func1 -f func2 <statement>\n",
       "\n",
       "The given statement (which doesn't require quote marks) is run via the\n",
       "LineProfiler. Profiling is enabled for the functions specified by the -f\n",
       "options. The statistics will be shown side-by-side with the code through the\n",
       "pager once the statement has completed.\n",
       "\n",
       "Options:\n",
       "\n",
       "-f <function>: LineProfiler only profiles functions and methods it is told\n",
       "to profile.  This option tells the profiler about these functions. Multiple\n",
       "-f options may be used. The argument may be any expression that gives\n",
       "a Python function or method object. However, one must be careful to avoid\n",
       "spaces that may confuse the option parser.\n",
       "\n",
       "-m <module>: Get all the functions/methods in a module\n",
       "\n",
       "One or more -f or -m options are required to get any useful results.\n",
       "\n",
       "-D <filename>: dump the raw statistics out to a pickle file on disk. The\n",
       "usual extension for this is \".lprof\". These statistics may be viewed later\n",
       "by running line_profiler.py as a script.\n",
       "\n",
       "-T <filename>: dump the text-formatted statistics with the code side-by-side\n",
       "out to a text file.\n",
       "\n",
       "-r: return the LineProfiler object after it has completed profiling.\n",
       "\n",
       "-s: strip out all entries from the print-out that have zeros.\n",
       "\n",
       "-u: specify time unit for the print-out in seconds.\n",
       "\u001b[0;31mFile:\u001b[0m      /opt/conda/lib/python3.6/site-packages/line_profiler.py\n"
      ]
     },
     "metadata": {},
     "output_type": "display_data"
    }
   ],
   "source": [
    "%lprun?"
   ]
  },
  {
   "cell_type": "markdown",
   "metadata": {},
   "source": [
    "Profile the lines of the `prime` function"
   ]
  },
  {
   "cell_type": "code",
   "execution_count": 15,
   "metadata": {},
   "outputs": [
    {
     "data": {
      "text/plain": [
       "Timer unit: 1e-06 s\n",
       "\n",
       "Total time: 0.583068 s\n",
       "File: <ipython-input-8-4330abee72cd>\n",
       "Function: primes at line 9\n",
       "\n",
       "Line #      Hits         Time  Per Hit   % Time  Line Contents\n",
       "==============================================================\n",
       "     9                                           def primes(n=1000): \n",
       "    10                                               \"\"\"\n",
       "    11                                               A more complicated function to be profiled\n",
       "    12                                               \"\"\"\n",
       "    13         1        163.0    163.0      0.0      A = [True] * (n+1)\n",
       "    14         1         15.0     15.0      0.0      A[0] = False\n",
       "    15         1         14.0     14.0      0.0      A[1] = False\n",
       "    16        99       1533.0     15.5      0.3      for i in range(2, int(n**0.5)):\n",
       "    17        98       1514.0     15.4      0.3          if A[i]:\n",
       "    18        25        519.0     20.8      0.1              mult_by(i)\n",
       "    19     17006     280086.0     16.5     48.0              for j in range(i**2, n+1, i):\n",
       "    20     16981     295213.0     17.4     50.6                  A[j] = False\n",
       "    21                                           \n",
       "    22         1       4011.0   4011.0      0.7      return [x for x in range(2, n) if A[x]]"
      ]
     },
     "metadata": {},
     "output_type": "display_data"
    }
   ],
   "source": [
    "%lprun -f primes primes(10000)"
   ]
  },
  {
   "cell_type": "markdown",
   "metadata": {},
   "source": [
    "profile use of the `mult_by` function when `primes()` is executed"
   ]
  },
  {
   "cell_type": "code",
   "execution_count": 18,
   "metadata": {},
   "outputs": [
    {
     "data": {
      "text/plain": [
       "Timer unit: 1e-06 s\n",
       "\n",
       "Total time: 0.002613 s\n",
       "File: <ipython-input-8-4330abee72cd>\n",
       "Function: mult_by at line 1\n",
       "\n",
       "Line #      Hits         Time  Per Hit   % Time  Line Contents\n",
       "==============================================================\n",
       "     1                                           def mult_by(inpt):\n",
       "     2                                               \"\"\"\n",
       "     3                                               a simple function that is not complicated\n",
       "     4                                               \"\"\"\n",
       "     5        25       1266.0     50.6     48.5      avalu = inpt*2\n",
       "     6        25        893.0     35.7     34.2      avalu+=1\n",
       "     7        25        454.0     18.2     17.4      return"
      ]
     },
     "metadata": {},
     "output_type": "display_data"
    }
   ],
   "source": [
    "%lprun -f mult_by primes(10000)"
   ]
  },
  {
   "cell_type": "raw",
   "metadata": {},
   "source": [
    "Line # - The line number in the code\n",
    "Hits - The number of times that line was executed\n",
    "Time - The total amount of time spent executing the line in the timer’s units\n",
    "Per Hit - The average amount of time spent executing the line once in the timer’s unit\n",
    "% Time - The percentage of time spent on that line relative to the total amount of recorded time spent in the function\n",
    "Line Contents - The actual source code of the line"
   ]
  },
  {
   "cell_type": "markdown",
   "metadata": {},
   "source": [
    "line_profiler generates profiles based on the lines in a program.\n",
    "\n",
    "Line based profiling can provide more information about where a program is performing badly."
   ]
  }
 ],
 "metadata": {
  "kernelspec": {
   "display_name": "Python 3",
   "language": "python",
   "name": "python3"
  },
  "language_info": {
   "codemirror_mode": {
    "name": "ipython",
    "version": 3
   },
   "file_extension": ".py",
   "mimetype": "text/x-python",
   "name": "python",
   "nbconvert_exporter": "python",
   "pygments_lexer": "ipython3",
   "version": "3.6.7"
  }
 },
 "nbformat": 4,
 "nbformat_minor": 2
}
