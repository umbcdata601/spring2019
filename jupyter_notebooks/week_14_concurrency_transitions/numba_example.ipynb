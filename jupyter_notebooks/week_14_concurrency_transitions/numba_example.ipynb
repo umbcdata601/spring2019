{
 "cells": [
  {
   "cell_type": "raw",
   "metadata": {},
   "source": [
    "Caveat: this notebook takes 2 minutes to execute according to\n",
    "    \n",
    "time jupyter nbconvert --to notebook --ExecutePreprocessor.timeout=None --ExecutePreprocessor.kernel_name='python3'  --inplace --execute numba_example.ipynb\n",
    "\n",
    "https://nbconvert.readthedocs.io/en/latest/execute_api.html"
   ]
  },
  {
   "cell_type": "markdown",
   "metadata": {},
   "source": [
    "https://stackoverflow.com/questions/51903350/python-vs-matlab-performance-on-algorithm"
   ]
  },
  {
   "cell_type": "markdown",
   "metadata": {},
   "source": [
    "First we measure the scaling of the serial implementation\n",
    "\n",
    "_Performance enhancement 1_: use Numba within a single array"
   ]
  },
  {
   "cell_type": "code",
   "execution_count": 1,
   "metadata": {},
   "outputs": [
    {
     "name": "stdout",
     "output_type": "stream",
     "text": [
      "f182b13dbffc\n"
     ]
    }
   ],
   "source": [
    "!hostname"
   ]
  },
  {
   "cell_type": "code",
   "execution_count": 2,
   "metadata": {},
   "outputs": [],
   "source": [
    "import numpy as np\n",
    "import time\n",
    "import matplotlib.pyplot as plt"
   ]
  },
  {
   "cell_type": "markdown",
   "metadata": {},
   "source": [
    "Numpy: Set how floating-point errors are handled.\n",
    "    \n",
    "https://docs.scipy.org/doc/numpy/reference/generated/numpy.seterr.html"
   ]
  },
  {
   "cell_type": "code",
   "execution_count": 3,
   "metadata": {},
   "outputs": [
    {
     "data": {
      "text/plain": [
       "{'divide': 'warn', 'over': 'warn', 'under': 'ignore', 'invalid': 'warn'}"
      ]
     },
     "execution_count": 3,
     "metadata": {},
     "output_type": "execute_result"
    }
   ],
   "source": [
    "np.seterr(divide='ignore', invalid='ignore')"
   ]
  },
  {
   "cell_type": "code",
   "execution_count": 4,
   "metadata": {},
   "outputs": [],
   "source": [
    "# https://github.com/nikdon/pyEntropy\n",
    "def sample_entropy(time_series, sample_length, tolerance=None):\n",
    "    \"\"\"Calculate and return Sample Entropy of the given time series.\n",
    "    Distance between two vectors defined as Euclidean distance and can\n",
    "    be changed in future releases\n",
    "    Args:\n",
    "        time_series: Vector or string of the sample data\n",
    "        sample_length: Number of sequential points of the time series\n",
    "        tolerance: Tolerance (default = 0.1...0.2 * std(time_series))\n",
    "    Returns:\n",
    "        Vector containing Sample Entropy (float)\n",
    "    References:\n",
    "        [1] http://en.wikipedia.org/wiki/Sample_Entropy\n",
    "        [2] http://physionet.incor.usp.br/physiotools/sampen/\n",
    "        [3] Madalena Costa, Ary Goldberger, CK Peng. Multiscale entropy analysis\n",
    "            of biological signals\n",
    "    \"\"\"\n",
    "    if tolerance is None:\n",
    "        tolerance = 0.1 * np.std(time_series)\n",
    "\n",
    "    n = len(time_series)\n",
    "    prev = np.zeros(n)\n",
    "    curr = np.zeros(n)\n",
    "    A = np.zeros((sample_length, 1))  # number of matches for m = [1,...,template_length - 1]\n",
    "    B = np.zeros((sample_length, 1))  # number of matches for m = [1,...,template_length]\n",
    "\n",
    "    for i in range(n - 1):\n",
    "        nj = n - i - 1\n",
    "        ts1 = time_series[i]\n",
    "        for jj in range(nj):\n",
    "            j = jj + i + 1\n",
    "            if abs(time_series[j] - ts1) < tolerance:  # distance between two vectors\n",
    "                curr[jj] = prev[jj] + 1\n",
    "                temp_ts_length = min(sample_length, curr[jj])\n",
    "                for m in range(int(temp_ts_length)):\n",
    "                    A[m] += 1\n",
    "                    if j < n - 1:\n",
    "                        B[m] += 1\n",
    "            else:\n",
    "                curr[jj] = 0\n",
    "        for j in range(nj):\n",
    "            prev[j] = curr[j]\n",
    "\n",
    "    N = n * (n - 1) / 2\n",
    "    B = np.vstack(([N], B[:sample_length - 1]))\n",
    "    similarity_ratio = A / B\n",
    "    se = - np.log(similarity_ratio)\n",
    "    se = np.reshape(se, -1)\n",
    "    return se"
   ]
  },
  {
   "cell_type": "markdown",
   "metadata": {},
   "source": [
    "## function profiling\n",
    "\n",
    "Conclusion: Most of the time is spent in \"sample_entropy\""
   ]
  },
  {
   "cell_type": "raw",
   "metadata": {},
   "source": [
    "%prun?"
   ]
  },
  {
   "cell_type": "code",
   "execution_count": 5,
   "metadata": {},
   "outputs": [
    {
     "name": "stdout",
     "output_type": "stream",
     "text": [
      " "
     ]
    }
   ],
   "source": [
    "a = np.random.rand(1, 100)[0]\n",
    "\n",
    "%prun -s cumtime sample_entropy(a, 4, 0.1 * np.std(a))"
   ]
  },
  {
   "cell_type": "markdown",
   "metadata": {},
   "source": [
    "## line profiling\n",
    "\n",
    "Once we know that the majority of time is spent in \"Sample entropy\", investigate which lines are consuming most of the CPU time\n",
    "\n",
    "https://ipython-books.github.io/43-profiling-your-code-line-by-line-with-line_profiler/"
   ]
  },
  {
   "cell_type": "code",
   "execution_count": 6,
   "metadata": {},
   "outputs": [
    {
     "name": "stdout",
     "output_type": "stream",
     "text": [
      "Requirement already satisfied: line_profiler in /opt/conda/lib/python3.6/site-packages (2.1.2)\n",
      "Requirement already satisfied: IPython>=0.13 in /opt/conda/lib/python3.6/site-packages (from line_profiler) (7.0.1)\n",
      "Requirement already satisfied: setuptools>=18.5 in /opt/conda/lib/python3.6/site-packages (from IPython>=0.13->line_profiler) (40.4.3)\n",
      "Requirement already satisfied: jedi>=0.10 in /opt/conda/lib/python3.6/site-packages (from IPython>=0.13->line_profiler) (0.13.1)\n",
      "Requirement already satisfied: decorator in /opt/conda/lib/python3.6/site-packages (from IPython>=0.13->line_profiler) (4.3.0)\n",
      "Requirement already satisfied: pickleshare in /opt/conda/lib/python3.6/site-packages (from IPython>=0.13->line_profiler) (0.7.5)\n",
      "Requirement already satisfied: simplegeneric>0.8 in /opt/conda/lib/python3.6/site-packages (from IPython>=0.13->line_profiler) (0.8.1)\n",
      "Requirement already satisfied: traitlets>=4.2 in /opt/conda/lib/python3.6/site-packages (from IPython>=0.13->line_profiler) (4.3.2)\n",
      "Requirement already satisfied: prompt_toolkit<2.1.0,>=2.0.0 in /opt/conda/lib/python3.6/site-packages (from IPython>=0.13->line_profiler) (2.0.6)\n",
      "Requirement already satisfied: pygments in /opt/conda/lib/python3.6/site-packages (from IPython>=0.13->line_profiler) (2.2.0)\n",
      "Requirement already satisfied: backcall in /opt/conda/lib/python3.6/site-packages (from IPython>=0.13->line_profiler) (0.1.0)\n",
      "Requirement already satisfied: pexpect in /opt/conda/lib/python3.6/site-packages (from IPython>=0.13->line_profiler) (4.6.0)\n",
      "Requirement already satisfied: parso>=0.3.0 in /opt/conda/lib/python3.6/site-packages (from jedi>=0.10->IPython>=0.13->line_profiler) (0.3.1)\n",
      "Requirement already satisfied: ipython_genutils in /opt/conda/lib/python3.6/site-packages (from traitlets>=4.2->IPython>=0.13->line_profiler) (0.2.0)\n",
      "Requirement already satisfied: six in /opt/conda/lib/python3.6/site-packages (from traitlets>=4.2->IPython>=0.13->line_profiler) (1.11.0)\n",
      "Requirement already satisfied: wcwidth in /opt/conda/lib/python3.6/site-packages (from prompt_toolkit<2.1.0,>=2.0.0->IPython>=0.13->line_profiler) (0.1.7)\n",
      "Requirement already satisfied: ptyprocess>=0.5 in /opt/conda/lib/python3.6/site-packages (from pexpect->IPython>=0.13->line_profiler) (0.6.0)\n"
     ]
    }
   ],
   "source": [
    "!pip install line_profiler"
   ]
  },
  {
   "cell_type": "code",
   "execution_count": 7,
   "metadata": {},
   "outputs": [],
   "source": [
    "%load_ext line_profiler"
   ]
  },
  {
   "cell_type": "code",
   "execution_count": 8,
   "metadata": {},
   "outputs": [],
   "source": [
    "a = np.random.rand(1, 100)[0]\n",
    "\n",
    "%lprun -f sample_entropy sample_entropy(a, 4, 0.1 * np.std(a))"
   ]
  },
  {
   "cell_type": "markdown",
   "metadata": {},
   "source": [
    "## scaling of serial function"
   ]
  },
  {
   "cell_type": "code",
   "execution_count": 9,
   "metadata": {},
   "outputs": [
    {
     "name": "stdout",
     "output_type": "stream",
     "text": [
      "100 : 0.02529454231262207 seconds\n",
      "100 : 0.017045974731445312 seconds\n",
      "100 : 0.013816356658935547 seconds\n",
      "1000 : 1.1940789222717285 seconds\n",
      "1000 : 1.1250905990600586 seconds\n",
      "1000 : 1.1728472709655762 seconds\n",
      "2000 : 5.061520099639893 seconds\n",
      "2000 : 4.715592622756958 seconds\n",
      "2000 : 4.607134103775024 seconds\n"
     ]
    }
   ],
   "source": [
    "num_tests=3\n",
    "serial_original_timing_dict={}\n",
    "serial_original_reslt_dict={}\n",
    "for arry_size in [100,1000,2000]:#,5000,10000]:\n",
    "    reslt_ary=[]\n",
    "    for test_indx in range(num_tests):\n",
    "        a = np.random.rand(1, arry_size)[0]\n",
    "        start_time = time.time()\n",
    "        outp=sample_entropy(a, 4, 0.1 * np.std(a))\n",
    "        elapsed_time = time.time() - start_time\n",
    "        serial_original_reslt_dict[(arry_size,test_indx)]=outp\n",
    "        print(arry_size,':',elapsed_time,'seconds')\n",
    "        reslt_ary.append(elapsed_time)\n",
    "    serial_original_timing_dict[arry_size]=sum(reslt_ary)/num_tests"
   ]
  },
  {
   "cell_type": "code",
   "execution_count": 10,
   "metadata": {},
   "outputs": [
    {
     "data": {
      "text/plain": [
       "{100: 0.018718957901000977, 1000: 1.1640055974324544, 2000: 4.794748942057292}"
      ]
     },
     "execution_count": 10,
     "metadata": {},
     "output_type": "execute_result"
    }
   ],
   "source": [
    "serial_original_timing_dict"
   ]
  },
  {
   "cell_type": "code",
   "execution_count": 11,
   "metadata": {},
   "outputs": [],
   "source": [
    "x,y=zip(*serial_original_timing_dict.items())"
   ]
  },
  {
   "cell_type": "code",
   "execution_count": 12,
   "metadata": {},
   "outputs": [
    {
     "name": "stdout",
     "output_type": "stream",
     "text": [
      "           2\n",
      "1.241e-06 x - 9.273e-05 x + 0.01558\n"
     ]
    }
   ],
   "source": [
    "z = np.polyfit(x, y, 2)\n",
    "f = np.poly1d(z)\n",
    "print(f)\n",
    "x_new = np.linspace(0, 10000, 50)\n",
    "y_new = f(x_new)"
   ]
  },
  {
   "cell_type": "code",
   "execution_count": 13,
   "metadata": {},
   "outputs": [
    {
     "data": {
      "image/png": "[encoded data removed]",
      "text/plain": [
       "<Figure size 432x288 with 1 Axes>"
      ]
     },
     "metadata": {
      "needs_background": "light"
     },
     "output_type": "display_data"
    }
   ],
   "source": [
    "_=plt.plot(x,y,'o', x_new, y_new)\n",
    "#plt.scatter(x,y)\n",
    "plt.ylabel('time [seconds]')\n",
    "plt.xlabel('array size')\n",
    "plt.title('serial; original')\n",
    "plt.show()"
   ]
  },
  {
   "cell_type": "markdown",
   "metadata": {},
   "source": [
    "# lambda to replace for loop\n",
    "\n",
    "as faras I understand, in order to use joblib, need to change the for loop to a generator:<BR>\n",
    "https://joblib.readthedocs.io/en/latest/parallel.html#parallel<BR>\n",
    "\"The core idea is to write the code to be executed as a generator expression, and convert it to parallel computing\"\n",
    "    \n",
    "According to line profiling, 30% of time is spent in a for loop that could be converted to a lambda function. Let's see what the performance enhancement is due to that change"
   ]
  },
  {
   "cell_type": "code",
   "execution_count": 14,
   "metadata": {},
   "outputs": [],
   "source": [
    "# https://github.com/nikdon/pyEntropy\n",
    "def sample_entropy(time_series, sample_length, tolerance=None):\n",
    "    \"\"\"Calculate and return Sample Entropy of the given time series.\n",
    "    Distance between two vectors defined as Euclidean distance and can\n",
    "    be changed in future releases\n",
    "    Args:\n",
    "        time_series: Vector or string of the sample data\n",
    "        sample_length: Number of sequential points of the time series\n",
    "        tolerance: Tolerance (default = 0.1...0.2 * std(time_series))\n",
    "    Returns:\n",
    "        Vector containing Sample Entropy (float)\n",
    "    References:\n",
    "        [1] http://en.wikipedia.org/wiki/Sample_Entropy\n",
    "        [2] http://physionet.incor.usp.br/physiotools/sampen/\n",
    "        [3] Madalena Costa, Ary Goldberger, CK Peng. Multiscale entropy analysis\n",
    "            of biological signals\n",
    "    \"\"\"\n",
    "    if tolerance is None:\n",
    "        tolerance = 0.1 * np.std(time_series)\n",
    "\n",
    "    n = len(time_series)\n",
    "    prev = np.zeros(n)\n",
    "    curr = np.zeros(n)\n",
    "    A = np.zeros((sample_length, 1))  # number of matches for m = [1,...,template_length - 1]\n",
    "    B = np.zeros((sample_length, 1))  # number of matches for m = [1,...,template_length]\n",
    "\n",
    "    for i in range(n - 1):\n",
    "        nj = n - i - 1\n",
    "        ts1 = time_series[i]\n",
    "        for jj in range(nj):\n",
    "            j = jj + i + 1\n",
    "            if abs(time_series[j] - ts1) < tolerance:  # distance between two vectors\n",
    "                curr[jj] = prev[jj] + 1\n",
    "                temp_ts_length = min(sample_length, curr[jj])\n",
    "                for m in range(int(temp_ts_length)):\n",
    "                    A[m] += 1\n",
    "                    if j < n - 1:\n",
    "                        B[m] += 1\n",
    "            else:\n",
    "                curr[jj] = 0\n",
    "#        for j in range(nj):\n",
    "#            prev[j] = curr[j]\n",
    "        prev = [curr[j] for j in range(nj)]\n",
    "\n",
    "    N = n * (n - 1) / 2\n",
    "    B = np.vstack(([N], B[:sample_length - 1]))\n",
    "    similarity_ratio = A / B\n",
    "    se = - np.log(similarity_ratio)\n",
    "    se = np.reshape(se, -1)\n",
    "    return se"
   ]
  },
  {
   "cell_type": "code",
   "execution_count": 15,
   "metadata": {},
   "outputs": [],
   "source": [
    "a = np.random.rand(1, 100)[0]\n",
    "%lprun -f sample_entropy sample_entropy(a, 4, 0.1 * np.std(a))"
   ]
  },
  {
   "cell_type": "code",
   "execution_count": 16,
   "metadata": {},
   "outputs": [
    {
     "name": "stdout",
     "output_type": "stream",
     "text": [
      "100 : 0.02243518829345703 seconds\n",
      "100 : 0.012311935424804688 seconds\n",
      "100 : 0.014058351516723633 seconds\n",
      "1000 : 1.0680208206176758 seconds\n",
      "1000 : 1.0601649284362793 seconds\n",
      "1000 : 1.1553022861480713 seconds\n",
      "2000 : 4.68930459022522 seconds\n",
      "2000 : 4.383774042129517 seconds\n",
      "2000 : 4.452362298965454 seconds\n"
     ]
    }
   ],
   "source": [
    "num_tests=3\n",
    "serial_lambda_timing_dict={}\n",
    "serial_lambda_reslt_dict={}\n",
    "for arry_size in [100,1000,2000]:#,5000,10000]:\n",
    "    reslt_ary=[]\n",
    "    for test_indx in range(num_tests):\n",
    "        a = np.random.rand(1, arry_size)[0]\n",
    "        start_time = time.time()\n",
    "        outp=sample_entropy(a, 4, 0.1 * np.std(a))\n",
    "        elapsed_time = time.time() - start_time\n",
    "        serial_lambda_reslt_dict[(arry_size,test_indx)]=outp\n",
    "        print(arry_size,':',elapsed_time,'seconds')\n",
    "        reslt_ary.append(elapsed_time)\n",
    "    serial_lambda_timing_dict[arry_size]=sum(reslt_ary)/num_tests"
   ]
  },
  {
   "cell_type": "code",
   "execution_count": 17,
   "metadata": {},
   "outputs": [
    {
     "data": {
      "text/plain": [
       "{100: 0.016268491744995117, 1000: 1.0944960117340088, 2000: 4.5084803104400635}"
      ]
     },
     "execution_count": 17,
     "metadata": {},
     "output_type": "execute_result"
    }
   ],
   "source": [
    "serial_lambda_timing_dict"
   ]
  },
  {
   "cell_type": "markdown",
   "metadata": {},
   "source": [
    "--> Slightly faster, but not significant"
   ]
  },
  {
   "cell_type": "code",
   "execution_count": 18,
   "metadata": {},
   "outputs": [],
   "source": [
    "x,y=zip(*serial_lambda_timing_dict.items())"
   ]
  },
  {
   "cell_type": "code",
   "execution_count": 19,
   "metadata": {},
   "outputs": [
    {
     "name": "stdout",
     "output_type": "stream",
     "text": [
      "           2\n",
      "1.166e-06 x - 8.489e-05 x + 0.01309\n"
     ]
    }
   ],
   "source": [
    "z = np.polyfit(x, y, 2)\n",
    "f = np.poly1d(z)\n",
    "print(f)\n",
    "x_new = np.linspace(0, 10000, 50)\n",
    "y_new = f(x_new)"
   ]
  },
  {
   "cell_type": "code",
   "execution_count": 20,
   "metadata": {},
   "outputs": [
    {
     "data": {
      "image/png": "[encoded data removed]",
      "text/plain": [
       "<Figure size 432x288 with 1 Axes>"
      ]
     },
     "metadata": {
      "needs_background": "light"
     },
     "output_type": "display_data"
    }
   ],
   "source": [
    "_=plt.plot(x,y,'o', x_new, y_new)\n",
    "#plt.scatter(x,y)\n",
    "plt.ylabel('time [seconds]')\n",
    "plt.xlabel('array size')\n",
    "plt.title('serial; lambda')\n",
    "plt.show()"
   ]
  },
  {
   "cell_type": "markdown",
   "metadata": {},
   "source": [
    "## compare output of original and lambda-based"
   ]
  },
  {
   "cell_type": "markdown",
   "metadata": {},
   "source": [
    "--> I don't know how to interpret the outputs, so I don't know whether the comparisons are acceptable"
   ]
  },
  {
   "cell_type": "code",
   "execution_count": 21,
   "metadata": {},
   "outputs": [
    {
     "data": {
      "text/plain": [
       "{(100, 0): array([ 2.94262245,  2.70412092,  2.14006616,         inf]),\n",
       " (100, 1): array([ 2.91615588,  3.36345705,         inf,         nan]),\n",
       " (100, 2): array([ 2.85115104,  2.53657866,  2.35137526,         inf]),\n",
       " (1000, 0): array([ 2.85824475,  2.88298805,  2.98330975,  2.60268969]),\n",
       " (1000, 1): array([ 2.88706193,  2.88638533,  2.83385955,  2.43141796]),\n",
       " (1000, 2): array([ 2.87060446,  2.89040717,  2.86700473,  2.40919483]),\n",
       " (2000, 0): array([ 2.87167029,  2.88182748,  2.79721815,  3.12262403]),\n",
       " (2000, 1): array([ 2.87251022,  2.87674864,  2.86440839,  3.11905549]),\n",
       " (2000, 2): array([ 2.86771003,  2.86588657,  2.80405765,  3.19611884])}"
      ]
     },
     "execution_count": 21,
     "metadata": {},
     "output_type": "execute_result"
    }
   ],
   "source": [
    "serial_original_reslt_dict"
   ]
  },
  {
   "cell_type": "code",
   "execution_count": 22,
   "metadata": {},
   "outputs": [
    {
     "data": {
      "text/plain": [
       "{(100, 0): array([ 2.85816862,  2.91235066,  2.56494936,         nan]),\n",
       " (100, 1): array([ 2.87952174,  2.76890548,  2.14006616,         inf]),\n",
       " (100, 2): array([ 2.97375337,  2.87033101,  2.56494936,         inf]),\n",
       " (1000, 0): array([ 2.86598682,  2.8227681 ,  2.81380668,  3.51650823]),\n",
       " (1000, 1): array([ 2.85153227,  2.81931872,  2.78372927,  2.87167962]),\n",
       " (1000, 2): array([ 2.87919125,  2.85090654,  2.99016123,  2.74727091]),\n",
       " (2000, 0): array([ 2.85507029,  2.8678815 ,  2.90022709,  3.11073367]),\n",
       " (2000, 1): array([ 2.86305542,  2.87291682,  2.94164871,  3.11794991]),\n",
       " (2000, 2): array([ 2.88019065,  2.88939067,  2.89616888,  3.35573501])}"
      ]
     },
     "execution_count": 22,
     "metadata": {},
     "output_type": "execute_result"
    }
   ],
   "source": [
    "serial_lambda_reslt_dict"
   ]
  },
  {
   "cell_type": "markdown",
   "metadata": {},
   "source": [
    "# fine-grain concurrency: Numba\n",
    "### Numba = JIT compiler that translates Python and NumPy code into machine code\n",
    "\n",
    "https://numba.pydata.org/numba-doc/dev/user/performance-tips.html\n",
    "\n",
    "https://numba.pydata.org/numba-doc/latest/user/parallel.html\n",
    "https://numba.pydata.org/numba-doc/latest/user/jit.html#parallel-jit-option"
   ]
  },
  {
   "cell_type": "code",
   "execution_count": 23,
   "metadata": {},
   "outputs": [],
   "source": [
    "import numba as nb"
   ]
  },
  {
   "cell_type": "code",
   "execution_count": 24,
   "metadata": {},
   "outputs": [
    {
     "name": "stdout",
     "output_type": "stream",
     "text": [
      "0.38.1\n"
     ]
    }
   ],
   "source": [
    "print(nb.__version__)"
   ]
  },
  {
   "cell_type": "code",
   "execution_count": 25,
   "metadata": {},
   "outputs": [],
   "source": [
    "# https://numba.pydata.org/numba-doc/dev/reference/envvars.html#numba-envvars\n",
    "import os\n",
    "os.environ[\"NUMBA_WARNINGS\"] = \"1\""
   ]
  },
  {
   "cell_type": "markdown",
   "metadata": {},
   "source": [
    "I recommend playing around with the various arguments to figure out which combination is best"
   ]
  },
  {
   "cell_type": "code",
   "execution_count": 26,
   "metadata": {},
   "outputs": [],
   "source": [
    "@nb.jit(fastmath=True,error_model='numpy',parallel=True,nopython=True)\n",
    "def sample_entropy(time_series, sample_length, tolerance=None):\n",
    "    \"\"\"Calculate and return Sample Entropy of the given time series.\n",
    "    Distance between two vectors defined as Euclidean distance and can\n",
    "    be changed in future releases\n",
    "    Args:\n",
    "        time_series: Vector or string of the sample data\n",
    "        sample_length: Number of sequential points of the time series\n",
    "        tolerance: Tolerance (default = 0.1...0.2 * std(time_series))\n",
    "    Returns:\n",
    "        Vector containing Sample Entropy (float)\n",
    "    References:\n",
    "        [1] http://en.wikipedia.org/wiki/Sample_Entropy\n",
    "        [2] http://physionet.incor.usp.br/physiotools/sampen/\n",
    "        [3] Madalena Costa, Ary Goldberger, CK Peng. Multiscale entropy analysis\n",
    "            of biological signals\n",
    "    \"\"\"\n",
    "    if tolerance is None:\n",
    "        tolerance = 0.1 * np.std(time_series)\n",
    "\n",
    "    n = len(time_series)\n",
    "    prev = np.zeros(n)\n",
    "    curr = np.zeros(n)\n",
    "    A = np.zeros((sample_length))  # number of matches for m = [1,...,template_length - 1]\n",
    "    B = np.zeros((sample_length))  # number of matches for m = [1,...,template_length]\n",
    "\n",
    "    for i in range(n - 1):\n",
    "        nj = n - i - 1\n",
    "        ts1 = time_series[i]\n",
    "        for jj in range(nj):\n",
    "            j = jj + i + 1\n",
    "            if abs(time_series[j] - ts1) < tolerance:  # distance between two vectors\n",
    "                curr[jj] = prev[jj] + 1\n",
    "                temp_ts_length = min(sample_length, curr[jj])\n",
    "                for m in range(int(temp_ts_length)):\n",
    "                    A[m] += 1\n",
    "                    if j < n - 1:\n",
    "                        B[m] += 1\n",
    "            else:\n",
    "                curr[jj] = 0\n",
    "        for j in range(nj):\n",
    "            prev[j] = curr[j]\n",
    "\n",
    "    N = n * (n - 1) // 2\n",
    "\n",
    "    B2=np.empty(sample_length)\n",
    "    B2[0]=N\n",
    "    B2[1:]=B[:sample_length - 1]\n",
    "    similarity_ratio = A / B2\n",
    "    se = - np.log(similarity_ratio)\n",
    "    return se"
   ]
  },
  {
   "cell_type": "raw",
   "metadata": {},
   "source": [
    "# https://numba.pydata.org/numba-doc/0.17.0/user/troubleshoot.html#troubleshooting\n",
    "sample_entropy.inspect_types()"
   ]
  },
  {
   "cell_type": "code",
   "execution_count": 27,
   "metadata": {},
   "outputs": [
    {
     "name": "stdout",
     "output_type": "stream",
     "text": [
      "100 : 2.6560988426208496 seconds\n",
      "100 : 0.0010023117065429688 seconds\n",
      "100 : 0.0008499622344970703 seconds\n",
      "1000 : 0.002414703369140625 seconds\n",
      "1000 : 0.0024509429931640625 seconds\n",
      "1000 : 0.0024175643920898438 seconds\n",
      "5000 : 0.040383100509643555 seconds\n",
      "5000 : 0.04054617881774902 seconds\n",
      "5000 : 0.040556907653808594 seconds\n",
      "10000 : 0.167405366897583 seconds\n",
      "10000 : 0.15687775611877441 seconds\n",
      "10000 : 0.16631364822387695 seconds\n",
      "50000 : 4.375365257263184 seconds\n",
      "50000 : 4.418511152267456 seconds\n",
      "50000 : 4.461950302124023 seconds\n",
      "100000 : 17.915629863739014 seconds\n",
      "100000 : 17.54906463623047 seconds\n",
      "100000 : 17.499608993530273 seconds\n"
     ]
    }
   ],
   "source": [
    "num_tests=3\n",
    "numba_reslt_dict={}\n",
    "for arry_size in [100,1000,5000,10000,50000,100000]:\n",
    "    reslt_ary=[]\n",
    "    for test_indx in range(num_tests):\n",
    "        a = np.random.rand(1, arry_size)[0]\n",
    "        start_time = time.time()\n",
    "        sample_entropy(a, 4, 0.1 * np.std(a))\n",
    "        elapsed_time = time.time() - start_time\n",
    "        print(arry_size,':',elapsed_time,'seconds')\n",
    "        reslt_ary.append(elapsed_time)\n",
    "    numba_reslt_dict[arry_size]=sum(reslt_ary)/num_tests"
   ]
  },
  {
   "cell_type": "code",
   "execution_count": 28,
   "metadata": {},
   "outputs": [
    {
     "data": {
      "image/png": "[encoded data removed]",
      "text/plain": [
       "<Figure size 432x288 with 1 Axes>"
      ]
     },
     "metadata": {
      "needs_background": "light"
     },
     "output_type": "display_data"
    }
   ],
   "source": [
    "x,y=zip(*numba_reslt_dict.items())\n",
    "plt.scatter(x,y)\n",
    "plt.ylabel('time [seconds]')\n",
    "plt.xlabel('array size')\n",
    "plt.show()"
   ]
  },
  {
   "cell_type": "code",
   "execution_count": 29,
   "metadata": {},
   "outputs": [],
   "source": [
    "z = np.polyfit(x, y, 2)"
   ]
  },
  {
   "cell_type": "code",
   "execution_count": 30,
   "metadata": {},
   "outputs": [
    {
     "name": "stdout",
     "output_type": "stream",
     "text": [
      "           2\n",
      "1.874e-09 x - 1.348e-05 x + 0.2909\n"
     ]
    }
   ],
   "source": [
    "f = np.poly1d(z)\n",
    "print(f)"
   ]
  },
  {
   "cell_type": "code",
   "execution_count": 31,
   "metadata": {},
   "outputs": [],
   "source": [
    "x_new = np.linspace(0, 100000, 50)\n",
    "y_new = f(x_new)"
   ]
  },
  {
   "cell_type": "code",
   "execution_count": 32,
   "metadata": {},
   "outputs": [
    {
     "data": {
      "image/png": "[encoded data removed]",
      "text/plain": [
       "<Figure size 432x288 with 1 Axes>"
      ]
     },
     "metadata": {
      "needs_background": "light"
     },
     "output_type": "display_data"
    }
   ],
   "source": [
    "_=plt.plot(x,y,'o', x_new, y_new)\n",
    "_=plt.ylabel('time [seconds]')\n",
    "_=plt.xlabel('array size')"
   ]
  },
  {
   "cell_type": "code",
   "execution_count": 33,
   "metadata": {},
   "outputs": [
    {
     "data": {
      "text/plain": [
       "4.184e-09"
      ]
     },
     "execution_count": 33,
     "metadata": {},
     "output_type": "execute_result"
    }
   ],
   "source": [
    "2*(2.092e-09)"
   ]
  },
  {
   "cell_type": "code",
   "execution_count": 34,
   "metadata": {},
   "outputs": [
    {
     "name": "stdout",
     "output_type": "stream",
     "text": [
      "677710.7990299999 seconds\n"
     ]
    }
   ],
   "source": [
    "x=18000000 # array size\n",
    "print((2.092e-09*x*x) - (5.401e-06*x) + 0.01703,'seconds')"
   ]
  },
  {
   "cell_type": "markdown",
   "metadata": {},
   "source": [
    "677710.7990299999 seconds = 8 days"
   ]
  },
  {
   "cell_type": "code",
   "execution_count": 35,
   "metadata": {},
   "outputs": [
    {
     "name": "stdout",
     "output_type": "stream",
     "text": [
      "1.7377999999999998 seconds\n"
     ]
    }
   ],
   "source": [
    "x=30000 # array size\n",
    "print((2.092e-09*x*x) - (5.401e-06*x) + 0.01703,'seconds')"
   ]
  }
 ],
 "metadata": {
  "kernelspec": {
   "display_name": "Python 3",
   "language": "python",
   "name": "python3"
  },
  "language_info": {
   "codemirror_mode": {
    "name": "ipython",
    "version": 3
   },
   "file_extension": ".py",
   "mimetype": "text/x-python",
   "name": "python",
   "nbconvert_exporter": "python",
   "pygments_lexer": "ipython3",
   "version": "3.6.7"
  }
 },
 "nbformat": 4,
 "nbformat_minor": 2
}
