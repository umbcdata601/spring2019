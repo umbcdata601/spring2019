{
 "cells": [
  {
   "cell_type": "code",
   "execution_count": 1,
   "metadata": {},
   "outputs": [],
   "source": [
    "import requests\n",
    "import json\n",
    "import random"
   ]
  },
  {
   "cell_type": "code",
   "execution_count": 3,
   "metadata": {},
   "outputs": [],
   "source": [
    "base_url=\"https://sis.jhu.edu/api/\"\n",
    "with open('mykey','r') as mk:\n",
    "    mykey=mk.readlines()[0].rstrip()"
   ]
  },
  {
   "cell_type": "code",
   "execution_count": 4,
   "metadata": {},
   "outputs": [
    {
     "data": {
      "text/plain": [
       "'G7dlcruabV0SBNdFp2bYXDKQpWgohQXX'"
      ]
     },
     "execution_count": 4,
     "metadata": {},
     "output_type": "execute_result"
    }
   ],
   "source": [
    "mykey"
   ]
  },
  {
   "cell_type": "markdown",
   "metadata": {},
   "source": [
    "https://sis.jhu.edu/api/"
   ]
  },
  {
   "cell_type": "code",
   "execution_count": 5,
   "metadata": {},
   "outputs": [],
   "source": [
    "def get_schools(mykey):\n",
    "    try:\n",
    "        response = requests.get(base_url+\"classes/codes/schools\", params={'key':mykey})\n",
    "        return response.json()\n",
    "    except:\n",
    "        print('Error in getting schools',response)\n",
    "        return None"
   ]
  },
  {
   "cell_type": "code",
   "execution_count": 6,
   "metadata": {},
   "outputs": [
    {
     "data": {
      "text/plain": [
       "[{'Name': 'Bloomberg School of Public Health'},\n",
       " {'Name': 'Bloomberg School of Public Health Non-Credit'},\n",
       " {'Name': 'Carey Business School'},\n",
       " {'Name': 'Krieger School of Arts and Sciences'},\n",
       " {'Name': 'Krieger School of Arts and Sciences'},\n",
       " {'Name': 'Krieger School of Arts and Sciences'},\n",
       " {'Name': 'Krieger School of Arts and Sciences Advanced Academic Programs'},\n",
       " {'Name': 'Nitze School of Advanced International Studies'},\n",
       " {'Name': 'School of Education'},\n",
       " {'Name': 'School of Medicine'},\n",
       " {'Name': 'School of Nursing'},\n",
       " {'Name': 'The Peabody Institute'},\n",
       " {'Name': 'The Peabody Preparatory'},\n",
       " {'Name': 'Whiting School of Engineering'},\n",
       " {'Name': 'Whiting School of Engineering Programs for Professionals'}]"
      ]
     },
     "execution_count": 6,
     "metadata": {},
     "output_type": "execute_result"
    }
   ],
   "source": [
    "list_of_schools=get_schools(mykey)\n",
    "list_of_schools"
   ]
  },
  {
   "cell_type": "code",
   "execution_count": 7,
   "metadata": {},
   "outputs": [],
   "source": [
    "def get_classes(mykey,school):\n",
    "    try:\n",
    "        response = requests.get(base_url+'/classes/'+school, params={'key':mykey})\n",
    "        return response.json()\n",
    "    except:\n",
    "        print('Error in getting classes',response)\n",
    "        return None"
   ]
  },
  {
   "cell_type": "code",
   "execution_count": 8,
   "metadata": {},
   "outputs": [
    {
     "name": "stdout",
     "output_type": "stream",
     "text": [
      "8117\n"
     ]
    }
   ],
   "source": [
    "list_of_classes=get_classes(mykey,random.choice(list_of_schools)['Name'])\n",
    "print(len(list_of_classes))"
   ]
  },
  {
   "cell_type": "code",
   "execution_count": 9,
   "metadata": {},
   "outputs": [
    {
     "data": {
      "text/plain": [
       "{'TermStartDate': '1/26/2009 12:00:00 AM',\n",
       " 'SchoolName': 'Carey Business School',\n",
       " 'CoursePrefix': 'BU',\n",
       " 'Term': 'Spring 2009',\n",
       " 'Term_IDR': 'Spring 2009',\n",
       " 'OfferingName': 'BU.752.801',\n",
       " 'SectionName': 'L1',\n",
       " 'Title': 'Capstone: Integrative Field Experience in the Life Sciences',\n",
       " 'Credits': '6.00',\n",
       " 'Department': 'BU Business of Health',\n",
       " 'Level': 'Graduate',\n",
       " 'Status': 'Open',\n",
       " 'DOW': '10',\n",
       " 'DOWSort': '02^18:00:00',\n",
       " 'TimeOfDay': 'Evening',\n",
       " 'SubDepartment': '',\n",
       " 'SectionRegRestrictions': '',\n",
       " 'SeatsAvailable': '1/13',\n",
       " 'MaxSeats': '13',\n",
       " 'OpenSeats': '1',\n",
       " 'Waitlisted': '0',\n",
       " 'IsWritingIntensive': 'No',\n",
       " 'AllDepartments': 'BU Business of Health^',\n",
       " 'Instructors': 'C. Nichols, B. Robeson',\n",
       " 'InstructorsFullName': 'Nichols, Cherie M, Robeson, Bonnie L',\n",
       " 'Location': 'Montgomery County Campus',\n",
       " 'Building': 'Gilchrist',\n",
       " 'HasBio': None,\n",
       " 'Meetings': 'TTh 6:00PM - 9:00PM',\n",
       " 'Areas': 'None',\n",
       " 'InstructionMethod': 'Lecture',\n",
       " 'SectionCoRequisites': '',\n",
       " 'SectionCoReqNotes': '',\n",
       " 'SSS_SectionsID': '270214',\n",
       " 'SectionDetails': None}"
      ]
     },
     "execution_count": 9,
     "metadata": {},
     "output_type": "execute_result"
    }
   ],
   "source": [
    "list_of_classes[0]"
   ]
  },
  {
   "cell_type": "code",
   "execution_count": null,
   "metadata": {},
   "outputs": [],
   "source": []
  }
 ],
 "metadata": {
  "kernelspec": {
   "display_name": "Python 3",
   "language": "python",
   "name": "python3"
  },
  "language_info": {
   "codemirror_mode": {
    "name": "ipython",
    "version": 3
   },
   "file_extension": ".py",
   "mimetype": "text/x-python",
   "name": "python",
   "nbconvert_exporter": "python",
   "pygments_lexer": "ipython3",
   "version": "3.6.7"
  }
 },
 "nbformat": 4,
 "nbformat_minor": 2
}
