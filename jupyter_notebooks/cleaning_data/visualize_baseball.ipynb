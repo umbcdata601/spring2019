{
 "cells": [
  {
   "cell_type": "markdown",
   "metadata": {},
   "source": [
    "source: http://www.seanlahman.com/baseball-archive/statistics/\n",
    "\n",
    "see also https://sabr.org/sabermetrics/data"
   ]
  },
  {
   "cell_type": "code",
   "execution_count": 1,
   "metadata": {},
   "outputs": [
    {
     "name": "stdout",
     "output_type": "stream",
     "text": [
      "0.23.4\n"
     ]
    }
   ],
   "source": [
    "import time\n",
    "import pandas\n",
    "print(pandas.__version__)\n",
    "import matplotlib.pyplot as plt"
   ]
  },
  {
   "cell_type": "markdown",
   "metadata": {},
   "source": [
    "Disclaimer: I'm not a sports person, so this data is almost meaningless to me"
   ]
  },
  {
   "cell_type": "code",
   "execution_count": 2,
   "metadata": {},
   "outputs": [
    {
     "data": {
      "text/plain": [
       "(2865, 48)"
      ]
     },
     "execution_count": 2,
     "metadata": {},
     "output_type": "execute_result"
    }
   ],
   "source": [
    "df = pandas.read_csv('baseballdatabank-master/core/Teams.csv')\n",
    "df.shape"
   ]
  },
  {
   "cell_type": "code",
   "execution_count": 3,
   "metadata": {},
   "outputs": [
    {
     "data": {
      "text/html": [
       "<div>\n",
       "<style scoped>\n",
       "    .dataframe tbody tr th:only-of-type {\n",
       "        vertical-align: middle;\n",
       "    }\n",
       "\n",
       "    .dataframe tbody tr th {\n",
       "        vertical-align: top;\n",
       "    }\n",
       "\n",
       "    .dataframe thead th {\n",
       "        text-align: right;\n",
       "    }\n",
       "</style>\n",
       "<table border=\"1\" class=\"dataframe\">\n",
       "  <thead>\n",
       "    <tr style=\"text-align: right;\">\n",
       "      <th></th>\n",
       "      <th>0</th>\n",
       "      <th>1</th>\n",
       "      <th>2</th>\n",
       "      <th>3</th>\n",
       "      <th>4</th>\n",
       "    </tr>\n",
       "  </thead>\n",
       "  <tbody>\n",
       "    <tr>\n",
       "      <th>yearID</th>\n",
       "      <td>1871</td>\n",
       "      <td>1871</td>\n",
       "      <td>1871</td>\n",
       "      <td>1871</td>\n",
       "      <td>1871</td>\n",
       "    </tr>\n",
       "    <tr>\n",
       "      <th>lgID</th>\n",
       "      <td>NaN</td>\n",
       "      <td>NaN</td>\n",
       "      <td>NaN</td>\n",
       "      <td>NaN</td>\n",
       "      <td>NaN</td>\n",
       "    </tr>\n",
       "    <tr>\n",
       "      <th>teamID</th>\n",
       "      <td>BS1</td>\n",
       "      <td>CH1</td>\n",
       "      <td>CL1</td>\n",
       "      <td>FW1</td>\n",
       "      <td>NY2</td>\n",
       "    </tr>\n",
       "    <tr>\n",
       "      <th>franchID</th>\n",
       "      <td>BNA</td>\n",
       "      <td>CNA</td>\n",
       "      <td>CFC</td>\n",
       "      <td>KEK</td>\n",
       "      <td>NNA</td>\n",
       "    </tr>\n",
       "    <tr>\n",
       "      <th>divID</th>\n",
       "      <td>NaN</td>\n",
       "      <td>NaN</td>\n",
       "      <td>NaN</td>\n",
       "      <td>NaN</td>\n",
       "      <td>NaN</td>\n",
       "    </tr>\n",
       "    <tr>\n",
       "      <th>Rank</th>\n",
       "      <td>3</td>\n",
       "      <td>2</td>\n",
       "      <td>8</td>\n",
       "      <td>7</td>\n",
       "      <td>5</td>\n",
       "    </tr>\n",
       "    <tr>\n",
       "      <th>G</th>\n",
       "      <td>31</td>\n",
       "      <td>28</td>\n",
       "      <td>29</td>\n",
       "      <td>19</td>\n",
       "      <td>33</td>\n",
       "    </tr>\n",
       "    <tr>\n",
       "      <th>Ghome</th>\n",
       "      <td>NaN</td>\n",
       "      <td>NaN</td>\n",
       "      <td>NaN</td>\n",
       "      <td>NaN</td>\n",
       "      <td>NaN</td>\n",
       "    </tr>\n",
       "    <tr>\n",
       "      <th>W</th>\n",
       "      <td>20</td>\n",
       "      <td>19</td>\n",
       "      <td>10</td>\n",
       "      <td>7</td>\n",
       "      <td>16</td>\n",
       "    </tr>\n",
       "    <tr>\n",
       "      <th>L</th>\n",
       "      <td>10</td>\n",
       "      <td>9</td>\n",
       "      <td>19</td>\n",
       "      <td>12</td>\n",
       "      <td>17</td>\n",
       "    </tr>\n",
       "    <tr>\n",
       "      <th>DivWin</th>\n",
       "      <td>NaN</td>\n",
       "      <td>NaN</td>\n",
       "      <td>NaN</td>\n",
       "      <td>NaN</td>\n",
       "      <td>NaN</td>\n",
       "    </tr>\n",
       "    <tr>\n",
       "      <th>WCWin</th>\n",
       "      <td>NaN</td>\n",
       "      <td>NaN</td>\n",
       "      <td>NaN</td>\n",
       "      <td>NaN</td>\n",
       "      <td>NaN</td>\n",
       "    </tr>\n",
       "    <tr>\n",
       "      <th>LgWin</th>\n",
       "      <td>N</td>\n",
       "      <td>N</td>\n",
       "      <td>N</td>\n",
       "      <td>N</td>\n",
       "      <td>N</td>\n",
       "    </tr>\n",
       "    <tr>\n",
       "      <th>WSWin</th>\n",
       "      <td>NaN</td>\n",
       "      <td>NaN</td>\n",
       "      <td>NaN</td>\n",
       "      <td>NaN</td>\n",
       "      <td>NaN</td>\n",
       "    </tr>\n",
       "    <tr>\n",
       "      <th>R</th>\n",
       "      <td>401</td>\n",
       "      <td>302</td>\n",
       "      <td>249</td>\n",
       "      <td>137</td>\n",
       "      <td>302</td>\n",
       "    </tr>\n",
       "    <tr>\n",
       "      <th>AB</th>\n",
       "      <td>1372</td>\n",
       "      <td>1196</td>\n",
       "      <td>1186</td>\n",
       "      <td>746</td>\n",
       "      <td>1404</td>\n",
       "    </tr>\n",
       "    <tr>\n",
       "      <th>H</th>\n",
       "      <td>426</td>\n",
       "      <td>323</td>\n",
       "      <td>328</td>\n",
       "      <td>178</td>\n",
       "      <td>403</td>\n",
       "    </tr>\n",
       "    <tr>\n",
       "      <th>2B</th>\n",
       "      <td>70</td>\n",
       "      <td>52</td>\n",
       "      <td>35</td>\n",
       "      <td>19</td>\n",
       "      <td>43</td>\n",
       "    </tr>\n",
       "    <tr>\n",
       "      <th>3B</th>\n",
       "      <td>37</td>\n",
       "      <td>21</td>\n",
       "      <td>40</td>\n",
       "      <td>8</td>\n",
       "      <td>21</td>\n",
       "    </tr>\n",
       "    <tr>\n",
       "      <th>HR</th>\n",
       "      <td>3</td>\n",
       "      <td>10</td>\n",
       "      <td>7</td>\n",
       "      <td>2</td>\n",
       "      <td>1</td>\n",
       "    </tr>\n",
       "    <tr>\n",
       "      <th>BB</th>\n",
       "      <td>60</td>\n",
       "      <td>60</td>\n",
       "      <td>26</td>\n",
       "      <td>33</td>\n",
       "      <td>33</td>\n",
       "    </tr>\n",
       "    <tr>\n",
       "      <th>SO</th>\n",
       "      <td>19</td>\n",
       "      <td>22</td>\n",
       "      <td>25</td>\n",
       "      <td>9</td>\n",
       "      <td>15</td>\n",
       "    </tr>\n",
       "    <tr>\n",
       "      <th>SB</th>\n",
       "      <td>73</td>\n",
       "      <td>69</td>\n",
       "      <td>18</td>\n",
       "      <td>16</td>\n",
       "      <td>46</td>\n",
       "    </tr>\n",
       "    <tr>\n",
       "      <th>CS</th>\n",
       "      <td>16</td>\n",
       "      <td>21</td>\n",
       "      <td>8</td>\n",
       "      <td>4</td>\n",
       "      <td>15</td>\n",
       "    </tr>\n",
       "    <tr>\n",
       "      <th>HBP</th>\n",
       "      <td>NaN</td>\n",
       "      <td>NaN</td>\n",
       "      <td>NaN</td>\n",
       "      <td>NaN</td>\n",
       "      <td>NaN</td>\n",
       "    </tr>\n",
       "    <tr>\n",
       "      <th>SF</th>\n",
       "      <td>NaN</td>\n",
       "      <td>NaN</td>\n",
       "      <td>NaN</td>\n",
       "      <td>NaN</td>\n",
       "      <td>NaN</td>\n",
       "    </tr>\n",
       "    <tr>\n",
       "      <th>RA</th>\n",
       "      <td>303</td>\n",
       "      <td>241</td>\n",
       "      <td>341</td>\n",
       "      <td>243</td>\n",
       "      <td>313</td>\n",
       "    </tr>\n",
       "    <tr>\n",
       "      <th>ER</th>\n",
       "      <td>109</td>\n",
       "      <td>77</td>\n",
       "      <td>116</td>\n",
       "      <td>97</td>\n",
       "      <td>121</td>\n",
       "    </tr>\n",
       "    <tr>\n",
       "      <th>ERA</th>\n",
       "      <td>3.55</td>\n",
       "      <td>2.76</td>\n",
       "      <td>4.11</td>\n",
       "      <td>5.17</td>\n",
       "      <td>3.72</td>\n",
       "    </tr>\n",
       "    <tr>\n",
       "      <th>CG</th>\n",
       "      <td>22</td>\n",
       "      <td>25</td>\n",
       "      <td>23</td>\n",
       "      <td>19</td>\n",
       "      <td>32</td>\n",
       "    </tr>\n",
       "    <tr>\n",
       "      <th>SHO</th>\n",
       "      <td>1</td>\n",
       "      <td>0</td>\n",
       "      <td>0</td>\n",
       "      <td>1</td>\n",
       "      <td>1</td>\n",
       "    </tr>\n",
       "    <tr>\n",
       "      <th>SV</th>\n",
       "      <td>3</td>\n",
       "      <td>1</td>\n",
       "      <td>0</td>\n",
       "      <td>0</td>\n",
       "      <td>0</td>\n",
       "    </tr>\n",
       "    <tr>\n",
       "      <th>IPouts</th>\n",
       "      <td>828</td>\n",
       "      <td>753</td>\n",
       "      <td>762</td>\n",
       "      <td>507</td>\n",
       "      <td>879</td>\n",
       "    </tr>\n",
       "    <tr>\n",
       "      <th>HA</th>\n",
       "      <td>367</td>\n",
       "      <td>308</td>\n",
       "      <td>346</td>\n",
       "      <td>261</td>\n",
       "      <td>373</td>\n",
       "    </tr>\n",
       "    <tr>\n",
       "      <th>HRA</th>\n",
       "      <td>2</td>\n",
       "      <td>6</td>\n",
       "      <td>13</td>\n",
       "      <td>5</td>\n",
       "      <td>7</td>\n",
       "    </tr>\n",
       "    <tr>\n",
       "      <th>BBA</th>\n",
       "      <td>42</td>\n",
       "      <td>28</td>\n",
       "      <td>53</td>\n",
       "      <td>21</td>\n",
       "      <td>42</td>\n",
       "    </tr>\n",
       "    <tr>\n",
       "      <th>SOA</th>\n",
       "      <td>23</td>\n",
       "      <td>22</td>\n",
       "      <td>34</td>\n",
       "      <td>17</td>\n",
       "      <td>22</td>\n",
       "    </tr>\n",
       "    <tr>\n",
       "      <th>E</th>\n",
       "      <td>243</td>\n",
       "      <td>229</td>\n",
       "      <td>234</td>\n",
       "      <td>163</td>\n",
       "      <td>235</td>\n",
       "    </tr>\n",
       "    <tr>\n",
       "      <th>DP</th>\n",
       "      <td>24</td>\n",
       "      <td>16</td>\n",
       "      <td>15</td>\n",
       "      <td>8</td>\n",
       "      <td>14</td>\n",
       "    </tr>\n",
       "    <tr>\n",
       "      <th>FP</th>\n",
       "      <td>0.834</td>\n",
       "      <td>0.829</td>\n",
       "      <td>0.818</td>\n",
       "      <td>0.803</td>\n",
       "      <td>0.84</td>\n",
       "    </tr>\n",
       "    <tr>\n",
       "      <th>name</th>\n",
       "      <td>Boston Red Stockings</td>\n",
       "      <td>Chicago White Stockings</td>\n",
       "      <td>Cleveland Forest Citys</td>\n",
       "      <td>Fort Wayne Kekiongas</td>\n",
       "      <td>New York Mutuals</td>\n",
       "    </tr>\n",
       "    <tr>\n",
       "      <th>park</th>\n",
       "      <td>South End Grounds I</td>\n",
       "      <td>Union Base-Ball Grounds</td>\n",
       "      <td>National Association Grounds</td>\n",
       "      <td>Hamilton Field</td>\n",
       "      <td>Union Grounds (Brooklyn)</td>\n",
       "    </tr>\n",
       "    <tr>\n",
       "      <th>attendance</th>\n",
       "      <td>NaN</td>\n",
       "      <td>NaN</td>\n",
       "      <td>NaN</td>\n",
       "      <td>NaN</td>\n",
       "      <td>NaN</td>\n",
       "    </tr>\n",
       "    <tr>\n",
       "      <th>BPF</th>\n",
       "      <td>103</td>\n",
       "      <td>104</td>\n",
       "      <td>96</td>\n",
       "      <td>101</td>\n",
       "      <td>90</td>\n",
       "    </tr>\n",
       "    <tr>\n",
       "      <th>PPF</th>\n",
       "      <td>98</td>\n",
       "      <td>102</td>\n",
       "      <td>100</td>\n",
       "      <td>107</td>\n",
       "      <td>88</td>\n",
       "    </tr>\n",
       "    <tr>\n",
       "      <th>teamIDBR</th>\n",
       "      <td>BOS</td>\n",
       "      <td>CHI</td>\n",
       "      <td>CLE</td>\n",
       "      <td>KEK</td>\n",
       "      <td>NYU</td>\n",
       "    </tr>\n",
       "    <tr>\n",
       "      <th>teamIDlahman45</th>\n",
       "      <td>BS1</td>\n",
       "      <td>CH1</td>\n",
       "      <td>CL1</td>\n",
       "      <td>FW1</td>\n",
       "      <td>NY2</td>\n",
       "    </tr>\n",
       "    <tr>\n",
       "      <th>teamIDretro</th>\n",
       "      <td>BS1</td>\n",
       "      <td>CH1</td>\n",
       "      <td>CL1</td>\n",
       "      <td>FW1</td>\n",
       "      <td>NY2</td>\n",
       "    </tr>\n",
       "  </tbody>\n",
       "</table>\n",
       "</div>"
      ],
      "text/plain": [
       "                                   0                        1  \\\n",
       "yearID                          1871                     1871   \n",
       "lgID                             NaN                      NaN   \n",
       "teamID                           BS1                      CH1   \n",
       "franchID                         BNA                      CNA   \n",
       "divID                            NaN                      NaN   \n",
       "Rank                               3                        2   \n",
       "G                                 31                       28   \n",
       "Ghome                            NaN                      NaN   \n",
       "W                                 20                       19   \n",
       "L                                 10                        9   \n",
       "DivWin                           NaN                      NaN   \n",
       "WCWin                            NaN                      NaN   \n",
       "LgWin                              N                        N   \n",
       "WSWin                            NaN                      NaN   \n",
       "R                                401                      302   \n",
       "AB                              1372                     1196   \n",
       "H                                426                      323   \n",
       "2B                                70                       52   \n",
       "3B                                37                       21   \n",
       "HR                                 3                       10   \n",
       "BB                                60                       60   \n",
       "SO                                19                       22   \n",
       "SB                                73                       69   \n",
       "CS                                16                       21   \n",
       "HBP                              NaN                      NaN   \n",
       "SF                               NaN                      NaN   \n",
       "RA                               303                      241   \n",
       "ER                               109                       77   \n",
       "ERA                             3.55                     2.76   \n",
       "CG                                22                       25   \n",
       "SHO                                1                        0   \n",
       "SV                                 3                        1   \n",
       "IPouts                           828                      753   \n",
       "HA                               367                      308   \n",
       "HRA                                2                        6   \n",
       "BBA                               42                       28   \n",
       "SOA                               23                       22   \n",
       "E                                243                      229   \n",
       "DP                                24                       16   \n",
       "FP                             0.834                    0.829   \n",
       "name            Boston Red Stockings  Chicago White Stockings   \n",
       "park             South End Grounds I  Union Base-Ball Grounds   \n",
       "attendance                       NaN                      NaN   \n",
       "BPF                              103                      104   \n",
       "PPF                               98                      102   \n",
       "teamIDBR                         BOS                      CHI   \n",
       "teamIDlahman45                   BS1                      CH1   \n",
       "teamIDretro                      BS1                      CH1   \n",
       "\n",
       "                                           2                     3  \\\n",
       "yearID                                  1871                  1871   \n",
       "lgID                                     NaN                   NaN   \n",
       "teamID                                   CL1                   FW1   \n",
       "franchID                                 CFC                   KEK   \n",
       "divID                                    NaN                   NaN   \n",
       "Rank                                       8                     7   \n",
       "G                                         29                    19   \n",
       "Ghome                                    NaN                   NaN   \n",
       "W                                         10                     7   \n",
       "L                                         19                    12   \n",
       "DivWin                                   NaN                   NaN   \n",
       "WCWin                                    NaN                   NaN   \n",
       "LgWin                                      N                     N   \n",
       "WSWin                                    NaN                   NaN   \n",
       "R                                        249                   137   \n",
       "AB                                      1186                   746   \n",
       "H                                        328                   178   \n",
       "2B                                        35                    19   \n",
       "3B                                        40                     8   \n",
       "HR                                         7                     2   \n",
       "BB                                        26                    33   \n",
       "SO                                        25                     9   \n",
       "SB                                        18                    16   \n",
       "CS                                         8                     4   \n",
       "HBP                                      NaN                   NaN   \n",
       "SF                                       NaN                   NaN   \n",
       "RA                                       341                   243   \n",
       "ER                                       116                    97   \n",
       "ERA                                     4.11                  5.17   \n",
       "CG                                        23                    19   \n",
       "SHO                                        0                     1   \n",
       "SV                                         0                     0   \n",
       "IPouts                                   762                   507   \n",
       "HA                                       346                   261   \n",
       "HRA                                       13                     5   \n",
       "BBA                                       53                    21   \n",
       "SOA                                       34                    17   \n",
       "E                                        234                   163   \n",
       "DP                                        15                     8   \n",
       "FP                                     0.818                 0.803   \n",
       "name                  Cleveland Forest Citys  Fort Wayne Kekiongas   \n",
       "park            National Association Grounds        Hamilton Field   \n",
       "attendance                               NaN                   NaN   \n",
       "BPF                                       96                   101   \n",
       "PPF                                      100                   107   \n",
       "teamIDBR                                 CLE                   KEK   \n",
       "teamIDlahman45                           CL1                   FW1   \n",
       "teamIDretro                              CL1                   FW1   \n",
       "\n",
       "                                       4  \n",
       "yearID                              1871  \n",
       "lgID                                 NaN  \n",
       "teamID                               NY2  \n",
       "franchID                             NNA  \n",
       "divID                                NaN  \n",
       "Rank                                   5  \n",
       "G                                     33  \n",
       "Ghome                                NaN  \n",
       "W                                     16  \n",
       "L                                     17  \n",
       "DivWin                               NaN  \n",
       "WCWin                                NaN  \n",
       "LgWin                                  N  \n",
       "WSWin                                NaN  \n",
       "R                                    302  \n",
       "AB                                  1404  \n",
       "H                                    403  \n",
       "2B                                    43  \n",
       "3B                                    21  \n",
       "HR                                     1  \n",
       "BB                                    33  \n",
       "SO                                    15  \n",
       "SB                                    46  \n",
       "CS                                    15  \n",
       "HBP                                  NaN  \n",
       "SF                                   NaN  \n",
       "RA                                   313  \n",
       "ER                                   121  \n",
       "ERA                                 3.72  \n",
       "CG                                    32  \n",
       "SHO                                    1  \n",
       "SV                                     0  \n",
       "IPouts                               879  \n",
       "HA                                   373  \n",
       "HRA                                    7  \n",
       "BBA                                   42  \n",
       "SOA                                   22  \n",
       "E                                    235  \n",
       "DP                                    14  \n",
       "FP                                  0.84  \n",
       "name                    New York Mutuals  \n",
       "park            Union Grounds (Brooklyn)  \n",
       "attendance                           NaN  \n",
       "BPF                                   90  \n",
       "PPF                                   88  \n",
       "teamIDBR                             NYU  \n",
       "teamIDlahman45                       NY2  \n",
       "teamIDretro                          NY2  "
      ]
     },
     "execution_count": 3,
     "metadata": {},
     "output_type": "execute_result"
    }
   ],
   "source": [
    "df.head().T"
   ]
  },
  {
   "cell_type": "markdown",
   "metadata": {},
   "source": [
    "## plots\n",
    "\n",
    "Let's plot a column of numeric data using Panda's \"plot()\" (which uses <a href=\"https://matplotlib.org/\">matplotlib</a>)\n",
    "\n",
    "https://pandas.pydata.org/pandas-docs/stable/reference/api/pandas.Series.plot.html"
   ]
  },
  {
   "cell_type": "code",
   "execution_count": 4,
   "metadata": {},
   "outputs": [
    {
     "data": {
      "text/plain": [
       "<matplotlib.axes._subplots.AxesSubplot at 0x7ff653e06588>"
      ]
     },
     "execution_count": 4,
     "metadata": {},
     "output_type": "execute_result"
    },
    {
     "data": {
      "image/png": "[encoded data removed]",
      "text/plain": [
       "<Figure size 432x288 with 1 Axes>"
      ]
     },
     "metadata": {
      "needs_background": "light"
     },
     "output_type": "display_data"
    }
   ],
   "source": [
    "df['Rank'].plot()"
   ]
  },
  {
   "cell_type": "markdown",
   "metadata": {},
   "source": [
    "Sometimes the plot doesn't render, so I typically specify the \".show()\" command "
   ]
  },
  {
   "cell_type": "code",
   "execution_count": 5,
   "metadata": {},
   "outputs": [
    {
     "data": {
      "image/png": "[encoded data removed]",
      "text/plain": [
       "<Figure size 432x288 with 1 Axes>"
      ]
     },
     "metadata": {
      "needs_background": "light"
     },
     "output_type": "display_data"
    }
   ],
   "source": [
    "df['Rank'].plot()\n",
    "plt.show()"
   ]
  },
  {
   "cell_type": "markdown",
   "metadata": {},
   "source": [
    "## scatter plot\n",
    "\n",
    "The plot looks dense, but this is merely because there are lines being drawn between consecutive points.\n",
    "\n",
    "To avoid inserting unnecessary lines, use a scatter plot.\n",
    "\n",
    "Pandas doesn't support a scatter plot for numeric data, so we'll use the series index and series values in a call to matplotlib"
   ]
  },
  {
   "cell_type": "code",
   "execution_count": 20,
   "metadata": {},
   "outputs": [
    {
     "data": {
      "text/plain": [
       "0    3\n",
       "1    2\n",
       "2    8\n",
       "3    7\n",
       "4    5\n",
       "Name: Rank, dtype: int64"
      ]
     },
     "execution_count": 20,
     "metadata": {},
     "output_type": "execute_result"
    }
   ],
   "source": [
    "ser = df['Rank'] # save the column to a variable\n",
    "ser[0:5]"
   ]
  },
  {
   "cell_type": "code",
   "execution_count": 21,
   "metadata": {},
   "outputs": [
    {
     "data": {
      "image/png": "[encoded data removed]",
      "text/plain": [
       "<Figure size 432x288 with 1 Axes>"
      ]
     },
     "metadata": {
      "needs_background": "light"
     },
     "output_type": "display_data"
    }
   ],
   "source": [
    "plt.scatter(ser.index, ser)\n",
    "plt.show()"
   ]
  },
  {
   "cell_type": "markdown",
   "metadata": {},
   "source": [
    "Observation: there are only integer values present. \n",
    "\n",
    "There's probably not a relation among adjacent rows, so a scatter plot for the series is not a relevant story\n",
    "\n",
    "# histogram\n",
    "\n",
    "Even without knowing what the meaning of the numeric column is, a histogram is a useful way to gain understanding of the values."
   ]
  },
  {
   "cell_type": "code",
   "execution_count": 7,
   "metadata": {},
   "outputs": [
    {
     "data": {
      "text/plain": [
       "<matplotlib.axes._subplots.AxesSubplot at 0x7ff651c720b8>"
      ]
     },
     "execution_count": 7,
     "metadata": {},
     "output_type": "execute_result"
    },
    {
     "data": {
      "image/png": "[encoded data removed]",
      "text/plain": [
       "<Figure size 432x288 with 1 Axes>"
      ]
     },
     "metadata": {
      "needs_background": "light"
     },
     "output_type": "display_data"
    }
   ],
   "source": [
    "df['Rank'].hist()"
   ]
  },
  {
   "cell_type": "markdown",
   "metadata": {},
   "source": [
    "I don't like the text output announcing the result, so I write that to an unnamed variable <a href=\"https://stackoverflow.com/questions/5893163/what-is-the-purpose-of-the-single-underscore-variable-in-python\">see this page</a>"
   ]
  },
  {
   "cell_type": "code",
   "execution_count": 8,
   "metadata": {},
   "outputs": [
    {
     "data": {
      "image/png": "[encoded data removed]",
      "text/plain": [
       "<Figure size 432x288 with 1 Axes>"
      ]
     },
     "metadata": {
      "needs_background": "light"
     },
     "output_type": "display_data"
    }
   ],
   "source": [
    "_=df['Rank'].hist()"
   ]
  },
  {
   "cell_type": "markdown",
   "metadata": {},
   "source": [
    "The default is to have 10 bins; let's see what 100 bins looks like"
   ]
  },
  {
   "cell_type": "code",
   "execution_count": 9,
   "metadata": {},
   "outputs": [
    {
     "data": {
      "image/png": "[encoded data removed]",
      "text/plain": [
       "<Figure size 432x288 with 1 Axes>"
      ]
     },
     "metadata": {
      "needs_background": "light"
     },
     "output_type": "display_data"
    }
   ],
   "source": [
    "_=df['Rank'].hist(bins=100)\n",
    "_=plt.ylabel('count',fontsize=14)"
   ]
  },
  {
   "cell_type": "markdown",
   "metadata": {},
   "source": [
    "spacing between the bins indicates there are too many bins. \n",
    "\n",
    "How many unique entries are there in this column?"
   ]
  },
  {
   "cell_type": "code",
   "execution_count": 23,
   "metadata": {},
   "outputs": [
    {
     "data": {
      "text/plain": [
       "13"
      ]
     },
     "execution_count": 23,
     "metadata": {},
     "output_type": "execute_result"
    }
   ],
   "source": [
    "df['Rank'].nunique()"
   ]
  },
  {
   "cell_type": "markdown",
   "metadata": {},
   "source": [
    "Use the unique number of values to set the bin count in the histogram"
   ]
  },
  {
   "cell_type": "code",
   "execution_count": 11,
   "metadata": {},
   "outputs": [
    {
     "data": {
      "image/png": "[encoded data removed]",
      "text/plain": [
       "<Figure size 432x288 with 1 Axes>"
      ]
     },
     "metadata": {
      "needs_background": "light"
     },
     "output_type": "display_data"
    }
   ],
   "source": [
    "_=df['Rank'].hist(bins=df['Rank'].nunique())\n",
    "_=plt.ylabel('count',fontsize=14)"
   ]
  },
  {
   "cell_type": "markdown",
   "metadata": {},
   "source": [
    "# bar graph for categorical data \n",
    "\n",
    "Let's look at another column:"
   ]
  },
  {
   "cell_type": "code",
   "execution_count": 12,
   "metadata": {},
   "outputs": [
    {
     "data": {
      "text/plain": [
       "1099"
      ]
     },
     "execution_count": 12,
     "metadata": {},
     "output_type": "execute_result"
    }
   ],
   "source": [
    "df['AB'].nunique()"
   ]
  },
  {
   "cell_type": "code",
   "execution_count": 13,
   "metadata": {},
   "outputs": [
    {
     "name": "stdout",
     "output_type": "stream",
     "text": [
      "1.3306553363800049 seconds\n"
     ]
    },
    {
     "data": {
      "image/png": "[encoded data removed]",
      "text/plain": [
       "<Figure size 432x288 with 1 Axes>"
      ]
     },
     "metadata": {
      "needs_background": "light"
     },
     "output_type": "display_data"
    }
   ],
   "source": [
    "start_time = time.time()\n",
    "_=df['AB'].hist(bins=df['AB'].nunique())\n",
    "_=plt.ylabel('count',fontsize=14)\n",
    "print(time.time() - start_time,'seconds')"
   ]
  },
  {
   "cell_type": "markdown",
   "metadata": {},
   "source": [
    "--> It doesn't always make sense to use \"number of unique values\" to set the number of bins.\n",
    "\n",
    "We get a similar result in less time by specifying a lower bin count:"
   ]
  },
  {
   "cell_type": "code",
   "execution_count": 14,
   "metadata": {},
   "outputs": [
    {
     "name": "stdout",
     "output_type": "stream",
     "text": [
      "0.23800015449523926 seconds\n"
     ]
    },
    {
     "data": {
      "image/png": "[encoded data removed]",
      "text/plain": [
       "<Figure size 432x288 with 1 Axes>"
      ]
     },
     "metadata": {
      "needs_background": "light"
     },
     "output_type": "display_data"
    }
   ],
   "source": [
    "start_time = time.time()\n",
    "_=df['AB'].hist(bins=100)\n",
    "_=plt.ylabel('count',fontsize=14)\n",
    "print(time.time() - start_time,'seconds')"
   ]
  },
  {
   "cell_type": "markdown",
   "metadata": {},
   "source": [
    "Finding the \"right\" bin count is a subjective exploration"
   ]
  },
  {
   "cell_type": "code",
   "execution_count": 15,
   "metadata": {},
   "outputs": [
    {
     "name": "stdout",
     "output_type": "stream",
     "text": [
      "0.05944204330444336 seconds\n"
     ]
    },
    {
     "data": {
      "image/png": "[encoded data removed]",
      "text/plain": [
       "<Figure size 432x288 with 1 Axes>"
      ]
     },
     "metadata": {
      "needs_background": "light"
     },
     "output_type": "display_data"
    }
   ],
   "source": [
    "start_time = time.time()\n",
    "_=df['AB'].hist(bins=10)\n",
    "_=plt.ylabel('count',fontsize=14)\n",
    "print(time.time() - start_time,'seconds')"
   ]
  },
  {
   "cell_type": "markdown",
   "metadata": {},
   "source": [
    "## bar graphs"
   ]
  },
  {
   "cell_type": "code",
   "execution_count": 16,
   "metadata": {},
   "outputs": [
    {
     "data": {
      "text/plain": [
       "2"
      ]
     },
     "execution_count": 16,
     "metadata": {},
     "output_type": "execute_result"
    }
   ],
   "source": [
    "df['LgWin'].nunique()\n"
   ]
  },
  {
   "cell_type": "code",
   "execution_count": 17,
   "metadata": {},
   "outputs": [
    {
     "data": {
      "text/plain": [
       "N    2561\n",
       "Y     276\n",
       "Name: LgWin, dtype: int64"
      ]
     },
     "execution_count": 17,
     "metadata": {},
     "output_type": "execute_result"
    }
   ],
   "source": [
    "df['LgWin'].value_counts()"
   ]
  },
  {
   "cell_type": "markdown",
   "metadata": {},
   "source": [
    "https://pandas.pydata.org/pandas-docs/stable/reference/api/pandas.DataFrame.plot.bar.html\n",
    "    \n",
    "https://stackoverflow.com/questions/37125678/pandas-plot-bar-chart-for-multiple-categories"
   ]
  },
  {
   "cell_type": "code",
   "execution_count": 18,
   "metadata": {},
   "outputs": [
    {
     "data": {
      "image/png": "[encoded data removed]",
      "text/plain": [
       "<Figure size 432x288 with 1 Axes>"
      ]
     },
     "metadata": {
      "needs_background": "light"
     },
     "output_type": "display_data"
    }
   ],
   "source": [
    "_=df['LgWin'].value_counts().plot(kind=\"bar\")\n",
    "_=plt.ylabel('count',fontsize=14)"
   ]
  },
  {
   "cell_type": "code",
   "execution_count": null,
   "metadata": {},
   "outputs": [],
   "source": []
  },
  {
   "cell_type": "code",
   "execution_count": null,
   "metadata": {},
   "outputs": [],
   "source": []
  }
 ],
 "metadata": {
  "kernelspec": {
   "display_name": "Python 3",
   "language": "python",
   "name": "python3"
  },
  "language_info": {
   "codemirror_mode": {
    "name": "ipython",
    "version": 3
   },
   "file_extension": ".py",
   "mimetype": "text/x-python",
   "name": "python",
   "nbconvert_exporter": "python",
   "pygments_lexer": "ipython3",
   "version": "3.6.7"
  }
 },
 "nbformat": 4,
 "nbformat_minor": 2
}
