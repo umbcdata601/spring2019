{
 "cells": [
  {
   "cell_type": "markdown",
   "metadata": {},
   "source": [
    "https://catalog.data.gov/dataset/golf-courses"
   ]
  },
  {
   "cell_type": "code",
   "execution_count": 1,
   "metadata": {},
   "outputs": [],
   "source": [
    "import pandas"
   ]
  },
  {
   "cell_type": "code",
   "execution_count": 2,
   "metadata": {},
   "outputs": [],
   "source": [
    "df = pandas.read_csv('Golf_Courses.csv')"
   ]
  },
  {
   "cell_type": "code",
   "execution_count": 3,
   "metadata": {},
   "outputs": [
    {
     "data": {
      "text/html": [
       "<div>\n",
       "<style scoped>\n",
       "    .dataframe tbody tr th:only-of-type {\n",
       "        vertical-align: middle;\n",
       "    }\n",
       "\n",
       "    .dataframe tbody tr th {\n",
       "        vertical-align: top;\n",
       "    }\n",
       "\n",
       "    .dataframe thead th {\n",
       "        text-align: right;\n",
       "    }\n",
       "</style>\n",
       "<table border=\"1\" class=\"dataframe\">\n",
       "  <thead>\n",
       "    <tr style=\"text-align: right;\">\n",
       "      <th></th>\n",
       "      <th>State Park</th>\n",
       "      <th>Course Name</th>\n",
       "      <th>Region</th>\n",
       "      <th>County</th>\n",
       "      <th>Facility URL</th>\n",
       "      <th>Golf URL</th>\n",
       "      <th>Longitude</th>\n",
       "      <th>Latitude</th>\n",
       "      <th>Location</th>\n",
       "    </tr>\n",
       "  </thead>\n",
       "  <tbody>\n",
       "    <tr>\n",
       "      <th>0</th>\n",
       "      <td>Alfred E. Smith/Sunken Meadow</td>\n",
       "      <td>Blue</td>\n",
       "      <td>9</td>\n",
       "      <td>Suffolk</td>\n",
       "      <td>http://nysparks.com/parks/37/details.aspx</td>\n",
       "      <td>http://nysparks.com/golf-courses/13/details.aspx</td>\n",
       "      <td>-73.263206</td>\n",
       "      <td>40.909992</td>\n",
       "      <td>(40.9099922695, -73.2632063245)</td>\n",
       "    </tr>\n",
       "    <tr>\n",
       "      <th>1</th>\n",
       "      <td>Alfred E. Smith/Sunken Meadow</td>\n",
       "      <td>Green</td>\n",
       "      <td>9</td>\n",
       "      <td>Suffolk</td>\n",
       "      <td>http://nysparks.com/parks/37/details.aspx</td>\n",
       "      <td>http://nysparks.com/golf-courses/13/details.aspx</td>\n",
       "      <td>-73.263206</td>\n",
       "      <td>40.909992</td>\n",
       "      <td>(40.9099922695, -73.2632063245)</td>\n",
       "    </tr>\n",
       "    <tr>\n",
       "      <th>2</th>\n",
       "      <td>Alfred E. Smith/Sunken Meadow</td>\n",
       "      <td>Red</td>\n",
       "      <td>9</td>\n",
       "      <td>Suffolk</td>\n",
       "      <td>http://nysparks.com/parks/37/details.aspx</td>\n",
       "      <td>http://nysparks.com/golf-courses/13/details.aspx</td>\n",
       "      <td>-73.263206</td>\n",
       "      <td>40.909992</td>\n",
       "      <td>(40.9099922695, -73.2632063245)</td>\n",
       "    </tr>\n",
       "    <tr>\n",
       "      <th>3</th>\n",
       "      <td>Battle Island</td>\n",
       "      <td>NaN</td>\n",
       "      <td>5</td>\n",
       "      <td>Oswego</td>\n",
       "      <td>http://nysparks.com/parks/44/details.aspx</td>\n",
       "      <td>http://nysparks.com/golf-courses/5/details.aspx</td>\n",
       "      <td>-76.436044</td>\n",
       "      <td>43.361671</td>\n",
       "      <td>(43.3616709338, -76.4360441829)</td>\n",
       "    </tr>\n",
       "    <tr>\n",
       "      <th>4</th>\n",
       "      <td>Beaver Island</td>\n",
       "      <td>NaN</td>\n",
       "      <td>1</td>\n",
       "      <td>Erie</td>\n",
       "      <td>http://nysparks.com/parks/56/details.aspx</td>\n",
       "      <td>http://nysparks.com/golf-courses/4/details.aspx</td>\n",
       "      <td>-78.953106</td>\n",
       "      <td>42.965766</td>\n",
       "      <td>(42.9657659397, -78.9531063633)</td>\n",
       "    </tr>\n",
       "  </tbody>\n",
       "</table>\n",
       "</div>"
      ],
      "text/plain": [
       "                      State Park Course Name  Region   County  \\\n",
       "0  Alfred E. Smith/Sunken Meadow        Blue       9  Suffolk   \n",
       "1  Alfred E. Smith/Sunken Meadow       Green       9  Suffolk   \n",
       "2  Alfred E. Smith/Sunken Meadow         Red       9  Suffolk   \n",
       "3                  Battle Island         NaN       5   Oswego   \n",
       "4                  Beaver Island         NaN       1     Erie   \n",
       "\n",
       "                                Facility URL  \\\n",
       "0  http://nysparks.com/parks/37/details.aspx   \n",
       "1  http://nysparks.com/parks/37/details.aspx   \n",
       "2  http://nysparks.com/parks/37/details.aspx   \n",
       "3  http://nysparks.com/parks/44/details.aspx   \n",
       "4  http://nysparks.com/parks/56/details.aspx   \n",
       "\n",
       "                                           Golf URL  Longitude   Latitude  \\\n",
       "0  http://nysparks.com/golf-courses/13/details.aspx -73.263206  40.909992   \n",
       "1  http://nysparks.com/golf-courses/13/details.aspx -73.263206  40.909992   \n",
       "2  http://nysparks.com/golf-courses/13/details.aspx -73.263206  40.909992   \n",
       "3   http://nysparks.com/golf-courses/5/details.aspx -76.436044  43.361671   \n",
       "4   http://nysparks.com/golf-courses/4/details.aspx -78.953106  42.965766   \n",
       "\n",
       "                          Location  \n",
       "0  (40.9099922695, -73.2632063245)  \n",
       "1  (40.9099922695, -73.2632063245)  \n",
       "2  (40.9099922695, -73.2632063245)  \n",
       "3  (43.3616709338, -76.4360441829)  \n",
       "4  (42.9657659397, -78.9531063633)  "
      ]
     },
     "execution_count": 3,
     "metadata": {},
     "output_type": "execute_result"
    }
   ],
   "source": [
    "df.head()"
   ]
  },
  {
   "cell_type": "code",
   "execution_count": null,
   "metadata": {},
   "outputs": [],
   "source": []
  }
 ],
 "metadata": {
  "kernelspec": {
   "display_name": "Python 3",
   "language": "python",
   "name": "python3"
  },
  "language_info": {
   "codemirror_mode": {
    "name": "ipython",
    "version": 3
   },
   "file_extension": ".py",
   "mimetype": "text/x-python",
   "name": "python",
   "nbconvert_exporter": "python",
   "pygments_lexer": "ipython3",
   "version": "3.6.7"
  }
 },
 "nbformat": 4,
 "nbformat_minor": 2
}
