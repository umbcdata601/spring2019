{
 "cells": [
  {
   "cell_type": "markdown",
   "metadata": {},
   "source": [
    "# saving data to disk"
   ]
  },
  {
   "cell_type": "code",
   "execution_count": 1,
   "metadata": {},
   "outputs": [
    {
     "name": "stdout",
     "output_type": "stream",
     "text": [
      "Collecting tables\n",
      "  Using cached https://files.pythonhosted.org/packages/ab/79/4e1301a87f3b7f27aa6c9cb1aeba4875ff3edb62a6fe3872dc8f04983db4/tables-3.5.1-cp36-cp36m-manylinux1_x86_64.whl\n",
      "Requirement already satisfied: numexpr>=2.6.2 in /opt/conda/lib/python3.6/site-packages (from tables) (2.6.8)\n",
      "Requirement already satisfied: numpy>=1.9.3 in /opt/conda/lib/python3.6/site-packages (from tables) (1.13.3)\n",
      "Collecting mock>=2.0 (from tables)\n",
      "  Using cached https://files.pythonhosted.org/packages/e6/35/f187bdf23be87092bd0f1200d43d23076cee4d0dec109f195173fd3ebc79/mock-2.0.0-py2.py3-none-any.whl\n",
      "Requirement already satisfied: six>=1.9.0 in /opt/conda/lib/python3.6/site-packages (from tables) (1.11.0)\n",
      "Collecting pbr>=0.11 (from mock>=2.0->tables)\n",
      "  Using cached https://files.pythonhosted.org/packages/14/09/12fe9a14237a6b7e0ba3a8d6fcf254bf4b10ec56a0185f73d651145e9222/pbr-5.1.3-py2.py3-none-any.whl\n",
      "Installing collected packages: pbr, mock, tables\n",
      "Successfully installed mock-2.0.0 pbr-5.1.3 tables-3.5.1\n"
     ]
    }
   ],
   "source": [
    "# https://stackoverflow.com/questions/25980018/importerror-hdfstore-requires-pytables-no-module-named-tables\n",
    "!pip install tables"
   ]
  },
  {
   "cell_type": "code",
   "execution_count": 2,
   "metadata": {},
   "outputs": [
    {
     "name": "stdout",
     "output_type": "stream",
     "text": [
      "3.6.7 |Anaconda, Inc.| (default, Oct 23 2018, 19:16:44) \n",
      "[GCC 7.3.0]\n",
      "pandas 0.23.4\n",
      "numpy 1.13.3\n",
      "sqlite3 2.6.0\n"
     ]
    }
   ],
   "source": [
    "import os\n",
    "import sys\n",
    "print(sys.version)\n",
    "import h5py\n",
    "import pandas\n",
    "print('pandas',pandas.__version__)\n",
    "import numpy\n",
    "print('numpy',numpy.__version__)\n",
    "import sqlite3\n",
    "print('sqlite3',sqlite3.version)\n",
    "import pickle\n",
    "from faker import Faker\n",
    "fake = Faker()\n",
    "import time"
   ]
  },
  {
   "cell_type": "markdown",
   "metadata": {},
   "source": [
    "# create a couple dataframes to save"
   ]
  },
  {
   "cell_type": "code",
   "execution_count": 3,
   "metadata": {},
   "outputs": [
    {
     "name": "stdout",
     "output_type": "stream",
     "text": [
      "(1000000, 4)\n"
     ]
    },
    {
     "data": {
      "text/html": [
       "<div>\n",
       "<style scoped>\n",
       "    .dataframe tbody tr th:only-of-type {\n",
       "        vertical-align: middle;\n",
       "    }\n",
       "\n",
       "    .dataframe tbody tr th {\n",
       "        vertical-align: top;\n",
       "    }\n",
       "\n",
       "    .dataframe thead th {\n",
       "        text-align: right;\n",
       "    }\n",
       "</style>\n",
       "<table border=\"1\" class=\"dataframe\">\n",
       "  <thead>\n",
       "    <tr style=\"text-align: right;\">\n",
       "      <th></th>\n",
       "      <th>A</th>\n",
       "      <th>B</th>\n",
       "      <th>C</th>\n",
       "      <th>D</th>\n",
       "    </tr>\n",
       "  </thead>\n",
       "  <tbody>\n",
       "    <tr>\n",
       "      <th>0</th>\n",
       "      <td>890</td>\n",
       "      <td>539</td>\n",
       "      <td>167</td>\n",
       "      <td>836</td>\n",
       "    </tr>\n",
       "    <tr>\n",
       "      <th>1</th>\n",
       "      <td>662</td>\n",
       "      <td>278</td>\n",
       "      <td>482</td>\n",
       "      <td>730</td>\n",
       "    </tr>\n",
       "    <tr>\n",
       "      <th>2</th>\n",
       "      <td>62</td>\n",
       "      <td>201</td>\n",
       "      <td>204</td>\n",
       "      <td>770</td>\n",
       "    </tr>\n",
       "    <tr>\n",
       "      <th>3</th>\n",
       "      <td>323</td>\n",
       "      <td>883</td>\n",
       "      <td>849</td>\n",
       "      <td>970</td>\n",
       "    </tr>\n",
       "    <tr>\n",
       "      <th>4</th>\n",
       "      <td>89</td>\n",
       "      <td>323</td>\n",
       "      <td>926</td>\n",
       "      <td>963</td>\n",
       "    </tr>\n",
       "  </tbody>\n",
       "</table>\n",
       "</div>"
      ],
      "text/plain": [
       "     A    B    C    D\n",
       "0  890  539  167  836\n",
       "1  662  278  482  730\n",
       "2   62  201  204  770\n",
       "3  323  883  849  970\n",
       "4   89  323  926  963"
      ]
     },
     "execution_count": 3,
     "metadata": {},
     "output_type": "execute_result"
    }
   ],
   "source": [
    "row_count=1000000\n",
    "df_numeric = pandas.DataFrame(numpy.random.randint(0,1000,\n",
    "                      size=(row_count, 4)), \n",
    "                      columns=list('ABCD'))\n",
    "\n",
    "print(df_numeric.shape)\n",
    "\n",
    "df_numeric.head()"
   ]
  },
  {
   "cell_type": "code",
   "execution_count": 4,
   "metadata": {},
   "outputs": [
    {
     "name": "stdout",
     "output_type": "stream",
     "text": [
      "elapsed 20.32 seconds\n"
     ]
    },
    {
     "data": {
      "text/html": [
       "<div>\n",
       "<style scoped>\n",
       "    .dataframe tbody tr th:only-of-type {\n",
       "        vertical-align: middle;\n",
       "    }\n",
       "\n",
       "    .dataframe tbody tr th {\n",
       "        vertical-align: top;\n",
       "    }\n",
       "\n",
       "    .dataframe thead th {\n",
       "        text-align: right;\n",
       "    }\n",
       "</style>\n",
       "<table border=\"1\" class=\"dataframe\">\n",
       "  <thead>\n",
       "    <tr style=\"text-align: right;\">\n",
       "      <th></th>\n",
       "      <th>bank</th>\n",
       "      <th>city</th>\n",
       "      <th>company</th>\n",
       "      <th>country</th>\n",
       "      <th>date</th>\n",
       "      <th>day of month</th>\n",
       "      <th>day of week</th>\n",
       "      <th>domain name</th>\n",
       "      <th>email</th>\n",
       "      <th>name</th>\n",
       "    </tr>\n",
       "  </thead>\n",
       "  <tbody>\n",
       "    <tr>\n",
       "      <th>0</th>\n",
       "      <td>GB</td>\n",
       "      <td>Paigeport</td>\n",
       "      <td>Johnson-Shaw</td>\n",
       "      <td>Burkina Faso</td>\n",
       "      <td>1994-10-14</td>\n",
       "      <td>02</td>\n",
       "      <td>Saturday</td>\n",
       "      <td>garcia.com</td>\n",
       "      <td>pwong@rodriguez.info</td>\n",
       "      <td>Daniel Bartlett</td>\n",
       "    </tr>\n",
       "    <tr>\n",
       "      <th>1</th>\n",
       "      <td>GB</td>\n",
       "      <td>West Phillipfurt</td>\n",
       "      <td>Ramirez-Neal</td>\n",
       "      <td>Heard Island and McDonald Islands</td>\n",
       "      <td>2011-05-08</td>\n",
       "      <td>03</td>\n",
       "      <td>Monday</td>\n",
       "      <td>hicks-moran.com</td>\n",
       "      <td>kwarren@gmail.com</td>\n",
       "      <td>Angela Johnson</td>\n",
       "    </tr>\n",
       "    <tr>\n",
       "      <th>2</th>\n",
       "      <td>GB</td>\n",
       "      <td>New Cheryl</td>\n",
       "      <td>Phillips-Guzman</td>\n",
       "      <td>Argentina</td>\n",
       "      <td>1971-09-21</td>\n",
       "      <td>15</td>\n",
       "      <td>Saturday</td>\n",
       "      <td>woods.com</td>\n",
       "      <td>stevenchung@hotmail.com</td>\n",
       "      <td>Michael White</td>\n",
       "    </tr>\n",
       "    <tr>\n",
       "      <th>3</th>\n",
       "      <td>GB</td>\n",
       "      <td>Port Anthony</td>\n",
       "      <td>Pena, Berry and Villa</td>\n",
       "      <td>Antigua and Barbuda</td>\n",
       "      <td>1988-12-12</td>\n",
       "      <td>02</td>\n",
       "      <td>Monday</td>\n",
       "      <td>lynn-payne.com</td>\n",
       "      <td>andrew67@lee-terrell.com</td>\n",
       "      <td>Eugene Hernandez</td>\n",
       "    </tr>\n",
       "    <tr>\n",
       "      <th>4</th>\n",
       "      <td>GB</td>\n",
       "      <td>Gilbertside</td>\n",
       "      <td>Morales-Smith</td>\n",
       "      <td>Kuwait</td>\n",
       "      <td>2010-08-11</td>\n",
       "      <td>23</td>\n",
       "      <td>Wednesday</td>\n",
       "      <td>krause.com</td>\n",
       "      <td>brobinson@flynn.com</td>\n",
       "      <td>Kelly Young</td>\n",
       "    </tr>\n",
       "  </tbody>\n",
       "</table>\n",
       "</div>"
      ],
      "text/plain": [
       "  bank              city                company  \\\n",
       "0   GB         Paigeport           Johnson-Shaw   \n",
       "1   GB  West Phillipfurt           Ramirez-Neal   \n",
       "2   GB        New Cheryl        Phillips-Guzman   \n",
       "3   GB      Port Anthony  Pena, Berry and Villa   \n",
       "4   GB       Gilbertside          Morales-Smith   \n",
       "\n",
       "                             country        date day of month day of week  \\\n",
       "0                       Burkina Faso  1994-10-14           02    Saturday   \n",
       "1  Heard Island and McDonald Islands  2011-05-08           03      Monday   \n",
       "2                          Argentina  1971-09-21           15    Saturday   \n",
       "3                Antigua and Barbuda  1988-12-12           02      Monday   \n",
       "4                             Kuwait  2010-08-11           23   Wednesday   \n",
       "\n",
       "       domain name                     email              name  \n",
       "0       garcia.com      pwong@rodriguez.info   Daniel Bartlett  \n",
       "1  hicks-moran.com         kwarren@gmail.com    Angela Johnson  \n",
       "2        woods.com   stevenchung@hotmail.com     Michael White  \n",
       "3   lynn-payne.com  andrew67@lee-terrell.com  Eugene Hernandez  \n",
       "4       krause.com       brobinson@flynn.com       Kelly Young  "
      ]
     },
     "execution_count": 4,
     "metadata": {},
     "output_type": "execute_result"
    }
   ],
   "source": [
    "start_time=time.time()\n",
    "list_of_dicts=[]\n",
    "num_rows=8500 # 850 is ~1MB CSV and takes 1.5 seconds; 8500 takes 15 seconds\n",
    "for indx in range(num_rows):\n",
    "    list_of_dicts.append({'name':fake.name(),\n",
    "                    'date':fake.date(),\n",
    "                    'domain name':fake.domain_name(),\n",
    "                    'day of month':fake.day_of_month(),\n",
    "                    'day of week':fake.day_of_week(),\n",
    "                    'country':fake.country(),\n",
    "                    'company':fake.company(),\n",
    "                    'city':fake.city(),\n",
    "                    'email':fake.ascii_email(),\n",
    "                    'bank':fake.bank_country()})\n",
    "    \n",
    "df_text = pandas.DataFrame(list_of_dicts)\n",
    "\n",
    "print('elapsed',round(time.time()-start_time,2),'seconds')\n",
    "df_text.head()"
   ]
  },
  {
   "cell_type": "markdown",
   "metadata": {},
   "source": [
    "# compare size of disk for single dataframe "
   ]
  },
  {
   "cell_type": "markdown",
   "metadata": {},
   "source": [
    "## HDF5\n",
    "HDF overview:\n",
    "\n",
    "https://en.wikipedia.org/wiki/Hierarchical_Data_Format\n",
    "\n",
    "Python package:\n",
    "\n",
    "https://www.h5py.org/<BR>\n",
    "http://docs.h5py.org/en/stable/\n",
    "\n",
    "Pandas integration:\n",
    "\n",
    "https://glowingpython.blogspot.com/2014/08/quick-hdf5-with-pandas.html<BR>\n",
    "https://stackoverflow.com/questions/28170623/how-to-read-hdf5-files-in-python<BR>\n",
    "https://medium.com/@jerilkuriakose/using-hdf5-with-python-6c5242d08773<BR>\n",
    "https://pandas.pydata.org/pandas-docs/stable/user_guide/io.html"
   ]
  },
  {
   "cell_type": "code",
   "execution_count": 5,
   "metadata": {},
   "outputs": [],
   "source": [
    "# https://stackoverflow.com/questions/41173254/how-should-i-use-h5py-lib-for-storing-time-series-data\n",
    "\n",
    "with pandas.HDFStore('temp.h5', 'w') as h:\n",
    "    df_numeric.to_hdf(h, 'temp') # https://pandas.pydata.org/pandas-docs/stable/reference/api/pandas.DataFrame.to_hdf.html"
   ]
  },
  {
   "cell_type": "code",
   "execution_count": 6,
   "metadata": {},
   "outputs": [
    {
     "name": "stdout",
     "output_type": "stream",
     "text": [
      "38.15387725830078 MB file on disk\n"
     ]
    }
   ],
   "source": [
    "print(os.path.getsize(\"temp.h5\")/(1024*1024),'MB file on disk')"
   ]
  },
  {
   "cell_type": "markdown",
   "metadata": {},
   "source": [
    "to read the content, use"
   ]
  },
  {
   "cell_type": "code",
   "execution_count": 7,
   "metadata": {},
   "outputs": [],
   "source": [
    "df_out = pandas.read_hdf('temp.h5', 'temp')"
   ]
  },
  {
   "cell_type": "markdown",
   "metadata": {},
   "source": [
    "## compare to CSV on disk"
   ]
  },
  {
   "cell_type": "code",
   "execution_count": 8,
   "metadata": {},
   "outputs": [],
   "source": [
    "df_numeric.to_csv('temp.csv')"
   ]
  },
  {
   "cell_type": "code",
   "execution_count": 9,
   "metadata": {},
   "outputs": [
    {
     "name": "stdout",
     "output_type": "stream",
     "text": [
      "21.40812110900879 MB file on disk\n"
     ]
    }
   ],
   "source": [
    "print(os.path.getsize(\"temp.csv\")/(1024*1024),'MB file on disk')"
   ]
  },
  {
   "cell_type": "markdown",
   "metadata": {},
   "source": [
    "## compare to SQLite\n",
    "\n",
    "https://www.dataquest.io/blog/python-pandas-databases/<BR>\n",
    "https://stackoverflow.com/questions/14431646/how-to-write-pandas-dataframe-to-sqlite-with-index<BR>\n",
    "https://pythonspot.com/sqlite-database-with-pandas/<BR>\n",
    "https://datacarpentry.org/python-ecology-lesson/09-working-with-sql/index.html<BR>\n",
    "http://sdsawtelle.github.io/blog/output/large-data-files-pandas-sqlite.html"
   ]
  },
  {
   "cell_type": "code",
   "execution_count": 10,
   "metadata": {},
   "outputs": [],
   "source": [
    "conn = sqlite3.connect(\"temp.db\")\n",
    "cur = conn.cursor() # https://docs.python.org/3/library/sqlite3.html#cursor-objects"
   ]
  },
  {
   "cell_type": "code",
   "execution_count": 11,
   "metadata": {},
   "outputs": [],
   "source": [
    "# https://pandas.pydata.org/pandas-docs/stable/reference/api/pandas.DataFrame.to_sql.html\n",
    "\n",
    "df_numeric.to_sql(name=\"data\", con=conn, if_exists=\"append\", index=False)"
   ]
  },
  {
   "cell_type": "code",
   "execution_count": 12,
   "metadata": {},
   "outputs": [
    {
     "name": "stdout",
     "output_type": "stream",
     "text": [
      "74.859375 MB file on disk\n"
     ]
    }
   ],
   "source": [
    "print(os.path.getsize(\"temp.db\")/(1024*1024),'MB file on disk')"
   ]
  },
  {
   "cell_type": "markdown",
   "metadata": {},
   "source": [
    "## Python pickle serialization"
   ]
  },
  {
   "cell_type": "code",
   "execution_count": 13,
   "metadata": {},
   "outputs": [],
   "source": [
    "df_numeric.to_pickle(\"temp.pkl\")"
   ]
  },
  {
   "cell_type": "code",
   "execution_count": 14,
   "metadata": {},
   "outputs": [
    {
     "name": "stdout",
     "output_type": "stream",
     "text": [
      "30.518251419067383 MB file on disk\n"
     ]
    }
   ],
   "source": [
    "print(os.path.getsize(\"temp.pkl\")/(1024*1024),'MB file on disk')"
   ]
  },
  {
   "cell_type": "markdown",
   "metadata": {},
   "source": [
    "# save two dataframes to file"
   ]
  },
  {
   "cell_type": "markdown",
   "metadata": {},
   "source": [
    "## HDF5\n",
    "\n",
    "https://datascience.stackexchange.com/questions/33171/what-s-the-best-way-to-save-many-pandas-dataframes-together"
   ]
  },
  {
   "cell_type": "code",
   "execution_count": 15,
   "metadata": {},
   "outputs": [],
   "source": [
    "h5_fout = h5py.File('temp.h5')\n",
    "\n",
    "h5_fout.create_dataset(\n",
    "        name='numeric',\n",
    "        data=df_numeric,\n",
    "        compression='gzip', compression_opts=4)\n",
    "\n",
    "h5_fout.create_dataset(\n",
    "        name='text',\n",
    "        data=df_text,\n",
    "        compression='gzip', compression_opts=4,\n",
    "        dtype=h5py.special_dtype(vlen=str)) # http://docs.h5py.org/en/stable/special.html\n",
    "\n",
    "h5_fout.create_dataset('description', data='some dataframes')\n",
    "h5_fout.close()"
   ]
  },
  {
   "cell_type": "code",
   "execution_count": null,
   "metadata": {},
   "outputs": [],
   "source": []
  },
  {
   "cell_type": "markdown",
   "metadata": {},
   "source": [
    "## Python pickle serialization"
   ]
  },
  {
   "cell_type": "code",
   "execution_count": 16,
   "metadata": {},
   "outputs": [],
   "source": [
    "with open('temp.pkl', \"wb\") as f:\n",
    "    pickle.dump(df_text, f)\n",
    "    pickle.dump(df_numeric, f)"
   ]
  },
  {
   "cell_type": "code",
   "execution_count": 17,
   "metadata": {},
   "outputs": [
    {
     "name": "stdout",
     "output_type": "stream",
     "text": [
      "32.00189971923828 MB file on disk\n"
     ]
    }
   ],
   "source": [
    "print(os.path.getsize(\"temp.pkl\")/(1024*1024),'MB file on disk')"
   ]
  },
  {
   "cell_type": "code",
   "execution_count": 18,
   "metadata": {},
   "outputs": [],
   "source": [
    "# https://stackoverflow.com/questions/20716812/saving-and-loading-multiple-objects-in-pickle-file\n",
    "def loadall(filename):\n",
    "    with open(filename, \"rb\") as f:\n",
    "        while True:\n",
    "            try:\n",
    "                yield pickle.load(f)\n",
    "            except EOFError:\n",
    "                break"
   ]
  },
  {
   "cell_type": "code",
   "execution_count": 19,
   "metadata": {},
   "outputs": [],
   "source": [
    "items = list(loadall('temp.pkl'))"
   ]
  },
  {
   "cell_type": "code",
   "execution_count": 20,
   "metadata": {},
   "outputs": [
    {
     "data": {
      "text/plain": [
       "2"
      ]
     },
     "execution_count": 20,
     "metadata": {},
     "output_type": "execute_result"
    }
   ],
   "source": [
    "len(items)"
   ]
  },
  {
   "cell_type": "code",
   "execution_count": 21,
   "metadata": {},
   "outputs": [
    {
     "data": {
      "text/html": [
       "<div>\n",
       "<style scoped>\n",
       "    .dataframe tbody tr th:only-of-type {\n",
       "        vertical-align: middle;\n",
       "    }\n",
       "\n",
       "    .dataframe tbody tr th {\n",
       "        vertical-align: top;\n",
       "    }\n",
       "\n",
       "    .dataframe thead th {\n",
       "        text-align: right;\n",
       "    }\n",
       "</style>\n",
       "<table border=\"1\" class=\"dataframe\">\n",
       "  <thead>\n",
       "    <tr style=\"text-align: right;\">\n",
       "      <th></th>\n",
       "      <th>bank</th>\n",
       "      <th>city</th>\n",
       "      <th>company</th>\n",
       "      <th>country</th>\n",
       "      <th>date</th>\n",
       "      <th>day of month</th>\n",
       "      <th>day of week</th>\n",
       "      <th>domain name</th>\n",
       "      <th>email</th>\n",
       "      <th>name</th>\n",
       "    </tr>\n",
       "  </thead>\n",
       "  <tbody>\n",
       "    <tr>\n",
       "      <th>0</th>\n",
       "      <td>GB</td>\n",
       "      <td>Paigeport</td>\n",
       "      <td>Johnson-Shaw</td>\n",
       "      <td>Burkina Faso</td>\n",
       "      <td>1994-10-14</td>\n",
       "      <td>02</td>\n",
       "      <td>Saturday</td>\n",
       "      <td>garcia.com</td>\n",
       "      <td>pwong@rodriguez.info</td>\n",
       "      <td>Daniel Bartlett</td>\n",
       "    </tr>\n",
       "    <tr>\n",
       "      <th>1</th>\n",
       "      <td>GB</td>\n",
       "      <td>West Phillipfurt</td>\n",
       "      <td>Ramirez-Neal</td>\n",
       "      <td>Heard Island and McDonald Islands</td>\n",
       "      <td>2011-05-08</td>\n",
       "      <td>03</td>\n",
       "      <td>Monday</td>\n",
       "      <td>hicks-moran.com</td>\n",
       "      <td>kwarren@gmail.com</td>\n",
       "      <td>Angela Johnson</td>\n",
       "    </tr>\n",
       "    <tr>\n",
       "      <th>2</th>\n",
       "      <td>GB</td>\n",
       "      <td>New Cheryl</td>\n",
       "      <td>Phillips-Guzman</td>\n",
       "      <td>Argentina</td>\n",
       "      <td>1971-09-21</td>\n",
       "      <td>15</td>\n",
       "      <td>Saturday</td>\n",
       "      <td>woods.com</td>\n",
       "      <td>stevenchung@hotmail.com</td>\n",
       "      <td>Michael White</td>\n",
       "    </tr>\n",
       "    <tr>\n",
       "      <th>3</th>\n",
       "      <td>GB</td>\n",
       "      <td>Port Anthony</td>\n",
       "      <td>Pena, Berry and Villa</td>\n",
       "      <td>Antigua and Barbuda</td>\n",
       "      <td>1988-12-12</td>\n",
       "      <td>02</td>\n",
       "      <td>Monday</td>\n",
       "      <td>lynn-payne.com</td>\n",
       "      <td>andrew67@lee-terrell.com</td>\n",
       "      <td>Eugene Hernandez</td>\n",
       "    </tr>\n",
       "    <tr>\n",
       "      <th>4</th>\n",
       "      <td>GB</td>\n",
       "      <td>Gilbertside</td>\n",
       "      <td>Morales-Smith</td>\n",
       "      <td>Kuwait</td>\n",
       "      <td>2010-08-11</td>\n",
       "      <td>23</td>\n",
       "      <td>Wednesday</td>\n",
       "      <td>krause.com</td>\n",
       "      <td>brobinson@flynn.com</td>\n",
       "      <td>Kelly Young</td>\n",
       "    </tr>\n",
       "  </tbody>\n",
       "</table>\n",
       "</div>"
      ],
      "text/plain": [
       "  bank              city                company  \\\n",
       "0   GB         Paigeport           Johnson-Shaw   \n",
       "1   GB  West Phillipfurt           Ramirez-Neal   \n",
       "2   GB        New Cheryl        Phillips-Guzman   \n",
       "3   GB      Port Anthony  Pena, Berry and Villa   \n",
       "4   GB       Gilbertside          Morales-Smith   \n",
       "\n",
       "                             country        date day of month day of week  \\\n",
       "0                       Burkina Faso  1994-10-14           02    Saturday   \n",
       "1  Heard Island and McDonald Islands  2011-05-08           03      Monday   \n",
       "2                          Argentina  1971-09-21           15    Saturday   \n",
       "3                Antigua and Barbuda  1988-12-12           02      Monday   \n",
       "4                             Kuwait  2010-08-11           23   Wednesday   \n",
       "\n",
       "       domain name                     email              name  \n",
       "0       garcia.com      pwong@rodriguez.info   Daniel Bartlett  \n",
       "1  hicks-moran.com         kwarren@gmail.com    Angela Johnson  \n",
       "2        woods.com   stevenchung@hotmail.com     Michael White  \n",
       "3   lynn-payne.com  andrew67@lee-terrell.com  Eugene Hernandez  \n",
       "4       krause.com       brobinson@flynn.com       Kelly Young  "
      ]
     },
     "execution_count": 21,
     "metadata": {},
     "output_type": "execute_result"
    }
   ],
   "source": [
    "items[0].head()"
   ]
  },
  {
   "cell_type": "code",
   "execution_count": 22,
   "metadata": {},
   "outputs": [
    {
     "data": {
      "text/html": [
       "<div>\n",
       "<style scoped>\n",
       "    .dataframe tbody tr th:only-of-type {\n",
       "        vertical-align: middle;\n",
       "    }\n",
       "\n",
       "    .dataframe tbody tr th {\n",
       "        vertical-align: top;\n",
       "    }\n",
       "\n",
       "    .dataframe thead th {\n",
       "        text-align: right;\n",
       "    }\n",
       "</style>\n",
       "<table border=\"1\" class=\"dataframe\">\n",
       "  <thead>\n",
       "    <tr style=\"text-align: right;\">\n",
       "      <th></th>\n",
       "      <th>A</th>\n",
       "      <th>B</th>\n",
       "      <th>C</th>\n",
       "      <th>D</th>\n",
       "    </tr>\n",
       "  </thead>\n",
       "  <tbody>\n",
       "    <tr>\n",
       "      <th>0</th>\n",
       "      <td>890</td>\n",
       "      <td>539</td>\n",
       "      <td>167</td>\n",
       "      <td>836</td>\n",
       "    </tr>\n",
       "    <tr>\n",
       "      <th>1</th>\n",
       "      <td>662</td>\n",
       "      <td>278</td>\n",
       "      <td>482</td>\n",
       "      <td>730</td>\n",
       "    </tr>\n",
       "    <tr>\n",
       "      <th>2</th>\n",
       "      <td>62</td>\n",
       "      <td>201</td>\n",
       "      <td>204</td>\n",
       "      <td>770</td>\n",
       "    </tr>\n",
       "    <tr>\n",
       "      <th>3</th>\n",
       "      <td>323</td>\n",
       "      <td>883</td>\n",
       "      <td>849</td>\n",
       "      <td>970</td>\n",
       "    </tr>\n",
       "    <tr>\n",
       "      <th>4</th>\n",
       "      <td>89</td>\n",
       "      <td>323</td>\n",
       "      <td>926</td>\n",
       "      <td>963</td>\n",
       "    </tr>\n",
       "  </tbody>\n",
       "</table>\n",
       "</div>"
      ],
      "text/plain": [
       "     A    B    C    D\n",
       "0  890  539  167  836\n",
       "1  662  278  482  730\n",
       "2   62  201  204  770\n",
       "3  323  883  849  970\n",
       "4   89  323  926  963"
      ]
     },
     "execution_count": 22,
     "metadata": {},
     "output_type": "execute_result"
    }
   ],
   "source": [
    "items[1].head()"
   ]
  },
  {
   "cell_type": "code",
   "execution_count": null,
   "metadata": {},
   "outputs": [],
   "source": []
  }
 ],
 "metadata": {
  "kernelspec": {
   "display_name": "Python 3",
   "language": "python",
   "name": "python3"
  },
  "language_info": {
   "codemirror_mode": {
    "name": "ipython",
    "version": 3
   },
   "file_extension": ".py",
   "mimetype": "text/x-python",
   "name": "python",
   "nbconvert_exporter": "python",
   "pygments_lexer": "ipython3",
   "version": "3.6.7"
  }
 },
 "nbformat": 4,
 "nbformat_minor": 2
}
