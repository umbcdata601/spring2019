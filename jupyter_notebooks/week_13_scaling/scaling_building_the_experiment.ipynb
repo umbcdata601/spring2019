{
 "cells": [
  {
   "cell_type": "markdown",
   "metadata": {},
   "source": [
    "# measure the scaling of applying a function to dataframes which vary in size"
   ]
  },
  {
   "cell_type": "markdown",
   "metadata": {},
   "source": [
    "import python modules used in this notebook"
   ]
  },
  {
   "cell_type": "code",
   "execution_count": 1,
   "metadata": {},
   "outputs": [],
   "source": [
    "import pandas\n",
    "import numpy\n",
    "import pickle\n",
    "import matplotlib.pyplot as plt\n",
    "import time"
   ]
  },
  {
   "cell_type": "markdown",
   "metadata": {},
   "source": [
    "# First I'm going to show the outcome"
   ]
  },
  {
   "cell_type": "markdown",
   "metadata": {},
   "source": [
    "create a function that doubles the value of column 'A'"
   ]
  },
  {
   "cell_type": "code",
   "execution_count": 30,
   "metadata": {},
   "outputs": [],
   "source": [
    "def double_col_a(row):\n",
    "    row_as_dict=dict(row)\n",
    "    return row_as_dict['A']*2"
   ]
  },
  {
   "cell_type": "markdown",
   "metadata": {},
   "source": [
    "To measure how well this scales, run 5 tests for a dataframe with 100 rows, then run 5 tests for a dataframe with 1000 rows, and finally run 5 tests for a dataframe with 10,000 rows."
   ]
  },
  {
   "cell_type": "code",
   "execution_count": 3,
   "metadata": {},
   "outputs": [],
   "source": [
    "number_of_tests=5\n",
    "list_of_row_size=[100, 1000, 10000]"
   ]
  },
  {
   "cell_type": "markdown",
   "metadata": {},
   "source": [
    "These nested loops implement the scaling experiment"
   ]
  },
  {
   "cell_type": "code",
   "execution_count": 4,
   "metadata": {},
   "outputs": [
    {
     "name": "stdout",
     "output_type": "stream",
     "text": [
      "elapsed time: 0.24 for 100\n",
      "elapsed time: 1.88 for 1000\n",
      "elapsed time: 13.88 for 10000\n"
     ]
    }
   ],
   "source": [
    "serial_reslts={}\n",
    "scaling_start=time.time()\n",
    "for row_count in list_of_row_size:\n",
    "    test_reslts=[]\n",
    "    for test_indx in range(number_of_tests): # run the same experiment multiple times \n",
    "        # create a dataframe with random content of a specified size\n",
    "        # this isn't the section relevant to the scaling measurement, so timing isn't performed\n",
    "        df = pandas.DataFrame(\n",
    "                numpy.random.randint(0,1000,\n",
    "                                     size=(row_count, 4)), \n",
    "                                     columns=list('ABCD'))\n",
    "        # wrap the line of the code we are measuring with timing \n",
    "        start_time = time.time()\n",
    "        df['K'] = df.apply(double_col_a,axis=1)\n",
    "        test_reslts.append(time.time() - start_time) # store elapsed time to a list\n",
    "\n",
    "    # after running the experiment multiple times, record the average result to a dictionary\n",
    "    serial_reslts[row_count]=sum(test_reslts)/number_of_tests\n",
    "    \n",
    "    # progress indicator as we scale up\n",
    "    print('elapsed time:',round(time.time() - scaling_start,2),'for',row_count)"
   ]
  },
  {
   "cell_type": "markdown",
   "metadata": {},
   "source": [
    "The results from the experiment are stored in a dictionary. I've already averaged the measurements from the 10 runs."
   ]
  },
  {
   "cell_type": "code",
   "execution_count": 5,
   "metadata": {},
   "outputs": [
    {
     "data": {
      "text/plain": [
       "{100: 0.03839840888977051, 1000: 0.3283876419067383, 10000: 2.397320032119751}"
      ]
     },
     "execution_count": 5,
     "metadata": {},
     "output_type": "execute_result"
    }
   ],
   "source": [
    "serial_reslts"
   ]
  },
  {
   "cell_type": "markdown",
   "metadata": {},
   "source": [
    "Plot the data to see linear scaling. I've included a linear fit of the data points."
   ]
  },
  {
   "cell_type": "code",
   "execution_count": 6,
   "metadata": {},
   "outputs": [
    {
     "data": {
      "image/png": "[encoded data removed]",
      "text/plain": [
       "<Figure size 432x288 with 1 Axes>"
      ]
     },
     "metadata": {
      "needs_background": "light"
     },
     "output_type": "display_data"
    }
   ],
   "source": [
    "serial_x = list(serial_reslts.keys()) # list_of_row_size\n",
    "serial_y = list(serial_reslts.values())\n",
    "_=plt.scatter(serial_x,serial_y,color='blue')\n",
    "_=plt.ylabel('average time in seconds',fontsize=14)\n",
    "_=plt.xlabel('number of rows in dataframe',fontsize=14)\n",
    "\n",
    "_=plt.plot(numpy.unique(serial_x), numpy.poly1d(numpy.polyfit(serial_x, serial_y, 1))(numpy.unique(serial_x))) # https://stackoverflow.com/questions/22239691/code-for-line-of-best-fit-of-a-scatter-plot-in-python"
   ]
  },
  {
   "cell_type": "markdown",
   "metadata": {},
   "source": [
    "# Now I show how I created that code through iterative development"
   ]
  },
  {
   "cell_type": "markdown",
   "metadata": {},
   "source": [
    "The `time.time()` command show what time it is in seconds since 12:00 am on January 1, 1970. This specific time is called \"epoch.\" For more on that, see \n",
    "\n",
    "https://en.wikipedia.org/wiki/Epoch_(reference_date)#Computing\n",
    "\n",
    "https://en.wikipedia.org/wiki/Unix_time\n",
    "\n",
    "https://stackoverflow.com/questions/2533563/why-are-dates-calculated-from-january-1st-1970/2533567"
   ]
  },
  {
   "cell_type": "code",
   "execution_count": 7,
   "metadata": {},
   "outputs": [
    {
     "data": {
      "text/plain": [
       "1556155269.5596545"
      ]
     },
     "execution_count": 7,
     "metadata": {},
     "output_type": "execute_result"
    }
   ],
   "source": [
    "time.time()"
   ]
  },
  {
   "cell_type": "markdown",
   "metadata": {},
   "source": [
    "create a dataframe with randomly populated integers"
   ]
  },
  {
   "cell_type": "code",
   "execution_count": 8,
   "metadata": {},
   "outputs": [
    {
     "name": "stdout",
     "output_type": "stream",
     "text": [
      "cell elapsed: 0.0 seconds\n"
     ]
    }
   ],
   "source": [
    "start_time=time.time()\n",
    "row_count=10000\n",
    "df = pandas.DataFrame(numpy.random.randint(0,1000,\n",
    "                                           size=(row_count, 4)), \n",
    "                                           columns=list('ABCD'))\n",
    "print('cell elapsed:',round(time.time()-start_time,2),'seconds')"
   ]
  },
  {
   "cell_type": "code",
   "execution_count": 9,
   "metadata": {},
   "outputs": [
    {
     "data": {
      "text/plain": [
       "(10000, 4)"
      ]
     },
     "execution_count": 9,
     "metadata": {},
     "output_type": "execute_result"
    }
   ],
   "source": [
    "df.shape"
   ]
  },
  {
   "cell_type": "code",
   "execution_count": 10,
   "metadata": {},
   "outputs": [
    {
     "data": {
      "text/html": [
       "<div>\n",
       "<style scoped>\n",
       "    .dataframe tbody tr th:only-of-type {\n",
       "        vertical-align: middle;\n",
       "    }\n",
       "\n",
       "    .dataframe tbody tr th {\n",
       "        vertical-align: top;\n",
       "    }\n",
       "\n",
       "    .dataframe thead th {\n",
       "        text-align: right;\n",
       "    }\n",
       "</style>\n",
       "<table border=\"1\" class=\"dataframe\">\n",
       "  <thead>\n",
       "    <tr style=\"text-align: right;\">\n",
       "      <th></th>\n",
       "      <th>A</th>\n",
       "      <th>B</th>\n",
       "      <th>C</th>\n",
       "      <th>D</th>\n",
       "    </tr>\n",
       "  </thead>\n",
       "  <tbody>\n",
       "    <tr>\n",
       "      <th>0</th>\n",
       "      <td>763</td>\n",
       "      <td>456</td>\n",
       "      <td>359</td>\n",
       "      <td>768</td>\n",
       "    </tr>\n",
       "    <tr>\n",
       "      <th>1</th>\n",
       "      <td>394</td>\n",
       "      <td>140</td>\n",
       "      <td>58</td>\n",
       "      <td>510</td>\n",
       "    </tr>\n",
       "    <tr>\n",
       "      <th>2</th>\n",
       "      <td>796</td>\n",
       "      <td>212</td>\n",
       "      <td>628</td>\n",
       "      <td>950</td>\n",
       "    </tr>\n",
       "    <tr>\n",
       "      <th>3</th>\n",
       "      <td>47</td>\n",
       "      <td>881</td>\n",
       "      <td>354</td>\n",
       "      <td>772</td>\n",
       "    </tr>\n",
       "    <tr>\n",
       "      <th>4</th>\n",
       "      <td>695</td>\n",
       "      <td>93</td>\n",
       "      <td>921</td>\n",
       "      <td>793</td>\n",
       "    </tr>\n",
       "  </tbody>\n",
       "</table>\n",
       "</div>"
      ],
      "text/plain": [
       "     A    B    C    D\n",
       "0  763  456  359  768\n",
       "1  394  140   58  510\n",
       "2  796  212  628  950\n",
       "3   47  881  354  772\n",
       "4  695   93  921  793"
      ]
     },
     "execution_count": 10,
     "metadata": {},
     "output_type": "execute_result"
    }
   ],
   "source": [
    "df.head()"
   ]
  },
  {
   "cell_type": "markdown",
   "metadata": {},
   "source": [
    "Given a dataframe with numeric values, I create a simple function that can operate on the rows"
   ]
  },
  {
   "cell_type": "code",
   "execution_count": 11,
   "metadata": {},
   "outputs": [],
   "source": [
    "def double_col_a(row):\n",
    "    row_as_dict=dict(row)\n",
    "    return row_as_dict['A']*2"
   ]
  },
  {
   "cell_type": "markdown",
   "metadata": {},
   "source": [
    "To use the function, "
   ]
  },
  {
   "cell_type": "code",
   "execution_count": 12,
   "metadata": {},
   "outputs": [],
   "source": [
    "df['K'] = df.apply(double_col_a,axis=1)"
   ]
  },
  {
   "cell_type": "markdown",
   "metadata": {},
   "source": [
    "The shape of the dataframe should be different because a new colum was added"
   ]
  },
  {
   "cell_type": "code",
   "execution_count": 13,
   "metadata": {},
   "outputs": [
    {
     "data": {
      "text/plain": [
       "(10000, 5)"
      ]
     },
     "execution_count": 13,
     "metadata": {},
     "output_type": "execute_result"
    }
   ],
   "source": [
    "df.shape"
   ]
  },
  {
   "cell_type": "code",
   "execution_count": 14,
   "metadata": {},
   "outputs": [
    {
     "data": {
      "text/html": [
       "<div>\n",
       "<style scoped>\n",
       "    .dataframe tbody tr th:only-of-type {\n",
       "        vertical-align: middle;\n",
       "    }\n",
       "\n",
       "    .dataframe tbody tr th {\n",
       "        vertical-align: top;\n",
       "    }\n",
       "\n",
       "    .dataframe thead th {\n",
       "        text-align: right;\n",
       "    }\n",
       "</style>\n",
       "<table border=\"1\" class=\"dataframe\">\n",
       "  <thead>\n",
       "    <tr style=\"text-align: right;\">\n",
       "      <th></th>\n",
       "      <th>A</th>\n",
       "      <th>B</th>\n",
       "      <th>C</th>\n",
       "      <th>D</th>\n",
       "      <th>K</th>\n",
       "    </tr>\n",
       "  </thead>\n",
       "  <tbody>\n",
       "    <tr>\n",
       "      <th>0</th>\n",
       "      <td>763</td>\n",
       "      <td>456</td>\n",
       "      <td>359</td>\n",
       "      <td>768</td>\n",
       "      <td>1526</td>\n",
       "    </tr>\n",
       "    <tr>\n",
       "      <th>1</th>\n",
       "      <td>394</td>\n",
       "      <td>140</td>\n",
       "      <td>58</td>\n",
       "      <td>510</td>\n",
       "      <td>788</td>\n",
       "    </tr>\n",
       "    <tr>\n",
       "      <th>2</th>\n",
       "      <td>796</td>\n",
       "      <td>212</td>\n",
       "      <td>628</td>\n",
       "      <td>950</td>\n",
       "      <td>1592</td>\n",
       "    </tr>\n",
       "    <tr>\n",
       "      <th>3</th>\n",
       "      <td>47</td>\n",
       "      <td>881</td>\n",
       "      <td>354</td>\n",
       "      <td>772</td>\n",
       "      <td>94</td>\n",
       "    </tr>\n",
       "    <tr>\n",
       "      <th>4</th>\n",
       "      <td>695</td>\n",
       "      <td>93</td>\n",
       "      <td>921</td>\n",
       "      <td>793</td>\n",
       "      <td>1390</td>\n",
       "    </tr>\n",
       "  </tbody>\n",
       "</table>\n",
       "</div>"
      ],
      "text/plain": [
       "     A    B    C    D     K\n",
       "0  763  456  359  768  1526\n",
       "1  394  140   58  510   788\n",
       "2  796  212  628  950  1592\n",
       "3   47  881  354  772    94\n",
       "4  695   93  921  793  1390"
      ]
     },
     "execution_count": 14,
     "metadata": {},
     "output_type": "execute_result"
    }
   ],
   "source": [
    "df.head()"
   ]
  },
  {
   "cell_type": "markdown",
   "metadata": {},
   "source": [
    "In order to know how the function scales as the number of rows increases, I want to time that operation\n",
    "\n",
    "<BR>\n",
    "<BR>\n",
    "\n",
    "To show the timing, I'll first reset the dataframe"
   ]
  },
  {
   "cell_type": "code",
   "execution_count": 15,
   "metadata": {},
   "outputs": [],
   "source": [
    "df = pandas.DataFrame(numpy.random.randint(0,1000,\n",
    "                                           size=(row_count, 4)), \n",
    "                                           columns=list('ABCD'))"
   ]
  },
  {
   "cell_type": "code",
   "execution_count": 16,
   "metadata": {},
   "outputs": [
    {
     "name": "stdout",
     "output_type": "stream",
     "text": [
      "1.8162128925323486 seconds\n"
     ]
    }
   ],
   "source": [
    "start_time = time.time()\n",
    "df['K'] = df.apply(double_col_a,axis=1)\n",
    "print(time.time() - start_time,'seconds')"
   ]
  },
  {
   "cell_type": "markdown",
   "metadata": {},
   "source": [
    "Yay, a data point. Now we want to re-run that same test multiple times. \n",
    "\n",
    "Doing a task repeatedly means using a loop"
   ]
  },
  {
   "cell_type": "code",
   "execution_count": 17,
   "metadata": {},
   "outputs": [
    {
     "name": "stdout",
     "output_type": "stream",
     "text": [
      "1.96826171875 seconds\n",
      "1.9517207145690918 seconds\n",
      "2.851382255554199 seconds\n",
      "2.148824691772461 seconds\n",
      "1.9859766960144043 seconds\n"
     ]
    }
   ],
   "source": [
    "number_of_tests=5\n",
    "for test_indx in range(number_of_tests):\n",
    "    start_time = time.time()\n",
    "    df['K'] = df.apply(double_col_a,axis=1)\n",
    "    print(time.time() - start_time,'seconds')"
   ]
  },
  {
   "cell_type": "markdown",
   "metadata": {},
   "source": [
    "To ensure a fair test, reset the dataframe being used in every experiment"
   ]
  },
  {
   "cell_type": "code",
   "execution_count": 18,
   "metadata": {},
   "outputs": [
    {
     "name": "stdout",
     "output_type": "stream",
     "text": [
      "1.730635404586792 seconds\n",
      "2.2613067626953125 seconds\n",
      "1.6670897006988525 seconds\n",
      "2.049191474914551 seconds\n",
      "2.113556385040283 seconds\n"
     ]
    }
   ],
   "source": [
    "number_of_tests=5\n",
    "for test_indx in range(number_of_tests):\n",
    "    df = pandas.DataFrame(numpy.random.randint(0,1000,\n",
    "                                               size=(row_count, 4)), \n",
    "                                               columns=list('ABCD'))\n",
    "    start_time = time.time()\n",
    "    df['K'] = df.apply(double_col_a,axis=1)\n",
    "    print(time.time() - start_time,'seconds')"
   ]
  },
  {
   "cell_type": "markdown",
   "metadata": {},
   "source": [
    "Rather than print the results of each test to screen, save to a list"
   ]
  },
  {
   "cell_type": "code",
   "execution_count": 19,
   "metadata": {},
   "outputs": [],
   "source": [
    "number_of_tests=5\n",
    "test_reslts=[]\n",
    "for test_indx in range(number_of_tests):\n",
    "    df = pandas.DataFrame(numpy.random.randint(0,1000,\n",
    "                                               size=(row_count, 4)), \n",
    "                                               columns=list('ABCD'))\n",
    "    start_time = time.time()\n",
    "    df['K'] = df.apply(double_col_a,axis=1)\n",
    "    test_reslts.append(time.time() - start_time)"
   ]
  },
  {
   "cell_type": "code",
   "execution_count": 20,
   "metadata": {},
   "outputs": [
    {
     "name": "stdout",
     "output_type": "stream",
     "text": [
      "[1.7737557888031006, 1.7150344848632812, 1.6786468029022217, 1.6103625297546387, 1.7019104957580566]\n"
     ]
    }
   ],
   "source": [
    "print(test_reslts)"
   ]
  },
  {
   "cell_type": "markdown",
   "metadata": {},
   "source": [
    "Rather than caring about each outcome, I want to know the average outcome"
   ]
  },
  {
   "cell_type": "code",
   "execution_count": 21,
   "metadata": {},
   "outputs": [],
   "source": [
    "serial_reslts=sum(test_reslts)/number_of_tests"
   ]
  },
  {
   "cell_type": "code",
   "execution_count": 22,
   "metadata": {},
   "outputs": [
    {
     "name": "stdout",
     "output_type": "stream",
     "text": [
      "1.6959420204162599 seconds\n"
     ]
    }
   ],
   "source": [
    "print(serial_reslts,'seconds')"
   ]
  },
  {
   "cell_type": "markdown",
   "metadata": {},
   "source": [
    "Put the calculation of the average at the end of the loop"
   ]
  },
  {
   "cell_type": "code",
   "execution_count": 23,
   "metadata": {},
   "outputs": [],
   "source": [
    "number_of_tests=5\n",
    "test_reslts=[]\n",
    "for test_indx in range(number_of_tests):\n",
    "    df = pandas.DataFrame(numpy.random.randint(0,1000,\n",
    "                                               size=(row_count, 4)), \n",
    "                                               columns=list('ABCD'))\n",
    "    start_time = time.time()\n",
    "    df['K'] = df.apply(double_col_a,axis=1)\n",
    "    test_reslts.append(time.time() - start_time)\n",
    "    \n",
    "# after running the experiment multiple times, record the average result to a dictionary\n",
    "serial_reslts=sum(test_reslts)/number_of_tests"
   ]
  },
  {
   "cell_type": "code",
   "execution_count": 24,
   "metadata": {},
   "outputs": [
    {
     "name": "stdout",
     "output_type": "stream",
     "text": [
      "1.6567169666290282 seconds\n"
     ]
    }
   ],
   "source": [
    "print(serial_reslts,'seconds')"
   ]
  },
  {
   "cell_type": "markdown",
   "metadata": {},
   "source": [
    "That was 5 tests of the timing for a dataframe where row_count=10000\n",
    "\n",
    "In order to determine how the `double_col_a` function scales, we need to alter how many rows are in the dataframe"
   ]
  },
  {
   "cell_type": "code",
   "execution_count": 25,
   "metadata": {},
   "outputs": [],
   "source": [
    "number_of_tests=5\n",
    "list_of_row_size=[100, 1000, 10000]"
   ]
  },
  {
   "cell_type": "markdown",
   "metadata": {},
   "source": [
    "Create a loop that runs tests for each of these row counts\n",
    "\n",
    "Rather than store the test results to a scalar, store to a dictionary. The dictionary key is the number of rows in the dataframe."
   ]
  },
  {
   "cell_type": "code",
   "execution_count": 26,
   "metadata": {},
   "outputs": [],
   "source": [
    "serial_reslts={}\n",
    "for row_count in list_of_row_size:\n",
    "    test_reslts=[]\n",
    "    for test_indx in range(number_of_tests):\n",
    "        df = pandas.DataFrame(\n",
    "                numpy.random.randint(0,1000,\n",
    "                                     size=(row_count, 4)), \n",
    "                                     columns=list('ABCD'))\n",
    "        start_time = time.time()\n",
    "        df['K'] = df.apply(double_col_a,axis=1)\n",
    "        test_reslts.append(time.time() - start_time)\n",
    "        \n",
    "    # after running the experiment multiple times, record the average result to a dictionary\n",
    "    serial_reslts[row_count]=sum(test_reslts)/number_of_tests"
   ]
  },
  {
   "cell_type": "code",
   "execution_count": 27,
   "metadata": {},
   "outputs": [
    {
     "name": "stdout",
     "output_type": "stream",
     "text": [
      "{100: 0.032488775253295896, 1000: 0.19923057556152343, 10000: 1.799982738494873}\n"
     ]
    }
   ],
   "source": [
    "print(serial_reslts)"
   ]
  },
  {
   "cell_type": "markdown",
   "metadata": {},
   "source": [
    "Now we can plot"
   ]
  },
  {
   "cell_type": "code",
   "execution_count": 28,
   "metadata": {},
   "outputs": [
    {
     "data": {
      "text/plain": [
       "Text(0.5, 1.0, 'timing a function call')"
      ]
     },
     "execution_count": 28,
     "metadata": {},
     "output_type": "execute_result"
    },
    {
     "data": {
      "image/png": "[encoded data removed]",
      "text/plain": [
       "<Figure size 432x288 with 1 Axes>"
      ]
     },
     "metadata": {
      "needs_background": "light"
     },
     "output_type": "display_data"
    }
   ],
   "source": [
    "serial_x = list(serial_reslts.keys()) # list_of_row_size\n",
    "serial_y = list(serial_reslts.values())\n",
    "_=plt.scatter(serial_x,serial_y,color='blue')\n",
    "_=plt.ylabel('average time in seconds',fontsize=14)\n",
    "_=plt.xlabel('number of rows in dataframe',fontsize=14)\n",
    "plt.title('timing a function call',fontsize=14)"
   ]
  },
  {
   "cell_type": "markdown",
   "metadata": {},
   "source": [
    "And to provide a guide for the reader's eye, add a linear fit"
   ]
  },
  {
   "cell_type": "code",
   "execution_count": 29,
   "metadata": {},
   "outputs": [
    {
     "data": {
      "image/png": "[encoded data removed]",
      "text/plain": [
       "<Figure size 432x288 with 1 Axes>"
      ]
     },
     "metadata": {
      "needs_background": "light"
     },
     "output_type": "display_data"
    }
   ],
   "source": [
    "serial_x = list(serial_reslts.keys()) # list_of_row_size\n",
    "serial_y = list(serial_reslts.values())\n",
    "plt.scatter(serial_x,serial_y,color='blue')\n",
    "plt.ylabel('average time in seconds',fontsize=14)\n",
    "plt.xlabel('number of rows in dataframe',fontsize=14)\n",
    "plt.title('timing a function call',fontsize=14)\n",
    "\n",
    "plt.plot(numpy.unique(serial_x), numpy.poly1d(numpy.polyfit(serial_x, serial_y, 1))(numpy.unique(serial_x))); # https://stackoverflow.com/questions/22239691/code-for-line-of-best-fit-of-a-scatter-plot-in-python"
   ]
  },
  {
   "cell_type": "code",
   "execution_count": null,
   "metadata": {},
   "outputs": [],
   "source": []
  }
 ],
 "metadata": {
  "kernelspec": {
   "display_name": "Python 3",
   "language": "python",
   "name": "python3"
  },
  "language_info": {
   "codemirror_mode": {
    "name": "ipython",
    "version": 3
   },
   "file_extension": ".py",
   "mimetype": "text/x-python",
   "name": "python",
   "nbconvert_exporter": "python",
   "pygments_lexer": "ipython3",
   "version": "3.6.7"
  }
 },
 "nbformat": 4,
 "nbformat_minor": 2
}
