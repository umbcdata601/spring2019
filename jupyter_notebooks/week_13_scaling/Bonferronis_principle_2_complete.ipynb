{
 "cells": [
  {
   "cell_type": "markdown",
   "metadata": {},
   "source": [
    "https://www.stat.berkeley.edu/~mgoldman/Section0402.pdf\n",
    "    \n",
    "https://www.kdnuggets.com/2016/07/big-data-bible-codes-bonferroni.html"
   ]
  },
  {
   "cell_type": "code",
   "execution_count": 1,
   "metadata": {},
   "outputs": [],
   "source": [
    "import random\n",
    "import string\n",
    "import time\n",
    "import matplotlib.pyplot as plt"
   ]
  },
  {
   "cell_type": "markdown",
   "metadata": {},
   "source": [
    "use the \"string\" module to get a list of characters in the alphabet"
   ]
  },
  {
   "cell_type": "code",
   "execution_count": 2,
   "metadata": {},
   "outputs": [
    {
     "data": {
      "text/plain": [
       "'ABCDEFGHIJKLMNOPQRSTUVWXYZ'"
      ]
     },
     "execution_count": 2,
     "metadata": {},
     "output_type": "execute_result"
    }
   ],
   "source": [
    "string.ascii_uppercase"
   ]
  },
  {
   "cell_type": "markdown",
   "metadata": {},
   "source": [
    "Generate a string of size N"
   ]
  },
  {
   "cell_type": "code",
   "execution_count": 3,
   "metadata": {},
   "outputs": [],
   "source": [
    "N=10"
   ]
  },
  {
   "cell_type": "raw",
   "metadata": {},
   "source": [
    "With 26 letters and 10 characters, there are\n",
    "26*26*26*26*26*26*26*26*26*26 = 26^10 = "
   ]
  },
  {
   "cell_type": "code",
   "execution_count": 4,
   "metadata": {},
   "outputs": [
    {
     "data": {
      "text/plain": [
       "141167095653376"
      ]
     },
     "execution_count": 4,
     "metadata": {},
     "output_type": "execute_result"
    }
   ],
   "source": [
    "26**N"
   ]
  },
  {
   "cell_type": "raw",
   "metadata": {},
   "source": [
    "141,167,095,653,376 possible permutations for a 10 character string is a lot.\n",
    "T   B   M   T   H"
   ]
  },
  {
   "cell_type": "markdown",
   "metadata": {},
   "source": [
    "to generate the 10 character random string, we could write a loop:"
   ]
  },
  {
   "cell_type": "code",
   "execution_count": 5,
   "metadata": {},
   "outputs": [
    {
     "name": "stdout",
     "output_type": "stream",
     "text": [
      "NIRXMZMITF\n",
      "0.001965761184692383 seconds\n"
     ]
    }
   ],
   "source": [
    "start=time.time()\n",
    "this_str=[]\n",
    "for digit_indx in range(N):\n",
    "    a_char=random.choice(string.ascii_uppercase) \n",
    "    this_str.append(a_char)\n",
    "    \n",
    "print(''.join(this_str))\n",
    "print(time.time()-start,'seconds')"
   ]
  },
  {
   "cell_type": "markdown",
   "metadata": {},
   "source": [
    "A much shorter way to write the same loop is"
   ]
  },
  {
   "cell_type": "code",
   "execution_count": 6,
   "metadata": {},
   "outputs": [
    {
     "data": {
      "text/plain": [
       "'ZAUKFNKXRL'"
      ]
     },
     "execution_count": 6,
     "metadata": {},
     "output_type": "execute_result"
    }
   ],
   "source": [
    "my_str=''.join(random.choice(string.ascii_uppercase) for _ in range(N)) # select a random character N times\n",
    "my_str"
   ]
  },
  {
   "cell_type": "markdown",
   "metadata": {},
   "source": [
    "Find a \"pattern\" in random data:"
   ]
  },
  {
   "cell_type": "code",
   "execution_count": 7,
   "metadata": {},
   "outputs": [],
   "source": [
    "def one_match(str_to_match,number_of_random_strings_to_inspect,str_len,prt_bool):\n",
    "    \"\"\"\n",
    "    inputs: \n",
    "       * a string to find within a randomly generated string\n",
    "       * the number of tests to run\n",
    "       * a boolean to either print or not print output\n",
    "    outputs:\n",
    "       * the number of times the input string appears in a random string\n",
    "    \"\"\"\n",
    "    # count the number of matches for the input and the random strings\n",
    "    number_of_results=0\n",
    "    for test_indx in range(number_of_random_strings_to_inspect): # ct = number of test to run\n",
    "        # generate a random string\n",
    "        my_str=''.join(random.choice(string.ascii_uppercase) for _ in range(str_len))\n",
    "        # test to determine whether the input string is in the random string\n",
    "        if (str_to_match in my_str):\n",
    "            # if a match is found, increment the success counter\n",
    "            number_of_results+=1\n",
    "            if prt_bool:\n",
    "                print(my_str)\n",
    "    if prt_bool:\n",
    "        print('number of results:',number_of_results)\n",
    "    return(number_of_results)"
   ]
  },
  {
   "cell_type": "code",
   "execution_count": 8,
   "metadata": {},
   "outputs": [
    {
     "name": "stdout",
     "output_type": "stream",
     "text": [
      "JGAOEAJINF\n",
      "GHKAVOGFXN\n",
      "number of results: 2\n"
     ]
    },
    {
     "data": {
      "text/plain": [
       "2"
      ]
     },
     "execution_count": 8,
     "metadata": {},
     "output_type": "execute_result"
    }
   ],
   "source": [
    "one_match('A',10,N,True)"
   ]
  },
  {
   "cell_type": "code",
   "execution_count": 9,
   "metadata": {},
   "outputs": [
    {
     "name": "stdout",
     "output_type": "stream",
     "text": [
      "number of results: 0\n"
     ]
    },
    {
     "data": {
      "text/plain": [
       "0"
      ]
     },
     "execution_count": 9,
     "metadata": {},
     "output_type": "execute_result"
    }
   ],
   "source": [
    "one_match('AAA',10,N,True)"
   ]
  },
  {
   "cell_type": "markdown",
   "metadata": {},
   "source": [
    "The probability of getting \"A\" in the first position of the 10 character string is 1/26.\n",
    "The probability of getting \"A\" in the second position of the 10 character string is 1/26.\n",
    "The probability of getting \"A\" in the third position of the 10 character string is 1/26.\n",
    "Therfore, the chance of getting \"AAA\" in the first three character is "
   ]
  },
  {
   "cell_type": "code",
   "execution_count": 10,
   "metadata": {},
   "outputs": [
    {
     "data": {
      "text/plain": [
       "5.689576695493856e-05"
      ]
     },
     "execution_count": 10,
     "metadata": {},
     "output_type": "execute_result"
    }
   ],
   "source": [
    "(1/26)*(1/26)*(1/26)"
   ]
  },
  {
   "cell_type": "markdown",
   "metadata": {},
   "source": [
    "I don't care where \"AAA\" shows up in the 10 character string, so the outcome for any of the 3 adjacent letters is"
   ]
  },
  {
   "cell_type": "code",
   "execution_count": 11,
   "metadata": {},
   "outputs": [
    {
     "data": {
      "text/plain": [
       "0.00045516613563950854"
      ]
     },
     "execution_count": 11,
     "metadata": {},
     "output_type": "execute_result"
    }
   ],
   "source": [
    "prob_find_AAA=(\n",
    "# AAA_______\n",
    "((1/26)**3)+\n",
    "# _AAA______\n",
    "((1/26)**3)+\n",
    "# __AAA_____\n",
    "((1/26)**3)+\n",
    "# ___AAA____\n",
    "((1/26)**3)+\n",
    "# ____AAA___\n",
    "((1/26)**3)+\n",
    "# _____AAA__\n",
    "((1/26)**3)+\n",
    "# ______AAA_\n",
    "((1/26)**3)+\n",
    "# _______AAA\n",
    "((1/26)**3)\n",
    ")\n",
    "\n",
    "prob_find_AAA"
   ]
  },
  {
   "cell_type": "code",
   "execution_count": 12,
   "metadata": {},
   "outputs": [],
   "source": [
    "number_of_tests_to_run=10000"
   ]
  },
  {
   "cell_type": "markdown",
   "metadata": {},
   "source": [
    "If we run 10,000 tests, what's the average number of matches?"
   ]
  },
  {
   "cell_type": "code",
   "execution_count": 13,
   "metadata": {},
   "outputs": [
    {
     "data": {
      "text/plain": [
       "4.55"
      ]
     },
     "execution_count": 13,
     "metadata": {},
     "output_type": "execute_result"
    }
   ],
   "source": [
    "round(number_of_tests_to_run*prob_find_AAA,2)"
   ]
  },
  {
   "cell_type": "code",
   "execution_count": 14,
   "metadata": {},
   "outputs": [
    {
     "name": "stdout",
     "output_type": "stream",
     "text": [
      "RRHJCFAAAT\n",
      "SSWAAANWOT\n",
      "PWRGOPIAAA\n",
      "AAABWRXNMD\n",
      "VMAAAQYYHD\n",
      "ZJWAAAMTGQ\n",
      "number of results: 6\n"
     ]
    },
    {
     "data": {
      "text/plain": [
       "6"
      ]
     },
     "execution_count": 14,
     "metadata": {},
     "output_type": "execute_result"
    }
   ],
   "source": [
    "one_match('AAA',number_of_tests_to_run,N,True)"
   ]
  },
  {
   "cell_type": "markdown",
   "metadata": {},
   "source": [
    "The more \"patterns\" we look for, the more successes we will find. \n",
    "\n",
    "This is the problem addressed by the Bonferroni's principle.\n",
    "\n",
    "Solution: normalize your \"successes\" count by the number of patterns you're looking for"
   ]
  },
  {
   "cell_type": "code",
   "execution_count": 15,
   "metadata": {},
   "outputs": [],
   "source": [
    "def two_matches(str1_to_match,\n",
    "                str2_to_match,\n",
    "                number_of_random_strings_to_inspect,\n",
    "                str_len,\n",
    "                prt_bool):\n",
    "    number_of_results=0\n",
    "    for test_indx in range(number_of_random_strings_to_inspect):\n",
    "        my_str=''.join(random.choice(string.ascii_uppercase) for _ in range(str_len))\n",
    "        if (str1_to_match in my_str) or (str2_to_match in my_str):\n",
    "            number_of_results+=1\n",
    "            if prt_bool:\n",
    "                print(my_str)\n",
    "    if prt_bool:\n",
    "        print('number of results:',number_of_results)\n",
    "    return(number_of_results)"
   ]
  },
  {
   "cell_type": "code",
   "execution_count": 16,
   "metadata": {},
   "outputs": [
    {
     "name": "stdout",
     "output_type": "stream",
     "text": [
      "BBBGEYLRRC\n",
      "UXUAAAIBVU\n",
      "TCHUJHBBBD\n",
      "HZJRBBBUPG\n",
      "MKHWIAAAKM\n",
      "MVSAAAIAAG\n",
      "SIXXJZEAAA\n",
      "BBBTFEUXVL\n",
      "YJKLZPHBBB\n",
      "BBCNUPVAAA\n",
      "HBBBUXMJPA\n",
      "BBBJKPIMIP\n",
      "BTPBBBJHFU\n",
      "GYOELIUBBB\n",
      "AAAMIUMAHZ\n",
      "number of results: 15\n"
     ]
    }
   ],
   "source": [
    "rst_ct=two_matches('AAA','BBB',number_of_tests_to_run,N,True)"
   ]
  },
  {
   "cell_type": "markdown",
   "metadata": {},
   "source": [
    "That's higher than when we searched for only 'AAA'\n",
    "\n",
    "Though we found more results, we need to normalize the count by the number of searches we made:"
   ]
  },
  {
   "cell_type": "code",
   "execution_count": 17,
   "metadata": {},
   "outputs": [
    {
     "data": {
      "text/plain": [
       "7.5"
      ]
     },
     "execution_count": 17,
     "metadata": {},
     "output_type": "execute_result"
    }
   ],
   "source": [
    "rst_ct/2"
   ]
  },
  {
   "cell_type": "markdown",
   "metadata": {},
   "source": [
    "which is close to the original expection"
   ]
  },
  {
   "cell_type": "code",
   "execution_count": 18,
   "metadata": {},
   "outputs": [
    {
     "data": {
      "text/plain": [
       "4.55"
      ]
     },
     "execution_count": 18,
     "metadata": {},
     "output_type": "execute_result"
    }
   ],
   "source": [
    "round(number_of_tests_to_run*prob_find_AAA,2)"
   ]
  },
  {
   "cell_type": "markdown",
   "metadata": {},
   "source": [
    "# the rest of this content is irrelevant"
   ]
  },
  {
   "cell_type": "markdown",
   "metadata": {},
   "source": [
    "Caveat: the following takes a long time (about 2 minutes) to run"
   ]
  },
  {
   "cell_type": "code",
   "execution_count": 19,
   "metadata": {},
   "outputs": [
    {
     "name": "stdout",
     "output_type": "stream",
     "text": [
      "287.4848086833954\n"
     ]
    }
   ],
   "source": [
    "start=time.time()\n",
    "list_of_results=[]\n",
    "for indx in range(1000):\n",
    "    rst_ct=two_matches('AAA','BBB',number_of_tests_to_run,N,False)\n",
    "    list_of_results.append(rst_ct)\n",
    "print(time.time()-start)"
   ]
  },
  {
   "cell_type": "code",
   "execution_count": 20,
   "metadata": {},
   "outputs": [
    {
     "data": {
      "image/png": "[encoded data removed]",
      "text/plain": [
       "<Figure size 432x288 with 1 Axes>"
      ]
     },
     "metadata": {
      "needs_background": "light"
     },
     "output_type": "display_data"
    }
   ],
   "source": [
    "_=plt.hist(list_of_results)\n",
    "_=plt.xlabel('number of matches',fontsize=14)\n",
    "_=plt.ylabel('count',fontsize=14)"
   ]
  },
  {
   "cell_type": "markdown",
   "metadata": {},
   "source": [
    "<BR>\n",
    "    <BR>\n",
    "        <BR>\n",
    "            <BR>\n",
    "                <BR>\n",
    "                    <BR>\n",
    "As we scale up the amount of data we search, we find more successes"
   ]
  },
  {
   "cell_type": "raw",
   "metadata": {},
   "source": [
    "two_matches('AAA','BBB',number_of_tests_to_run*10,True)"
   ]
  },
  {
   "cell_type": "markdown",
   "metadata": {},
   "source": [
    "As we scale up the data size, we can find increasingly rare patterns\n",
    "\n",
    "'AAA' shows up often; 'AAAA' less often"
   ]
  },
  {
   "cell_type": "raw",
   "metadata": {},
   "source": [
    "one_match('AAA',number_of_tests_to_run*10,True)"
   ]
  },
  {
   "cell_type": "raw",
   "metadata": {},
   "source": [
    "one_match('AAAA',number_of_tests_to_run*10,True)"
   ]
  },
  {
   "cell_type": "markdown",
   "metadata": {},
   "source": [
    "<BR>\n",
    "Because doing analysis at scale is costly (in terms of money, time, skills), <BR>\n",
    "    there's increased incentive to perform test efficiently.\n",
    "<BR>\n",
    "<BR>\n",
    "Solution: normalize your \"successes\" by the number of patterns you're looking for"
   ]
  },
  {
   "cell_type": "code",
   "execution_count": null,
   "metadata": {},
   "outputs": [],
   "source": []
  }
 ],
 "metadata": {
  "kernelspec": {
   "display_name": "Python 3",
   "language": "python",
   "name": "python3"
  },
  "language_info": {
   "codemirror_mode": {
    "name": "ipython",
    "version": 3
   },
   "file_extension": ".py",
   "mimetype": "text/x-python",
   "name": "python",
   "nbconvert_exporter": "python",
   "pygments_lexer": "ipython3",
   "version": "3.6.7"
  }
 },
 "nbformat": 4,
 "nbformat_minor": 2
}
