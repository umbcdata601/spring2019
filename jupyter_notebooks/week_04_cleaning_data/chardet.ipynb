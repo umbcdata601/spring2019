{
 "cells": [
  {
   "cell_type": "markdown",
   "metadata": {},
   "source": [
    "Figure out encoding for a text file using chardet\n",
    "\n",
    "https://chardet.readthedocs.io/en/latest/usage.html"
   ]
  },
  {
   "cell_type": "code",
   "execution_count": 1,
   "metadata": {},
   "outputs": [],
   "source": [
    "import chardet"
   ]
  },
  {
   "cell_type": "markdown",
   "metadata": {},
   "source": [
    "open a CSV containing text, read the contents"
   ]
  },
  {
   "cell_type": "code",
   "execution_count": 2,
   "metadata": {},
   "outputs": [],
   "source": [
    "with open('csv_of_text.csv','rb') as fraw:\n",
    "    file_content = fraw.read()"
   ]
  },
  {
   "cell_type": "markdown",
   "metadata": {},
   "source": [
    "take a look at what the variable is storing:"
   ]
  },
  {
   "cell_type": "code",
   "execution_count": 3,
   "metadata": {},
   "outputs": [
    {
     "data": {
      "text/plain": [
       "b'\"what\",\"won\",\"needs\",\"chicken\",\"whispered\",\"picture\"\\n\"hungry\",\"moon\",\"ride\",\"sleep\",\"give\",\"activity\"\\n\"worry\",\"attempt\",\"poor\",\"during\",\"mistake\",\"possibly\"\\n\"sugar\",\"edge\",\"furniture\",\"basic\",\"plural\",\"son\"\\n\"balance\",\"copper\",\"broke\",\"police\",\"slave\",\"discover\"\\n\"compass\",\"particularly\",\"mice\",\"floating\",\"wrong\",\"living\"\\n\"pick\",\"white\",\"earn\",\"shaking\",\"store\",\"something\"\\n'"
      ]
     },
     "execution_count": 3,
     "metadata": {},
     "output_type": "execute_result"
    }
   ],
   "source": [
    "file_content"
   ]
  },
  {
   "cell_type": "markdown",
   "metadata": {},
   "source": [
    "use `chardet` to deterine encoding of file"
   ]
  },
  {
   "cell_type": "code",
   "execution_count": 4,
   "metadata": {},
   "outputs": [
    {
     "data": {
      "text/plain": [
       "{'encoding': 'ascii', 'confidence': 1.0, 'language': ''}"
      ]
     },
     "execution_count": 4,
     "metadata": {},
     "output_type": "execute_result"
    }
   ],
   "source": [
    "chardet.detect(file_content)"
   ]
  },
  {
   "cell_type": "markdown",
   "metadata": {},
   "source": [
    "<BR>\n",
    "<BR>\n",
    "<BR>\n",
    "<BR>\n",
    "\n",
    "Using 'r' when opening the file leads chardet to complain:"
   ]
  },
  {
   "cell_type": "code",
   "execution_count": 5,
   "metadata": {},
   "outputs": [],
   "source": [
    "with open('csv_of_text.csv','r') as fraw:\n",
    "    file_content = fraw.read()"
   ]
  },
  {
   "cell_type": "code",
   "execution_count": 6,
   "metadata": {},
   "outputs": [
    {
     "data": {
      "text/plain": [
       "'\"what\",\"won\",\"needs\",\"chicken\",\"whispered\",\"picture\"\\n\"hungry\",\"moon\",\"ride\",\"sleep\",\"give\",\"activity\"\\n\"worry\",\"attempt\",\"poor\",\"during\",\"mistake\",\"possibly\"\\n\"sugar\",\"edge\",\"furniture\",\"basic\",\"plural\",\"son\"\\n\"balance\",\"copper\",\"broke\",\"police\",\"slave\",\"discover\"\\n\"compass\",\"particularly\",\"mice\",\"floating\",\"wrong\",\"living\"\\n\"pick\",\"white\",\"earn\",\"shaking\",\"store\",\"something\"\\n'"
      ]
     },
     "execution_count": 6,
     "metadata": {},
     "output_type": "execute_result"
    }
   ],
   "source": [
    "file_content"
   ]
  },
  {
   "cell_type": "markdown",
   "metadata": {},
   "source": [
    "Note the missing \"b\" at the start of the output"
   ]
  },
  {
   "cell_type": "code",
   "execution_count": 7,
   "metadata": {},
   "outputs": [
    {
     "ename": "TypeError",
     "evalue": "Expected object of type bytes or bytearray, got: <class 'str'>",
     "output_type": "error",
     "traceback": [
      "\u001b[0;31m---------------------------------------------------------------------------\u001b[0m",
      "\u001b[0;31mTypeError\u001b[0m                                 Traceback (most recent call last)",
      "\u001b[0;32m<ipython-input-7-4cbab2a84b47>\u001b[0m in \u001b[0;36m<module>\u001b[0;34m\u001b[0m\n\u001b[0;32m----> 1\u001b[0;31m \u001b[0mchardet\u001b[0m\u001b[0;34m.\u001b[0m\u001b[0mdetect\u001b[0m\u001b[0;34m(\u001b[0m\u001b[0mfile_content\u001b[0m\u001b[0;34m)\u001b[0m\u001b[0;34m\u001b[0m\u001b[0;34m\u001b[0m\u001b[0m\n\u001b[0m",
      "\u001b[0;32m/opt/conda/lib/python3.6/site-packages/chardet/__init__.py\u001b[0m in \u001b[0;36mdetect\u001b[0;34m(byte_str)\u001b[0m\n\u001b[1;32m     32\u001b[0m         \u001b[0;32mif\u001b[0m \u001b[0;32mnot\u001b[0m \u001b[0misinstance\u001b[0m\u001b[0;34m(\u001b[0m\u001b[0mbyte_str\u001b[0m\u001b[0;34m,\u001b[0m \u001b[0mbytes\u001b[0m\u001b[0;34m)\u001b[0m\u001b[0;34m:\u001b[0m\u001b[0;34m\u001b[0m\u001b[0;34m\u001b[0m\u001b[0m\n\u001b[1;32m     33\u001b[0m             raise TypeError('Expected object of type bytes or bytearray, got: '\n\u001b[0;32m---> 34\u001b[0;31m                             '{0}'.format(type(byte_str)))\n\u001b[0m\u001b[1;32m     35\u001b[0m         \u001b[0;32melse\u001b[0m\u001b[0;34m:\u001b[0m\u001b[0;34m\u001b[0m\u001b[0;34m\u001b[0m\u001b[0m\n\u001b[1;32m     36\u001b[0m             \u001b[0mbyte_str\u001b[0m \u001b[0;34m=\u001b[0m \u001b[0mbytearray\u001b[0m\u001b[0;34m(\u001b[0m\u001b[0mbyte_str\u001b[0m\u001b[0;34m)\u001b[0m\u001b[0;34m\u001b[0m\u001b[0;34m\u001b[0m\u001b[0m\n",
      "\u001b[0;31mTypeError\u001b[0m: Expected object of type bytes or bytearray, got: <class 'str'>"
     ]
    }
   ],
   "source": [
    "chardet.detect(file_content)"
   ]
  },
  {
   "cell_type": "markdown",
   "metadata": {},
   "source": [
    "Opening files:\n",
    "\n",
    "In text mode ('r'), Python will parse the file according to the text encoding you give it. If you don't give one, Python uses a platform-dependent default.<BR>\n",
    "Then read() will give you a str. \n",
    "\n",
    "In binary ('rb') mode, Python does not assume that the file contains things that can reasonably be parsed as characters, and read() gives you a bytes object.\n",
    "\n",
    "Also, in Python 3, the universal newlines (the translating between '\\n' and platform-specific newline conventions so you don't have to care about them) is available for text-mode files on any platform, not just Windows.\n",
    "    \n",
    "<a href=\"https://stackoverflow.com/questions/9644110/difference-between-parsing-a-text-file-in-r-and-rb-mode\">source</a>; see also <a href=\"https://docs.python.org/3/tutorial/inputoutput.html#reading-and-writing-files\">official docs</a>."
   ]
  },
  {
   "cell_type": "code",
   "execution_count": null,
   "metadata": {},
   "outputs": [],
   "source": []
  }
 ],
 "metadata": {
  "kernelspec": {
   "display_name": "Python 3",
   "language": "python",
   "name": "python3"
  },
  "language_info": {
   "codemirror_mode": {
    "name": "ipython",
    "version": 3
   },
   "file_extension": ".py",
   "mimetype": "text/x-python",
   "name": "python",
   "nbconvert_exporter": "python",
   "pygments_lexer": "ipython3",
   "version": "3.6.7"
  }
 },
 "nbformat": 4,
 "nbformat_minor": 2
}
