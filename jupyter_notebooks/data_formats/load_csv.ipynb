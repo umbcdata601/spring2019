{
 "cells": [
  {
   "cell_type": "markdown",
   "metadata": {},
   "source": [
    "## from scratch (not recommended)"
   ]
  },
  {
   "cell_type": "code",
   "execution_count": 1,
   "metadata": {},
   "outputs": [
    {
     "name": "stdout",
     "output_type": "stream",
     "text": [
      "Name, year, class, grade\n",
      "Ming, 2013, Data 601, B\n",
      "Imgb, 2015, Data 601, B\n",
      "Rimgw, 2012, Data 601, A\n",
      "Wemf, 2014, Data 602, C\n",
      "\n"
     ]
    }
   ],
   "source": [
    "with open(\"sample.csv\", 'r') as my_file:\n",
    "    for line in my_file:\n",
    "        print(line.rstrip())"
   ]
  },
  {
   "cell_type": "markdown",
   "metadata": {},
   "source": [
    "Additional work would be needed to split each line on the comma"
   ]
  },
  {
   "cell_type": "markdown",
   "metadata": {},
   "source": [
    "<BR>\n",
    "<BR>\n",
    "<BR>\n",
    "<BR>\n",
    "<BR>\n",
    "<BR>\n",
    "<BR>\n",
    "<BR>\n",
    "<BR>\n",
    "<BR>\n",
    "<BR>\n"
   ]
  },
  {
   "cell_type": "code",
   "execution_count": 2,
   "metadata": {},
   "outputs": [
    {
     "name": "stdout",
     "output_type": "stream",
     "text": [
      "['Name', ' year', ' class', ' grade']\n",
      "['Ming', ' 2013', ' Data 601', ' B']\n",
      "['Imgb', ' 2015', ' Data 601', ' B']\n",
      "['Rimgw', ' 2012', ' Data 601', ' A']\n",
      "['Wemf', ' 2014', ' Data 602', ' C']\n",
      "['']\n"
     ]
    }
   ],
   "source": [
    "with open(\"sample.csv\", 'r') as my_file:\n",
    "    for line in my_file:\n",
    "        print(line.rstrip().split(\",\"))"
   ]
  },
  {
   "cell_type": "markdown",
   "metadata": {},
   "source": [
    "This manual approach can be dangerous because the formatting of the CSV may not be what you assume"
   ]
  },
  {
   "cell_type": "markdown",
   "metadata": {},
   "source": [
    "<BR>\n",
    "<BR>\n",
    "<BR>\n",
    "<BR>\n",
    "<BR>\n",
    "<BR>\n",
    "<BR>\n",
    "<BR>\n",
    "<BR>\n",
    "<BR>\n",
    "<BR>\n"
   ]
  },
  {
   "cell_type": "markdown",
   "metadata": {},
   "source": [
    "## using csv module"
   ]
  },
  {
   "cell_type": "code",
   "execution_count": 3,
   "metadata": {},
   "outputs": [],
   "source": [
    "import csv"
   ]
  },
  {
   "cell_type": "code",
   "execution_count": 4,
   "metadata": {},
   "outputs": [
    {
     "name": "stdout",
     "output_type": "stream",
     "text": [
      "['Name', 'year', 'class', 'grade']\n",
      "['Ming', '2013', 'Data 601', 'B']\n",
      "['Imgb', '2015', 'Data 601', 'B']\n",
      "['Rimgw', '2012', 'Data 601', 'A']\n",
      "['Wemf', '2014', 'Data 602', 'C']\n",
      "[]\n"
     ]
    }
   ],
   "source": [
    "with open(\"sample.csv\", 'r') as my_file:\n",
    "    reader = csv.reader(my_file,skipinitialspace=True)\n",
    "    for row in reader:\n",
    "        print(row)"
   ]
  },
  {
   "cell_type": "markdown",
   "metadata": {},
   "source": [
    "_Note_: automatically detected delimiter and split line into list; white spaces were left in"
   ]
  },
  {
   "cell_type": "markdown",
   "metadata": {},
   "source": [
    "<BR>\n",
    "<BR>\n",
    "<BR>\n",
    "<BR>\n",
    "<BR>\n",
    "<BR>\n",
    "<BR>\n",
    "<BR>\n",
    "<BR>\n",
    "<BR>\n",
    "<BR>\n",
    "<BR>\n",
    "<BR>\n",
    "<BR>\n",
    "<BR>\n"
   ]
  },
  {
   "cell_type": "markdown",
   "metadata": {},
   "source": [
    "## using Pandas library"
   ]
  },
  {
   "cell_type": "code",
   "execution_count": 5,
   "metadata": {},
   "outputs": [],
   "source": [
    "import pandas"
   ]
  },
  {
   "cell_type": "code",
   "execution_count": 6,
   "metadata": {},
   "outputs": [],
   "source": [
    "dataframe = pandas.read_csv(\"sample.csv\")"
   ]
  },
  {
   "cell_type": "code",
   "execution_count": 7,
   "metadata": {},
   "outputs": [
    {
     "data": {
      "text/html": [
       "<div>\n",
       "<style scoped>\n",
       "    .dataframe tbody tr th:only-of-type {\n",
       "        vertical-align: middle;\n",
       "    }\n",
       "\n",
       "    .dataframe tbody tr th {\n",
       "        vertical-align: top;\n",
       "    }\n",
       "\n",
       "    .dataframe thead th {\n",
       "        text-align: right;\n",
       "    }\n",
       "</style>\n",
       "<table border=\"1\" class=\"dataframe\">\n",
       "  <thead>\n",
       "    <tr style=\"text-align: right;\">\n",
       "      <th></th>\n",
       "      <th>Name</th>\n",
       "      <th>year</th>\n",
       "      <th>class</th>\n",
       "      <th>grade</th>\n",
       "    </tr>\n",
       "  </thead>\n",
       "  <tbody>\n",
       "    <tr>\n",
       "      <th>0</th>\n",
       "      <td>Ming</td>\n",
       "      <td>2013</td>\n",
       "      <td>Data 601</td>\n",
       "      <td>B</td>\n",
       "    </tr>\n",
       "    <tr>\n",
       "      <th>1</th>\n",
       "      <td>Imgb</td>\n",
       "      <td>2015</td>\n",
       "      <td>Data 601</td>\n",
       "      <td>B</td>\n",
       "    </tr>\n",
       "    <tr>\n",
       "      <th>2</th>\n",
       "      <td>Rimgw</td>\n",
       "      <td>2012</td>\n",
       "      <td>Data 601</td>\n",
       "      <td>A</td>\n",
       "    </tr>\n",
       "    <tr>\n",
       "      <th>3</th>\n",
       "      <td>Wemf</td>\n",
       "      <td>2014</td>\n",
       "      <td>Data 602</td>\n",
       "      <td>C</td>\n",
       "    </tr>\n",
       "  </tbody>\n",
       "</table>\n",
       "</div>"
      ],
      "text/plain": [
       "    Name   year      class  grade\n",
       "0   Ming   2013   Data 601      B\n",
       "1   Imgb   2015   Data 601      B\n",
       "2  Rimgw   2012   Data 601      A\n",
       "3   Wemf   2014   Data 602      C"
      ]
     },
     "execution_count": 7,
     "metadata": {},
     "output_type": "execute_result"
    }
   ],
   "source": [
    "dataframe"
   ]
  },
  {
   "cell_type": "markdown",
   "metadata": {},
   "source": [
    "_Note_: automatically detected delimiter and the header and also indexed the rows"
   ]
  },
  {
   "cell_type": "markdown",
   "metadata": {},
   "source": [
    "<BR>\n",
    "<BR>\n",
    "<BR>\n",
    "<BR>\n",
    "<BR>\n",
    "<BR>\n",
    "<BR>\n",
    "<BR>\n",
    "<BR>\n",
    "<BR>\n",
    "<BR>\n"
   ]
  },
  {
   "cell_type": "markdown",
   "metadata": {},
   "source": [
    "with pipes as delimiter rather than commas"
   ]
  },
  {
   "cell_type": "code",
   "execution_count": 8,
   "metadata": {},
   "outputs": [
    {
     "name": "stdout",
     "output_type": "stream",
     "text": [
      "['Month', 'count', 'location']\n",
      "['Jan', '1332', 'here']\n",
      "['June', '5,593', 'there']\n",
      "['Feb', '953,24', 'everywhere, CA']\n",
      "['Oct', '592', 'my home town, MD']\n"
     ]
    }
   ],
   "source": [
    "with open(\"sample_pipe_separated.csv\", 'r') as my_file:\n",
    "    reader = csv.reader(my_file,delimiter='|')\n",
    "    for row in reader:\n",
    "        print(row)"
   ]
  },
  {
   "cell_type": "markdown",
   "metadata": {},
   "source": [
    "<BR>\n",
    "<BR>\n",
    "<BR>\n",
    "<BR>\n",
    "<BR>\n",
    "<BR>\n",
    "<BR>\n",
    "<BR>\n",
    "<BR>\n",
    "<BR>\n",
    "<BR>\n"
   ]
  },
  {
   "cell_type": "markdown",
   "metadata": {},
   "source": [
    "quote handling in a CSV"
   ]
  },
  {
   "cell_type": "code",
   "execution_count": 9,
   "metadata": {},
   "outputs": [
    {
     "name": "stdout",
     "output_type": "stream",
     "text": [
      "['ID', 'last name', 'first name', 'tuition']\n",
      "['058582', 'Potter, Jr', 'Harry', '$204']\n",
      "['0485572', 'Weasley', 'Ron', '$958']\n",
      "['592424', 'Granger', 'Hermione', '$422']\n",
      "['472492', 'Diggory', 'Cedric', '$1,042']\n",
      "['493824', 'Weasley', 'Fred', '$394']\n"
     ]
    }
   ],
   "source": [
    "with open(\"sample_with_quotes.csv\", 'r') as my_file:\n",
    "    reader = csv.reader(my_file,quotechar='\"',skipinitialspace=True)\n",
    "    for row in reader:\n",
    "        print(row)"
   ]
  },
  {
   "cell_type": "code",
   "execution_count": null,
   "metadata": {},
   "outputs": [],
   "source": []
  }
 ],
 "metadata": {
  "kernelspec": {
   "display_name": "Python 3",
   "language": "python",
   "name": "python3"
  },
  "language_info": {
   "codemirror_mode": {
    "name": "ipython",
    "version": 3
   },
   "file_extension": ".py",
   "mimetype": "text/x-python",
   "name": "python",
   "nbconvert_exporter": "python",
   "pygments_lexer": "ipython3",
   "version": "3.6.6"
  }
 },
 "nbformat": 4,
 "nbformat_minor": 2
}
