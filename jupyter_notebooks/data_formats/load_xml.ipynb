{
 "cells": [
  {
   "cell_type": "markdown",
   "metadata": {},
   "source": [
    "multiple ways to read XML files"
   ]
  },
  {
   "cell_type": "code",
   "execution_count": 1,
   "metadata": {},
   "outputs": [],
   "source": [
    "import xmltodict\n",
    "with open('sample_menu.xml') as fd:\n",
    "    doc = xmltodict.parse(fd.read())"
   ]
  },
  {
   "cell_type": "code",
   "execution_count": 2,
   "metadata": {},
   "outputs": [
    {
     "data": {
      "text/plain": [
       "OrderedDict([('menu',\n",
       "              OrderedDict([('@id', 'file'),\n",
       "                           ('@value', 'File'),\n",
       "                           ('popup',\n",
       "                            OrderedDict([('menuitem',\n",
       "                                          [OrderedDict([('@value', 'New'),\n",
       "                                                        ('@onclick',\n",
       "                                                         'CreateNewDoc()')]),\n",
       "                                           OrderedDict([('@value', 'Open'),\n",
       "                                                        ('@onclick',\n",
       "                                                         'OpenDoc()')]),\n",
       "                                           OrderedDict([('@value', 'Close'),\n",
       "                                                        ('@onclick',\n",
       "                                                         'CloseDoc()')])])]))]))])"
      ]
     },
     "execution_count": 2,
     "metadata": {},
     "output_type": "execute_result"
    }
   ],
   "source": [
    "doc"
   ]
  },
  {
   "cell_type": "code",
   "execution_count": 3,
   "metadata": {},
   "outputs": [
    {
     "data": {
      "text/plain": [
       "[OrderedDict([('@value', 'New'), ('@onclick', 'CreateNewDoc()')]),\n",
       " OrderedDict([('@value', 'Open'), ('@onclick', 'OpenDoc()')]),\n",
       " OrderedDict([('@value', 'Close'), ('@onclick', 'CloseDoc()')])]"
      ]
     },
     "execution_count": 3,
     "metadata": {},
     "output_type": "execute_result"
    }
   ],
   "source": [
    "doc['menu']['popup']['menuitem']"
   ]
  },
  {
   "cell_type": "markdown",
   "metadata": {},
   "source": [
    "OrderedDict = order of keys matters. We can replace that with a normal dictionary"
   ]
  },
  {
   "cell_type": "code",
   "execution_count": 4,
   "metadata": {},
   "outputs": [],
   "source": [
    "#https://stackoverflow.com/questions/20166749/how-to-convert-an-ordereddict-into-a-regular-dict-in-python3\n",
    "import json\n",
    "from collections import OrderedDict\n",
    "output_dict = json.loads(json.dumps(doc))"
   ]
  },
  {
   "cell_type": "code",
   "execution_count": 5,
   "metadata": {},
   "outputs": [
    {
     "data": {
      "text/plain": [
       "{'menu': {'@id': 'file',\n",
       "  '@value': 'File',\n",
       "  'popup': {'menuitem': [{'@value': 'New', '@onclick': 'CreateNewDoc()'},\n",
       "    {'@value': 'Open', '@onclick': 'OpenDoc()'},\n",
       "    {'@value': 'Close', '@onclick': 'CloseDoc()'}]}}}"
      ]
     },
     "execution_count": 5,
     "metadata": {},
     "output_type": "execute_result"
    }
   ],
   "source": [
    "output_dict"
   ]
  },
  {
   "cell_type": "code",
   "execution_count": 6,
   "metadata": {},
   "outputs": [
    {
     "data": {
      "text/plain": [
       "[{'@value': 'New', '@onclick': 'CreateNewDoc()'},\n",
       " {'@value': 'Open', '@onclick': 'OpenDoc()'},\n",
       " {'@value': 'Close', '@onclick': 'CloseDoc()'}]"
      ]
     },
     "execution_count": 6,
     "metadata": {},
     "output_type": "execute_result"
    }
   ],
   "source": [
    "output_dict['menu']['popup']['menuitem']"
   ]
  },
  {
   "cell_type": "markdown",
   "metadata": {},
   "source": [
    "<BR>\n",
    "<BR>\n",
    "<BR>\n",
    "<BR>\n",
    "<BR>\n",
    "<BR>\n",
    "<BR>\n",
    "<BR>\n",
    "<BR>\n",
    "<BR>\n"
   ]
  },
  {
   "cell_type": "markdown",
   "metadata": {},
   "source": [
    "more libraries to explore"
   ]
  },
  {
   "cell_type": "code",
   "execution_count": 7,
   "metadata": {},
   "outputs": [
    {
     "name": "stdout",
     "output_type": "stream",
     "text": [
      "[<DOM Element: menuitem at 0x7f77f4ed5a60>, <DOM Element: menuitem at 0x7f77f4ed5af8>, <DOM Element: menuitem at 0x7f77f4ed5b90>]\n"
     ]
    }
   ],
   "source": [
    "from xml.dom import minidom\n",
    "xmldoc = minidom.parse('sample_menu.xml')\n",
    "itemlist = xmldoc.getElementsByTagName('menuitem')\n",
    "print(itemlist)"
   ]
  },
  {
   "cell_type": "code",
   "execution_count": 8,
   "metadata": {},
   "outputs": [
    {
     "data": {
      "text/plain": [
       "<Element 'menu' at 0x7f77f98787c8>"
      ]
     },
     "execution_count": 8,
     "metadata": {},
     "output_type": "execute_result"
    }
   ],
   "source": [
    "import xml.etree.ElementTree\n",
    "menu = xml.etree.ElementTree.parse('sample_menu.xml').getroot()\n",
    "menu"
   ]
  },
  {
   "cell_type": "code",
   "execution_count": null,
   "metadata": {},
   "outputs": [],
   "source": []
  }
 ],
 "metadata": {
  "kernelspec": {
   "display_name": "Python 3",
   "language": "python",
   "name": "python3"
  },
  "language_info": {
   "codemirror_mode": {
    "name": "ipython",
    "version": 3
   },
   "file_extension": ".py",
   "mimetype": "text/x-python",
   "name": "python",
   "nbconvert_exporter": "python",
   "pygments_lexer": "ipython3",
   "version": "3.6.6"
  }
 },
 "nbformat": 4,
 "nbformat_minor": 2
}
