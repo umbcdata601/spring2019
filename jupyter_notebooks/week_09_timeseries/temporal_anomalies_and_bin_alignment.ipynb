{
 "cells": [
  {
   "cell_type": "markdown",
   "metadata": {},
   "source": [
    "# analysis of timeseries bins\n",
    "\n",
    "context: Each row in the CSV is a slice of time. Two columns in the CSV contain start time and end time for each row\n",
    "\n",
    "My task was to ensure there were no anomalies in the start/end bins. This notebook previews only 3 CSVs. The original data set has about 6000 CSVs."
   ]
  },
  {
   "cell_type": "code",
   "execution_count": 1,
   "metadata": {},
   "outputs": [],
   "source": [
    "import pandas\n",
    "import matplotlib.pyplot as plt\n",
    "import numpy"
   ]
  },
  {
   "cell_type": "markdown",
   "metadata": {},
   "source": [
    "In the original dataset there were about 6000 CSVs. I decided to start by inspecting a single CSV"
   ]
  },
  {
   "cell_type": "code",
   "execution_count": 2,
   "metadata": {},
   "outputs": [
    {
     "data": {
      "text/plain": [
       "(93, 5)"
      ]
     },
     "execution_count": 2,
     "metadata": {},
     "output_type": "execute_result"
    }
   ],
   "source": [
    "df_0007 = pandas.read_csv('datasets/med_timestamp_bins/ECGV0007_fullresults_time.csv')\n",
    "df_0007.shape"
   ]
  },
  {
   "cell_type": "code",
   "execution_count": 3,
   "metadata": {},
   "outputs": [
    {
     "data": {
      "text/plain": [
       "Index(['CaseName', '   TimeFromBEGIN_Sec ', ' TimeFromEND_Sec ',\n",
       "       ' DuringOrClosestTo', ' hourinday '],\n",
       "      dtype='object')"
      ]
     },
     "execution_count": 3,
     "metadata": {},
     "output_type": "execute_result"
    }
   ],
   "source": [
    "df_0007.columns"
   ]
  },
  {
   "cell_type": "code",
   "execution_count": 6,
   "metadata": {},
   "outputs": [
    {
     "data": {
      "text/html": [
       "<div>\n",
       "<style scoped>\n",
       "    .dataframe tbody tr th:only-of-type {\n",
       "        vertical-align: middle;\n",
       "    }\n",
       "\n",
       "    .dataframe tbody tr th {\n",
       "        vertical-align: top;\n",
       "    }\n",
       "\n",
       "    .dataframe thead th {\n",
       "        text-align: right;\n",
       "    }\n",
       "</style>\n",
       "<table border=\"1\" class=\"dataframe\">\n",
       "  <thead>\n",
       "    <tr style=\"text-align: right;\">\n",
       "      <th></th>\n",
       "      <th>CaseName</th>\n",
       "      <th>TimeFromBEGIN_Sec</th>\n",
       "      <th>TimeFromEND_Sec</th>\n",
       "      <th>DuringOrClosestTo</th>\n",
       "      <th>hourinday</th>\n",
       "    </tr>\n",
       "  </thead>\n",
       "  <tbody>\n",
       "    <tr>\n",
       "      <th>0</th>\n",
       "      <td>ECGV0007</td>\n",
       "      <td>-1680.0</td>\n",
       "      <td>-1380.0</td>\n",
       "      <td>0.0</td>\n",
       "      <td>22.0</td>\n",
       "    </tr>\n",
       "    <tr>\n",
       "      <th>1</th>\n",
       "      <td>ECGV0007</td>\n",
       "      <td>-1380.0</td>\n",
       "      <td>-1080.0</td>\n",
       "      <td>0.0</td>\n",
       "      <td>22.1</td>\n",
       "    </tr>\n",
       "    <tr>\n",
       "      <th>2</th>\n",
       "      <td>ECGV0007</td>\n",
       "      <td>-1080.0</td>\n",
       "      <td>-780.0</td>\n",
       "      <td>0.0</td>\n",
       "      <td>22.2</td>\n",
       "    </tr>\n",
       "    <tr>\n",
       "      <th>3</th>\n",
       "      <td>ECGV0007</td>\n",
       "      <td>-780.0</td>\n",
       "      <td>-480.0</td>\n",
       "      <td>0.0</td>\n",
       "      <td>22.3</td>\n",
       "    </tr>\n",
       "    <tr>\n",
       "      <th>4</th>\n",
       "      <td>ECGV0007</td>\n",
       "      <td>-480.0</td>\n",
       "      <td>-180.0</td>\n",
       "      <td>0.0</td>\n",
       "      <td>22.4</td>\n",
       "    </tr>\n",
       "  </tbody>\n",
       "</table>\n",
       "</div>"
      ],
      "text/plain": [
       "    CaseName     TimeFromBEGIN_Sec    TimeFromEND_Sec    DuringOrClosestTo  \\\n",
       "0  ECGV0007                 -1680.0            -1380.0                 0.0   \n",
       "1  ECGV0007                 -1380.0            -1080.0                 0.0   \n",
       "2  ECGV0007                 -1080.0             -780.0                 0.0   \n",
       "3  ECGV0007                  -780.0             -480.0                 0.0   \n",
       "4  ECGV0007                  -480.0             -180.0                 0.0   \n",
       "\n",
       "    hourinday   \n",
       "0         22.0  \n",
       "1         22.1  \n",
       "2         22.2  \n",
       "3         22.3  \n",
       "4         22.4  "
      ]
     },
     "execution_count": 6,
     "metadata": {},
     "output_type": "execute_result"
    }
   ],
   "source": [
    "df_0007.head()"
   ]
  },
  {
   "cell_type": "code",
   "execution_count": 7,
   "metadata": {},
   "outputs": [
    {
     "data": {
      "text/html": [
       "<div>\n",
       "<style scoped>\n",
       "    .dataframe tbody tr th:only-of-type {\n",
       "        vertical-align: middle;\n",
       "    }\n",
       "\n",
       "    .dataframe tbody tr th {\n",
       "        vertical-align: top;\n",
       "    }\n",
       "\n",
       "    .dataframe thead th {\n",
       "        text-align: right;\n",
       "    }\n",
       "</style>\n",
       "<table border=\"1\" class=\"dataframe\">\n",
       "  <thead>\n",
       "    <tr style=\"text-align: right;\">\n",
       "      <th></th>\n",
       "      <th>CaseName</th>\n",
       "      <th>TimeFromBEGIN_Sec</th>\n",
       "      <th>TimeFromEND_Sec</th>\n",
       "      <th>DuringOrClosestTo</th>\n",
       "      <th>hourinday</th>\n",
       "    </tr>\n",
       "  </thead>\n",
       "  <tbody>\n",
       "    <tr>\n",
       "      <th>88</th>\n",
       "      <td>ECGV0007</td>\n",
       "      <td>24700.0</td>\n",
       "      <td>25000.0</td>\n",
       "      <td>0.0</td>\n",
       "      <td>5.38</td>\n",
       "    </tr>\n",
       "    <tr>\n",
       "      <th>89</th>\n",
       "      <td>ECGV0007</td>\n",
       "      <td>25000.0</td>\n",
       "      <td>25300.0</td>\n",
       "      <td>0.0</td>\n",
       "      <td>5.46</td>\n",
       "    </tr>\n",
       "    <tr>\n",
       "      <th>90</th>\n",
       "      <td>ECGV0007</td>\n",
       "      <td>25300.0</td>\n",
       "      <td>25600.0</td>\n",
       "      <td>0.0</td>\n",
       "      <td>5.54</td>\n",
       "    </tr>\n",
       "    <tr>\n",
       "      <th>91</th>\n",
       "      <td>ECGV0007</td>\n",
       "      <td>25600.0</td>\n",
       "      <td>25900.0</td>\n",
       "      <td>0.0</td>\n",
       "      <td>5.63</td>\n",
       "    </tr>\n",
       "    <tr>\n",
       "      <th>92</th>\n",
       "      <td>ECGV0007</td>\n",
       "      <td>25900.0</td>\n",
       "      <td>26200.0</td>\n",
       "      <td>0.0</td>\n",
       "      <td>5.71</td>\n",
       "    </tr>\n",
       "  </tbody>\n",
       "</table>\n",
       "</div>"
      ],
      "text/plain": [
       "     CaseName     TimeFromBEGIN_Sec    TimeFromEND_Sec    DuringOrClosestTo  \\\n",
       "88  ECGV0007                 24700.0            25000.0                 0.0   \n",
       "89  ECGV0007                 25000.0            25300.0                 0.0   \n",
       "90  ECGV0007                 25300.0            25600.0                 0.0   \n",
       "91  ECGV0007                 25600.0            25900.0                 0.0   \n",
       "92  ECGV0007                 25900.0            26200.0                 0.0   \n",
       "\n",
       "     hourinday   \n",
       "88         5.38  \n",
       "89         5.46  \n",
       "90         5.54  \n",
       "91         5.63  \n",
       "92         5.71  "
      ]
     },
     "execution_count": 7,
     "metadata": {},
     "output_type": "execute_result"
    }
   ],
   "source": [
    "df_0007.tail()"
   ]
  },
  {
   "cell_type": "markdown",
   "metadata": {},
   "source": [
    "As a check of this data, the \"DuringOrClosestTo\" column should have a single row with value 1; all others should be zero"
   ]
  },
  {
   "cell_type": "code",
   "execution_count": 4,
   "metadata": {},
   "outputs": [
    {
     "data": {
      "text/plain": [
       "1.0"
      ]
     },
     "execution_count": 4,
     "metadata": {},
     "output_type": "execute_result"
    }
   ],
   "source": [
    "df_0007[' DuringOrClosestTo'].sum()"
   ]
  },
  {
   "cell_type": "markdown",
   "metadata": {},
   "source": [
    "As a check of the time columns, all entries should be unique:"
   ]
  },
  {
   "cell_type": "code",
   "execution_count": 5,
   "metadata": {},
   "outputs": [
    {
     "data": {
      "text/plain": [
       "CaseName                  1\n",
       "   TimeFromBEGIN_Sec     93\n",
       " TimeFromEND_Sec         93\n",
       " DuringOrClosestTo        2\n",
       " hourinday               90\n",
       "dtype: int64"
      ]
     },
     "execution_count": 5,
     "metadata": {},
     "output_type": "execute_result"
    }
   ],
   "source": [
    "df_0007.nunique()"
   ]
  },
  {
   "cell_type": "markdown",
   "metadata": {},
   "source": [
    "We expect the time bins to be ordered and to increment"
   ]
  },
  {
   "cell_type": "code",
   "execution_count": 8,
   "metadata": {},
   "outputs": [
    {
     "data": {
      "image/png": "[encoded data removed]",
      "text/plain": [
       "<Figure size 432x288 with 1 Axes>"
      ]
     },
     "metadata": {
      "needs_background": "light"
     },
     "output_type": "display_data"
    }
   ],
   "source": [
    "_=plt.scatter(df_0007['   TimeFromBEGIN_Sec '].index,df_0007['   TimeFromBEGIN_Sec ']/60/60)\n",
    "_=plt.xlabel('index')\n",
    "#_=plt.ylabel('time in seconds')\n",
    "_=plt.ylabel('time in hours')"
   ]
  },
  {
   "cell_type": "markdown",
   "metadata": {},
   "source": [
    "The bins are sequentially ordered, so we can check for outliers in bin width"
   ]
  },
  {
   "cell_type": "code",
   "execution_count": 9,
   "metadata": {},
   "outputs": [],
   "source": [
    "df_0007['difference in seconds']=df_0007[' TimeFromEND_Sec ']-df_0007['   TimeFromBEGIN_Sec ']"
   ]
  },
  {
   "cell_type": "code",
   "execution_count": 10,
   "metadata": {},
   "outputs": [
    {
     "data": {
      "image/png": "[encoded data removed]",
      "text/plain": [
       "<Figure size 432x288 with 1 Axes>"
      ]
     },
     "metadata": {
      "needs_background": "light"
     },
     "output_type": "display_data"
    }
   ],
   "source": [
    "_=plt.scatter(df_0007['difference in seconds'].index,df_0007['difference in seconds']/60)\n",
    "_=plt.xlabel('index')\n",
    "_=plt.ylabel('time in hours')"
   ]
  },
  {
   "cell_type": "markdown",
   "metadata": {},
   "source": [
    "By visual inspection of the above figure, we can see there is an outlier!\n",
    "\n",
    "Which row contains the outlier?"
   ]
  },
  {
   "cell_type": "code",
   "execution_count": 11,
   "metadata": {},
   "outputs": [
    {
     "data": {
      "text/html": [
       "<div>\n",
       "<style scoped>\n",
       "    .dataframe tbody tr th:only-of-type {\n",
       "        vertical-align: middle;\n",
       "    }\n",
       "\n",
       "    .dataframe tbody tr th {\n",
       "        vertical-align: top;\n",
       "    }\n",
       "\n",
       "    .dataframe thead th {\n",
       "        text-align: right;\n",
       "    }\n",
       "</style>\n",
       "<table border=\"1\" class=\"dataframe\">\n",
       "  <thead>\n",
       "    <tr style=\"text-align: right;\">\n",
       "      <th></th>\n",
       "      <th>CaseName</th>\n",
       "      <th>TimeFromBEGIN_Sec</th>\n",
       "      <th>TimeFromEND_Sec</th>\n",
       "      <th>DuringOrClosestTo</th>\n",
       "      <th>hourinday</th>\n",
       "      <th>difference in seconds</th>\n",
       "    </tr>\n",
       "  </thead>\n",
       "  <tbody>\n",
       "    <tr>\n",
       "      <th>38</th>\n",
       "      <td>ECGV0007</td>\n",
       "      <td>9720.0</td>\n",
       "      <td>10000.0</td>\n",
       "      <td>0.0</td>\n",
       "      <td>1.21</td>\n",
       "      <td>280.0</td>\n",
       "    </tr>\n",
       "  </tbody>\n",
       "</table>\n",
       "</div>"
      ],
      "text/plain": [
       "     CaseName     TimeFromBEGIN_Sec    TimeFromEND_Sec    DuringOrClosestTo  \\\n",
       "38  ECGV0007                  9720.0            10000.0                 0.0   \n",
       "\n",
       "     hourinday   difference in seconds  \n",
       "38         1.21                  280.0  "
      ]
     },
     "execution_count": 11,
     "metadata": {},
     "output_type": "execute_result"
    }
   ],
   "source": [
    "df_0007[df_0007['difference in seconds']<(5*60)]"
   ]
  },
  {
   "cell_type": "markdown",
   "metadata": {},
   "source": [
    "This row is 20 seconds under the expected 5 minute bin width. \n",
    "\n",
    "Does the duration of that bin mean there's a gap?\n",
    "\n",
    "We can look at the adjacent rows"
   ]
  },
  {
   "cell_type": "code",
   "execution_count": 20,
   "metadata": {},
   "outputs": [
    {
     "data": {
      "text/html": [
       "<div>\n",
       "<style scoped>\n",
       "    .dataframe tbody tr th:only-of-type {\n",
       "        vertical-align: middle;\n",
       "    }\n",
       "\n",
       "    .dataframe tbody tr th {\n",
       "        vertical-align: top;\n",
       "    }\n",
       "\n",
       "    .dataframe thead th {\n",
       "        text-align: right;\n",
       "    }\n",
       "</style>\n",
       "<table border=\"1\" class=\"dataframe\">\n",
       "  <thead>\n",
       "    <tr style=\"text-align: right;\">\n",
       "      <th></th>\n",
       "      <th>CaseName</th>\n",
       "      <th>TimeFromBEGIN_Sec</th>\n",
       "      <th>TimeFromEND_Sec</th>\n",
       "      <th>DuringOrClosestTo</th>\n",
       "      <th>hourinday</th>\n",
       "      <th>difference in seconds</th>\n",
       "    </tr>\n",
       "  </thead>\n",
       "  <tbody>\n",
       "    <tr>\n",
       "      <th>37</th>\n",
       "      <td>ECGV0007</td>\n",
       "      <td>9420.0</td>\n",
       "      <td>9720.0</td>\n",
       "      <td>0.0</td>\n",
       "      <td>1.13</td>\n",
       "      <td>300.0</td>\n",
       "    </tr>\n",
       "    <tr>\n",
       "      <th>38</th>\n",
       "      <td>ECGV0007</td>\n",
       "      <td>9720.0</td>\n",
       "      <td>10000.0</td>\n",
       "      <td>0.0</td>\n",
       "      <td>1.21</td>\n",
       "      <td>280.0</td>\n",
       "    </tr>\n",
       "    <tr>\n",
       "      <th>39</th>\n",
       "      <td>ECGV0007</td>\n",
       "      <td>10000.0</td>\n",
       "      <td>10300.0</td>\n",
       "      <td>0.0</td>\n",
       "      <td>1.29</td>\n",
       "      <td>300.0</td>\n",
       "    </tr>\n",
       "  </tbody>\n",
       "</table>\n",
       "</div>"
      ],
      "text/plain": [
       "     CaseName     TimeFromBEGIN_Sec    TimeFromEND_Sec    DuringOrClosestTo  \\\n",
       "37  ECGV0007                  9420.0             9720.0                 0.0   \n",
       "38  ECGV0007                  9720.0            10000.0                 0.0   \n",
       "39  ECGV0007                 10000.0            10300.0                 0.0   \n",
       "\n",
       "     hourinday   difference in seconds  \n",
       "37         1.13                  300.0  \n",
       "38         1.21                  280.0  \n",
       "39         1.29                  300.0  "
      ]
     },
     "execution_count": 20,
     "metadata": {},
     "output_type": "execute_result"
    }
   ],
   "source": [
    "df_0007.loc[37:39]"
   ]
  },
  {
   "cell_type": "markdown",
   "metadata": {},
   "source": [
    "The adjacent bins indicate no gap exists even though one of the rows is shorter than the others.\n",
    "\n",
    "Are all bins contiguous? Or are there gaps?"
   ]
  },
  {
   "cell_type": "code",
   "execution_count": 12,
   "metadata": {},
   "outputs": [
    {
     "data": {
      "text/plain": [
       "[26200.0, -1680.0]"
      ]
     },
     "execution_count": 12,
     "metadata": {},
     "output_type": "execute_result"
    }
   ],
   "source": [
    "begin_times = set(list(df_0007['   TimeFromBEGIN_Sec ']))\n",
    "end_times   = set(list(df_0007[' TimeFromEND_Sec ']))\n",
    "#numpy.setdiff1d(begin_times,end_times)\n",
    "\n",
    "set_union = end_times.union(begin_times)\n",
    "set_intersection = end_times.intersection(begin_times)\n",
    "items_in_only_one_set = set_union-set_intersection\n",
    "list(items_in_only_one_set)"
   ]
  },
  {
   "cell_type": "markdown",
   "metadata": {},
   "source": [
    "This isn't conclusive, but it's a quick test of bin continuity"
   ]
  },
  {
   "cell_type": "markdown",
   "metadata": {},
   "source": [
    "# Repeat the above analysis for other CSVs"
   ]
  },
  {
   "cell_type": "code",
   "execution_count": 14,
   "metadata": {},
   "outputs": [
    {
     "data": {
      "text/plain": [
       "(98, 5)"
      ]
     },
     "execution_count": 14,
     "metadata": {},
     "output_type": "execute_result"
    }
   ],
   "source": [
    "df_0045 = pandas.read_csv('datasets/med_timestamp_bins/ECGV0045_fullresults_time.csv')\n",
    "df_0045.shape"
   ]
  },
  {
   "cell_type": "code",
   "execution_count": 15,
   "metadata": {},
   "outputs": [
    {
     "data": {
      "image/png": "[encoded data removed]",
      "text/plain": [
       "<Figure size 432x288 with 1 Axes>"
      ]
     },
     "metadata": {
      "needs_background": "light"
     },
     "output_type": "display_data"
    }
   ],
   "source": [
    "df_0045['difference in seconds']=df_0045[' TimeFromEND_Sec ']-df_0045['   TimeFromBEGIN_Sec ']\n",
    "\n",
    "_=plt.scatter(df_0045['difference in seconds'].index,df_0045['difference in seconds']/60)\n",
    "_=plt.xlabel('index')\n",
    "_=plt.ylabel('time in hours')"
   ]
  },
  {
   "cell_type": "code",
   "execution_count": 16,
   "metadata": {},
   "outputs": [
    {
     "data": {
      "text/html": [
       "<div>\n",
       "<style scoped>\n",
       "    .dataframe tbody tr th:only-of-type {\n",
       "        vertical-align: middle;\n",
       "    }\n",
       "\n",
       "    .dataframe tbody tr th {\n",
       "        vertical-align: top;\n",
       "    }\n",
       "\n",
       "    .dataframe thead th {\n",
       "        text-align: right;\n",
       "    }\n",
       "</style>\n",
       "<table border=\"1\" class=\"dataframe\">\n",
       "  <thead>\n",
       "    <tr style=\"text-align: right;\">\n",
       "      <th></th>\n",
       "      <th>CaseName</th>\n",
       "      <th>TimeFromBEGIN_Sec</th>\n",
       "      <th>TimeFromEND_Sec</th>\n",
       "      <th>DuringOrClosestTo</th>\n",
       "      <th>hourinday</th>\n",
       "      <th>difference in seconds</th>\n",
       "    </tr>\n",
       "  </thead>\n",
       "  <tbody>\n",
       "    <tr>\n",
       "      <th>33</th>\n",
       "      <td>ECGV0045</td>\n",
       "      <td>9720.0</td>\n",
       "      <td>10000.0</td>\n",
       "      <td>0.0</td>\n",
       "      <td>0.0572</td>\n",
       "      <td>280.0</td>\n",
       "    </tr>\n",
       "  </tbody>\n",
       "</table>\n",
       "</div>"
      ],
      "text/plain": [
       "     CaseName     TimeFromBEGIN_Sec    TimeFromEND_Sec    DuringOrClosestTo  \\\n",
       "33  ECGV0045                  9720.0            10000.0                 0.0   \n",
       "\n",
       "     hourinday  difference in seconds  \n",
       "33      0.0572                  280.0  "
      ]
     },
     "execution_count": 16,
     "metadata": {},
     "output_type": "execute_result"
    }
   ],
   "source": [
    "df_0045[df_0045['difference in seconds']<(5*60)]"
   ]
  },
  {
   "cell_type": "markdown",
   "metadata": {},
   "source": [
    "# and a third CSV"
   ]
  },
  {
   "cell_type": "code",
   "execution_count": 17,
   "metadata": {},
   "outputs": [
    {
     "data": {
      "text/plain": [
       "(77, 5)"
      ]
     },
     "execution_count": 17,
     "metadata": {},
     "output_type": "execute_result"
    }
   ],
   "source": [
    "df_0153 = pandas.read_csv('datasets/med_timestamp_bins/ECGV0153_fullresults_time.csv')\n",
    "df_0153.shape"
   ]
  },
  {
   "cell_type": "code",
   "execution_count": 18,
   "metadata": {},
   "outputs": [
    {
     "data": {
      "image/png": "[encoded data removed]",
      "text/plain": [
       "<Figure size 432x288 with 1 Axes>"
      ]
     },
     "metadata": {
      "needs_background": "light"
     },
     "output_type": "display_data"
    }
   ],
   "source": [
    "df_0153['difference in seconds']=df_0153[' TimeFromEND_Sec ']-df_0153['   TimeFromBEGIN_Sec ']\n",
    "\n",
    "_=plt.scatter(df_0153['difference in seconds'].index,df_0153['difference in seconds']/60)\n",
    "_=plt.xlabel('index')\n",
    "_=plt.ylabel('time in hours')"
   ]
  },
  {
   "cell_type": "code",
   "execution_count": 19,
   "metadata": {},
   "outputs": [
    {
     "data": {
      "text/html": [
       "<div>\n",
       "<style scoped>\n",
       "    .dataframe tbody tr th:only-of-type {\n",
       "        vertical-align: middle;\n",
       "    }\n",
       "\n",
       "    .dataframe tbody tr th {\n",
       "        vertical-align: top;\n",
       "    }\n",
       "\n",
       "    .dataframe thead th {\n",
       "        text-align: right;\n",
       "    }\n",
       "</style>\n",
       "<table border=\"1\" class=\"dataframe\">\n",
       "  <thead>\n",
       "    <tr style=\"text-align: right;\">\n",
       "      <th></th>\n",
       "      <th>CaseName</th>\n",
       "      <th>TimeFromBEGIN_Sec</th>\n",
       "      <th>TimeFromEND_Sec</th>\n",
       "      <th>DuringOrClosestTo</th>\n",
       "      <th>hourinday</th>\n",
       "      <th>difference in seconds</th>\n",
       "    </tr>\n",
       "  </thead>\n",
       "  <tbody>\n",
       "    <tr>\n",
       "      <th>35</th>\n",
       "      <td>ECGV0153</td>\n",
       "      <td>9780.0</td>\n",
       "      <td>10100.0</td>\n",
       "      <td>0.0</td>\n",
       "      <td>0.175</td>\n",
       "      <td>320.0</td>\n",
       "    </tr>\n",
       "  </tbody>\n",
       "</table>\n",
       "</div>"
      ],
      "text/plain": [
       "     CaseName     TimeFromBEGIN_Sec    TimeFromEND_Sec    DuringOrClosestTo  \\\n",
       "35  ECGV0153                  9780.0            10100.0                 0.0   \n",
       "\n",
       "     hourinday  difference in seconds  \n",
       "35       0.175                  320.0  "
      ]
     },
     "execution_count": 19,
     "metadata": {},
     "output_type": "execute_result"
    }
   ],
   "source": [
    "df_0153[df_0153['difference in seconds']>(5*60)]"
   ]
  },
  {
   "cell_type": "markdown",
   "metadata": {},
   "source": [
    "# Summary:\n",
    "\n",
    "We found that two of three CSVs have a single row with 20 seconds less than 5 minutes, and one CSV has a row with more than 20 seconds.\n",
    "\n",
    "Based on this, the next two steps would be\n",
    "1. investigate the full dataset, seeing if these problems exist in other CSVs\n",
    "2. speak with the data owner to understand what is causing this issue"
   ]
  },
  {
   "cell_type": "code",
   "execution_count": null,
   "metadata": {},
   "outputs": [],
   "source": []
  }
 ],
 "metadata": {
  "kernelspec": {
   "display_name": "Python 3",
   "language": "python",
   "name": "python3"
  },
  "language_info": {
   "codemirror_mode": {
    "name": "ipython",
    "version": 3
   },
   "file_extension": ".py",
   "mimetype": "text/x-python",
   "name": "python",
   "nbconvert_exporter": "python",
   "pygments_lexer": "ipython3",
   "version": "3.6.7"
  }
 },
 "nbformat": 4,
 "nbformat_minor": 2
}
