{
 "cells": [
  {
   "cell_type": "code",
   "execution_count": 1,
   "metadata": {},
   "outputs": [],
   "source": [
    "polling_period_in_seconds = 1\n",
    "monitoring_duration_in_seconds_this_notebook=1\n",
    "monitoring_duration_in_seconds_other_notebooks=600"
   ]
  },
  {
   "cell_type": "code",
   "execution_count": 2,
   "metadata": {},
   "outputs": [
    {
     "name": "stdout",
     "output_type": "stream",
     "text": [
      "ff9b09e120ce\n"
     ]
    }
   ],
   "source": [
    "!hostname"
   ]
  },
  {
   "cell_type": "code",
   "execution_count": 3,
   "metadata": {},
   "outputs": [
    {
     "name": "stdout",
     "output_type": "stream",
     "text": [
      "4.4.0\n"
     ]
    }
   ],
   "source": [
    "!jupyter --version"
   ]
  },
  {
   "cell_type": "markdown",
   "metadata": {},
   "source": [
    "https://stackoverflow.com/questions/276052/how-to-get-current-cpu-and-ram-usage-in-python\n",
    "\n",
    "https://pypi.org/project/psutil/<BR>\n",
    "https://psutil.readthedocs.io/en/latest/"
   ]
  },
  {
   "cell_type": "markdown",
   "metadata": {},
   "source": [
    "potential additional work:\n",
    "* add strace capture\n",
    " * https://github.com/blapid/strace2py\n",
    " * https://python-ptrace.readthedocs.io/en/latest/syscall.html\n",
    " * https://github.com/dirtyharrycallahan/pystrace"
   ]
  },
  {
   "cell_type": "code",
   "execution_count": 4,
   "metadata": {},
   "outputs": [
    {
     "name": "stdout",
     "output_type": "stream",
     "text": [
      "Requirement already satisfied: psutil in /opt/conda/lib/python3.6/site-packages (5.6.1)\n"
     ]
    }
   ],
   "source": [
    "!pip install psutil"
   ]
  },
  {
   "cell_type": "code",
   "execution_count": 5,
   "metadata": {},
   "outputs": [
    {
     "name": "stdout",
     "output_type": "stream",
     "text": [
      "pandas 0.23.4\n"
     ]
    }
   ],
   "source": [
    "import requests\n",
    "import json\n",
    "import subprocess\n",
    "import psutil\n",
    "import pickle\n",
    "import os\n",
    "import time\n",
    "import datetime\n",
    "import pandas\n",
    "print('pandas',pandas.__version__)\n",
    "import matplotlib.pyplot as plt"
   ]
  },
  {
   "cell_type": "raw",
   "metadata": {},
   "source": [
    "pandas.set_option('display.max_rows', 1000)\n",
    "pandas.set_option('display.max_columns', 1000)"
   ]
  },
  {
   "cell_type": "markdown",
   "metadata": {},
   "source": [
    "# one-time system details"
   ]
  },
  {
   "cell_type": "code",
   "execution_count": 6,
   "metadata": {},
   "outputs": [
    {
     "name": "stdout",
     "output_type": "stream",
     "text": [
      "None\n"
     ]
    }
   ],
   "source": [
    "print(psutil.cpu_freq())"
   ]
  },
  {
   "cell_type": "code",
   "execution_count": 7,
   "metadata": {},
   "outputs": [
    {
     "name": "stdout",
     "output_type": "stream",
     "text": [
      "798\n"
     ]
    }
   ],
   "source": [
    "pid = os.getpid()\n",
    "print(pid)"
   ]
  },
  {
   "cell_type": "code",
   "execution_count": 8,
   "metadata": {},
   "outputs": [
    {
     "name": "stdout",
     "output_type": "stream",
     "text": [
      "psutil.Process(pid=798, name='python', started='12:45:14')\n"
     ]
    }
   ],
   "source": [
    "py = psutil.Process(pid)\n",
    "print(py)"
   ]
  },
  {
   "cell_type": "code",
   "execution_count": 9,
   "metadata": {},
   "outputs": [
    {
     "data": {
      "text/plain": [
       "'python'"
      ]
     },
     "execution_count": 9,
     "metadata": {},
     "output_type": "execute_result"
    }
   ],
   "source": [
    "py.name()"
   ]
  },
  {
   "cell_type": "code",
   "execution_count": 10,
   "metadata": {},
   "outputs": [
    {
     "data": {
      "text/plain": [
       "'/opt/conda/bin/python3.6'"
      ]
     },
     "execution_count": 10,
     "metadata": {},
     "output_type": "execute_result"
    }
   ],
   "source": [
    "py.exe()"
   ]
  },
  {
   "cell_type": "code",
   "execution_count": 11,
   "metadata": {},
   "outputs": [
    {
     "data": {
      "text/plain": [
       "'/home/jovyan/week_09_timeseries/host_streaming_stats'"
      ]
     },
     "execution_count": 11,
     "metadata": {},
     "output_type": "execute_result"
    }
   ],
   "source": [
    "py.cwd()"
   ]
  },
  {
   "cell_type": "code",
   "execution_count": 12,
   "metadata": {},
   "outputs": [
    {
     "data": {
      "text/plain": [
       "['/opt/conda/bin/python',\n",
       " '-m',\n",
       " 'ipykernel_launcher',\n",
       " '-f',\n",
       " '/home/jovyan/.local/share/jupyter/runtime/kernel-cdff474c-25b7-4ed0-bc65-7b6ba587d83e.json']"
      ]
     },
     "execution_count": 12,
     "metadata": {},
     "output_type": "execute_result"
    }
   ],
   "source": [
    "py.cmdline()"
   ]
  },
  {
   "cell_type": "markdown",
   "metadata": {
    "toc-hr-collapsed": false
   },
   "source": [
    "# system performance"
   ]
  },
  {
   "cell_type": "code",
   "execution_count": 13,
   "metadata": {},
   "outputs": [
    {
     "data": {
      "text/plain": [
       "[44.7, 34.6]"
      ]
     },
     "execution_count": 13,
     "metadata": {},
     "output_type": "execute_result"
    }
   ],
   "source": [
    "# gives a single float value\n",
    "psutil.cpu_percent(percpu=True)"
   ]
  },
  {
   "cell_type": "code",
   "execution_count": 14,
   "metadata": {},
   "outputs": [
    {
     "data": {
      "text/plain": [
       "[scputimes(user=22.8, nice=0.0, system=17.9, idle=31.7, iowait=22.1, irq=0.0, softirq=5.5, steal=0.0, guest=0.0, guest_nice=0.0),\n",
       " scputimes(user=19.0, nice=0.0, system=13.9, idle=55.7, iowait=8.9, irq=0.0, softirq=2.5, steal=0.0, guest=0.0, guest_nice=0.0)]"
      ]
     },
     "execution_count": 14,
     "metadata": {},
     "output_type": "execute_result"
    }
   ],
   "source": [
    "psutil.cpu_times_percent(percpu=True)"
   ]
  },
  {
   "cell_type": "code",
   "execution_count": 15,
   "metadata": {},
   "outputs": [
    {
     "name": "stdout",
     "output_type": "stream",
     "text": [
      "{'user': 2.0, 'nice': 0.0, 'system': 0.0, 'idle': 0.0, 'iowait': 0.0, 'irq': 0.0, 'softirq': 0.0, 'steal': 0.0, 'guest': 0.0, 'guest_nice': 0.0}\n",
      "{'user': 0.0, 'nice': 0.0, 'system': 3.0, 'idle': 0.0, 'iowait': 0.0, 'irq': 0.0, 'softirq': 0.0, 'steal': 0.0, 'guest': 0.0, 'guest_nice': 0.0}\n"
     ]
    }
   ],
   "source": [
    "for reslt in psutil.cpu_times_percent(percpu=True):\n",
    "    print(dict(reslt._asdict()))"
   ]
  },
  {
   "cell_type": "code",
   "execution_count": 16,
   "metadata": {},
   "outputs": [
    {
     "data": {
      "text/plain": [
       "svmem(total=2096164864, available=1720184832, percent=17.9, used=229212160, free=1699770368, active=197160960, inactive=128303104, buffers=17334272, cached=149848064, shared=4096, slab=44593152)"
      ]
     },
     "execution_count": 16,
     "metadata": {},
     "output_type": "execute_result"
    }
   ],
   "source": [
    "# gives an object with many fields\n",
    "psutil.virtual_memory()"
   ]
  },
  {
   "cell_type": "code",
   "execution_count": 17,
   "metadata": {},
   "outputs": [
    {
     "data": {
      "text/plain": [
       "{'total': 2096164864,\n",
       " 'available': 1720172544,\n",
       " 'percent': 17.9,\n",
       " 'used': 229216256,\n",
       " 'free': 1699770368,\n",
       " 'active': 197165056,\n",
       " 'inactive': 128290816,\n",
       " 'buffers': 17334272,\n",
       " 'cached': 149843968,\n",
       " 'shared': 4096,\n",
       " 'slab': 44593152}"
      ]
     },
     "execution_count": 17,
     "metadata": {},
     "output_type": "execute_result"
    }
   ],
   "source": [
    "# you can convert that object to a dictionary \n",
    "dict(psutil.virtual_memory()._asdict())"
   ]
  },
  {
   "cell_type": "code",
   "execution_count": 18,
   "metadata": {},
   "outputs": [
    {
     "data": {
      "text/plain": [
       "{'total': 1073737728,\n",
       " 'used': 232820736,\n",
       " 'free': 840916992,\n",
       " 'percent': 21.7,\n",
       " 'sin': 1905643520,\n",
       " 'sout': 6887395328}"
      ]
     },
     "execution_count": 18,
     "metadata": {},
     "output_type": "execute_result"
    }
   ],
   "source": [
    "dict(psutil.swap_memory()._asdict())"
   ]
  },
  {
   "cell_type": "code",
   "execution_count": 19,
   "metadata": {},
   "outputs": [
    {
     "data": {
      "text/plain": [
       "{'ctx_switches': 27523344,\n",
       " 'interrupts': 12341847,\n",
       " 'soft_interrupts': 4016104,\n",
       " 'syscalls': 0}"
      ]
     },
     "execution_count": 19,
     "metadata": {},
     "output_type": "execute_result"
    }
   ],
   "source": [
    "dict(psutil.cpu_stats()._asdict())"
   ]
  },
  {
   "cell_type": "code",
   "execution_count": 20,
   "metadata": {},
   "outputs": [
    {
     "data": {
      "text/plain": [
       "dict_keys(['loop0', 'loop1', 'loop2', 'loop3', 'loop4', 'loop5', 'loop6', 'loop7', 'nbd0', 'nbd1', 'nbd2', 'nbd3', 'nbd4', 'nbd5', 'nbd6', 'nbd7', 'nbd8', 'nbd9', 'nbd10', 'nbd11', 'nbd12', 'nbd13', 'nbd14', 'nbd15', 'sda', 'sda1', 'sr0', 'sr1', 'sr2'])"
      ]
     },
     "execution_count": 20,
     "metadata": {},
     "output_type": "execute_result"
    }
   ],
   "source": [
    "psutil.disk_io_counters(perdisk=True).keys()"
   ]
  },
  {
   "cell_type": "code",
   "execution_count": 21,
   "metadata": {},
   "outputs": [
    {
     "data": {
      "text/plain": [
       "{'read_count': 0,\n",
       " 'write_count': 0,\n",
       " 'read_bytes': 0,\n",
       " 'write_bytes': 0,\n",
       " 'read_time': 0,\n",
       " 'write_time': 0,\n",
       " 'read_merged_count': 0,\n",
       " 'write_merged_count': 0,\n",
       " 'busy_time': 0}"
      ]
     },
     "execution_count": 21,
     "metadata": {},
     "output_type": "execute_result"
    }
   ],
   "source": [
    "dict(psutil.disk_io_counters(perdisk=True)['loop0']._asdict())"
   ]
  },
  {
   "cell_type": "code",
   "execution_count": 22,
   "metadata": {},
   "outputs": [
    {
     "data": {
      "text/plain": [
       "{}"
      ]
     },
     "execution_count": 22,
     "metadata": {},
     "output_type": "execute_result"
    }
   ],
   "source": [
    "psutil.sensors_temperatures()"
   ]
  },
  {
   "cell_type": "code",
   "execution_count": 23,
   "metadata": {},
   "outputs": [
    {
     "data": {
      "text/plain": [
       "{}"
      ]
     },
     "execution_count": 23,
     "metadata": {},
     "output_type": "execute_result"
    }
   ],
   "source": [
    "psutil.sensors_fans()"
   ]
  },
  {
   "cell_type": "code",
   "execution_count": 24,
   "metadata": {},
   "outputs": [],
   "source": [
    "psutil.sensors_battery()"
   ]
  },
  {
   "cell_type": "markdown",
   "metadata": {},
   "source": [
    "### put everything into a single row"
   ]
  },
  {
   "cell_type": "code",
   "execution_count": 25,
   "metadata": {},
   "outputs": [],
   "source": [
    "def row_for_system_performance(row):\n",
    "    if not isinstance(row,dict):\n",
    "        raise TypeError(\"ERROR: expected a dict as input, got\",type(row))\n",
    "        return None\n",
    "    cpu_pct_list = psutil.cpu_percent(percpu=True)\n",
    "    for indx in range(len(cpu_pct_list)):\n",
    "        row['CPU percent for '+str(indx)]=cpu_pct_list[indx]\n",
    "    \n",
    "    row['time in unix seconds']=time.time()\n",
    "    row['datetime']=datetime.datetime.utcfromtimestamp(row['time in unix seconds'])\n",
    "\n",
    "    indx=0\n",
    "    for reslt in psutil.cpu_times_percent(percpu=True):\n",
    "        indx+=1\n",
    "        for k,v in dict(reslt._asdict()).items():\n",
    "            row['CPU '+str(indx)+' times '+k]=v\n",
    "    for disk_label in psutil.disk_io_counters(perdisk=True).keys():\n",
    "        for k,v in dict(psutil.disk_io_counters(perdisk=True)[disk_label]._asdict()).items():\n",
    "            row['disk '+disk_label+' '+k]=v\n",
    "    for k,v in dict(psutil.cpu_stats()._asdict()).items():\n",
    "        row['CPU stats '+k]=v\n",
    "    for k,v in dict(psutil.virtual_memory()._asdict()).items():\n",
    "        row['system virtual memory '+k]=v\n",
    "    for k,v in dict(psutil.swap_memory()._asdict()).items():\n",
    "        row['system swap memory '+k]=v\n",
    "    return row"
   ]
  },
  {
   "cell_type": "markdown",
   "metadata": {},
   "source": [
    "# performance of current process"
   ]
  },
  {
   "cell_type": "code",
   "execution_count": 26,
   "metadata": {},
   "outputs": [
    {
     "data": {
      "text/plain": [
       "798"
      ]
     },
     "execution_count": 26,
     "metadata": {},
     "output_type": "execute_result"
    }
   ],
   "source": [
    "os.getpid()"
   ]
  },
  {
   "cell_type": "code",
   "execution_count": 27,
   "metadata": {},
   "outputs": [
    {
     "data": {
      "text/plain": [
       "int"
      ]
     },
     "execution_count": 27,
     "metadata": {},
     "output_type": "execute_result"
    }
   ],
   "source": [
    "type(os.getpid())"
   ]
  },
  {
   "cell_type": "code",
   "execution_count": 28,
   "metadata": {},
   "outputs": [
    {
     "name": "stdout",
     "output_type": "stream",
     "text": [
      "psutil.Process(pid=798, name='python', started='12:45:14')\n"
     ]
    }
   ],
   "source": [
    "py = psutil.Process(os.getpid())\n",
    "print(py)"
   ]
  },
  {
   "cell_type": "code",
   "execution_count": 29,
   "metadata": {},
   "outputs": [
    {
     "data": {
      "text/plain": [
       "{'rss': 110751744,\n",
       " 'vms': 854990848,\n",
       " 'shared': 31674368,\n",
       " 'text': 2232320,\n",
       " 'lib': 0,\n",
       " 'data': 189763584,\n",
       " 'dirty': 0}"
      ]
     },
     "execution_count": 29,
     "metadata": {},
     "output_type": "execute_result"
    }
   ],
   "source": [
    "dict(py.memory_info()._asdict())"
   ]
  },
  {
   "cell_type": "code",
   "execution_count": 30,
   "metadata": {},
   "outputs": [
    {
     "name": "stdout",
     "output_type": "stream",
     "text": [
      "memory use: 0.10314559936523438 GB\n"
     ]
    }
   ],
   "source": [
    "memoryUse = py.memory_info()[0]/2.**30  # memory use in GB...I think\n",
    "print('memory use:', memoryUse,'GB')"
   ]
  },
  {
   "cell_type": "code",
   "execution_count": 31,
   "metadata": {},
   "outputs": [
    {
     "data": {
      "text/plain": [
       "{'rss': 110751744,\n",
       " 'vms': 854990848,\n",
       " 'shared': 31674368,\n",
       " 'text': 2232320,\n",
       " 'lib': 0,\n",
       " 'data': 189763584,\n",
       " 'dirty': 0,\n",
       " 'uss': 95760384,\n",
       " 'pss': 102096896,\n",
       " 'swap': 0}"
      ]
     },
     "execution_count": 31,
     "metadata": {},
     "output_type": "execute_result"
    }
   ],
   "source": [
    "dict(py.memory_full_info()._asdict())"
   ]
  },
  {
   "cell_type": "code",
   "execution_count": 32,
   "metadata": {},
   "outputs": [
    {
     "data": {
      "text/plain": [
       "0.0"
      ]
     },
     "execution_count": 32,
     "metadata": {},
     "output_type": "execute_result"
    }
   ],
   "source": [
    "py.cpu_percent()"
   ]
  },
  {
   "cell_type": "code",
   "execution_count": 33,
   "metadata": {},
   "outputs": [
    {
     "data": {
      "text/plain": [
       "{'user': 1.9, 'system': 1.09, 'children_user': 2.34, 'children_system': 1.53}"
      ]
     },
     "execution_count": 33,
     "metadata": {},
     "output_type": "execute_result"
    }
   ],
   "source": [
    "dict(py.cpu_times()._asdict())"
   ]
  },
  {
   "cell_type": "code",
   "execution_count": 34,
   "metadata": {},
   "outputs": [
    {
     "data": {
      "text/plain": [
       "['/opt/conda/bin/python',\n",
       " '-m',\n",
       " 'ipykernel_launcher',\n",
       " '-f',\n",
       " '/home/jovyan/.local/share/jupyter/runtime/kernel-cdff474c-25b7-4ed0-bc65-7b6ba587d83e.json']"
      ]
     },
     "execution_count": 34,
     "metadata": {},
     "output_type": "execute_result"
    }
   ],
   "source": [
    "py.cmdline()"
   ]
  },
  {
   "cell_type": "code",
   "execution_count": 35,
   "metadata": {},
   "outputs": [
    {
     "data": {
      "text/plain": [
       "{'voluntary': 1759, 'involuntary': 3103}"
      ]
     },
     "execution_count": 35,
     "metadata": {},
     "output_type": "execute_result"
    }
   ],
   "source": [
    "dict(py.num_ctx_switches()._asdict())"
   ]
  },
  {
   "cell_type": "code",
   "execution_count": 36,
   "metadata": {},
   "outputs": [
    {
     "data": {
      "text/plain": [
       "{'read_count': 6566,\n",
       " 'write_count': 1260,\n",
       " 'read_bytes': 46297088,\n",
       " 'write_bytes': 4096,\n",
       " 'read_chars': 29429290,\n",
       " 'write_chars': 924937}"
      ]
     },
     "execution_count": 36,
     "metadata": {},
     "output_type": "execute_result"
    }
   ],
   "source": [
    "dict(py.io_counters()._asdict())"
   ]
  },
  {
   "cell_type": "code",
   "execution_count": 37,
   "metadata": {},
   "outputs": [],
   "source": [
    "def row_for_performance_per_pid(row,pid):\n",
    "    if not isinstance(row,dict):\n",
    "        raise TypeError(\"ERROR: expected a dict as input for row, got\",type(row))\n",
    "        return None\n",
    "    if not isinstance(pid,int):\n",
    "        raise TypeError(\"ERROR: expected a int as input for pid, got\",type(pid))\n",
    "        return None\n",
    "    \n",
    "    #if psutil.Process(pid).is_running():\n",
    "    for p in psutil.process_iter():\n",
    "        if (pid==p.pid):\n",
    "            try:\n",
    "                mem_dict=dict(psutil.Process(pid).memory_full_info()._asdict())\n",
    "            except psutil.NoSuchProcess:\n",
    "                return row\n",
    "            for k,v in mem_dict.items():\n",
    "                row['process memory: '+k]=v\n",
    "\n",
    "    try:\n",
    "        cpu_times_dict=dict(psutil.Process(pid).cpu_times()._asdict())\n",
    "    except psutil.NoSuchProcess:\n",
    "        return row\n",
    "    for k,v in cpu_times_dict.items():\n",
    "        row['process cpu times: '+k]=v\n",
    "\n",
    "    try:\n",
    "        context_switches_dict=dict(psutil.Process(pid).num_ctx_switches()._asdict())\n",
    "    except psutil.NoSuchProcess:\n",
    "        return row        \n",
    "    for k,v in context_switches_dict.items():\n",
    "        row['process number context switches: '+k]=v\n",
    "\n",
    "    try:\n",
    "        io_counter_dict = dict(psutil.Process(pid).io_counters()._asdict())\n",
    "    except psutil.NoSuchProcess:\n",
    "        return row\n",
    "    for k,v in io_counter_dict.items():\n",
    "        row['process io counters: '+k]=v\n",
    "    return row"
   ]
  },
  {
   "cell_type": "markdown",
   "metadata": {},
   "source": [
    "# gather data and create plots for this notebook"
   ]
  },
  {
   "cell_type": "code",
   "execution_count": null,
   "metadata": {},
   "outputs": [],
   "source": []
  },
  {
   "cell_type": "code",
   "execution_count": 38,
   "metadata": {},
   "outputs": [
    {
     "name": "stdout",
     "output_type": "stream",
     "text": [
      "elapsed time: 1.035003662109375 seconds\n"
     ]
    }
   ],
   "source": [
    "list_of_rows=[]\n",
    "start_time = time.time()\n",
    "for indx in range(monitoring_duration_in_seconds_this_notebook):\n",
    "    row = {}\n",
    "    row = row_for_system_performance(row)\n",
    "    row = row_for_performance_per_pid(row,os.getpid())\n",
    "    list_of_rows.append(row)\n",
    "    time.sleep(polling_period_in_seconds)\n",
    "\n",
    "print('elapsed time:',time.time()-start_time,'seconds')\n",
    "\n",
    "df = pandas.DataFrame(list_of_rows)"
   ]
  },
  {
   "cell_type": "code",
   "execution_count": 39,
   "metadata": {},
   "outputs": [
    {
     "name": "stdout",
     "output_type": "stream",
     "text": [
      "(1, 328)\n"
     ]
    },
    {
     "data": {
      "text/html": [
       "<div>\n",
       "<style scoped>\n",
       "    .dataframe tbody tr th:only-of-type {\n",
       "        vertical-align: middle;\n",
       "    }\n",
       "\n",
       "    .dataframe tbody tr th {\n",
       "        vertical-align: top;\n",
       "    }\n",
       "\n",
       "    .dataframe thead th {\n",
       "        text-align: right;\n",
       "    }\n",
       "</style>\n",
       "<table border=\"1\" class=\"dataframe\">\n",
       "  <thead>\n",
       "    <tr style=\"text-align: right;\">\n",
       "      <th></th>\n",
       "      <th>CPU 1 times guest</th>\n",
       "      <th>CPU 1 times guest_nice</th>\n",
       "      <th>CPU 1 times idle</th>\n",
       "      <th>CPU 1 times iowait</th>\n",
       "      <th>CPU 1 times irq</th>\n",
       "      <th>CPU 1 times nice</th>\n",
       "      <th>CPU 1 times softirq</th>\n",
       "      <th>CPU 1 times steal</th>\n",
       "      <th>CPU 1 times system</th>\n",
       "      <th>CPU 1 times user</th>\n",
       "      <th>...</th>\n",
       "      <th>system virtual memory buffers</th>\n",
       "      <th>system virtual memory cached</th>\n",
       "      <th>system virtual memory free</th>\n",
       "      <th>system virtual memory inactive</th>\n",
       "      <th>system virtual memory percent</th>\n",
       "      <th>system virtual memory shared</th>\n",
       "      <th>system virtual memory slab</th>\n",
       "      <th>system virtual memory total</th>\n",
       "      <th>system virtual memory used</th>\n",
       "      <th>time in unix seconds</th>\n",
       "    </tr>\n",
       "  </thead>\n",
       "  <tbody>\n",
       "    <tr>\n",
       "      <th>0</th>\n",
       "      <td>0.0</td>\n",
       "      <td>0.0</td>\n",
       "      <td>1.0</td>\n",
       "      <td>0.0</td>\n",
       "      <td>0.0</td>\n",
       "      <td>0.0</td>\n",
       "      <td>0.0</td>\n",
       "      <td>0.0</td>\n",
       "      <td>32.0</td>\n",
       "      <td>29.0</td>\n",
       "      <td>...</td>\n",
       "      <td>17334272</td>\n",
       "      <td>149848064</td>\n",
       "      <td>1698508800</td>\n",
       "      <td>128303104</td>\n",
       "      <td>18.0</td>\n",
       "      <td>4096</td>\n",
       "      <td>44642304</td>\n",
       "      <td>2096164864</td>\n",
       "      <td>230473728</td>\n",
       "      <td>1.553432e+09</td>\n",
       "    </tr>\n",
       "  </tbody>\n",
       "</table>\n",
       "<p>1 rows × 328 columns</p>\n",
       "</div>"
      ],
      "text/plain": [
       "   CPU 1 times guest  CPU 1 times guest_nice  CPU 1 times idle  \\\n",
       "0                0.0                     0.0               1.0   \n",
       "\n",
       "   CPU 1 times iowait  CPU 1 times irq  CPU 1 times nice  CPU 1 times softirq  \\\n",
       "0                 0.0              0.0               0.0                  0.0   \n",
       "\n",
       "   CPU 1 times steal  CPU 1 times system  CPU 1 times user  \\\n",
       "0                0.0                32.0              29.0   \n",
       "\n",
       "           ...           system virtual memory buffers  \\\n",
       "0          ...                                17334272   \n",
       "\n",
       "   system virtual memory cached  system virtual memory free  \\\n",
       "0                     149848064                  1698508800   \n",
       "\n",
       "   system virtual memory inactive  system virtual memory percent  \\\n",
       "0                       128303104                           18.0   \n",
       "\n",
       "   system virtual memory shared  system virtual memory slab  \\\n",
       "0                          4096                    44642304   \n",
       "\n",
       "   system virtual memory total  system virtual memory used  \\\n",
       "0                   2096164864                   230473728   \n",
       "\n",
       "   time in unix seconds  \n",
       "0          1.553432e+09  \n",
       "\n",
       "[1 rows x 328 columns]"
      ]
     },
     "execution_count": 39,
     "metadata": {},
     "output_type": "execute_result"
    }
   ],
   "source": [
    "print(df.shape)\n",
    "df.head()"
   ]
  },
  {
   "cell_type": "code",
   "execution_count": 40,
   "metadata": {},
   "outputs": [],
   "source": [
    "df.to_pickle(\"single_process_df_this_notebook_\"+str(time.time())+\".pkl\")\n",
    "\n",
    "#df = pandas.read_pickle(\"single_process_df_this_notebook_1552783848.2168732.pkl\")"
   ]
  },
  {
   "cell_type": "code",
   "execution_count": 41,
   "metadata": {},
   "outputs": [],
   "source": [
    "def scatter_plot_column(df,col_name):\n",
    "    if not isinstance(df,pandas.core.frame.DataFrame):\n",
    "        raise TypeError('ERROR: expected input of type dataframe, got',type(df))\n",
    "        return None\n",
    "    if not isinstance(col_name,str):\n",
    "        raise TypeError('ERROR: expected input of type str, got',type(col_name))\n",
    "        return None\n",
    "    plt.plot_date(x=df['datetime'],y=df[col_name])\n",
    "    plt.xticks(rotation=40)\n",
    "    _=plt.ylabel(col_name,fontsize=14)\n",
    "    _=plt.xlabel('time',fontsize=14)\n",
    "    plt.show()\n",
    "    return"
   ]
  },
  {
   "cell_type": "raw",
   "metadata": {},
   "source": [
    "for col_name in df.columns:\n",
    "    if 'seconds' not in col_name:\n",
    "#        plt.scatter(x=df['time in unix seconds'],y=df[col_name])\n",
    "        scatter_plot_column(df,col_name)\n",
    "    else:\n",
    "        print(col_name)"
   ]
  },
  {
   "cell_type": "code",
   "execution_count": null,
   "metadata": {},
   "outputs": [],
   "source": []
  },
  {
   "cell_type": "markdown",
   "metadata": {},
   "source": [
    "# track other notebooks\n",
    "\n",
    "Plan: associate pid with each notebook kernel ID, then track the stats for that notebook by pid\n",
    "\n",
    "works even when the kernel of the other notebook is restarted\n",
    "\n",
    "detects when new newbook kernels being added\n",
    "\n",
    "https://github.com/iiSeymour/nbtop/blob/master/nbtop/main.py"
   ]
  },
  {
   "cell_type": "markdown",
   "metadata": {},
   "source": [
    "### get a list of all active sessions"
   ]
  },
  {
   "cell_type": "code",
   "execution_count": 42,
   "metadata": {},
   "outputs": [
    {
     "data": {
      "text/plain": [
       "200"
      ]
     },
     "execution_count": 42,
     "metadata": {},
     "output_type": "execute_result"
    }
   ],
   "source": [
    "r = requests.get('http://localhost:8888/api/sessions')\n",
    "r.status_code"
   ]
  },
  {
   "cell_type": "code",
   "execution_count": 43,
   "metadata": {},
   "outputs": [
    {
     "data": {
      "text/plain": [
       "{'id': '634f6b06-0d01-4880-8165-8508ac87fe6a',\n",
       " 'path': 'week_09_timeseries/host_streaming_stats/host_cpu_and_memory.ipynb',\n",
       " 'name': 'host_cpu_and_memory.ipynb',\n",
       " 'type': 'notebook',\n",
       " 'kernel': {'id': 'cdff474c-25b7-4ed0-bc65-7b6ba587d83e',\n",
       "  'name': 'python3',\n",
       "  'last_activity': '2019-03-24T12:45:24.851626Z',\n",
       "  'execution_state': 'busy',\n",
       "  'connections': 1},\n",
       " 'notebook': {'path': 'week_09_timeseries/host_streaming_stats/host_cpu_and_memory.ipynb',\n",
       "  'name': 'host_cpu_and_memory.ipynb'}}"
      ]
     },
     "execution_count": 43,
     "metadata": {},
     "output_type": "execute_result"
    }
   ],
   "source": [
    "list_of_kernel_dicts = r.json()\n",
    "list_of_kernel_dicts[0]"
   ]
  },
  {
   "cell_type": "markdown",
   "metadata": {},
   "source": [
    "### from json returned from API, we can extract the notebook kernel IDs"
   ]
  },
  {
   "cell_type": "code",
   "execution_count": 44,
   "metadata": {},
   "outputs": [
    {
     "name": "stdout",
     "output_type": "stream",
     "text": [
      "notebook kernel IDs:\n",
      "cdff474c-25b7-4ed0-bc65-7b6ba587d83e\n",
      "01a5b1a8-2c46-416e-8241-67d9786046ba\n"
     ]
    }
   ],
   "source": [
    "print('notebook kernel IDs:')\n",
    "for notebook_indx in range(len(list_of_kernel_dicts)):\n",
    "    print(list_of_kernel_dicts[notebook_indx]['kernel']['id'])"
   ]
  },
  {
   "cell_type": "markdown",
   "metadata": {},
   "source": [
    "### get a list of all pids\n",
    " https://github.com/giampaolo/psutil/issues/132"
   ]
  },
  {
   "cell_type": "code",
   "execution_count": 45,
   "metadata": {},
   "outputs": [
    {
     "name": "stdout",
     "output_type": "stream",
     "text": [
      "all processes running:\n",
      "psutil.Process(pid=1, name='tini', started='00:07:27')\n",
      "psutil.Process(pid=7, name='jupyter-lab', started='00:07:27')\n",
      "psutil.Process(pid=783, name='python', started='12:11:04')\n",
      "psutil.Process(pid=798, name='python', started='12:45:14')\n"
     ]
    }
   ],
   "source": [
    "print('all processes running:')\n",
    "for p in psutil.process_iter():\n",
    "    try:\n",
    "        print(p)\n",
    "    except psutil.NoSuchProcess:\n",
    "        pass"
   ]
  },
  {
   "cell_type": "markdown",
   "metadata": {},
   "source": [
    "### get pid for each notebook"
   ]
  },
  {
   "cell_type": "code",
   "execution_count": 46,
   "metadata": {},
   "outputs": [],
   "source": [
    "def get_all_kernel_pids():\n",
    "    dict_of_jupyter_kernel_pids = {}\n",
    "    for p in psutil.process_iter():\n",
    "        list_of_commands_per_process = psutil.Process(p.pid).cmdline()\n",
    "#        print(list_of_commands_per_process)\n",
    "        if ('ipykernel_launcher' in list_of_commands_per_process):\n",
    "            dict_of_jupyter_kernel_pids[p.pid] = list_of_commands_per_process[len(list_of_commands_per_process)-1]\n",
    "        \n",
    "    return dict_of_jupyter_kernel_pids"
   ]
  },
  {
   "cell_type": "code",
   "execution_count": 47,
   "metadata": {},
   "outputs": [
    {
     "data": {
      "text/plain": [
       "{783: '/home/jovyan/.local/share/jupyter/runtime/kernel-01a5b1a8-2c46-416e-8241-67d9786046ba.json',\n",
       " 798: '/home/jovyan/.local/share/jupyter/runtime/kernel-cdff474c-25b7-4ed0-bc65-7b6ba587d83e.json'}"
      ]
     },
     "execution_count": 47,
     "metadata": {},
     "output_type": "execute_result"
    }
   ],
   "source": [
    "dict_of_jupyter_kernel_pids = get_all_kernel_pids()\n",
    "dict_of_jupyter_kernel_pids"
   ]
  },
  {
   "cell_type": "markdown",
   "metadata": {},
   "source": [
    "### (alternative method) use `ps -ax` to get the relevant pid for notebooks\n",
    "\n",
    "not in use"
   ]
  },
  {
   "cell_type": "raw",
   "metadata": {},
   "source": [
    "dict_of_jupyter_kernel_pids = {}\n",
    "for this_line in subprocess.Popen(['ps', 'ax'], stdout=subprocess.PIPE).communicate()[0].decode().split('\\n'):\n",
    "#    print(this_line.strip())\n",
    "    if (this_line.strip().endswith('.json') and ('ipykernel_launcher' in this_line)):\n",
    "        dict_of_jupyter_kernel_pids[this_line.strip().split(' ')[0]] = this_line\n",
    "        \n",
    "dict_of_jupyter_kernel_pids"
   ]
  },
  {
   "cell_type": "markdown",
   "metadata": {},
   "source": [
    "### add pid to dict containing kernel information"
   ]
  },
  {
   "cell_type": "code",
   "execution_count": 48,
   "metadata": {},
   "outputs": [],
   "source": [
    "def add_pid_to_kernel_dict(dict_of_jupyter_kernel_pids,list_of_kernel_dicts):\n",
    "    if not isinstance(dict_of_jupyter_kernel_pids,dict):\n",
    "        raise TypeError(\"ERROR: expected a dict as input for dict_of_jupyter_kernel_pids, got\",type(dict_of_jupyter_kernel_pids))\n",
    "        return None\n",
    "    if not isinstance(list_of_kernel_dicts,list):\n",
    "        raise TypeError(\"ERROR: expected a list as input for list_of_kernel_dicts, got\",type(list_of_kernel_dicts))\n",
    "        return None\n",
    "    for pid,kernel_path in dict_of_jupyter_kernel_pids.items():\n",
    "        for notebook_indx in range(len(list_of_kernel_dicts)):\n",
    "            if (list_of_kernel_dicts[notebook_indx]['kernel']['id'] in kernel_path):\n",
    "#                print(pid,'is',list_of_kernel_dicts[notebook_indx],'\\n')\n",
    "                list_of_kernel_dicts[notebook_indx]['pid']=pid\n",
    "    for kernel_dict in list_of_kernel_dicts:\n",
    "        if 'pid' not in kernel_dict.keys():\n",
    "            print('this kernel_dict is missing a pid:')\n",
    "            print(kernel_dict)\n",
    "            print('and the list of PIDs is')\n",
    "            print(dict_of_jupyter_kernel_pids)\n",
    "    return list_of_kernel_dicts"
   ]
  },
  {
   "cell_type": "code",
   "execution_count": 49,
   "metadata": {},
   "outputs": [],
   "source": [
    "list_of_kernel_dicts= add_pid_to_kernel_dict(dict_of_jupyter_kernel_pids,list_of_kernel_dicts)"
   ]
  },
  {
   "cell_type": "code",
   "execution_count": 50,
   "metadata": {},
   "outputs": [
    {
     "data": {
      "text/plain": [
       "[{'id': '634f6b06-0d01-4880-8165-8508ac87fe6a',\n",
       "  'path': 'week_09_timeseries/host_streaming_stats/host_cpu_and_memory.ipynb',\n",
       "  'name': 'host_cpu_and_memory.ipynb',\n",
       "  'type': 'notebook',\n",
       "  'kernel': {'id': 'cdff474c-25b7-4ed0-bc65-7b6ba587d83e',\n",
       "   'name': 'python3',\n",
       "   'last_activity': '2019-03-24T12:45:24.851626Z',\n",
       "   'execution_state': 'busy',\n",
       "   'connections': 1},\n",
       "  'notebook': {'path': 'week_09_timeseries/host_streaming_stats/host_cpu_and_memory.ipynb',\n",
       "   'name': 'host_cpu_and_memory.ipynb'},\n",
       "  'pid': 798},\n",
       " {'id': 'db69d3a6-8727-47ca-987e-a734cea23799',\n",
       "  'path': 'backblaze/convert_zip_files_to_pkl.ipynb',\n",
       "  'name': 'convert_zip_files_to_pkl.ipynb',\n",
       "  'type': 'notebook',\n",
       "  'kernel': {'id': '01a5b1a8-2c46-416e-8241-67d9786046ba',\n",
       "   'name': 'python3',\n",
       "   'last_activity': '2019-03-24T12:11:09.160605Z',\n",
       "   'execution_state': 'starting',\n",
       "   'connections': 2},\n",
       "  'notebook': {'path': 'backblaze/convert_zip_files_to_pkl.ipynb',\n",
       "   'name': 'convert_zip_files_to_pkl.ipynb'},\n",
       "  'pid': 783}]"
      ]
     },
     "execution_count": 50,
     "metadata": {},
     "output_type": "execute_result"
    }
   ],
   "source": [
    "list_of_kernel_dicts"
   ]
  },
  {
   "cell_type": "markdown",
   "metadata": {},
   "source": [
    "### which kernels are not this notebook?"
   ]
  },
  {
   "cell_type": "code",
   "execution_count": 51,
   "metadata": {},
   "outputs": [],
   "source": [
    "def kernel_dicts_other_notebooks(list_of_kernel_dicts):\n",
    "    if not isinstance(list_of_kernel_dicts,list):\n",
    "        raise TypeError(\"ERROR: expected a list as input for list_of_kernel_dicts, got\",type(list_of_kernel_dicts))\n",
    "        return None\n",
    "    list_of_kernel_dicts_for_other_notebooks=[]\n",
    "    for kernel_dict in list_of_kernel_dicts:\n",
    "        if 'pid' in kernel_dict.keys():\n",
    "            if (str(os.getpid())!=str(kernel_dict['pid'])):\n",
    "                list_of_kernel_dicts_for_other_notebooks.append(kernel_dict)\n",
    "        else:\n",
    "            print('pid not found in key for kernel_dicts')\n",
    "            print(list_of_kernel_dicts)\n",
    "    return list_of_kernel_dicts_for_other_notebooks"
   ]
  },
  {
   "cell_type": "code",
   "execution_count": 52,
   "metadata": {},
   "outputs": [
    {
     "data": {
      "text/plain": [
       "[{'id': 'db69d3a6-8727-47ca-987e-a734cea23799',\n",
       "  'path': 'backblaze/convert_zip_files_to_pkl.ipynb',\n",
       "  'name': 'convert_zip_files_to_pkl.ipynb',\n",
       "  'type': 'notebook',\n",
       "  'kernel': {'id': '01a5b1a8-2c46-416e-8241-67d9786046ba',\n",
       "   'name': 'python3',\n",
       "   'last_activity': '2019-03-24T12:11:09.160605Z',\n",
       "   'execution_state': 'starting',\n",
       "   'connections': 2},\n",
       "  'notebook': {'path': 'backblaze/convert_zip_files_to_pkl.ipynb',\n",
       "   'name': 'convert_zip_files_to_pkl.ipynb'},\n",
       "  'pid': 783}]"
      ]
     },
     "execution_count": 52,
     "metadata": {},
     "output_type": "execute_result"
    }
   ],
   "source": [
    "list_of_kernel_dicts_for_other_notebooks = kernel_dicts_other_notebooks(list_of_kernel_dicts)\n",
    "list_of_kernel_dicts_for_other_notebooks"
   ]
  },
  {
   "cell_type": "code",
   "execution_count": 53,
   "metadata": {},
   "outputs": [],
   "source": [
    "def get_other_kernel_pids(list_of_kernel_dicts_for_other_notebooks,\n",
    "                          url_for_api_sessions='http://localhost:8888/api/sessions'):\n",
    "    if not isinstance(list_of_kernel_dicts_for_other_notebooks,list):\n",
    "        raise TypeError(\"ERROR: expected a list as input for list_of_kernel_dicts_for_other_notebooks, got\",type(list_of_kernel_dicts_for_other_notebooks))\n",
    "        return None\n",
    "\n",
    "    list_of_kernel_dicts = requests.get(url_for_api_sessions).json()\n",
    "    dict_of_jupyter_kernel_pids = get_all_kernel_pids()\n",
    "    list_of_kernel_dicts= add_pid_to_kernel_dict(dict_of_jupyter_kernel_pids,list_of_kernel_dicts)\n",
    "    current_list_of_kernel_dicts_for_other_notebooks = kernel_dicts_other_notebooks(list_of_kernel_dicts)\n",
    "\n",
    "    list_of_pids_in_previous=[]\n",
    "    for old_dict in list_of_kernel_dicts_for_other_notebooks:\n",
    "        list_of_pids_in_previous.append(old_dict['pid'])\n",
    "    for curr_dict in current_list_of_kernel_dicts_for_other_notebooks:\n",
    "        if (curr_dict['pid'] not in list_of_pids_in_previous):\n",
    "            list_of_kernel_dicts_for_other_notebooks.append(curr_dict)\n",
    "    return list_of_kernel_dicts_for_other_notebooks"
   ]
  },
  {
   "cell_type": "markdown",
   "metadata": {},
   "source": [
    "# collect data for other notebook and create plots"
   ]
  },
  {
   "cell_type": "code",
   "execution_count": 54,
   "metadata": {},
   "outputs": [],
   "source": [
    "#monitoring_duration_in_seconds_other_notebooks=60 # 60 queries takes 63 seconds"
   ]
  },
  {
   "cell_type": "code",
   "execution_count": 55,
   "metadata": {},
   "outputs": [
    {
     "name": "stdout",
     "output_type": "stream",
     "text": [
      "there are 1 other kernels\n",
      "\n",
      "kernel count changed from 1\n",
      "to 2\n",
      "elapsed time: 51.59217977523804 seconds\n",
      "[{'id': 'db69d3a6-8727-47ca-987e-a734cea23799', 'path': 'backblaze/convert_zip_files_to_pkl.ipynb', 'name': 'convert_zip_files_to_pkl.ipynb', 'type': 'notebook', 'kernel': {'id': '01a5b1a8-2c46-416e-8241-67d9786046ba', 'name': 'python3', 'last_activity': '2019-03-24T12:11:09.160605Z', 'execution_state': 'starting', 'connections': 2}, 'notebook': {'path': 'backblaze/convert_zip_files_to_pkl.ipynb', 'name': 'convert_zip_files_to_pkl.ipynb'}, 'pid': 783}, {'id': '4a4d2267-9e77-4aa9-89c6-474ccb04a3a5', 'path': 'backblaze/quarterly_pkl_to_metrics_pkls.ipynb', 'name': 'quarterly_pkl_to_metrics_pkls.ipynb', 'type': 'notebook', 'kernel': {'id': '3463627e-bb28-460a-a35e-c49986405cbc', 'name': 'python3', 'last_activity': '2019-03-24T12:46:16.696101Z', 'execution_state': 'starting', 'connections': 0}, 'notebook': {'path': 'backblaze/quarterly_pkl_to_metrics_pkls.ipynb', 'name': 'quarterly_pkl_to_metrics_pkls.ipynb'}, 'pid': 826}]\n",
      "\n",
      "kernel count changed from 2\n",
      "to 3\n",
      "elapsed time: 443.34077548980713 seconds\n",
      "[{'id': 'db69d3a6-8727-47ca-987e-a734cea23799', 'path': 'backblaze/convert_zip_files_to_pkl.ipynb', 'name': 'convert_zip_files_to_pkl.ipynb', 'type': 'notebook', 'kernel': {'id': '01a5b1a8-2c46-416e-8241-67d9786046ba', 'name': 'python3', 'last_activity': '2019-03-24T12:11:09.160605Z', 'execution_state': 'starting', 'connections': 2}, 'notebook': {'path': 'backblaze/convert_zip_files_to_pkl.ipynb', 'name': 'convert_zip_files_to_pkl.ipynb'}, 'pid': 783}, {'id': '4a4d2267-9e77-4aa9-89c6-474ccb04a3a5', 'path': 'backblaze/quarterly_pkl_to_metrics_pkls.ipynb', 'name': 'quarterly_pkl_to_metrics_pkls.ipynb', 'type': 'notebook', 'kernel': {'id': '3463627e-bb28-460a-a35e-c49986405cbc', 'name': 'python3', 'last_activity': '2019-03-24T12:46:16.696101Z', 'execution_state': 'starting', 'connections': 0}, 'notebook': {'path': 'backblaze/quarterly_pkl_to_metrics_pkls.ipynb', 'name': 'quarterly_pkl_to_metrics_pkls.ipynb'}, 'pid': 826}, {'id': 'db69d3a6-8727-47ca-987e-a734cea23799', 'path': 'backblaze/convert_zip_files_to_pkl.ipynb', 'name': 'convert_zip_files_to_pkl.ipynb', 'type': 'notebook', 'kernel': {'id': '01a5b1a8-2c46-416e-8241-67d9786046ba', 'name': 'python3', 'last_activity': '2019-03-24T12:52:48.544805Z', 'execution_state': 'busy', 'connections': 0}, 'notebook': {'path': 'backblaze/convert_zip_files_to_pkl.ipynb', 'name': 'convert_zip_files_to_pkl.ipynb'}, 'pid': 841}]\n",
      "\n",
      "kernel count changed from 3\n",
      "to 4\n",
      "elapsed time: 482.558002948761 seconds\n",
      "[{'id': 'db69d3a6-8727-47ca-987e-a734cea23799', 'path': 'backblaze/convert_zip_files_to_pkl.ipynb', 'name': 'convert_zip_files_to_pkl.ipynb', 'type': 'notebook', 'kernel': {'id': '01a5b1a8-2c46-416e-8241-67d9786046ba', 'name': 'python3', 'last_activity': '2019-03-24T12:11:09.160605Z', 'execution_state': 'starting', 'connections': 2}, 'notebook': {'path': 'backblaze/convert_zip_files_to_pkl.ipynb', 'name': 'convert_zip_files_to_pkl.ipynb'}, 'pid': 783}, {'id': '4a4d2267-9e77-4aa9-89c6-474ccb04a3a5', 'path': 'backblaze/quarterly_pkl_to_metrics_pkls.ipynb', 'name': 'quarterly_pkl_to_metrics_pkls.ipynb', 'type': 'notebook', 'kernel': {'id': '3463627e-bb28-460a-a35e-c49986405cbc', 'name': 'python3', 'last_activity': '2019-03-24T12:46:16.696101Z', 'execution_state': 'starting', 'connections': 0}, 'notebook': {'path': 'backblaze/quarterly_pkl_to_metrics_pkls.ipynb', 'name': 'quarterly_pkl_to_metrics_pkls.ipynb'}, 'pid': 826}, {'id': 'db69d3a6-8727-47ca-987e-a734cea23799', 'path': 'backblaze/convert_zip_files_to_pkl.ipynb', 'name': 'convert_zip_files_to_pkl.ipynb', 'type': 'notebook', 'kernel': {'id': '01a5b1a8-2c46-416e-8241-67d9786046ba', 'name': 'python3', 'last_activity': '2019-03-24T12:52:48.544805Z', 'execution_state': 'busy', 'connections': 0}, 'notebook': {'path': 'backblaze/convert_zip_files_to_pkl.ipynb', 'name': 'convert_zip_files_to_pkl.ipynb'}, 'pid': 841}, {'id': 'db69d3a6-8727-47ca-987e-a734cea23799', 'path': 'backblaze/convert_zip_files_to_pkl.ipynb', 'name': 'convert_zip_files_to_pkl.ipynb', 'type': 'notebook', 'kernel': {'id': '01a5b1a8-2c46-416e-8241-67d9786046ba', 'name': 'python3', 'last_activity': '2019-03-24T12:53:27.762818Z', 'execution_state': 'busy', 'connections': 0}, 'notebook': {'path': 'backblaze/convert_zip_files_to_pkl.ipynb', 'name': 'convert_zip_files_to_pkl.ipynb'}, 'pid': 857}]\n",
      "elapsed time: 672.1950623989105 seconds\n"
     ]
    }
   ],
   "source": [
    "nb_dict={}\n",
    "list_of_kernel_dicts_for_other_notebooks = get_other_kernel_pids([])\n",
    "print('there are',len(list_of_kernel_dicts_for_other_notebooks),'other kernels')\n",
    "prev_kernel_count = len(list_of_kernel_dicts_for_other_notebooks)\n",
    "\n",
    "start_time = time.time()\n",
    "for indx in range(monitoring_duration_in_seconds_other_notebooks):\n",
    "    row = {}\n",
    "    system_row = row_for_system_performance(row)\n",
    "\n",
    "    # detect new notebook kernels\n",
    "    list_of_kernel_dicts_for_other_notebooks = get_other_kernel_pids(list_of_kernel_dicts_for_other_notebooks)\n",
    "    if len(list_of_kernel_dicts_for_other_notebooks)!=prev_kernel_count:\n",
    "        print('\\nkernel count changed from',prev_kernel_count)\n",
    "        prev_kernel_count=len(list_of_kernel_dicts_for_other_notebooks)\n",
    "        print('to',prev_kernel_count)\n",
    "        print('elapsed time:',time.time()-start_time,'seconds')\n",
    "        print(list_of_kernel_dicts_for_other_notebooks)\n",
    "    \n",
    "    for other_nb in list_of_kernel_dicts_for_other_notebooks:\n",
    "        row = row_for_performance_per_pid(system_row,int(other_nb['pid']))\n",
    "        try:\n",
    "            nb_dict[other_nb['pid']].append(row)\n",
    "        except KeyError: # new pid for new kernel\n",
    "            nb_dict[other_nb['pid']] = []\n",
    "            nb_dict[other_nb['pid']].append(row)\n",
    "    time.sleep(polling_period_in_seconds)\n",
    "\n",
    "    #print('elapsed time:',time.time()-start_time,'seconds')\n",
    "print('elapsed time:',time.time()-start_time,'seconds')\n",
    "\n",
    "nb_df = {}\n",
    "for other_nb in list_of_kernel_dicts_for_other_notebooks:\n",
    "    nb_df[other_nb['pid']] = pandas.DataFrame(nb_dict[other_nb['pid']])"
   ]
  },
  {
   "cell_type": "code",
   "execution_count": 56,
   "metadata": {},
   "outputs": [
    {
     "data": {
      "text/plain": [
       "dict_keys([783, 826, 841, 857])"
      ]
     },
     "execution_count": 56,
     "metadata": {},
     "output_type": "execute_result"
    }
   ],
   "source": [
    "nb_df.keys()"
   ]
  },
  {
   "cell_type": "code",
   "execution_count": 57,
   "metadata": {},
   "outputs": [],
   "source": [
    "for indx in range(len(list_of_kernel_dicts_for_other_notebooks)):\n",
    "    nb_pid = list_of_kernel_dicts_for_other_notebooks[indx]['pid']\n",
    "    list_of_kernel_dicts_for_other_notebooks[indx]['df']=nb_df[nb_pid]"
   ]
  },
  {
   "cell_type": "code",
   "execution_count": 58,
   "metadata": {},
   "outputs": [],
   "source": [
    "with open(\"list_of_df_other_notebooks_\"+str(time.time())+\".pkl\", 'wb') as handle:\n",
    "    pickle.dump(list_of_kernel_dicts_for_other_notebooks, handle, protocol=pickle.HIGHEST_PROTOCOL)\n",
    "\n",
    "#with open('filename.pickle', 'rb') as handle:\n",
    "#   list_of_kernel_dicts_for_other_notebooks = pickle.load(handle)"
   ]
  },
  {
   "cell_type": "code",
   "execution_count": null,
   "metadata": {},
   "outputs": [],
   "source": []
  },
  {
   "cell_type": "code",
   "execution_count": null,
   "metadata": {},
   "outputs": [],
   "source": []
  }
 ],
 "metadata": {
  "kernelspec": {
   "display_name": "Python 3",
   "language": "python",
   "name": "python3"
  },
  "language_info": {
   "codemirror_mode": {
    "name": "ipython",
    "version": 3
   },
   "file_extension": ".py",
   "mimetype": "text/x-python",
   "name": "python",
   "nbconvert_exporter": "python",
   "pygments_lexer": "ipython3",
   "version": "3.6.7"
  }
 },
 "nbformat": 4,
 "nbformat_minor": 2
}
