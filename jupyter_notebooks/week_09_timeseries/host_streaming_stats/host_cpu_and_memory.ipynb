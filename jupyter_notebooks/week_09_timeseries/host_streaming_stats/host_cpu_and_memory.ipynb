{
 "cells": [
  {
   "cell_type": "markdown",
   "metadata": {},
   "source": [
    "https://stackoverflow.com/questions/276052/how-to-get-current-cpu-and-ram-usage-in-python\n",
    "\n",
    "https://pypi.org/project/psutil/<BR>\n",
    "https://psutil.readthedocs.io/en/latest/"
   ]
  },
  {
   "cell_type": "code",
   "execution_count": null,
   "metadata": {},
   "outputs": [],
   "source": [
    "!pip install psutil"
   ]
  },
  {
   "cell_type": "code",
   "execution_count": null,
   "metadata": {},
   "outputs": [],
   "source": [
    "import requests\n",
    "import json\n",
    "import subprocess\n",
    "import psutil\n",
    "import pickle\n",
    "import os\n",
    "import time\n",
    "import datetime\n",
    "import pandas\n",
    "import matplotlib.pyplot as plt"
   ]
  },
  {
   "cell_type": "markdown",
   "metadata": {},
   "source": [
    "# one-time system details"
   ]
  },
  {
   "cell_type": "code",
   "execution_count": null,
   "metadata": {},
   "outputs": [],
   "source": [
    "print(psutil.cpu_freq())"
   ]
  },
  {
   "cell_type": "code",
   "execution_count": null,
   "metadata": {},
   "outputs": [],
   "source": [
    "pid = os.getpid()\n",
    "print(pid)"
   ]
  },
  {
   "cell_type": "code",
   "execution_count": null,
   "metadata": {},
   "outputs": [],
   "source": [
    "py = psutil.Process(pid)\n",
    "print(py)"
   ]
  },
  {
   "cell_type": "code",
   "execution_count": null,
   "metadata": {},
   "outputs": [],
   "source": [
    "py.name()"
   ]
  },
  {
   "cell_type": "code",
   "execution_count": null,
   "metadata": {},
   "outputs": [],
   "source": [
    "py.exe()"
   ]
  },
  {
   "cell_type": "code",
   "execution_count": null,
   "metadata": {},
   "outputs": [],
   "source": [
    "py.cwd()"
   ]
  },
  {
   "cell_type": "code",
   "execution_count": null,
   "metadata": {},
   "outputs": [],
   "source": [
    "py.cmdline()"
   ]
  },
  {
   "cell_type": "markdown",
   "metadata": {},
   "source": [
    "# system performance"
   ]
  },
  {
   "cell_type": "code",
   "execution_count": null,
   "metadata": {},
   "outputs": [],
   "source": [
    "# gives a single float value\n",
    "psutil.cpu_percent(percpu=True)"
   ]
  },
  {
   "cell_type": "code",
   "execution_count": null,
   "metadata": {},
   "outputs": [],
   "source": [
    "psutil.cpu_times_percent(percpu=True)"
   ]
  },
  {
   "cell_type": "code",
   "execution_count": null,
   "metadata": {},
   "outputs": [],
   "source": [
    "for reslt in psutil.cpu_times_percent(percpu=True):\n",
    "    print(dict(reslt._asdict()))"
   ]
  },
  {
   "cell_type": "code",
   "execution_count": null,
   "metadata": {},
   "outputs": [],
   "source": [
    "# gives an object with many fields\n",
    "psutil.virtual_memory()"
   ]
  },
  {
   "cell_type": "code",
   "execution_count": null,
   "metadata": {},
   "outputs": [],
   "source": [
    "# you can convert that object to a dictionary \n",
    "dict(psutil.virtual_memory()._asdict())"
   ]
  },
  {
   "cell_type": "code",
   "execution_count": null,
   "metadata": {},
   "outputs": [],
   "source": [
    "dict(psutil.swap_memory()._asdict())"
   ]
  },
  {
   "cell_type": "code",
   "execution_count": null,
   "metadata": {},
   "outputs": [],
   "source": [
    "dict(psutil.cpu_stats()._asdict())"
   ]
  },
  {
   "cell_type": "code",
   "execution_count": null,
   "metadata": {},
   "outputs": [],
   "source": [
    "psutil.disk_io_counters(perdisk=True).keys()"
   ]
  },
  {
   "cell_type": "code",
   "execution_count": null,
   "metadata": {},
   "outputs": [],
   "source": [
    "dict(psutil.disk_io_counters(perdisk=True)['loop0']._asdict())"
   ]
  },
  {
   "cell_type": "code",
   "execution_count": null,
   "metadata": {},
   "outputs": [],
   "source": [
    "psutil.sensors_temperatures()"
   ]
  },
  {
   "cell_type": "code",
   "execution_count": null,
   "metadata": {},
   "outputs": [],
   "source": [
    "psutil.sensors_fans()"
   ]
  },
  {
   "cell_type": "code",
   "execution_count": null,
   "metadata": {},
   "outputs": [],
   "source": [
    "psutil.sensors_battery()"
   ]
  },
  {
   "cell_type": "markdown",
   "metadata": {},
   "source": [
    "### put everything into a single row"
   ]
  },
  {
   "cell_type": "code",
   "execution_count": null,
   "metadata": {},
   "outputs": [],
   "source": [
    "def row_for_system_performance(row):\n",
    "    if not isinstance(row,dict):\n",
    "        print(\"ERROR: expected a dict as input\")\n",
    "        return None\n",
    "    cpu_pct_list = psutil.cpu_percent(percpu=True)\n",
    "    for indx in range(len(cpu_pct_list)):\n",
    "        row['CPU percent for '+str(indx)]=cpu_pct_list[indx]\n",
    "    \n",
    "    row['time in unix seconds']=time.time()\n",
    "    row['datetime']=datetime.datetime.utcfromtimestamp(row['time in unix seconds'])\n",
    "\n",
    "    indx=0\n",
    "    for reslt in psutil.cpu_times_percent(percpu=True):\n",
    "        indx+=1\n",
    "        for k,v in dict(reslt._asdict()).items():\n",
    "            row['CPU '+str(indx)+' times '+k]=v\n",
    "    for disk_label in psutil.disk_io_counters(perdisk=True).keys():\n",
    "        for k,v in dict(psutil.disk_io_counters(perdisk=True)['loop0']._asdict()).items():\n",
    "            row['disk '+disk_label+' '+k]=v\n",
    "    for k,v in dict(psutil.cpu_stats()._asdict()).items():\n",
    "        row['CPU stats '+k]=v\n",
    "    for k,v in dict(psutil.virtual_memory()._asdict()).items():\n",
    "        row['system virtual memory '+k]=v\n",
    "    for k,v in dict(psutil.swap_memory()._asdict()).items():\n",
    "        row['system swap memory '+k]=v\n",
    "    return row"
   ]
  },
  {
   "cell_type": "markdown",
   "metadata": {},
   "source": [
    "# performance of current process"
   ]
  },
  {
   "cell_type": "code",
   "execution_count": null,
   "metadata": {},
   "outputs": [],
   "source": [
    "os.getpid()"
   ]
  },
  {
   "cell_type": "code",
   "execution_count": null,
   "metadata": {},
   "outputs": [],
   "source": [
    "type(os.getpid())"
   ]
  },
  {
   "cell_type": "code",
   "execution_count": null,
   "metadata": {},
   "outputs": [],
   "source": [
    "py = psutil.Process(os.getpid())\n",
    "print(py)"
   ]
  },
  {
   "cell_type": "code",
   "execution_count": null,
   "metadata": {},
   "outputs": [],
   "source": [
    "dict(py.memory_info()._asdict())"
   ]
  },
  {
   "cell_type": "code",
   "execution_count": null,
   "metadata": {},
   "outputs": [],
   "source": [
    "memoryUse = py.memory_info()[0]/2.**30  # memory use in GB...I think\n",
    "print('memory use:', memoryUse,'GB')"
   ]
  },
  {
   "cell_type": "code",
   "execution_count": null,
   "metadata": {},
   "outputs": [],
   "source": [
    "dict(py.memory_full_info()._asdict())"
   ]
  },
  {
   "cell_type": "code",
   "execution_count": null,
   "metadata": {},
   "outputs": [],
   "source": [
    "py.cpu_percent()"
   ]
  },
  {
   "cell_type": "code",
   "execution_count": null,
   "metadata": {},
   "outputs": [],
   "source": [
    "dict(py.cpu_times()._asdict())"
   ]
  },
  {
   "cell_type": "code",
   "execution_count": null,
   "metadata": {},
   "outputs": [],
   "source": [
    "py.cmdline()"
   ]
  },
  {
   "cell_type": "code",
   "execution_count": null,
   "metadata": {},
   "outputs": [],
   "source": [
    "dict(py.num_ctx_switches()._asdict())"
   ]
  },
  {
   "cell_type": "code",
   "execution_count": null,
   "metadata": {},
   "outputs": [],
   "source": [
    "dict(py.io_counters()._asdict())"
   ]
  },
  {
   "cell_type": "code",
   "execution_count": null,
   "metadata": {},
   "outputs": [],
   "source": [
    "def row_for_performance_per_pid(row,pid):\n",
    "    if not isinstance(row,dict):\n",
    "        print(\"ERROR: expected a dict as input for row\")\n",
    "        return None\n",
    "    if not isinstance(pid,int):\n",
    "        print(\"ERROR: expected a int as input for pid\")\n",
    "        return None\n",
    "    for k,v in dict(psutil.Process(pid).memory_full_info()._asdict()).items():\n",
    "        row['process memory: '+k]=v\n",
    "    for k,v in dict(py.cpu_times()._asdict()).items():\n",
    "        row['process cpu times: '+k]=v\n",
    "    for k,v in dict(py.num_ctx_switches()._asdict()).items():\n",
    "        row['process number context switches: '+k]=v\n",
    "    for k,v in dict(py.io_counters()._asdict()).items():\n",
    "        row['process io counters: '+k]=v\n",
    "    return row"
   ]
  },
  {
   "cell_type": "markdown",
   "metadata": {},
   "source": [
    "# gather data and create plots"
   ]
  },
  {
   "cell_type": "code",
   "execution_count": null,
   "metadata": {},
   "outputs": [],
   "source": [
    "list_of_rows=[]\n",
    "start_time = time.time()\n",
    "for indx in range(10):\n",
    "    row = {}\n",
    "    row = row_for_system_performance(row)\n",
    "    row = row_for_performance_per_pid(row,os.getpid())\n",
    "    list_of_rows.append(row)\n",
    "    time.sleep(1)\n",
    "\n",
    "print('elapsed time:',time.time()-start_time,'seconds')\n",
    "\n",
    "df = pandas.DataFrame(list_of_rows)"
   ]
  },
  {
   "cell_type": "code",
   "execution_count": null,
   "metadata": {},
   "outputs": [],
   "source": [
    "print(df.shape)\n",
    "df.head()"
   ]
  },
  {
   "cell_type": "code",
   "execution_count": null,
   "metadata": {},
   "outputs": [],
   "source": [
    "df.to_pickle(\"single_process_df_this_notebook_\"+str(time.time())+\".pkl\")\n",
    "\n",
    "#df = pandas.read_pickle(\"single_process_df_this_notebook_1552783848.2168732.pkl\")"
   ]
  },
  {
   "cell_type": "code",
   "execution_count": null,
   "metadata": {},
   "outputs": [],
   "source": [
    "for col_name in df.columns:\n",
    "    if 'seconds' not in col_name:\n",
    "#        plt.scatter(x=df['time in unix seconds'],y=df[col_name])\n",
    "        plt.plot_date(x=df['datetime'],y=df[col_name])\n",
    "        plt.xticks(rotation=40)\n",
    "        _=plt.ylabel(col_name,fontsize=14)\n",
    "        _=plt.xlabel('time',fontsize=14)\n",
    "        plt.show()\n",
    "    else:\n",
    "        print(col_name)"
   ]
  },
  {
   "cell_type": "code",
   "execution_count": null,
   "metadata": {},
   "outputs": [],
   "source": []
  },
  {
   "cell_type": "markdown",
   "metadata": {},
   "source": [
    "# track other notebooks\n",
    "\n",
    "Plan: associate pid with each notebook kernel ID, then track the stats for that notebook by pid"
   ]
  },
  {
   "cell_type": "markdown",
   "metadata": {},
   "source": [
    "### get a list of all active sessions"
   ]
  },
  {
   "cell_type": "code",
   "execution_count": null,
   "metadata": {},
   "outputs": [],
   "source": [
    "r = requests.get('http://localhost:8888/api/sessions')\n",
    "r.status_code"
   ]
  },
  {
   "cell_type": "code",
   "execution_count": null,
   "metadata": {},
   "outputs": [],
   "source": [
    "list_of_kernel_dicts = r.json()\n",
    "list_of_kernel_dicts[0]"
   ]
  },
  {
   "cell_type": "markdown",
   "metadata": {},
   "source": [
    "### from json returned from API, we can extract the notebook kernel IDs"
   ]
  },
  {
   "cell_type": "code",
   "execution_count": null,
   "metadata": {},
   "outputs": [],
   "source": [
    "print('notebook kernel IDs:')\n",
    "for notebook_indx in range(len(list_of_kernel_dicts)):\n",
    "    print(list_of_kernel_dicts[notebook_indx]['kernel']['id'])"
   ]
  },
  {
   "cell_type": "markdown",
   "metadata": {},
   "source": [
    "### get a list of all pids"
   ]
  },
  {
   "cell_type": "code",
   "execution_count": null,
   "metadata": {},
   "outputs": [],
   "source": [
    "print('all processes running:')\n",
    "for p in psutil.process_iter():\n",
    "    print(p)"
   ]
  },
  {
   "cell_type": "markdown",
   "metadata": {},
   "source": [
    "### get pid for each notebook"
   ]
  },
  {
   "cell_type": "code",
   "execution_count": null,
   "metadata": {},
   "outputs": [],
   "source": [
    "dict_of_jupyter_kernel_pids = {}\n",
    "for p in psutil.process_iter():\n",
    "    list_of_commands_per_process = psutil.Process(p.pid).cmdline()\n",
    "#    print(list_of_commands_per_process)\n",
    "    if ('ipykernel_launcher' in list_of_commands_per_process):\n",
    "        dict_of_jupyter_kernel_pids[p.pid] = list_of_commands_per_process[len(list_of_commands_per_process)-1]\n",
    "        \n",
    "dict_of_jupyter_kernel_pids"
   ]
  },
  {
   "cell_type": "markdown",
   "metadata": {},
   "source": [
    "### (alternative method) use `ps -ax` to get the relevant pid for notebooks\n",
    "\n",
    "not in use"
   ]
  },
  {
   "cell_type": "raw",
   "metadata": {},
   "source": [
    "dict_of_jupyter_kernel_pids = {}\n",
    "for this_line in subprocess.Popen(['ps', 'ax'], stdout=subprocess.PIPE).communicate()[0].decode().split('\\n'):\n",
    "#    print(this_line.strip())\n",
    "    if (this_line.strip().endswith('.json') and ('ipykernel_launcher' in this_line)):\n",
    "        dict_of_jupyter_kernel_pids[this_line.strip().split(' ')[0]] = this_line\n",
    "        \n",
    "dict_of_jupyter_kernel_pids"
   ]
  },
  {
   "cell_type": "markdown",
   "metadata": {},
   "source": [
    "### add pid to dict containing kernel information"
   ]
  },
  {
   "cell_type": "code",
   "execution_count": null,
   "metadata": {},
   "outputs": [],
   "source": [
    "for pid,kernel_path in dict_of_jupyter_kernel_pids.items():\n",
    "    for notebook_indx in range(len(list_of_kernel_dicts)):\n",
    "        if (list_of_kernel_dicts[notebook_indx]['kernel']['id'] in kernel_path):\n",
    "#            print(pid,'is',list_of_kernel_dicts[notebook_indx],'\\n')\n",
    "            list_of_kernel_dicts[notebook_indx]['pid']=pid"
   ]
  },
  {
   "cell_type": "code",
   "execution_count": null,
   "metadata": {},
   "outputs": [],
   "source": [
    "list_of_kernel_dicts"
   ]
  },
  {
   "cell_type": "markdown",
   "metadata": {},
   "source": [
    "### which kernels are not this notebook?"
   ]
  },
  {
   "cell_type": "code",
   "execution_count": null,
   "metadata": {},
   "outputs": [],
   "source": [
    "list_of_kernel_dicts_for_other_notebooks=[]\n",
    "for kernel_dict in list_of_kernel_dicts:\n",
    "    if (str(os.getpid())!=str(kernel_dict['pid'])):\n",
    "        list_of_kernel_dicts_for_other_notebooks.append(kernel_dict)"
   ]
  },
  {
   "cell_type": "code",
   "execution_count": null,
   "metadata": {},
   "outputs": [],
   "source": [
    "list_of_kernel_dicts_for_other_notebooks"
   ]
  },
  {
   "cell_type": "markdown",
   "metadata": {},
   "source": [
    "# collect data for other notebook and create plots"
   ]
  },
  {
   "cell_type": "code",
   "execution_count": null,
   "metadata": {},
   "outputs": [],
   "source": [
    "nb_dict={}\n",
    "for other_nb in list_of_kernel_dicts_for_other_notebooks:\n",
    "    nb_dict[other_nb['pid']] = []\n",
    "\n",
    "start_time = time.time()\n",
    "for indx in range(10):\n",
    "    row = {}\n",
    "    system_row = row_for_system_performance(row)\n",
    "    for other_nb in list_of_kernel_dicts_for_other_notebooks:\n",
    "        row = row_for_performance_per_pid(system_row,int(other_nb['pid']))\n",
    "        nb_dict[other_nb['pid']].append(row)\n",
    "    time.sleep(1)\n",
    "\n",
    "print('elapsed time:',time.time()-start_time,'seconds')\n",
    "\n",
    "nb_df = {}\n",
    "for other_nb in list_of_kernel_dicts_for_other_notebooks:\n",
    "    nb_df[other_nb['pid']] = pandas.DataFrame(nb_dict[other_nb['pid']])"
   ]
  },
  {
   "cell_type": "code",
   "execution_count": null,
   "metadata": {},
   "outputs": [],
   "source": [
    "nb_df.keys()"
   ]
  },
  {
   "cell_type": "code",
   "execution_count": null,
   "metadata": {},
   "outputs": [],
   "source": [
    "df = nb_df[list(nb_df.keys())[0]]\n",
    "df.head()"
   ]
  },
  {
   "cell_type": "code",
   "execution_count": null,
   "metadata": {},
   "outputs": [],
   "source": [
    "for col_name in df.columns:\n",
    "    if 'seconds' not in col_name:\n",
    "#        plt.scatter(x=df['time in unix seconds'],y=df[col_name])\n",
    "        plt.plot_date(x=df['datetime'],y=df[col_name])\n",
    "        plt.xticks(rotation=40)\n",
    "        _=plt.ylabel(col_name,fontsize=14)\n",
    "        _=plt.xlabel('time',fontsize=14)\n",
    "        plt.show()\n",
    "    else:\n",
    "        print(col_name)"
   ]
  },
  {
   "cell_type": "code",
   "execution_count": null,
   "metadata": {},
   "outputs": [],
   "source": []
  }
 ],
 "metadata": {
  "kernelspec": {
   "display_name": "Python 3",
   "language": "python",
   "name": "python3"
  },
  "language_info": {
   "codemirror_mode": {
    "name": "ipython",
    "version": 3
   },
   "file_extension": ".py",
   "mimetype": "text/x-python",
   "name": "python",
   "nbconvert_exporter": "python",
   "pygments_lexer": "ipython3",
   "version": "3.6.7"
  }
 },
 "nbformat": 4,
 "nbformat_minor": 2
}
