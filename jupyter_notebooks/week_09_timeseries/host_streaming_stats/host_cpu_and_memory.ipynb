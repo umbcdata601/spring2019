{
 "cells": [
  {
   "cell_type": "code",
   "execution_count": 1,
   "metadata": {},
   "outputs": [
    {
     "name": "stdout",
     "output_type": "stream",
     "text": [
      "cf53b32e0db4\n"
     ]
    }
   ],
   "source": [
    "!hostname"
   ]
  },
  {
   "cell_type": "code",
   "execution_count": 2,
   "metadata": {},
   "outputs": [
    {
     "name": "stdout",
     "output_type": "stream",
     "text": [
      "4.4.0\n"
     ]
    }
   ],
   "source": [
    "!jupyter --version"
   ]
  },
  {
   "cell_type": "markdown",
   "metadata": {},
   "source": [
    "https://stackoverflow.com/questions/276052/how-to-get-current-cpu-and-ram-usage-in-python\n",
    "\n",
    "https://pypi.org/project/psutil/<BR>\n",
    "https://psutil.readthedocs.io/en/latest/"
   ]
  },
  {
   "cell_type": "markdown",
   "metadata": {},
   "source": [
    "potential additional work:\n",
    "* add strace capture\n",
    " * https://github.com/blapid/strace2py\n",
    " * https://python-ptrace.readthedocs.io/en/latest/syscall.html\n",
    " * https://github.com/dirtyharrycallahan/pystrace"
   ]
  },
  {
   "cell_type": "code",
   "execution_count": 3,
   "metadata": {},
   "outputs": [
    {
     "name": "stdout",
     "output_type": "stream",
     "text": [
      "Requirement already satisfied: psutil in /opt/conda/lib/python3.6/site-packages (5.6.1)\n"
     ]
    }
   ],
   "source": [
    "!pip install psutil"
   ]
  },
  {
   "cell_type": "code",
   "execution_count": 4,
   "metadata": {},
   "outputs": [
    {
     "name": "stdout",
     "output_type": "stream",
     "text": [
      "pandas 0.23.4\n"
     ]
    }
   ],
   "source": [
    "import requests\n",
    "import json\n",
    "import subprocess\n",
    "import psutil\n",
    "import pickle\n",
    "import os\n",
    "import time\n",
    "import datetime\n",
    "import pandas\n",
    "print('pandas',pandas.__version__)\n",
    "import matplotlib.pyplot as plt"
   ]
  },
  {
   "cell_type": "raw",
   "metadata": {},
   "source": [
    "pandas.set_option('display.max_rows', 1000)\n",
    "pandas.set_option('display.max_columns', 1000)"
   ]
  },
  {
   "cell_type": "markdown",
   "metadata": {},
   "source": [
    "# one-time system details"
   ]
  },
  {
   "cell_type": "code",
   "execution_count": 5,
   "metadata": {},
   "outputs": [
    {
     "name": "stdout",
     "output_type": "stream",
     "text": [
      "None\n"
     ]
    }
   ],
   "source": [
    "print(psutil.cpu_freq())"
   ]
  },
  {
   "cell_type": "code",
   "execution_count": 6,
   "metadata": {},
   "outputs": [
    {
     "name": "stdout",
     "output_type": "stream",
     "text": [
      "260\n"
     ]
    }
   ],
   "source": [
    "pid = os.getpid()\n",
    "print(pid)"
   ]
  },
  {
   "cell_type": "code",
   "execution_count": 7,
   "metadata": {},
   "outputs": [
    {
     "name": "stdout",
     "output_type": "stream",
     "text": [
      "psutil.Process(pid=260, name='python', started='01:42:16')\n"
     ]
    }
   ],
   "source": [
    "py = psutil.Process(pid)\n",
    "print(py)"
   ]
  },
  {
   "cell_type": "code",
   "execution_count": 8,
   "metadata": {},
   "outputs": [
    {
     "data": {
      "text/plain": [
       "'python'"
      ]
     },
     "execution_count": 8,
     "metadata": {},
     "output_type": "execute_result"
    }
   ],
   "source": [
    "py.name()"
   ]
  },
  {
   "cell_type": "code",
   "execution_count": 9,
   "metadata": {},
   "outputs": [
    {
     "data": {
      "text/plain": [
       "'/opt/conda/bin/python3.6'"
      ]
     },
     "execution_count": 9,
     "metadata": {},
     "output_type": "execute_result"
    }
   ],
   "source": [
    "py.exe()"
   ]
  },
  {
   "cell_type": "code",
   "execution_count": 10,
   "metadata": {},
   "outputs": [
    {
     "data": {
      "text/plain": [
       "'/home/jovyan/jupyter_notebooks/week_09_timeseries/host_streaming_stats'"
      ]
     },
     "execution_count": 10,
     "metadata": {},
     "output_type": "execute_result"
    }
   ],
   "source": [
    "py.cwd()"
   ]
  },
  {
   "cell_type": "code",
   "execution_count": 11,
   "metadata": {},
   "outputs": [
    {
     "data": {
      "text/plain": [
       "['/opt/conda/bin/python',\n",
       " '-m',\n",
       " 'ipykernel_launcher',\n",
       " '-f',\n",
       " '/home/jovyan/.local/share/jupyter/runtime/kernel-047727fb-9390-40aa-ab15-ad3be786761b.json']"
      ]
     },
     "execution_count": 11,
     "metadata": {},
     "output_type": "execute_result"
    }
   ],
   "source": [
    "py.cmdline()"
   ]
  },
  {
   "cell_type": "markdown",
   "metadata": {
    "toc-hr-collapsed": false
   },
   "source": [
    "# system performance"
   ]
  },
  {
   "cell_type": "code",
   "execution_count": 12,
   "metadata": {},
   "outputs": [
    {
     "data": {
      "text/plain": [
       "[35.8, 88.7]"
      ]
     },
     "execution_count": 12,
     "metadata": {},
     "output_type": "execute_result"
    }
   ],
   "source": [
    "# gives a single float value\n",
    "psutil.cpu_percent(percpu=True)"
   ]
  },
  {
   "cell_type": "code",
   "execution_count": 13,
   "metadata": {},
   "outputs": [
    {
     "data": {
      "text/plain": [
       "[scputimes(user=14.9, nice=0.0, system=25.4, idle=59.6, iowait=0.0, irq=0.0, softirq=0.0, steal=0.0, guest=0.0, guest_nice=0.0),\n",
       " scputimes(user=68.3, nice=0.0, system=21.1, idle=9.8, iowait=0.8, irq=0.0, softirq=0.0, steal=0.0, guest=0.0, guest_nice=0.0)]"
      ]
     },
     "execution_count": 13,
     "metadata": {},
     "output_type": "execute_result"
    }
   ],
   "source": [
    "psutil.cpu_times_percent(percpu=True)"
   ]
  },
  {
   "cell_type": "code",
   "execution_count": 14,
   "metadata": {},
   "outputs": [
    {
     "name": "stdout",
     "output_type": "stream",
     "text": [
      "{'user': 1.0, 'nice': 0.0, 'system': 3.0, 'idle': 1.0, 'iowait': 0.0, 'irq': 0.0, 'softirq': 0.0, 'steal': 0.0, 'guest': 0.0, 'guest_nice': 0.0}\n",
      "{'user': 3.0, 'nice': 0.0, 'system': 2.0, 'idle': 0.0, 'iowait': 0.0, 'irq': 0.0, 'softirq': 0.0, 'steal': 0.0, 'guest': 0.0, 'guest_nice': 0.0}\n"
     ]
    }
   ],
   "source": [
    "for reslt in psutil.cpu_times_percent(percpu=True):\n",
    "    print(dict(reslt._asdict()))"
   ]
  },
  {
   "cell_type": "code",
   "execution_count": 15,
   "metadata": {},
   "outputs": [
    {
     "data": {
      "text/plain": [
       "svmem(total=2096164864, available=1217142784, percent=41.9, used=712642560, free=79200256, active=793460736, inactive=1110032384, buffers=67842048, cached=1236480000, shared=544768, slab=83767296)"
      ]
     },
     "execution_count": 15,
     "metadata": {},
     "output_type": "execute_result"
    }
   ],
   "source": [
    "# gives an object with many fields\n",
    "psutil.virtual_memory()"
   ]
  },
  {
   "cell_type": "code",
   "execution_count": 16,
   "metadata": {},
   "outputs": [
    {
     "data": {
      "text/plain": [
       "{'total': 2096164864,\n",
       " 'available': 1217142784,\n",
       " 'percent': 41.9,\n",
       " 'used': 712642560,\n",
       " 'free': 79200256,\n",
       " 'active': 793460736,\n",
       " 'inactive': 1110032384,\n",
       " 'buffers': 67842048,\n",
       " 'cached': 1236480000,\n",
       " 'shared': 544768,\n",
       " 'slab': 83767296}"
      ]
     },
     "execution_count": 16,
     "metadata": {},
     "output_type": "execute_result"
    }
   ],
   "source": [
    "# you can convert that object to a dictionary \n",
    "dict(psutil.virtual_memory()._asdict())"
   ]
  },
  {
   "cell_type": "code",
   "execution_count": 17,
   "metadata": {},
   "outputs": [
    {
     "data": {
      "text/plain": [
       "{'total': 1073737728,\n",
       " 'used': 765952,\n",
       " 'free': 1072971776,\n",
       " 'percent': 0.1,\n",
       " 'sin': 0,\n",
       " 'sout': 765952}"
      ]
     },
     "execution_count": 17,
     "metadata": {},
     "output_type": "execute_result"
    }
   ],
   "source": [
    "dict(psutil.swap_memory()._asdict())"
   ]
  },
  {
   "cell_type": "code",
   "execution_count": 18,
   "metadata": {},
   "outputs": [
    {
     "data": {
      "text/plain": [
       "{'ctx_switches': 2298170,\n",
       " 'interrupts': 1076202,\n",
       " 'soft_interrupts': 439624,\n",
       " 'syscalls': 0}"
      ]
     },
     "execution_count": 18,
     "metadata": {},
     "output_type": "execute_result"
    }
   ],
   "source": [
    "dict(psutil.cpu_stats()._asdict())"
   ]
  },
  {
   "cell_type": "code",
   "execution_count": 19,
   "metadata": {},
   "outputs": [
    {
     "data": {
      "text/plain": [
       "dict_keys(['loop0', 'loop1', 'loop2', 'loop3', 'loop4', 'loop5', 'loop6', 'loop7', 'nbd0', 'nbd1', 'nbd2', 'nbd3', 'nbd4', 'nbd5', 'nbd6', 'nbd7', 'nbd8', 'nbd9', 'nbd10', 'nbd11', 'nbd12', 'nbd13', 'nbd14', 'nbd15', 'sda', 'sda1', 'sr0', 'sr1', 'sr2'])"
      ]
     },
     "execution_count": 19,
     "metadata": {},
     "output_type": "execute_result"
    }
   ],
   "source": [
    "psutil.disk_io_counters(perdisk=True).keys()"
   ]
  },
  {
   "cell_type": "code",
   "execution_count": 20,
   "metadata": {},
   "outputs": [
    {
     "data": {
      "text/plain": [
       "{'read_count': 0,\n",
       " 'write_count': 0,\n",
       " 'read_bytes': 0,\n",
       " 'write_bytes': 0,\n",
       " 'read_time': 0,\n",
       " 'write_time': 0,\n",
       " 'read_merged_count': 0,\n",
       " 'write_merged_count': 0,\n",
       " 'busy_time': 0}"
      ]
     },
     "execution_count": 20,
     "metadata": {},
     "output_type": "execute_result"
    }
   ],
   "source": [
    "dict(psutil.disk_io_counters(perdisk=True)['loop0']._asdict())"
   ]
  },
  {
   "cell_type": "code",
   "execution_count": 21,
   "metadata": {},
   "outputs": [
    {
     "data": {
      "text/plain": [
       "{}"
      ]
     },
     "execution_count": 21,
     "metadata": {},
     "output_type": "execute_result"
    }
   ],
   "source": [
    "psutil.sensors_temperatures()"
   ]
  },
  {
   "cell_type": "code",
   "execution_count": 22,
   "metadata": {},
   "outputs": [
    {
     "data": {
      "text/plain": [
       "{}"
      ]
     },
     "execution_count": 22,
     "metadata": {},
     "output_type": "execute_result"
    }
   ],
   "source": [
    "psutil.sensors_fans()"
   ]
  },
  {
   "cell_type": "code",
   "execution_count": 23,
   "metadata": {},
   "outputs": [],
   "source": [
    "psutil.sensors_battery()"
   ]
  },
  {
   "cell_type": "markdown",
   "metadata": {},
   "source": [
    "### put everything into a single row"
   ]
  },
  {
   "cell_type": "code",
   "execution_count": 24,
   "metadata": {},
   "outputs": [],
   "source": [
    "def row_for_system_performance(row):\n",
    "    if not isinstance(row,dict):\n",
    "        raise TypeError(\"ERROR: expected a dict as input, got\",type(row))\n",
    "        return None\n",
    "    cpu_pct_list = psutil.cpu_percent(percpu=True)\n",
    "    for indx in range(len(cpu_pct_list)):\n",
    "        row['CPU percent for '+str(indx)]=cpu_pct_list[indx]\n",
    "    \n",
    "    row['time in unix seconds']=time.time()\n",
    "    row['datetime']=datetime.datetime.utcfromtimestamp(row['time in unix seconds'])\n",
    "\n",
    "    indx=0\n",
    "    for reslt in psutil.cpu_times_percent(percpu=True):\n",
    "        indx+=1\n",
    "        for k,v in dict(reslt._asdict()).items():\n",
    "            row['CPU '+str(indx)+' times '+k]=v\n",
    "    for disk_label in psutil.disk_io_counters(perdisk=True).keys():\n",
    "        for k,v in dict(psutil.disk_io_counters(perdisk=True)[disk_label]._asdict()).items():\n",
    "            row['disk '+disk_label+' '+k]=v\n",
    "    for k,v in dict(psutil.cpu_stats()._asdict()).items():\n",
    "        row['CPU stats '+k]=v\n",
    "    for k,v in dict(psutil.virtual_memory()._asdict()).items():\n",
    "        row['system virtual memory '+k]=v\n",
    "    for k,v in dict(psutil.swap_memory()._asdict()).items():\n",
    "        row['system swap memory '+k]=v\n",
    "    return row"
   ]
  },
  {
   "cell_type": "markdown",
   "metadata": {},
   "source": [
    "# performance of current process"
   ]
  },
  {
   "cell_type": "code",
   "execution_count": 25,
   "metadata": {},
   "outputs": [
    {
     "data": {
      "text/plain": [
       "260"
      ]
     },
     "execution_count": 25,
     "metadata": {},
     "output_type": "execute_result"
    }
   ],
   "source": [
    "os.getpid()"
   ]
  },
  {
   "cell_type": "code",
   "execution_count": 26,
   "metadata": {},
   "outputs": [
    {
     "data": {
      "text/plain": [
       "int"
      ]
     },
     "execution_count": 26,
     "metadata": {},
     "output_type": "execute_result"
    }
   ],
   "source": [
    "type(os.getpid())"
   ]
  },
  {
   "cell_type": "code",
   "execution_count": 27,
   "metadata": {},
   "outputs": [
    {
     "name": "stdout",
     "output_type": "stream",
     "text": [
      "psutil.Process(pid=260, name='python', started='01:42:16')\n"
     ]
    }
   ],
   "source": [
    "py = psutil.Process(os.getpid())\n",
    "print(py)"
   ]
  },
  {
   "cell_type": "code",
   "execution_count": 28,
   "metadata": {},
   "outputs": [
    {
     "data": {
      "text/plain": [
       "{'rss': 110833664,\n",
       " 'vms': 854986752,\n",
       " 'shared': 31940608,\n",
       " 'text': 2232320,\n",
       " 'lib': 0,\n",
       " 'data': 189538304,\n",
       " 'dirty': 0}"
      ]
     },
     "execution_count": 28,
     "metadata": {},
     "output_type": "execute_result"
    }
   ],
   "source": [
    "dict(py.memory_info()._asdict())"
   ]
  },
  {
   "cell_type": "code",
   "execution_count": 29,
   "metadata": {},
   "outputs": [
    {
     "name": "stdout",
     "output_type": "stream",
     "text": [
      "memory use: 0.10322189331054688 GB\n"
     ]
    }
   ],
   "source": [
    "memoryUse = py.memory_info()[0]/2.**30  # memory use in GB...I think\n",
    "print('memory use:', memoryUse,'GB')"
   ]
  },
  {
   "cell_type": "code",
   "execution_count": 30,
   "metadata": {},
   "outputs": [
    {
     "data": {
      "text/plain": [
       "{'rss': 110833664,\n",
       " 'vms': 854986752,\n",
       " 'shared': 31940608,\n",
       " 'text': 2232320,\n",
       " 'lib': 0,\n",
       " 'data': 189538304,\n",
       " 'dirty': 0,\n",
       " 'uss': 79613952,\n",
       " 'pss': 87251968,\n",
       " 'swap': 0}"
      ]
     },
     "execution_count": 30,
     "metadata": {},
     "output_type": "execute_result"
    }
   ],
   "source": [
    "dict(py.memory_full_info()._asdict())"
   ]
  },
  {
   "cell_type": "code",
   "execution_count": 31,
   "metadata": {},
   "outputs": [
    {
     "data": {
      "text/plain": [
       "0.0"
      ]
     },
     "execution_count": 31,
     "metadata": {},
     "output_type": "execute_result"
    }
   ],
   "source": [
    "py.cpu_percent()"
   ]
  },
  {
   "cell_type": "code",
   "execution_count": 32,
   "metadata": {},
   "outputs": [
    {
     "data": {
      "text/plain": [
       "{'user': 1.63, 'system': 0.83, 'children_user': 1.68, 'children_system': 1.44}"
      ]
     },
     "execution_count": 32,
     "metadata": {},
     "output_type": "execute_result"
    }
   ],
   "source": [
    "dict(py.cpu_times()._asdict())"
   ]
  },
  {
   "cell_type": "code",
   "execution_count": 33,
   "metadata": {},
   "outputs": [
    {
     "data": {
      "text/plain": [
       "['/opt/conda/bin/python',\n",
       " '-m',\n",
       " 'ipykernel_launcher',\n",
       " '-f',\n",
       " '/home/jovyan/.local/share/jupyter/runtime/kernel-047727fb-9390-40aa-ab15-ad3be786761b.json']"
      ]
     },
     "execution_count": 33,
     "metadata": {},
     "output_type": "execute_result"
    }
   ],
   "source": [
    "py.cmdline()"
   ]
  },
  {
   "cell_type": "code",
   "execution_count": 34,
   "metadata": {},
   "outputs": [
    {
     "data": {
      "text/plain": [
       "{'voluntary': 1149, 'involuntary': 2014}"
      ]
     },
     "execution_count": 34,
     "metadata": {},
     "output_type": "execute_result"
    }
   ],
   "source": [
    "dict(py.num_ctx_switches()._asdict())"
   ]
  },
  {
   "cell_type": "code",
   "execution_count": 35,
   "metadata": {},
   "outputs": [
    {
     "data": {
      "text/plain": [
       "{'read_count': 6385,\n",
       " 'write_count': 1061,\n",
       " 'read_bytes': 225280,\n",
       " 'write_bytes': 4096,\n",
       " 'read_chars': 29446272,\n",
       " 'write_chars': 898333}"
      ]
     },
     "execution_count": 35,
     "metadata": {},
     "output_type": "execute_result"
    }
   ],
   "source": [
    "dict(py.io_counters()._asdict())"
   ]
  },
  {
   "cell_type": "code",
   "execution_count": 36,
   "metadata": {},
   "outputs": [],
   "source": [
    "def row_for_performance_per_pid(row,pid):\n",
    "    if not isinstance(row,dict):\n",
    "        raise TypeError(\"ERROR: expected a dict as input for row, got\",type(row))\n",
    "        return None\n",
    "    if not isinstance(pid,int):\n",
    "        raise TypeError(\"ERROR: expected a int as input for pid, got\",type(pid))\n",
    "        return None\n",
    "    try:\n",
    "        mem_dict=dict(psutil.Process(pid).memory_full_info()._asdict())\n",
    "    except NoSuchProcess:\n",
    "        return row\n",
    "    for k,v in mem_dict.items():\n",
    "        row['process memory: '+k]=v\n",
    "\n",
    "    try:\n",
    "        cpu_times_dict=dict(psutil.Process(pid).cpu_times()._asdict())\n",
    "    except NoSuchProcess:\n",
    "        return row\n",
    "    for k,v in cpu_times_dict.items():\n",
    "        row['process cpu times: '+k]=v\n",
    "\n",
    "    try:\n",
    "        context_switches_dict=dict(psutil.Process(pid).num_ctx_switches()._asdict())\n",
    "    except NoSuchProcess:\n",
    "        return row        \n",
    "    for k,v in context_switches_dict.items():\n",
    "        row['process number context switches: '+k]=v\n",
    "\n",
    "    try:\n",
    "        io_counter_dict = dict(psutil.Process(pid).io_counters()._asdict())\n",
    "    except NoSuchProcess:\n",
    "        return row\n",
    "    for k,v in io_counter_dict.items():\n",
    "        row['process io counters: '+k]=v\n",
    "    return row"
   ]
  },
  {
   "cell_type": "markdown",
   "metadata": {},
   "source": [
    "# gather data and create plots"
   ]
  },
  {
   "cell_type": "code",
   "execution_count": 37,
   "metadata": {},
   "outputs": [],
   "source": [
    "polling_period_in_seconds = 1\n",
    "monitoring_duration_in_seconds=10"
   ]
  },
  {
   "cell_type": "code",
   "execution_count": 38,
   "metadata": {},
   "outputs": [
    {
     "name": "stdout",
     "output_type": "stream",
     "text": [
      "elapsed time: 10.346050500869751 seconds\n"
     ]
    }
   ],
   "source": [
    "list_of_rows=[]\n",
    "start_time = time.time()\n",
    "for indx in range(monitoring_duration_in_seconds):\n",
    "    row = {}\n",
    "    row = row_for_system_performance(row)\n",
    "    row = row_for_performance_per_pid(row,os.getpid())\n",
    "    list_of_rows.append(row)\n",
    "    time.sleep(polling_period_in_seconds)\n",
    "\n",
    "print('elapsed time:',time.time()-start_time,'seconds')\n",
    "\n",
    "df = pandas.DataFrame(list_of_rows)"
   ]
  },
  {
   "cell_type": "code",
   "execution_count": 39,
   "metadata": {},
   "outputs": [
    {
     "name": "stdout",
     "output_type": "stream",
     "text": [
      "(10, 328)\n"
     ]
    },
    {
     "data": {
      "text/html": [
       "<div>\n",
       "<style scoped>\n",
       "    .dataframe tbody tr th:only-of-type {\n",
       "        vertical-align: middle;\n",
       "    }\n",
       "\n",
       "    .dataframe tbody tr th {\n",
       "        vertical-align: top;\n",
       "    }\n",
       "\n",
       "    .dataframe thead th {\n",
       "        text-align: right;\n",
       "    }\n",
       "</style>\n",
       "<table border=\"1\" class=\"dataframe\">\n",
       "  <thead>\n",
       "    <tr style=\"text-align: right;\">\n",
       "      <th></th>\n",
       "      <th>CPU 1 times guest</th>\n",
       "      <th>CPU 1 times guest_nice</th>\n",
       "      <th>CPU 1 times idle</th>\n",
       "      <th>CPU 1 times iowait</th>\n",
       "      <th>CPU 1 times irq</th>\n",
       "      <th>CPU 1 times nice</th>\n",
       "      <th>CPU 1 times softirq</th>\n",
       "      <th>CPU 1 times steal</th>\n",
       "      <th>CPU 1 times system</th>\n",
       "      <th>CPU 1 times user</th>\n",
       "      <th>...</th>\n",
       "      <th>system virtual memory buffers</th>\n",
       "      <th>system virtual memory cached</th>\n",
       "      <th>system virtual memory free</th>\n",
       "      <th>system virtual memory inactive</th>\n",
       "      <th>system virtual memory percent</th>\n",
       "      <th>system virtual memory shared</th>\n",
       "      <th>system virtual memory slab</th>\n",
       "      <th>system virtual memory total</th>\n",
       "      <th>system virtual memory used</th>\n",
       "      <th>time in unix seconds</th>\n",
       "    </tr>\n",
       "  </thead>\n",
       "  <tbody>\n",
       "    <tr>\n",
       "      <th>0</th>\n",
       "      <td>0.0</td>\n",
       "      <td>0.0</td>\n",
       "      <td>19.7</td>\n",
       "      <td>0.0</td>\n",
       "      <td>0.0</td>\n",
       "      <td>0.0</td>\n",
       "      <td>0.7</td>\n",
       "      <td>0.0</td>\n",
       "      <td>52.6</td>\n",
       "      <td>27.0</td>\n",
       "      <td>...</td>\n",
       "      <td>67842048</td>\n",
       "      <td>1236488192</td>\n",
       "      <td>77938688</td>\n",
       "      <td>1110024192</td>\n",
       "      <td>42.0</td>\n",
       "      <td>544768</td>\n",
       "      <td>83800064</td>\n",
       "      <td>2096164864</td>\n",
       "      <td>713895936</td>\n",
       "      <td>1.552960e+09</td>\n",
       "    </tr>\n",
       "    <tr>\n",
       "      <th>1</th>\n",
       "      <td>0.0</td>\n",
       "      <td>0.0</td>\n",
       "      <td>93.3</td>\n",
       "      <td>0.0</td>\n",
       "      <td>0.0</td>\n",
       "      <td>0.0</td>\n",
       "      <td>0.0</td>\n",
       "      <td>0.0</td>\n",
       "      <td>3.8</td>\n",
       "      <td>2.9</td>\n",
       "      <td>...</td>\n",
       "      <td>67842048</td>\n",
       "      <td>1236533248</td>\n",
       "      <td>77811712</td>\n",
       "      <td>1110024192</td>\n",
       "      <td>42.0</td>\n",
       "      <td>544768</td>\n",
       "      <td>83845120</td>\n",
       "      <td>2096164864</td>\n",
       "      <td>713977856</td>\n",
       "      <td>1.552960e+09</td>\n",
       "    </tr>\n",
       "    <tr>\n",
       "      <th>2</th>\n",
       "      <td>0.0</td>\n",
       "      <td>0.0</td>\n",
       "      <td>97.0</td>\n",
       "      <td>0.0</td>\n",
       "      <td>0.0</td>\n",
       "      <td>0.0</td>\n",
       "      <td>0.0</td>\n",
       "      <td>0.0</td>\n",
       "      <td>0.0</td>\n",
       "      <td>3.0</td>\n",
       "      <td>...</td>\n",
       "      <td>67842048</td>\n",
       "      <td>1236533248</td>\n",
       "      <td>77811712</td>\n",
       "      <td>1110024192</td>\n",
       "      <td>42.0</td>\n",
       "      <td>544768</td>\n",
       "      <td>83845120</td>\n",
       "      <td>2096164864</td>\n",
       "      <td>713977856</td>\n",
       "      <td>1.552960e+09</td>\n",
       "    </tr>\n",
       "    <tr>\n",
       "      <th>3</th>\n",
       "      <td>0.0</td>\n",
       "      <td>0.0</td>\n",
       "      <td>96.0</td>\n",
       "      <td>0.0</td>\n",
       "      <td>0.0</td>\n",
       "      <td>0.0</td>\n",
       "      <td>0.0</td>\n",
       "      <td>0.0</td>\n",
       "      <td>1.0</td>\n",
       "      <td>3.0</td>\n",
       "      <td>...</td>\n",
       "      <td>67854336</td>\n",
       "      <td>1236533248</td>\n",
       "      <td>77811712</td>\n",
       "      <td>1110028288</td>\n",
       "      <td>42.0</td>\n",
       "      <td>544768</td>\n",
       "      <td>83845120</td>\n",
       "      <td>2096164864</td>\n",
       "      <td>713965568</td>\n",
       "      <td>1.552960e+09</td>\n",
       "    </tr>\n",
       "    <tr>\n",
       "      <th>4</th>\n",
       "      <td>0.0</td>\n",
       "      <td>0.0</td>\n",
       "      <td>96.0</td>\n",
       "      <td>0.0</td>\n",
       "      <td>0.0</td>\n",
       "      <td>0.0</td>\n",
       "      <td>0.0</td>\n",
       "      <td>0.0</td>\n",
       "      <td>1.0</td>\n",
       "      <td>3.0</td>\n",
       "      <td>...</td>\n",
       "      <td>67854336</td>\n",
       "      <td>1236533248</td>\n",
       "      <td>77811712</td>\n",
       "      <td>1110028288</td>\n",
       "      <td>42.0</td>\n",
       "      <td>544768</td>\n",
       "      <td>83845120</td>\n",
       "      <td>2096164864</td>\n",
       "      <td>713965568</td>\n",
       "      <td>1.552960e+09</td>\n",
       "    </tr>\n",
       "  </tbody>\n",
       "</table>\n",
       "<p>5 rows × 328 columns</p>\n",
       "</div>"
      ],
      "text/plain": [
       "   CPU 1 times guest  CPU 1 times guest_nice  CPU 1 times idle  \\\n",
       "0                0.0                     0.0              19.7   \n",
       "1                0.0                     0.0              93.3   \n",
       "2                0.0                     0.0              97.0   \n",
       "3                0.0                     0.0              96.0   \n",
       "4                0.0                     0.0              96.0   \n",
       "\n",
       "   CPU 1 times iowait  CPU 1 times irq  CPU 1 times nice  CPU 1 times softirq  \\\n",
       "0                 0.0              0.0               0.0                  0.7   \n",
       "1                 0.0              0.0               0.0                  0.0   \n",
       "2                 0.0              0.0               0.0                  0.0   \n",
       "3                 0.0              0.0               0.0                  0.0   \n",
       "4                 0.0              0.0               0.0                  0.0   \n",
       "\n",
       "   CPU 1 times steal  CPU 1 times system  CPU 1 times user  \\\n",
       "0                0.0                52.6              27.0   \n",
       "1                0.0                 3.8               2.9   \n",
       "2                0.0                 0.0               3.0   \n",
       "3                0.0                 1.0               3.0   \n",
       "4                0.0                 1.0               3.0   \n",
       "\n",
       "           ...           system virtual memory buffers  \\\n",
       "0          ...                                67842048   \n",
       "1          ...                                67842048   \n",
       "2          ...                                67842048   \n",
       "3          ...                                67854336   \n",
       "4          ...                                67854336   \n",
       "\n",
       "   system virtual memory cached  system virtual memory free  \\\n",
       "0                    1236488192                    77938688   \n",
       "1                    1236533248                    77811712   \n",
       "2                    1236533248                    77811712   \n",
       "3                    1236533248                    77811712   \n",
       "4                    1236533248                    77811712   \n",
       "\n",
       "   system virtual memory inactive  system virtual memory percent  \\\n",
       "0                      1110024192                           42.0   \n",
       "1                      1110024192                           42.0   \n",
       "2                      1110024192                           42.0   \n",
       "3                      1110028288                           42.0   \n",
       "4                      1110028288                           42.0   \n",
       "\n",
       "   system virtual memory shared  system virtual memory slab  \\\n",
       "0                        544768                    83800064   \n",
       "1                        544768                    83845120   \n",
       "2                        544768                    83845120   \n",
       "3                        544768                    83845120   \n",
       "4                        544768                    83845120   \n",
       "\n",
       "   system virtual memory total  system virtual memory used  \\\n",
       "0                   2096164864                   713895936   \n",
       "1                   2096164864                   713977856   \n",
       "2                   2096164864                   713977856   \n",
       "3                   2096164864                   713965568   \n",
       "4                   2096164864                   713965568   \n",
       "\n",
       "   time in unix seconds  \n",
       "0          1.552960e+09  \n",
       "1          1.552960e+09  \n",
       "2          1.552960e+09  \n",
       "3          1.552960e+09  \n",
       "4          1.552960e+09  \n",
       "\n",
       "[5 rows x 328 columns]"
      ]
     },
     "execution_count": 39,
     "metadata": {},
     "output_type": "execute_result"
    }
   ],
   "source": [
    "print(df.shape)\n",
    "df.head()"
   ]
  },
  {
   "cell_type": "code",
   "execution_count": 40,
   "metadata": {},
   "outputs": [],
   "source": [
    "df.to_pickle(\"single_process_df_this_notebook_\"+str(time.time())+\".pkl\")\n",
    "\n",
    "#df = pandas.read_pickle(\"single_process_df_this_notebook_1552783848.2168732.pkl\")"
   ]
  },
  {
   "cell_type": "code",
   "execution_count": 41,
   "metadata": {},
   "outputs": [],
   "source": [
    "def scatter_plot_column(df,col_name):\n",
    "    if not isinstance(df,pandas.core.frame.DataFrame):\n",
    "        raise TypeError('ERROR: expected input of type dataframe, got',type(df))\n",
    "        return None\n",
    "    if not isinstance(col_name,str):\n",
    "        raise TypeError('ERROR: expected input of type str, got',type(col_name))\n",
    "        return None\n",
    "    plt.plot_date(x=df['datetime'],y=df[col_name])\n",
    "    plt.xticks(rotation=40)\n",
    "    _=plt.ylabel(col_name,fontsize=14)\n",
    "    _=plt.xlabel('time',fontsize=14)\n",
    "    plt.show()\n",
    "    return"
   ]
  },
  {
   "cell_type": "raw",
   "metadata": {},
   "source": [
    "for col_name in df.columns:\n",
    "    if 'seconds' not in col_name:\n",
    "#        plt.scatter(x=df['time in unix seconds'],y=df[col_name])\n",
    "        scatter_plot_column(df,col_name)\n",
    "    else:\n",
    "        print(col_name)"
   ]
  },
  {
   "cell_type": "code",
   "execution_count": null,
   "metadata": {},
   "outputs": [],
   "source": []
  },
  {
   "cell_type": "markdown",
   "metadata": {},
   "source": [
    "# track other notebooks\n",
    "\n",
    "Plan: associate pid with each notebook kernel ID, then track the stats for that notebook by pid\n",
    "\n",
    "works even when the kernel of the other notebook is restarted\n",
    "\n",
    "detects when new newbook kernels being added\n",
    "\n",
    "https://github.com/iiSeymour/nbtop/blob/master/nbtop/main.py"
   ]
  },
  {
   "cell_type": "markdown",
   "metadata": {},
   "source": [
    "### get a list of all active sessions"
   ]
  },
  {
   "cell_type": "code",
   "execution_count": 42,
   "metadata": {},
   "outputs": [
    {
     "data": {
      "text/plain": [
       "200"
      ]
     },
     "execution_count": 42,
     "metadata": {},
     "output_type": "execute_result"
    }
   ],
   "source": [
    "r = requests.get('http://localhost:8888/api/sessions')\n",
    "r.status_code"
   ]
  },
  {
   "cell_type": "code",
   "execution_count": 43,
   "metadata": {},
   "outputs": [
    {
     "data": {
      "text/plain": [
       "{'id': '1b5ea68c-d427-40c8-b1cf-f5531e992405',\n",
       " 'path': 'jupyter_notebooks/week_09_timeseries/host_streaming_stats/realtime_data_matplotlib.ipynb',\n",
       " 'name': 'realtime_data_matplotlib.ipynb',\n",
       " 'type': 'notebook',\n",
       " 'kernel': {'id': 'b1c1ad07-ecaa-4181-8258-f9a30ab8eafc',\n",
       "  'name': 'python3',\n",
       "  'last_activity': '2019-03-18T11:02:46.614172Z',\n",
       "  'execution_state': 'idle',\n",
       "  'connections': 1},\n",
       " 'notebook': {'path': 'jupyter_notebooks/week_09_timeseries/host_streaming_stats/realtime_data_matplotlib.ipynb',\n",
       "  'name': 'realtime_data_matplotlib.ipynb'}}"
      ]
     },
     "execution_count": 43,
     "metadata": {},
     "output_type": "execute_result"
    }
   ],
   "source": [
    "list_of_kernel_dicts = r.json()\n",
    "list_of_kernel_dicts[0]"
   ]
  },
  {
   "cell_type": "markdown",
   "metadata": {},
   "source": [
    "### from json returned from API, we can extract the notebook kernel IDs"
   ]
  },
  {
   "cell_type": "code",
   "execution_count": 44,
   "metadata": {},
   "outputs": [
    {
     "name": "stdout",
     "output_type": "stream",
     "text": [
      "notebook kernel IDs:\n",
      "b1c1ad07-ecaa-4181-8258-f9a30ab8eafc\n",
      "e5598466-2d75-4a55-9b0c-cf7d072159ba\n",
      "047727fb-9390-40aa-ab15-ad3be786761b\n",
      "154e7a2a-e9e3-44d8-aece-7d2a915156d0\n",
      "fdd3dea8-d84d-4adf-8b6d-df46b3aae7d7\n"
     ]
    }
   ],
   "source": [
    "print('notebook kernel IDs:')\n",
    "for notebook_indx in range(len(list_of_kernel_dicts)):\n",
    "    print(list_of_kernel_dicts[notebook_indx]['kernel']['id'])"
   ]
  },
  {
   "cell_type": "markdown",
   "metadata": {},
   "source": [
    "### get a list of all pids"
   ]
  },
  {
   "cell_type": "code",
   "execution_count": 45,
   "metadata": {},
   "outputs": [
    {
     "name": "stdout",
     "output_type": "stream",
     "text": [
      "all processes running:\n",
      "psutil.Process(pid=1, name='tini', started='00:48:53')\n",
      "psutil.Process(pid=6, name='jupyter-lab', started='00:48:54')\n",
      "psutil.Process(pid=26, name='python', started='00:49:19')\n",
      "psutil.Process(pid=162, name='python', started='00:59:34')\n",
      "psutil.Process(pid=223, name='python', started='01:07:20')\n",
      "psutil.Process(pid=244, name='python', started='01:36:07')\n",
      "psutil.Process(pid=260, name='python', started='01:42:16')\n"
     ]
    }
   ],
   "source": [
    "print('all processes running:')\n",
    "for p in psutil.process_iter():\n",
    "    print(p)"
   ]
  },
  {
   "cell_type": "markdown",
   "metadata": {},
   "source": [
    "### get pid for each notebook"
   ]
  },
  {
   "cell_type": "code",
   "execution_count": 46,
   "metadata": {},
   "outputs": [],
   "source": [
    "def get_all_kernel_pids():\n",
    "    dict_of_jupyter_kernel_pids = {}\n",
    "    for p in psutil.process_iter():\n",
    "        list_of_commands_per_process = psutil.Process(p.pid).cmdline()\n",
    "#        print(list_of_commands_per_process)\n",
    "        if ('ipykernel_launcher' in list_of_commands_per_process):\n",
    "            dict_of_jupyter_kernel_pids[p.pid] = list_of_commands_per_process[len(list_of_commands_per_process)-1]\n",
    "        \n",
    "    return dict_of_jupyter_kernel_pids"
   ]
  },
  {
   "cell_type": "code",
   "execution_count": 47,
   "metadata": {},
   "outputs": [
    {
     "data": {
      "text/plain": [
       "{26: '/home/jovyan/.local/share/jupyter/runtime/kernel-b1c1ad07-ecaa-4181-8258-f9a30ab8eafc.json',\n",
       " 162: '/home/jovyan/.local/share/jupyter/runtime/kernel-154e7a2a-e9e3-44d8-aece-7d2a915156d0.json',\n",
       " 223: '/home/jovyan/.local/share/jupyter/runtime/kernel-e5598466-2d75-4a55-9b0c-cf7d072159ba.json',\n",
       " 244: '/home/jovyan/.local/share/jupyter/runtime/kernel-fdd3dea8-d84d-4adf-8b6d-df46b3aae7d7.json',\n",
       " 260: '/home/jovyan/.local/share/jupyter/runtime/kernel-047727fb-9390-40aa-ab15-ad3be786761b.json'}"
      ]
     },
     "execution_count": 47,
     "metadata": {},
     "output_type": "execute_result"
    }
   ],
   "source": [
    "dict_of_jupyter_kernel_pids = get_all_kernel_pids()\n",
    "dict_of_jupyter_kernel_pids"
   ]
  },
  {
   "cell_type": "markdown",
   "metadata": {},
   "source": [
    "### (alternative method) use `ps -ax` to get the relevant pid for notebooks\n",
    "\n",
    "not in use"
   ]
  },
  {
   "cell_type": "raw",
   "metadata": {},
   "source": [
    "dict_of_jupyter_kernel_pids = {}\n",
    "for this_line in subprocess.Popen(['ps', 'ax'], stdout=subprocess.PIPE).communicate()[0].decode().split('\\n'):\n",
    "#    print(this_line.strip())\n",
    "    if (this_line.strip().endswith('.json') and ('ipykernel_launcher' in this_line)):\n",
    "        dict_of_jupyter_kernel_pids[this_line.strip().split(' ')[0]] = this_line\n",
    "        \n",
    "dict_of_jupyter_kernel_pids"
   ]
  },
  {
   "cell_type": "markdown",
   "metadata": {},
   "source": [
    "### add pid to dict containing kernel information"
   ]
  },
  {
   "cell_type": "code",
   "execution_count": 48,
   "metadata": {},
   "outputs": [],
   "source": [
    "def add_pid_to_kernel_dict(dict_of_jupyter_kernel_pids,list_of_kernel_dicts):\n",
    "    if not isinstance(dict_of_jupyter_kernel_pids,dict):\n",
    "        raise TypeError(\"ERROR: expected a dict as input for dict_of_jupyter_kernel_pids, got\",type(dict_of_jupyter_kernel_pids))\n",
    "        return None\n",
    "    if not isinstance(list_of_kernel_dicts,list):\n",
    "        raise TypeError(\"ERROR: expected a list as input for list_of_kernel_dicts, got\",type(list_of_kernel_dicts))\n",
    "        return None\n",
    "    for pid,kernel_path in dict_of_jupyter_kernel_pids.items():\n",
    "        for notebook_indx in range(len(list_of_kernel_dicts)):\n",
    "            if (list_of_kernel_dicts[notebook_indx]['kernel']['id'] in kernel_path):\n",
    "#                print(pid,'is',list_of_kernel_dicts[notebook_indx],'\\n')\n",
    "                list_of_kernel_dicts[notebook_indx]['pid']=pid\n",
    "    return list_of_kernel_dicts"
   ]
  },
  {
   "cell_type": "code",
   "execution_count": 49,
   "metadata": {},
   "outputs": [],
   "source": [
    "list_of_kernel_dicts= add_pid_to_kernel_dict(dict_of_jupyter_kernel_pids,list_of_kernel_dicts)"
   ]
  },
  {
   "cell_type": "code",
   "execution_count": 50,
   "metadata": {},
   "outputs": [
    {
     "data": {
      "text/plain": [
       "[{'id': '1b5ea68c-d427-40c8-b1cf-f5531e992405',\n",
       "  'path': 'jupyter_notebooks/week_09_timeseries/host_streaming_stats/realtime_data_matplotlib.ipynb',\n",
       "  'name': 'realtime_data_matplotlib.ipynb',\n",
       "  'type': 'notebook',\n",
       "  'kernel': {'id': 'b1c1ad07-ecaa-4181-8258-f9a30ab8eafc',\n",
       "   'name': 'python3',\n",
       "   'last_activity': '2019-03-18T11:02:46.614172Z',\n",
       "   'execution_state': 'idle',\n",
       "   'connections': 1},\n",
       "  'notebook': {'path': 'jupyter_notebooks/week_09_timeseries/host_streaming_stats/realtime_data_matplotlib.ipynb',\n",
       "   'name': 'realtime_data_matplotlib.ipynb'},\n",
       "  'pid': 26},\n",
       " {'id': 'c1db6eca-dcfe-4a4f-a083-3c19eae27a82',\n",
       "  'path': 'jupyter_notebooks/week_09_timeseries/host_streaming_stats/analysis_of_static_timeseries.ipynb',\n",
       "  'name': 'analysis_of_static_timeseries.ipynb',\n",
       "  'type': 'notebook',\n",
       "  'kernel': {'id': 'e5598466-2d75-4a55-9b0c-cf7d072159ba',\n",
       "   'name': 'python3',\n",
       "   'last_activity': '2019-03-18T11:21:01.855849Z',\n",
       "   'execution_state': 'idle',\n",
       "   'connections': 2},\n",
       "  'notebook': {'path': 'jupyter_notebooks/week_09_timeseries/host_streaming_stats/analysis_of_static_timeseries.ipynb',\n",
       "   'name': 'analysis_of_static_timeseries.ipynb'},\n",
       "  'pid': 223},\n",
       " {'id': 'c61ef3ca-c62c-4c07-b5c5-3deb2b293313',\n",
       "  'path': 'jupyter_notebooks/week_09_timeseries/host_streaming_stats/host_cpu_and_memory.ipynb',\n",
       "  'name': 'host_cpu_and_memory.ipynb',\n",
       "  'type': 'notebook',\n",
       "  'kernel': {'id': '047727fb-9390-40aa-ab15-ad3be786761b',\n",
       "   'name': 'python3',\n",
       "   'last_activity': '2019-03-19T01:42:36.543976Z',\n",
       "   'execution_state': 'busy',\n",
       "   'connections': 2},\n",
       "  'notebook': {'path': 'jupyter_notebooks/week_09_timeseries/host_streaming_stats/host_cpu_and_memory.ipynb',\n",
       "   'name': 'host_cpu_and_memory.ipynb'},\n",
       "  'pid': 260},\n",
       " {'id': '75c76adc-cdbe-4602-b6db-4fe37becf5b0',\n",
       "  'path': 'jupyter_notebooks/week_09_timeseries/host_streaming_stats/realtime_data_jvdp.ipynb',\n",
       "  'name': 'realtime_data_jvdp.ipynb',\n",
       "  'type': 'notebook',\n",
       "  'kernel': {'id': '154e7a2a-e9e3-44d8-aece-7d2a915156d0',\n",
       "   'name': 'python3',\n",
       "   'last_activity': '2019-03-18T11:13:56.493755Z',\n",
       "   'execution_state': 'idle',\n",
       "   'connections': 2},\n",
       "  'notebook': {'path': 'jupyter_notebooks/week_09_timeseries/host_streaming_stats/realtime_data_jvdp.ipynb',\n",
       "   'name': 'realtime_data_jvdp.ipynb'},\n",
       "  'pid': 162},\n",
       " {'id': '89074a52-924a-45e5-bb12-55b1104b4c18',\n",
       "  'path': 'jupyter_notebooks/week_09_timeseries/host_streaming_stats/arima.ipynb',\n",
       "  'name': 'arima.ipynb',\n",
       "  'type': 'notebook',\n",
       "  'kernel': {'id': 'fdd3dea8-d84d-4adf-8b6d-df46b3aae7d7',\n",
       "   'name': 'python3',\n",
       "   'last_activity': '2019-03-19T01:42:24.303915Z',\n",
       "   'execution_state': 'idle',\n",
       "   'connections': 1},\n",
       "  'notebook': {'path': 'jupyter_notebooks/week_09_timeseries/host_streaming_stats/arima.ipynb',\n",
       "   'name': 'arima.ipynb'},\n",
       "  'pid': 244}]"
      ]
     },
     "execution_count": 50,
     "metadata": {},
     "output_type": "execute_result"
    }
   ],
   "source": [
    "list_of_kernel_dicts"
   ]
  },
  {
   "cell_type": "markdown",
   "metadata": {},
   "source": [
    "### which kernels are not this notebook?"
   ]
  },
  {
   "cell_type": "code",
   "execution_count": 51,
   "metadata": {},
   "outputs": [],
   "source": [
    "def kernel_dicts_other_notebooks(list_of_kernel_dicts):\n",
    "    if not isinstance(list_of_kernel_dicts,list):\n",
    "        raise TypeError(\"ERROR: expected a list as input for list_of_kernel_dicts, got\",type(list_of_kernel_dicts))\n",
    "        return None\n",
    "    list_of_kernel_dicts_for_other_notebooks=[]\n",
    "    for kernel_dict in list_of_kernel_dicts:\n",
    "        if (str(os.getpid())!=str(kernel_dict['pid'])):\n",
    "            list_of_kernel_dicts_for_other_notebooks.append(kernel_dict)\n",
    "    return list_of_kernel_dicts_for_other_notebooks"
   ]
  },
  {
   "cell_type": "code",
   "execution_count": 52,
   "metadata": {},
   "outputs": [
    {
     "data": {
      "text/plain": [
       "[{'id': '1b5ea68c-d427-40c8-b1cf-f5531e992405',\n",
       "  'path': 'jupyter_notebooks/week_09_timeseries/host_streaming_stats/realtime_data_matplotlib.ipynb',\n",
       "  'name': 'realtime_data_matplotlib.ipynb',\n",
       "  'type': 'notebook',\n",
       "  'kernel': {'id': 'b1c1ad07-ecaa-4181-8258-f9a30ab8eafc',\n",
       "   'name': 'python3',\n",
       "   'last_activity': '2019-03-18T11:02:46.614172Z',\n",
       "   'execution_state': 'idle',\n",
       "   'connections': 1},\n",
       "  'notebook': {'path': 'jupyter_notebooks/week_09_timeseries/host_streaming_stats/realtime_data_matplotlib.ipynb',\n",
       "   'name': 'realtime_data_matplotlib.ipynb'},\n",
       "  'pid': 26},\n",
       " {'id': 'c1db6eca-dcfe-4a4f-a083-3c19eae27a82',\n",
       "  'path': 'jupyter_notebooks/week_09_timeseries/host_streaming_stats/analysis_of_static_timeseries.ipynb',\n",
       "  'name': 'analysis_of_static_timeseries.ipynb',\n",
       "  'type': 'notebook',\n",
       "  'kernel': {'id': 'e5598466-2d75-4a55-9b0c-cf7d072159ba',\n",
       "   'name': 'python3',\n",
       "   'last_activity': '2019-03-18T11:21:01.855849Z',\n",
       "   'execution_state': 'idle',\n",
       "   'connections': 2},\n",
       "  'notebook': {'path': 'jupyter_notebooks/week_09_timeseries/host_streaming_stats/analysis_of_static_timeseries.ipynb',\n",
       "   'name': 'analysis_of_static_timeseries.ipynb'},\n",
       "  'pid': 223},\n",
       " {'id': '75c76adc-cdbe-4602-b6db-4fe37becf5b0',\n",
       "  'path': 'jupyter_notebooks/week_09_timeseries/host_streaming_stats/realtime_data_jvdp.ipynb',\n",
       "  'name': 'realtime_data_jvdp.ipynb',\n",
       "  'type': 'notebook',\n",
       "  'kernel': {'id': '154e7a2a-e9e3-44d8-aece-7d2a915156d0',\n",
       "   'name': 'python3',\n",
       "   'last_activity': '2019-03-18T11:13:56.493755Z',\n",
       "   'execution_state': 'idle',\n",
       "   'connections': 2},\n",
       "  'notebook': {'path': 'jupyter_notebooks/week_09_timeseries/host_streaming_stats/realtime_data_jvdp.ipynb',\n",
       "   'name': 'realtime_data_jvdp.ipynb'},\n",
       "  'pid': 162},\n",
       " {'id': '89074a52-924a-45e5-bb12-55b1104b4c18',\n",
       "  'path': 'jupyter_notebooks/week_09_timeseries/host_streaming_stats/arima.ipynb',\n",
       "  'name': 'arima.ipynb',\n",
       "  'type': 'notebook',\n",
       "  'kernel': {'id': 'fdd3dea8-d84d-4adf-8b6d-df46b3aae7d7',\n",
       "   'name': 'python3',\n",
       "   'last_activity': '2019-03-19T01:42:24.303915Z',\n",
       "   'execution_state': 'idle',\n",
       "   'connections': 1},\n",
       "  'notebook': {'path': 'jupyter_notebooks/week_09_timeseries/host_streaming_stats/arima.ipynb',\n",
       "   'name': 'arima.ipynb'},\n",
       "  'pid': 244}]"
      ]
     },
     "execution_count": 52,
     "metadata": {},
     "output_type": "execute_result"
    }
   ],
   "source": [
    "list_of_kernel_dicts_for_other_notebooks = kernel_dicts_other_notebooks(list_of_kernel_dicts)\n",
    "list_of_kernel_dicts_for_other_notebooks"
   ]
  },
  {
   "cell_type": "code",
   "execution_count": 53,
   "metadata": {},
   "outputs": [],
   "source": [
    "def get_other_kernel_pids(list_of_kernel_dicts_for_other_notebooks,\n",
    "                          url_for_api_sessions='http://localhost:8888/api/sessions'):\n",
    "    if not isinstance(list_of_kernel_dicts_for_other_notebooks,list):\n",
    "        raise TypeError(\"ERROR: expected a list as input for list_of_kernel_dicts_for_other_notebooks, got\",type(list_of_kernel_dicts_for_other_notebooks))\n",
    "        return None\n",
    "\n",
    "    list_of_kernel_dicts = requests.get(url_for_api_sessions).json()\n",
    "    dict_of_jupyter_kernel_pids = get_all_kernel_pids()\n",
    "    list_of_kernel_dicts= add_pid_to_kernel_dict(dict_of_jupyter_kernel_pids,list_of_kernel_dicts)\n",
    "    current_list_of_kernel_dicts_for_other_notebooks = kernel_dicts_other_notebooks(list_of_kernel_dicts)\n",
    "\n",
    "    list_of_pids_in_previous=[]\n",
    "    for old_dict in list_of_kernel_dicts_for_other_notebooks:\n",
    "        list_of_pids_in_previous.append(old_dict['pid'])\n",
    "        for curr_dict in current_list_of_kernel_dicts_for_other_notebooks:\n",
    "            if (curr_dict['pid'] not in list_of_pids_in_previous):\n",
    "                list_of_kernel_dicts_for_other_notebooks.append(curr_dict)\n",
    "    return list_of_kernel_dicts_for_other_notebooks"
   ]
  },
  {
   "cell_type": "markdown",
   "metadata": {},
   "source": [
    "# collect data for other notebook and create plots"
   ]
  },
  {
   "cell_type": "code",
   "execution_count": 54,
   "metadata": {},
   "outputs": [],
   "source": [
    "monitoring_duration_in_seconds=60 # 60 queries takes 63 seconds"
   ]
  },
  {
   "cell_type": "code",
   "execution_count": 55,
   "metadata": {},
   "outputs": [
    {
     "name": "stdout",
     "output_type": "stream",
     "text": [
      "elapsed time: 1.06595778465271 seconds\n",
      "elapsed time: 2.101262331008911 seconds\n",
      "elapsed time: 3.135986328125 seconds\n",
      "elapsed time: 4.1695396900177 seconds\n",
      "elapsed time: 5.208044767379761 seconds\n",
      "elapsed time: 6.250380039215088 seconds\n",
      "elapsed time: 7.289450407028198 seconds\n",
      "elapsed time: 8.327214002609253 seconds\n",
      "elapsed time: 9.389519929885864 seconds\n",
      "elapsed time: 10.423573732376099 seconds\n",
      "elapsed time: 11.459370851516724 seconds\n",
      "elapsed time: 12.494818925857544 seconds\n",
      "elapsed time: 13.539909601211548 seconds\n",
      "elapsed time: 14.57805585861206 seconds\n",
      "elapsed time: 15.619434833526611 seconds\n",
      "elapsed time: 16.650078535079956 seconds\n",
      "elapsed time: 17.686527252197266 seconds\n",
      "elapsed time: 18.720250844955444 seconds\n",
      "elapsed time: 19.759300708770752 seconds\n",
      "elapsed time: 20.79234290122986 seconds\n",
      "elapsed time: 21.832957983016968 seconds\n",
      "elapsed time: 22.870126247406006 seconds\n",
      "elapsed time: 23.906441688537598 seconds\n",
      "elapsed time: 24.939666748046875 seconds\n",
      "elapsed time: 26.92522954940796 seconds\n",
      "elapsed time: 27.927175283432007 seconds\n",
      "elapsed time: 28.96245002746582 seconds\n",
      "elapsed time: 30.002034187316895 seconds\n",
      "elapsed time: 31.044212579727173 seconds\n",
      "elapsed time: 32.076144218444824 seconds\n",
      "elapsed time: 33.11418151855469 seconds\n",
      "elapsed time: 34.151641845703125 seconds\n",
      "elapsed time: 35.1924729347229 seconds\n",
      "elapsed time: 36.229196071624756 seconds\n",
      "elapsed time: 37.261703968048096 seconds\n",
      "elapsed time: 38.317139863967896 seconds\n",
      "elapsed time: 39.36647987365723 seconds\n",
      "elapsed time: 40.395715951919556 seconds\n",
      "elapsed time: 41.429779052734375 seconds\n",
      "elapsed time: 42.47096848487854 seconds\n",
      "elapsed time: 43.50320315361023 seconds\n",
      "elapsed time: 44.53498959541321 seconds\n",
      "elapsed time: 45.56916642189026 seconds\n",
      "elapsed time: 46.604713678359985 seconds\n",
      "elapsed time: 47.63888955116272 seconds\n",
      "elapsed time: 48.67282152175903 seconds\n",
      "elapsed time: 49.944496393203735 seconds\n",
      "elapsed time: 50.98455572128296 seconds\n",
      "elapsed time: 52.0352668762207 seconds\n",
      "elapsed time: 53.06883406639099 seconds\n",
      "elapsed time: 54.11183977127075 seconds\n",
      "elapsed time: 55.160757541656494 seconds\n",
      "elapsed time: 56.194319009780884 seconds\n",
      "elapsed time: 57.229116678237915 seconds\n",
      "elapsed time: 58.225730657577515 seconds\n",
      "elapsed time: 59.25722932815552 seconds\n",
      "elapsed time: 60.29085350036621 seconds\n",
      "elapsed time: 61.32725381851196 seconds\n",
      "elapsed time: 62.360557556152344 seconds\n",
      "elapsed time: 63.39754629135132 seconds\n"
     ]
    }
   ],
   "source": [
    "nb_dict={}\n",
    "list_of_kernel_dicts_for_other_notebooks = get_other_kernel_pids([])\n",
    "\n",
    "start_time = time.time()\n",
    "for indx in range(monitoring_duration_in_seconds):\n",
    "    row = {}\n",
    "    system_row = row_for_system_performance(row)\n",
    "\n",
    "    # detect new notebook kernels\n",
    "    list_of_kernel_dicts_for_other_notebooks = get_other_kernel_pids(list_of_kernel_dicts_for_other_notebooks)\n",
    "    \n",
    "    for other_nb in list_of_kernel_dicts_for_other_notebooks:\n",
    "        row = row_for_performance_per_pid(system_row,int(other_nb['pid']))\n",
    "        try:\n",
    "            nb_dict[other_nb['pid']].append(row)\n",
    "        except KeyError: # new pid for new kernel\n",
    "            nb_dict[other_nb['pid']] = []\n",
    "            nb_dict[other_nb['pid']].append(row)\n",
    "    time.sleep(polling_period_in_seconds)\n",
    "\n",
    "    print('elapsed time:',time.time()-start_time,'seconds')\n",
    "\n",
    "nb_df = {}\n",
    "for other_nb in list_of_kernel_dicts_for_other_notebooks:\n",
    "    nb_df[other_nb['pid']] = pandas.DataFrame(nb_dict[other_nb['pid']])"
   ]
  },
  {
   "cell_type": "code",
   "execution_count": 56,
   "metadata": {},
   "outputs": [
    {
     "data": {
      "text/plain": [
       "dict_keys([])"
      ]
     },
     "execution_count": 56,
     "metadata": {},
     "output_type": "execute_result"
    }
   ],
   "source": [
    "nb_df.keys()"
   ]
  },
  {
   "cell_type": "code",
   "execution_count": 57,
   "metadata": {},
   "outputs": [],
   "source": [
    "for indx in range(len(list_of_kernel_dicts_for_other_notebooks)):\n",
    "    nb_pid = list_of_kernel_dicts_for_other_notebooks[indx]['pid']\n",
    "    list_of_kernel_dicts_for_other_notebooks[indx]['df']=nb_df[nb_pid]"
   ]
  },
  {
   "cell_type": "code",
   "execution_count": 58,
   "metadata": {},
   "outputs": [],
   "source": [
    "with open(\"single_process_df_other_notebook_pid_\"+str(time.time())+\".pkl\", 'wb') as handle:\n",
    "    pickle.dump(list_of_kernel_dicts_for_other_notebooks, handle, protocol=pickle.HIGHEST_PROTOCOL)\n",
    "\n",
    "#with open('filename.pickle', 'rb') as handle:\n",
    "#   list_of_kernel_dicts_for_other_notebooks = pickle.load(handle)"
   ]
  },
  {
   "cell_type": "raw",
   "metadata": {},
   "source": [
    "for col_name in df.columns:\n",
    "    if 'seconds' not in col_name:\n",
    "#        plt.scatter(x=df['time in unix seconds'],y=df[col_name])\n",
    "        plt.plot_date(x=df['datetime'],y=df[col_name])\n",
    "        plt.xticks(rotation=40)\n",
    "        _=plt.ylabel(col_name,fontsize=14)\n",
    "        _=plt.xlabel('time',fontsize=14)\n",
    "        plt.show()\n",
    "    else:\n",
    "        print(col_name)"
   ]
  },
  {
   "cell_type": "code",
   "execution_count": null,
   "metadata": {},
   "outputs": [],
   "source": []
  },
  {
   "cell_type": "code",
   "execution_count": null,
   "metadata": {},
   "outputs": [],
   "source": []
  }
 ],
 "metadata": {
  "kernelspec": {
   "display_name": "Python 3",
   "language": "python",
   "name": "python3"
  },
  "language_info": {
   "codemirror_mode": {
    "name": "ipython",
    "version": 3
   },
   "file_extension": ".py",
   "mimetype": "text/x-python",
   "name": "python",
   "nbconvert_exporter": "python",
   "pygments_lexer": "ipython3",
   "version": "3.6.7"
  }
 },
 "nbformat": 4,
 "nbformat_minor": 2
}
