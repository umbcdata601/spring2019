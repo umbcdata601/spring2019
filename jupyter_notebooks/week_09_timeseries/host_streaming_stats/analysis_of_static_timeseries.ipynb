{
 "cells": [
  {
   "cell_type": "code",
   "execution_count": null,
   "metadata": {},
   "outputs": [],
   "source": []
  },
  {
   "cell_type": "code",
   "execution_count": null,
   "metadata": {},
   "outputs": [],
   "source": [
    "import pandas\n",
    "print('pandas',pandas.__version__)\n",
    "import numpy\n",
    "print('numpy',numpy.__version__)\n",
    "import glob\n",
    "import matplotlib.pyplot as plt\n",
    "import seaborn\n",
    "from scipy import stats\n",
    "import time"
   ]
  },
  {
   "cell_type": "markdown",
   "metadata": {},
   "source": [
    "# load data from pickle file"
   ]
  },
  {
   "cell_type": "code",
   "execution_count": null,
   "metadata": {},
   "outputs": [],
   "source": [
    "df = pandas.read_pickle(\"single_process_df_this_notebook_1552822411.6475844.pkl\")"
   ]
  },
  {
   "cell_type": "code",
   "execution_count": null,
   "metadata": {},
   "outputs": [],
   "source": [
    "print(df.shape)\n",
    "df.head()"
   ]
  },
  {
   "cell_type": "markdown",
   "metadata": {},
   "source": [
    "# drop column if entire column is constant value"
   ]
  },
  {
   "cell_type": "code",
   "execution_count": null,
   "metadata": {},
   "outputs": [],
   "source": [
    "# https://stackoverflow.com/questions/39658574/how-to-drop-columns-which-have-same-values-in-all-rows-via-pandas-or-spark-dataf\n",
    "series_of_unique_values_per_column = df.apply(pandas.Series.nunique)\n",
    "cols_to_drop = series_of_unique_values_per_column[series_of_unique_values_per_column == 1].index\n",
    "df = df.drop(cols_to_drop, axis=1)\n",
    "print(df.shape)\n",
    "df.head()"
   ]
  },
  {
   "cell_type": "markdown",
   "metadata": {},
   "source": [
    "# scatter plot per column"
   ]
  },
  {
   "cell_type": "code",
   "execution_count": null,
   "metadata": {},
   "outputs": [],
   "source": [
    "def scatter_plot_column(df,col_name):\n",
    "    if not isinstance(df,pandas.core.frame.DataFrame):\n",
    "        print('ERROR: expected input of type dataframe')\n",
    "        return None\n",
    "    print(col_name)\n",
    "    x=df['time in unix seconds']\n",
    "    y=df[col_name]\n",
    "    # https://docs.scipy.org/doc/scipy/reference/generated/scipy.stats.linregress.html\n",
    "    slope, intercept, r_value, p_value, std_err = stats.linregress(x,y)\n",
    "\n",
    "    print('r',r_value)\n",
    "    print('p',p_value)\n",
    "    print('std error:',std_err)\n",
    "\n",
    "    _=plt.figure(figsize=(5,4))\n",
    "    if (abs(1-r_value)<0.01):\n",
    "        plt.scatter(x,y,label='original')\n",
    "        plt.plot(x, intercept + slope*x, 'r', label='fitted line')\n",
    "        linear=True\n",
    "    else:\n",
    "        x=df['datetime']\n",
    "        plt.plot_date(x,y,label='original')\n",
    "        plt.xticks(rotation=40)\n",
    "        linear=False\n",
    "    \n",
    "    _=plt.ylabel(col_name,fontsize=14)\n",
    "    _=plt.xlabel('time',fontsize=14)\n",
    "    plt.show()\n",
    "    return linear"
   ]
  },
  {
   "cell_type": "code",
   "execution_count": null,
   "metadata": {},
   "outputs": [],
   "source": [
    "list_of_linear_columns=[]\n",
    "for col_name in df.columns:\n",
    "    if ('seconds' in col_name) or ('datetime' in col_name):\n",
    "        print(col_name)\n",
    "    else:\n",
    "#        plt.scatter(x=df['time in unix seconds'],y=df[col_name])\n",
    "        linear_bool = scatter_plot_column(df,col_name)\n",
    "        if (linear_bool):\n",
    "            list_of_linear_columns.append(col_name)"
   ]
  },
  {
   "cell_type": "markdown",
   "metadata": {},
   "source": [
    "# drop columns that are linear"
   ]
  },
  {
   "cell_type": "code",
   "execution_count": null,
   "metadata": {},
   "outputs": [],
   "source": [
    "list_of_linear_columns"
   ]
  },
  {
   "cell_type": "code",
   "execution_count": null,
   "metadata": {},
   "outputs": [],
   "source": [
    "df = df.drop(list_of_linear_columns, axis=1)\n",
    "print(df.shape)\n",
    "df.head()"
   ]
  },
  {
   "cell_type": "markdown",
   "metadata": {},
   "source": [
    "# find correlated columns and drop all but one of the correlated columns\n",
    "\n",
    "https://stackoverflow.com/questions/39409866/correlation-heatmap\n"
   ]
  },
  {
   "cell_type": "raw",
   "metadata": {},
   "source": [
    "# https://seaborn.pydata.org/generated/seaborn.pairplot.html\n",
    "start_time=time.time()\n",
    "seaborn.pairplot(df, kind=\"reg\")\n",
    "print('elapsed:',time.time()-start_time,'seconds')"
   ]
  },
  {
   "cell_type": "code",
   "execution_count": null,
   "metadata": {},
   "outputs": [],
   "source": [
    "df.columns"
   ]
  },
  {
   "cell_type": "markdown",
   "metadata": {},
   "source": [
    "evaluate correlation for one pair"
   ]
  },
  {
   "cell_type": "code",
   "execution_count": null,
   "metadata": {},
   "outputs": [],
   "source": [
    "df['CPU 1 times idle'].corr(df['process memory: rss'])"
   ]
  },
  {
   "cell_type": "markdown",
   "metadata": {},
   "source": [
    "calculate the correlation matrix"
   ]
  },
  {
   "cell_type": "code",
   "execution_count": null,
   "metadata": {},
   "outputs": [],
   "source": [
    "corr = df.corr()\n",
    "corr.head()"
   ]
  },
  {
   "cell_type": "code",
   "execution_count": null,
   "metadata": {},
   "outputs": [],
   "source": [
    "seaborn.set(rc={'figure.figsize':(10,8)})\n",
    "# plot the heatmap \n",
    "# https://seaborn.pydata.org/generated/seaborn.heatmap.html\n",
    "_=seaborn.heatmap(corr, \n",
    "        xticklabels=corr.columns,\n",
    "        yticklabels=corr.columns)#, annot=True)\n",
    "\n",
    "# diagonal is 1, indicating perfect correlation\n",
    "# black means anti-correlated"
   ]
  },
  {
   "cell_type": "markdown",
   "metadata": {},
   "source": [
    "which columns are correlated?"
   ]
  },
  {
   "cell_type": "code",
   "execution_count": null,
   "metadata": {},
   "outputs": [],
   "source": [
    "type(corr)"
   ]
  },
  {
   "cell_type": "raw",
   "metadata": {},
   "source": [
    "# https://stackoverflow.com/questions/17778394/list-highest-correlation-pairs-from-a-large-correlation-matrix-in-pandas\n",
    "sorted_correlation_pairs_as_series = corr.unstack().sort_values(kind=\"quicksort\")\n",
    "\n",
    "# I couldn't figure out how to work with multi-level indices\n",
    "sorted_correlation_pairs_as_series\n",
    "\n",
    "# https://stackoverflow.com/questions/25929319/how-to-iterate-over-pandas-multiindex-dataframe-using-index\n",
    "for labl1, labl2 in sorted_correlation_pairs_as_series.groupby(level=0):\n",
    "    print(labl2)"
   ]
  },
  {
   "cell_type": "code",
   "execution_count": null,
   "metadata": {},
   "outputs": [],
   "source": [
    "# https://chrisalbon.com/machine_learning/feature_selection/drop_highly_correlated_features/\n",
    "\n",
    "# Select upper triangle of correlation matrix\n",
    "upper = corr.where(numpy.triu(numpy.ones(corr.shape), k=1).astype(numpy.bool))\n",
    "#upper.head()"
   ]
  },
  {
   "cell_type": "raw",
   "metadata": {},
   "source": [
    "# Find index of feature columns with correlation greater than 0.95\n",
    "\n",
    "# this isn't actually what I want -- it selects all columns that are correlated \n",
    "to_drop = [column for column in upper.columns if any(upper[column] > 0.95)]\n",
    "to_drop"
   ]
  },
  {
   "cell_type": "code",
   "execution_count": null,
   "metadata": {},
   "outputs": [],
   "source": [
    "for column in upper.columns:\n",
    "    #print('column:',column)\n",
    "    for row in upper.index:\n",
    "        #print('row:',row)\n",
    "        #print(upper[column].loc[row])\n",
    "        if (upper[column].loc[row] > 0.999):\n",
    "            print(column,'|',row,'|',upper[column].loc[row])\n",
    "            _=scatter_plot_column(df,column)\n",
    "            _=scatter_plot_column(df,row)"
   ]
  },
  {
   "cell_type": "code",
   "execution_count": null,
   "metadata": {},
   "outputs": [],
   "source": []
  },
  {
   "cell_type": "code",
   "execution_count": null,
   "metadata": {},
   "outputs": [],
   "source": [
    "seaborn.set(rc={'figure.figsize':(5,4)})\n",
    "_=seaborn.regplot(x=df['CPU 1 times idle'], y=df['CPU 1 times softirq'])"
   ]
  },
  {
   "cell_type": "code",
   "execution_count": null,
   "metadata": {},
   "outputs": [],
   "source": []
  }
 ],
 "metadata": {
  "kernelspec": {
   "display_name": "Python 3",
   "language": "python",
   "name": "python3"
  },
  "language_info": {
   "codemirror_mode": {
    "name": "ipython",
    "version": 3
   },
   "file_extension": ".py",
   "mimetype": "text/x-python",
   "name": "python",
   "nbconvert_exporter": "python",
   "pygments_lexer": "ipython3",
   "version": "3.6.7"
  }
 },
 "nbformat": 4,
 "nbformat_minor": 2
}
