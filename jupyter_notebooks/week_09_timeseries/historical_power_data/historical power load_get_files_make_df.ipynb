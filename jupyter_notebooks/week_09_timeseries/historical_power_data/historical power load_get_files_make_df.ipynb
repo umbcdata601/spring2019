{
 "cells": [
  {
   "cell_type": "markdown",
   "metadata": {},
   "source": [
    "\"Electric Reliability Council of Texas (ERCOT) manages the flow of electric power to more than 25 million Texas customers -- representing about 90 percent of the state’s electric load.\" (<a href=\"http://www.ercot.com/about\">source</a>)\n",
    "\n",
    "Example report: http://www.ercot.com/content/wcm/lists/143010/2018_Long-Term_Hourly_Peak_Demand_and_Energy_Forecast_Final.pdf\n",
    "\n",
    "Data source:<BR>\n",
    "http://www.ercot.com/gridinfo/load/load_hist/"
   ]
  },
  {
   "cell_type": "code",
   "execution_count": 1,
   "metadata": {},
   "outputs": [
    {
     "name": "stdout",
     "output_type": "stream",
     "text": [
      "Requirement already satisfied: beautifulsoup4 in /opt/conda/lib/python3.6/site-packages (4.6.3)\n"
     ]
    }
   ],
   "source": [
    "!pip install beautifulsoup4"
   ]
  },
  {
   "cell_type": "code",
   "execution_count": 2,
   "metadata": {},
   "outputs": [
    {
     "name": "stdout",
     "output_type": "stream",
     "text": [
      "pandas 0.23.4\n"
     ]
    }
   ],
   "source": [
    "import requests\n",
    "import re\n",
    "from bs4 import BeautifulSoup\n",
    "import pandas\n",
    "print('pandas',pandas.__version__)\n",
    "import glob\n",
    "import zipfile\n",
    "from statsmodels.tsa.seasonal import seasonal_decompose\n",
    "import random\n",
    "import time\n",
    "import matplotlib.pyplot as plt"
   ]
  },
  {
   "cell_type": "code",
   "execution_count": 3,
   "metadata": {},
   "outputs": [],
   "source": [
    "domain = \"http://www.ercot.com\""
   ]
  },
  {
   "cell_type": "code",
   "execution_count": 4,
   "metadata": {},
   "outputs": [],
   "source": [
    "r = requests.get(domain+\"/gridinfo/load/load_hist/\")"
   ]
  },
  {
   "cell_type": "code",
   "execution_count": 5,
   "metadata": {},
   "outputs": [],
   "source": [
    "soup = BeautifulSoup(r.content)"
   ]
  },
  {
   "cell_type": "code",
   "execution_count": 6,
   "metadata": {},
   "outputs": [
    {
     "name": "stdout",
     "output_type": "stream",
     "text": [
      "http://lists.ercot.com\n",
      "http://www.twitter.com/ercot_iso\n",
      "http://www.linkedin.com/company/ercot\n",
      "http://www.youtube.com/user/ERCOTISO?feature=mhee\n"
     ]
    }
   ],
   "source": [
    "# absolute links\n",
    "for link in soup.findAll('a', attrs={'href': re.compile(\"^http://\")}):\n",
    "    print(link.get('href'))"
   ]
  },
  {
   "cell_type": "code",
   "execution_count": 7,
   "metadata": {},
   "outputs": [
    {
     "name": "stdout",
     "output_type": "stream",
     "text": [
      "https://www2.virtualtrainingassistant.com/Ercot/LearnerConnection/Security/Logon.aspx\n",
      "https://mis.ercot.com/marketrak/tmtrack/tmtrack.dll?\n",
      "https://mis.ercot.com/pps/tibco/mis\n",
      "https://www.texasrenewables.com\n",
      "https://etod.ercot.com\n",
      "https://www.facebook.com/pages/Electric-Reliability-Council-of-Texas/208282585857723\n"
     ]
    }
   ],
   "source": [
    "# absolute links\n",
    "for link in soup.findAll('a', attrs={'href': re.compile(\"^https://\")}):\n",
    "    print(link.get('href'))"
   ]
  },
  {
   "cell_type": "code",
   "execution_count": 8,
   "metadata": {},
   "outputs": [
    {
     "name": "stdout",
     "output_type": "stream",
     "text": [
      "/\n",
      "/news/releases\n",
      "/careers\n",
      "/services/comm/feeds\n",
      "/about/contact\n",
      "/about\n",
      "/services\n",
      "/committees\n",
      "/mktrules\n",
      "/mktinfo\n",
      "/gridinfo\n",
      "/\n",
      "/gridinfo\n",
      "/gridinfo/load\n",
      "/gridinfo/csc\n",
      "/gridinfo/generation\n",
      "/gridinfo/load\n",
      "/gridinfo/load/load_hist\n",
      "/gridinfo/load/forecast\n",
      "/gridinfo/transmission\n",
      "/gridinfo/resource\n",
      "/gridinfo/sysplan\n",
      "/gridinfo/planning\n",
      "/content/wcm/key_documents_lists/89022/Native_Load_2019.zip\n",
      "/content/wcm/key_documents_lists/89022/native_load_2018.zip\n",
      "/content/wcm/key_documents_lists/89022/native_load_2017.zip\n",
      "/content/wcm/key_documents_lists/89022/native_Load_2016.zip\n",
      "/content/gridinfo/load/load_hist/native_Load_2015.xls\n",
      "/content/gridinfo/load/load_hist/2014_ERCOT_Hourly_Load_Data.xls\n",
      "/content/gridinfo/load/load_hist/2013_ERCOT_Hourly_Load_Data.xls\n",
      "/content/gridinfo/load/load_hist/2012_ERCOT_Hourly_Load_Data.xls\n",
      "/content/gridinfo/load/load_hist/2011_ERCOT_Hourly_Load_Data.xls\n",
      "/content/gridinfo/load/load_hist/2010_ERCOT_Hourly_Load_Data.xls\n",
      "/content/gridinfo/load/load_hist/2009_ERCOT_Hourly_Load_Data.xls\n",
      "/content/gridinfo/load/load_hist/2008_ERCOT_Hourly_Load_Data.xls\n",
      "/content/gridinfo/load/load_hist/2007_ERCOT_Hourly_Load_Data.xls\n",
      "/content/gridinfo/load/load_hist/2006_ERCOT_Hourly_Load_Data.xls\n",
      "/content/gridinfo/load/load_hist/2005_ERCOT_Hourly_Load_Data.xls\n",
      "/content/gridinfo/load/load_hist/2004_ERCOT_Hourly_Load_Data.xls\n",
      "/content/gridinfo/load/load_hist/2003_ERCOT_Hourly_Load_Data.xls\n",
      "/content/gridinfo/load/load_hist/2002_ERCOT_Hourly_Load_Data.xls\n",
      "/content/gridinfo/load/load_hist/2000FERC714.zip\n",
      "/content/gridinfo/load/load_hist/1999FERC714.zip\n",
      "/content/gridinfo/load/load_hist/FERC714.zip\n",
      "/content/gridinfo/load/load_hist/97frc714.zip\n",
      "/content/gridinfo/load/load_hist/erceei97.xls\n",
      "/content/gridinfo/load/load_hist/erceei97.txt\n",
      "/content/gridinfo/load/load_hist/96load.txt\n",
      "/content/gridinfo/load/load_hist/erceei95.txt\n",
      "/about/governance/ethics\n",
      "/services/client_svcs/mktrk_info\n",
      "/services/sla/\n",
      "http://lists.ercot.com\n",
      "/careers\n",
      "/services/projects\n",
      "/services/training\n",
      "/about/procurement/rfp\n",
      "https://www2.virtualtrainingassistant.com/Ercot/LearnerConnection/Security/Logon.aspx\n",
      "https://mis.ercot.com/marketrak/tmtrack/tmtrack.dll?\n",
      "https://mis.ercot.com/pps/tibco/mis\n",
      "https://www.texasrenewables.com\n",
      "https://etod.ercot.com\n",
      "https://www.facebook.com/pages/Electric-Reliability-Council-of-Texas/208282585857723\n",
      "http://www.twitter.com/ercot_iso\n",
      "/services/comm/feeds\n",
      "http://www.linkedin.com/company/ercot\n",
      "http://www.youtube.com/user/ERCOTISO?feature=mhee\n",
      "/news\n",
      "mailto:webmaster@ercot.com?subject=Website%20feedback\n",
      "/help/sitemap\n",
      "/glossary\n",
      "/help/terms\n",
      "/help/privacy\n"
     ]
    }
   ],
   "source": [
    "# absolute links\n",
    "#for link in soup.findAll('a', attrs={'href': re.compile(\"^https://\")}):\n",
    "# relative links\n",
    "for link in soup.findAll('a'):\n",
    "    print(link.get('href'))"
   ]
  },
  {
   "cell_type": "markdown",
   "metadata": {},
   "source": [
    "now that I've found the files as relative paths, I want to filter the above results to include only .zip and .xls files"
   ]
  },
  {
   "cell_type": "code",
   "execution_count": 9,
   "metadata": {},
   "outputs": [
    {
     "name": "stdout",
     "output_type": "stream",
     "text": [
      "/content/wcm/key_documents_lists/89022/Native_Load_2019.zip\n",
      "/content/wcm/key_documents_lists/89022/native_load_2018.zip\n",
      "/content/wcm/key_documents_lists/89022/native_load_2017.zip\n",
      "/content/wcm/key_documents_lists/89022/native_Load_2016.zip\n",
      "/content/gridinfo/load/load_hist/native_Load_2015.xls\n",
      "/content/gridinfo/load/load_hist/2014_ERCOT_Hourly_Load_Data.xls\n",
      "/content/gridinfo/load/load_hist/2013_ERCOT_Hourly_Load_Data.xls\n",
      "/content/gridinfo/load/load_hist/2012_ERCOT_Hourly_Load_Data.xls\n",
      "/content/gridinfo/load/load_hist/2011_ERCOT_Hourly_Load_Data.xls\n",
      "/content/gridinfo/load/load_hist/2010_ERCOT_Hourly_Load_Data.xls\n",
      "/content/gridinfo/load/load_hist/2009_ERCOT_Hourly_Load_Data.xls\n",
      "/content/gridinfo/load/load_hist/2008_ERCOT_Hourly_Load_Data.xls\n",
      "/content/gridinfo/load/load_hist/2007_ERCOT_Hourly_Load_Data.xls\n",
      "/content/gridinfo/load/load_hist/2006_ERCOT_Hourly_Load_Data.xls\n",
      "/content/gridinfo/load/load_hist/2005_ERCOT_Hourly_Load_Data.xls\n",
      "/content/gridinfo/load/load_hist/2004_ERCOT_Hourly_Load_Data.xls\n",
      "/content/gridinfo/load/load_hist/2003_ERCOT_Hourly_Load_Data.xls\n",
      "/content/gridinfo/load/load_hist/2002_ERCOT_Hourly_Load_Data.xls\n",
      "/content/gridinfo/load/load_hist/2000FERC714.zip\n",
      "/content/gridinfo/load/load_hist/1999FERC714.zip\n",
      "/content/gridinfo/load/load_hist/FERC714.zip\n",
      "/content/gridinfo/load/load_hist/97frc714.zip\n",
      "/content/gridinfo/load/load_hist/erceei97.xls\n"
     ]
    }
   ],
   "source": [
    "for link in soup.findAll('a'):\n",
    "    link_path = link.get('href')\n",
    "    if 'xls' in link_path:\n",
    "        print(link_path)\n",
    "        xls_link = link_path\n",
    "    if '.zip' in link_path:\n",
    "        print(link_path)"
   ]
  },
  {
   "cell_type": "markdown",
   "metadata": {},
   "source": [
    "as a test before creating more code, let's download one of those files"
   ]
  },
  {
   "cell_type": "code",
   "execution_count": 10,
   "metadata": {},
   "outputs": [
    {
     "name": "stdout",
     "output_type": "stream",
     "text": [
      "http://www.ercot.com/content/gridinfo/load/load_hist/erceei97.xls\n"
     ]
    },
    {
     "data": {
      "text/plain": [
       "109056"
      ]
     },
     "execution_count": 10,
     "metadata": {},
     "output_type": "execute_result"
    }
   ],
   "source": [
    "url = domain+xls_link\n",
    "print(url)\n",
    "r = requests.get(url, allow_redirects=True)\n",
    "open('filename.xls', 'wb').write(r.content)"
   ]
  },
  {
   "cell_type": "markdown",
   "metadata": {},
   "source": [
    "just to verify the contents, take a look at the dataframe"
   ]
  },
  {
   "cell_type": "code",
   "execution_count": 11,
   "metadata": {},
   "outputs": [
    {
     "name": "stdout",
     "output_type": "stream",
     "text": [
      "(368, 25)\n"
     ]
    },
    {
     "data": {
      "text/html": [
       "<div>\n",
       "<style scoped>\n",
       "    .dataframe tbody tr th:only-of-type {\n",
       "        vertical-align: middle;\n",
       "    }\n",
       "\n",
       "    .dataframe tbody tr th {\n",
       "        vertical-align: top;\n",
       "    }\n",
       "\n",
       "    .dataframe thead th {\n",
       "        text-align: right;\n",
       "    }\n",
       "</style>\n",
       "<table border=\"1\" class=\"dataframe\">\n",
       "  <thead>\n",
       "    <tr style=\"text-align: right;\">\n",
       "      <th></th>\n",
       "      <th>ERCOT - Composite Load</th>\n",
       "      <th>Unnamed: 1</th>\n",
       "      <th>Unnamed: 2</th>\n",
       "      <th>Unnamed: 3</th>\n",
       "      <th>Unnamed: 4</th>\n",
       "      <th>Unnamed: 5</th>\n",
       "      <th>Unnamed: 6</th>\n",
       "      <th>Unnamed: 7</th>\n",
       "      <th>Unnamed: 8</th>\n",
       "      <th>Unnamed: 9</th>\n",
       "      <th>...</th>\n",
       "      <th>Unnamed: 15</th>\n",
       "      <th>Unnamed: 16</th>\n",
       "      <th>Unnamed: 17</th>\n",
       "      <th>Unnamed: 18</th>\n",
       "      <th>Unnamed: 19</th>\n",
       "      <th>Unnamed: 20</th>\n",
       "      <th>Unnamed: 21</th>\n",
       "      <th>Unnamed: 22</th>\n",
       "      <th>Unnamed: 23</th>\n",
       "      <th>Unnamed: 24</th>\n",
       "    </tr>\n",
       "  </thead>\n",
       "  <tbody>\n",
       "    <tr>\n",
       "      <th>0</th>\n",
       "      <td>1997</td>\n",
       "      <td>NaN</td>\n",
       "      <td>NaN</td>\n",
       "      <td>NaN</td>\n",
       "      <td>NaN</td>\n",
       "      <td>NaN</td>\n",
       "      <td>NaN</td>\n",
       "      <td>NaN</td>\n",
       "      <td>NaN</td>\n",
       "      <td>NaN</td>\n",
       "      <td>...</td>\n",
       "      <td>NaN</td>\n",
       "      <td>NaN</td>\n",
       "      <td>NaN</td>\n",
       "      <td>NaN</td>\n",
       "      <td>NaN</td>\n",
       "      <td>NaN</td>\n",
       "      <td>NaN</td>\n",
       "      <td>NaN</td>\n",
       "      <td>NaN</td>\n",
       "      <td>NaN</td>\n",
       "    </tr>\n",
       "    <tr>\n",
       "      <th>1</th>\n",
       "      <td>NaN</td>\n",
       "      <td>NaN</td>\n",
       "      <td>NaN</td>\n",
       "      <td>NaN</td>\n",
       "      <td>NaN</td>\n",
       "      <td>NaN</td>\n",
       "      <td>---   Hour Ending  ---</td>\n",
       "      <td>NaN</td>\n",
       "      <td>NaN</td>\n",
       "      <td>NaN</td>\n",
       "      <td>...</td>\n",
       "      <td>NaN</td>\n",
       "      <td>NaN</td>\n",
       "      <td>NaN</td>\n",
       "      <td>NaN</td>\n",
       "      <td>NaN</td>\n",
       "      <td>NaN</td>\n",
       "      <td>NaN</td>\n",
       "      <td>NaN</td>\n",
       "      <td>NaN</td>\n",
       "      <td>NaN</td>\n",
       "    </tr>\n",
       "    <tr>\n",
       "      <th>2</th>\n",
       "      <td>Date</td>\n",
       "      <td>01:00:00</td>\n",
       "      <td>02:00:00</td>\n",
       "      <td>03:00:00</td>\n",
       "      <td>04:00:00</td>\n",
       "      <td>05:00:00</td>\n",
       "      <td>06:00:00</td>\n",
       "      <td>07:00:00</td>\n",
       "      <td>08:00:00</td>\n",
       "      <td>09:00:00</td>\n",
       "      <td>...</td>\n",
       "      <td>15:00:00</td>\n",
       "      <td>16:00:00</td>\n",
       "      <td>17:00:00</td>\n",
       "      <td>18:00:00</td>\n",
       "      <td>19:00:00</td>\n",
       "      <td>20:00:00</td>\n",
       "      <td>21:00:00</td>\n",
       "      <td>22:00:00</td>\n",
       "      <td>23:00:00</td>\n",
       "      <td>00:00:00</td>\n",
       "    </tr>\n",
       "    <tr>\n",
       "      <th>3</th>\n",
       "      <td>1997-01-01 00:00:00</td>\n",
       "      <td>19662</td>\n",
       "      <td>18931</td>\n",
       "      <td>18162</td>\n",
       "      <td>17772</td>\n",
       "      <td>17636</td>\n",
       "      <td>17876</td>\n",
       "      <td>18328</td>\n",
       "      <td>18541</td>\n",
       "      <td>19078</td>\n",
       "      <td>...</td>\n",
       "      <td>21382</td>\n",
       "      <td>21294</td>\n",
       "      <td>21331</td>\n",
       "      <td>22261</td>\n",
       "      <td>23890</td>\n",
       "      <td>23613</td>\n",
       "      <td>23080</td>\n",
       "      <td>22373</td>\n",
       "      <td>21170</td>\n",
       "      <td>19576</td>\n",
       "    </tr>\n",
       "    <tr>\n",
       "      <th>4</th>\n",
       "      <td>1997-01-02 00:00:00</td>\n",
       "      <td>18414</td>\n",
       "      <td>17757</td>\n",
       "      <td>17393</td>\n",
       "      <td>17343</td>\n",
       "      <td>17648</td>\n",
       "      <td>18929</td>\n",
       "      <td>21082</td>\n",
       "      <td>22731</td>\n",
       "      <td>23383</td>\n",
       "      <td>...</td>\n",
       "      <td>25144</td>\n",
       "      <td>25147</td>\n",
       "      <td>24963</td>\n",
       "      <td>25309</td>\n",
       "      <td>26693</td>\n",
       "      <td>26259</td>\n",
       "      <td>25561</td>\n",
       "      <td>24462</td>\n",
       "      <td>22898</td>\n",
       "      <td>21102</td>\n",
       "    </tr>\n",
       "  </tbody>\n",
       "</table>\n",
       "<p>5 rows × 25 columns</p>\n",
       "</div>"
      ],
      "text/plain": [
       "  ERCOT - Composite Load Unnamed: 1 Unnamed: 2 Unnamed: 3 Unnamed: 4  \\\n",
       "0                   1997        NaN        NaN        NaN        NaN   \n",
       "1                    NaN        NaN        NaN        NaN        NaN   \n",
       "2                   Date   01:00:00   02:00:00   03:00:00   04:00:00   \n",
       "3    1997-01-01 00:00:00      19662      18931      18162      17772   \n",
       "4    1997-01-02 00:00:00      18414      17757      17393      17343   \n",
       "\n",
       "  Unnamed: 5              Unnamed: 6 Unnamed: 7 Unnamed: 8 Unnamed: 9  \\\n",
       "0        NaN                     NaN        NaN        NaN        NaN   \n",
       "1        NaN  ---   Hour Ending  ---        NaN        NaN        NaN   \n",
       "2   05:00:00                06:00:00   07:00:00   08:00:00   09:00:00   \n",
       "3      17636                   17876      18328      18541      19078   \n",
       "4      17648                   18929      21082      22731      23383   \n",
       "\n",
       "      ...     Unnamed: 15 Unnamed: 16 Unnamed: 17 Unnamed: 18 Unnamed: 19  \\\n",
       "0     ...             NaN         NaN         NaN         NaN         NaN   \n",
       "1     ...             NaN         NaN         NaN         NaN         NaN   \n",
       "2     ...        15:00:00    16:00:00    17:00:00    18:00:00    19:00:00   \n",
       "3     ...           21382       21294       21331       22261       23890   \n",
       "4     ...           25144       25147       24963       25309       26693   \n",
       "\n",
       "  Unnamed: 20 Unnamed: 21 Unnamed: 22 Unnamed: 23 Unnamed: 24  \n",
       "0         NaN         NaN         NaN         NaN         NaN  \n",
       "1         NaN         NaN         NaN         NaN         NaN  \n",
       "2    20:00:00    21:00:00    22:00:00    23:00:00    00:00:00  \n",
       "3       23613       23080       22373       21170       19576  \n",
       "4       26259       25561       24462       22898       21102  \n",
       "\n",
       "[5 rows x 25 columns]"
      ]
     },
     "execution_count": 11,
     "metadata": {},
     "output_type": "execute_result"
    }
   ],
   "source": [
    "df = pandas.read_excel('filename.xls')\n",
    "print(df.shape)\n",
    "df.head()"
   ]
  },
  {
   "cell_type": "markdown",
   "metadata": {},
   "source": [
    "Now that we are confident based on one sample, get all the data"
   ]
  },
  {
   "cell_type": "code",
   "execution_count": 12,
   "metadata": {},
   "outputs": [],
   "source": [
    "def download_file(url,filename):\n",
    "    \"\"\"\n",
    "    download a file based on a URL, save to filename\n",
    "    \"\"\"\n",
    "    if not isinstance(url,str):\n",
    "        raise TypeError(\"url must be string\")\n",
    "    if not isinstance(filename,str):\n",
    "        raise TypeError(\"filename must be string\")\n",
    "        \n",
    "    r = requests.get(url, allow_redirects=True)\n",
    "    open(filename, 'wb').write(r.content)\n",
    "    return"
   ]
  },
  {
   "cell_type": "code",
   "execution_count": 13,
   "metadata": {},
   "outputs": [
    {
     "name": "stdout",
     "output_type": "stream",
     "text": [
      "Native_Load_2019.zip\n",
      "native_load_2018.zip\n",
      "native_load_2017.zip\n",
      "native_Load_2016.zip\n",
      "native_Load_2015.xls\n",
      "2014_ERCOT_Hourly_Load_Data.xls\n",
      "2013_ERCOT_Hourly_Load_Data.xls\n",
      "2012_ERCOT_Hourly_Load_Data.xls\n",
      "2011_ERCOT_Hourly_Load_Data.xls\n",
      "2010_ERCOT_Hourly_Load_Data.xls\n",
      "2009_ERCOT_Hourly_Load_Data.xls\n",
      "2008_ERCOT_Hourly_Load_Data.xls\n",
      "2007_ERCOT_Hourly_Load_Data.xls\n",
      "2006_ERCOT_Hourly_Load_Data.xls\n",
      "2005_ERCOT_Hourly_Load_Data.xls\n",
      "2004_ERCOT_Hourly_Load_Data.xls\n",
      "2003_ERCOT_Hourly_Load_Data.xls\n",
      "2002_ERCOT_Hourly_Load_Data.xls\n",
      "2000FERC714.zip\n",
      "1999FERC714.zip\n",
      "FERC714.zip\n",
      "97frc714.zip\n",
      "erceei97.xls\n"
     ]
    }
   ],
   "source": [
    "for link in soup.findAll('a'):\n",
    "    link_path = link.get('href')\n",
    "    filename = link_path.split('/')[-1]\n",
    "    if ('.xls' in link_path) or ('.zip' in link_path):\n",
    "        print(filename)\n",
    "        download_file(domain+link_path,filename)"
   ]
  },
  {
   "cell_type": "markdown",
   "metadata": {},
   "source": [
    "what is now in my local directory?"
   ]
  },
  {
   "cell_type": "code",
   "execution_count": 14,
   "metadata": {},
   "outputs": [
    {
     "name": "stdout",
     "output_type": "stream",
     "text": [
      " 1999FERC714.zip\t\t   2013_ERCOT_Hourly_Load_Data.xls\n",
      " 2000FERC714.zip\t\t   2014_ERCOT_Hourly_Load_Data.xls\n",
      " 2002_ERCOT_Hourly_Load_Data.xls   97frc714.zip\n",
      " 2003_ERCOT_Hourly_Load_Data.xls   erceei97.xls\n",
      " 2004_ERCOT_Hourly_Load_Data.xls   FERC714.zip\n",
      " 2005_ERCOT_Hourly_Load_Data.xls   filename.xls\n",
      " 2006_ERCOT_Hourly_Load_Data.xls  'historical power load.ipynb'\n",
      " 2007_ERCOT_Hourly_Load_Data.xls   native_Load_2015.xls\n",
      " 2008_ERCOT_Hourly_Load_Data.xls   native_Load_2016.zip\n",
      " 2009_ERCOT_Hourly_Load_Data.xls   native_load_2017.zip\n",
      " 2010_ERCOT_Hourly_Load_Data.xls   native_load_2018.zip\n",
      " 2011_ERCOT_Hourly_Load_Data.xls   Native_Load_2019.zip\n",
      " 2012_ERCOT_Hourly_Load_Data.xls\n"
     ]
    }
   ],
   "source": [
    "!ls"
   ]
  },
  {
   "cell_type": "markdown",
   "metadata": {},
   "source": [
    "we'll need to extract the .zip files"
   ]
  },
  {
   "cell_type": "code",
   "execution_count": 15,
   "metadata": {},
   "outputs": [
    {
     "data": {
      "text/plain": [
       "['native_Load_2016.zip',\n",
       " 'native_load_2017.zip',\n",
       " 'Native_Load_2019.zip',\n",
       " 'native_load_2018.zip',\n",
       " '2000FERC714.zip',\n",
       " '1999FERC714.zip',\n",
       " 'FERC714.zip',\n",
       " '97frc714.zip']"
      ]
     },
     "execution_count": 15,
     "metadata": {},
     "output_type": "execute_result"
    }
   ],
   "source": [
    "list_of_zips = glob.glob('*.zip')\n",
    "list_of_zips"
   ]
  },
  {
   "cell_type": "code",
   "execution_count": 16,
   "metadata": {},
   "outputs": [],
   "source": [
    "for zip_file in list_of_zips:\n",
    "#    print(zip_file)\n",
    "    with zipfile.ZipFile(zip_file,\"r\") as zip_ref:\n",
    "        zip_ref.extractall(zip_file+\"_folder\")"
   ]
  },
  {
   "cell_type": "code",
   "execution_count": 24,
   "metadata": {},
   "outputs": [
    {
     "name": "stdout",
     "output_type": "stream",
     "text": [
      "total 30M\n",
      "drwxr-xr-x 36 jovyan users 1.2K Mar 23 16:52  .\n",
      "drwxr-xr-x 12 jovyan users  384 Mar 23 16:30  ..\n",
      "-rw-r--r--  1 jovyan users 373K Mar 23 16:52  1999FERC714.zip\n",
      "drwxr-xr-x  6 jovyan users  192 Mar 23 16:52  1999FERC714.zip_folder\n",
      "-rw-r--r--  1 jovyan users 373K Mar 23 16:52  2000FERC714.zip\n",
      "drwxr-xr-x  6 jovyan users  192 Mar 23 16:52  2000FERC714.zip_folder\n",
      "-rw-r--r--  1 jovyan users 1.8M Mar 23 16:52  2002_ERCOT_Hourly_Load_Data.xls\n",
      "-rw-r--r--  1 jovyan users 1.8M Mar 23 16:52  2003_ERCOT_Hourly_Load_Data.xls\n",
      "-rw-r--r--  1 jovyan users 1.8M Mar 23 16:52  2004_ERCOT_Hourly_Load_Data.xls\n",
      "-rw-r--r--  1 jovyan users 1.8M Mar 23 16:52  2005_ERCOT_Hourly_Load_Data.xls\n",
      "-rw-r--r--  1 jovyan users 1.8M Mar 23 16:52  2006_ERCOT_Hourly_Load_Data.xls\n",
      "-rw-r--r--  1 jovyan users 1.8M Mar 23 16:52  2007_ERCOT_Hourly_Load_Data.xls\n",
      "-rw-r--r--  1 jovyan users 1.8M Mar 23 16:52  2008_ERCOT_Hourly_Load_Data.xls\n",
      "-rw-r--r--  1 jovyan users 1.8M Mar 23 16:52  2009_ERCOT_Hourly_Load_Data.xls\n",
      "-rw-r--r--  1 jovyan users 1.8M Mar 23 16:52  2010_ERCOT_Hourly_Load_Data.xls\n",
      "-rw-r--r--  1 jovyan users 1.8M Mar 23 16:52  2011_ERCOT_Hourly_Load_Data.xls\n",
      "-rw-r--r--  1 jovyan users 1.8M Mar 23 16:52  2012_ERCOT_Hourly_Load_Data.xls\n",
      "-rw-r--r--  1 jovyan users 1.8M Mar 23 16:52  2013_ERCOT_Hourly_Load_Data.xls\n",
      "-rw-r--r--  1 jovyan users 1.8M Mar 23 16:52  2014_ERCOT_Hourly_Load_Data.xls\n",
      "-rw-r--r--  1 jovyan users 207K Mar 23 16:52  97frc714.zip\n",
      "drwxr-xr-x 25 jovyan users  800 Mar 23 16:52  97frc714.zip_folder\n",
      "-rw-r--r--  1 jovyan users 107K Mar 23 16:52  erceei97.xls\n",
      "-rw-r--r--  1 jovyan users 1.1M Mar 23 16:52  FERC714.zip\n",
      "drwxr-xr-x  3 jovyan users   96 Mar 23 16:52  FERC714.zip_folder\n",
      "-rw-r--r--  1 jovyan users 107K Mar 23 16:51  filename.xls\n",
      "-rw-r--r--  1 jovyan users  24K Mar 23 16:52 'historical power load.ipynb'\n",
      "drwxr-xr-x  3 jovyan users   96 Mar 23 16:30  .ipynb_checkpoints\n",
      "-rw-r--r--  1 jovyan users 1.8M Mar 23 16:52  native_Load_2015.xls\n",
      "-rw-r--r--  1 jovyan users 1.1M Mar 23 16:51  native_Load_2016.zip\n",
      "drwxr-xr-x  3 jovyan users   96 Mar 23 16:52  native_Load_2016.zip_folder\n",
      "-rw-r--r--  1 jovyan users 1.1M Mar 23 16:51  native_load_2017.zip\n",
      "drwxr-xr-x  3 jovyan users   96 Mar 23 16:52  native_load_2017.zip_folder\n",
      "-rw-r--r--  1 jovyan users 1.1M Mar 23 16:51  native_load_2018.zip\n",
      "drwxr-xr-x  3 jovyan users   96 Mar 23 16:52  native_load_2018.zip_folder\n",
      "-rw-r--r--  1 jovyan users 176K Mar 23 16:51  Native_Load_2019.zip\n",
      "drwxr-xr-x  3 jovyan users   96 Mar 23 16:52  Native_Load_2019.zip_folder\n"
     ]
    }
   ],
   "source": [
    "!ls -hal"
   ]
  },
  {
   "cell_type": "code",
   "execution_count": 3,
   "metadata": {},
   "outputs": [
    {
     "name": "stdout",
     "output_type": "stream",
     "text": [
      "\n",
      "2006_ERCOT_Hourly_Load_Data.xls\n",
      "Index(['Hour_End', 'COAST', 'EAST', 'FAR_WEST', 'NORTH', 'NORTH_C', 'SOUTHERN',\n",
      "       'SOUTH_C', 'WEST', 'ERCOT'],\n",
      "      dtype='object')\n",
      "(8760, 10)\n",
      "\n",
      "2010_ERCOT_Hourly_Load_Data.xls\n",
      "Index(['Hour_End', 'COAST', 'EAST', 'FAR_WEST', 'NORTH', 'NORTH_C', 'SOUTHERN',\n",
      "       'SOUTH_C', 'WEST', 'ERCOT'],\n",
      "      dtype='object')\n",
      "(8760, 10)\n",
      "\n",
      "2007_ERCOT_Hourly_Load_Data.xls\n",
      "Index(['Hour_End', 'COAST', 'EAST', 'FAR_WEST', 'NORTH', 'NORTH_C', 'SOUTHERN',\n",
      "       'SOUTH_C', 'WEST', 'ERCOT'],\n",
      "      dtype='object')\n",
      "(8760, 10)\n",
      "\n",
      "2011_ERCOT_Hourly_Load_Data.xls\n",
      "Index(['Hour_End', 'COAST', 'EAST', 'FAR_WEST', 'NORTH', 'NORTH_C', 'SOUTHERN',\n",
      "       'SOUTH_C', 'WEST', 'ERCOT'],\n",
      "      dtype='object')\n",
      "(8760, 10)\n",
      "\n",
      "2013_ERCOT_Hourly_Load_Data.xls\n",
      "Index(['Hour_End', 'COAST', 'EAST', 'FAR_WEST', 'NORTH', 'NORTH_C', 'SOUTHERN',\n",
      "       'SOUTH_C', 'WEST', 'ERCOT'],\n",
      "      dtype='object')\n",
      "(8760, 10)\n",
      "\n",
      "2005_ERCOT_Hourly_Load_Data.xls\n",
      "Index(['Hour_End', 'COAST', 'EAST', 'FAR_WEST', 'NORTH', 'NORTH_C', 'SOUTHERN',\n",
      "       'SOUTH_C', 'WEST', 'ERCOT'],\n",
      "      dtype='object')\n",
      "(8760, 10)\n",
      "\n",
      "2009_ERCOT_Hourly_Load_Data.xls\n",
      "Index(['Hour_End', 'COAST', 'EAST', 'FAR_WEST', 'NORTH', 'NORTH_C', 'SOUTHERN',\n",
      "       'SOUTH_C', 'WEST', 'ERCOT'],\n",
      "      dtype='object')\n",
      "(8760, 10)\n",
      "\n",
      "2002_ERCOT_Hourly_Load_Data.xls\n",
      "Index(['Hour_End', 'COAST', 'EAST', 'FAR_WEST', 'NORTH', 'NORTH_C', 'SOUTHERN',\n",
      "       'SOUTH_C', 'WEST', 'ERCOT'],\n",
      "      dtype='object')\n",
      "(8760, 10)\n",
      "\n",
      "2014_ERCOT_Hourly_Load_Data.xls\n",
      "Index(['Hour_End', 'COAST', 'EAST', 'FAR_WEST', 'NORTH', 'NORTH_C', 'SOUTHERN',\n",
      "       'SOUTH_C', 'WEST', 'ERCOT'],\n",
      "      dtype='object')\n",
      "(8760, 10)\n",
      "\n",
      "2003_ERCOT_Hourly_Load_Data.xls\n",
      "Index(['Hour_End', 'COAST', 'EAST', 'FAR_WEST', 'NORTH', 'NORTH_C', 'SOUTHERN',\n",
      "       'SOUTH_C', 'WEST', 'ERCOT'],\n",
      "      dtype='object')\n",
      "(8760, 10)\n",
      "\n",
      "2012_ERCOT_Hourly_Load_Data.xls\n",
      "Index(['Hour_End', 'COAST', 'EAST', 'FAR_WEST', 'NORTH', 'NORTH_C', 'SOUTHERN',\n",
      "       'SOUTH_C', 'WEST', 'ERCOT'],\n",
      "      dtype='object')\n",
      "(8784, 10)\n",
      "\n",
      "2004_ERCOT_Hourly_Load_Data.xls\n",
      "Index(['Hour_End', 'COAST', 'EAST', 'FAR_WEST', 'NORTH', 'NORTH_C', 'SOUTHERN',\n",
      "       'SOUTH_C', 'WEST', 'ERCOT'],\n",
      "      dtype='object')\n",
      "(8784, 10)\n",
      "\n",
      "2008_ERCOT_Hourly_Load_Data.xls\n",
      "Index(['Hour_End', 'COAST', 'EAST', 'FAR_WEST', 'NORTH', 'NORTH_C', 'SOUTHERN',\n",
      "       'SOUTH_C', 'WEST', 'ERCOT'],\n",
      "      dtype='object')\n",
      "(8784, 10)\n"
     ]
    }
   ],
   "source": [
    "for file_name in glob.glob('20*.xls'):\n",
    "    df = pandas.read_excel(file_name)\n",
    "    print('\\n'+file_name)\n",
    "    print(df.columns) # verified that columns are consistent\n",
    "    print(df.shape)"
   ]
  },
  {
   "cell_type": "code",
   "execution_count": 4,
   "metadata": {},
   "outputs": [
    {
     "name": "stdout",
     "output_type": "stream",
     "text": [
      "elapsed: 9.0895414352417 seconds\n"
     ]
    }
   ],
   "source": [
    "start_time=time.time()\n",
    "list_of_df = []\n",
    "for file_name in glob.glob('20*.xls'):\n",
    "    df = pandas.read_excel(file_name)\n",
    "    list_of_df.append(df)\n",
    "    \n",
    "df = pandas.concat(list_of_df)\n",
    "df.shape\n",
    "print('elapsed:',time.time()-start_time,'seconds')"
   ]
  },
  {
   "cell_type": "code",
   "execution_count": 5,
   "metadata": {},
   "outputs": [
    {
     "data": {
      "text/html": [
       "<div>\n",
       "<style scoped>\n",
       "    .dataframe tbody tr th:only-of-type {\n",
       "        vertical-align: middle;\n",
       "    }\n",
       "\n",
       "    .dataframe tbody tr th {\n",
       "        vertical-align: top;\n",
       "    }\n",
       "\n",
       "    .dataframe thead th {\n",
       "        text-align: right;\n",
       "    }\n",
       "</style>\n",
       "<table border=\"1\" class=\"dataframe\">\n",
       "  <thead>\n",
       "    <tr style=\"text-align: right;\">\n",
       "      <th></th>\n",
       "      <th>Hour_End</th>\n",
       "      <th>COAST</th>\n",
       "      <th>EAST</th>\n",
       "      <th>FAR_WEST</th>\n",
       "      <th>NORTH</th>\n",
       "      <th>NORTH_C</th>\n",
       "      <th>SOUTHERN</th>\n",
       "      <th>SOUTH_C</th>\n",
       "      <th>WEST</th>\n",
       "      <th>ERCOT</th>\n",
       "    </tr>\n",
       "  </thead>\n",
       "  <tbody>\n",
       "    <tr>\n",
       "      <th>0</th>\n",
       "      <td>2006-01-01 01:00:00.003</td>\n",
       "      <td>7623.394894</td>\n",
       "      <td>788.305875</td>\n",
       "      <td>1026.559049</td>\n",
       "      <td>777.157535</td>\n",
       "      <td>7549.809438</td>\n",
       "      <td>1852.416802</td>\n",
       "      <td>3797.223989</td>\n",
       "      <td>639.553370</td>\n",
       "      <td>24054.420954</td>\n",
       "    </tr>\n",
       "    <tr>\n",
       "      <th>1</th>\n",
       "      <td>2006-01-01 01:59:59.997</td>\n",
       "      <td>7437.102525</td>\n",
       "      <td>779.587442</td>\n",
       "      <td>1024.320168</td>\n",
       "      <td>752.171350</td>\n",
       "      <td>7291.494704</td>\n",
       "      <td>1770.283786</td>\n",
       "      <td>3637.505535</td>\n",
       "      <td>628.083900</td>\n",
       "      <td>23320.549410</td>\n",
       "    </tr>\n",
       "    <tr>\n",
       "      <th>2</th>\n",
       "      <td>2006-01-01 03:00:00.000</td>\n",
       "      <td>7151.481479</td>\n",
       "      <td>767.310985</td>\n",
       "      <td>1011.297406</td>\n",
       "      <td>725.028737</td>\n",
       "      <td>7012.269706</td>\n",
       "      <td>1676.891230</td>\n",
       "      <td>3482.207530</td>\n",
       "      <td>614.014931</td>\n",
       "      <td>22440.502004</td>\n",
       "    </tr>\n",
       "    <tr>\n",
       "      <th>3</th>\n",
       "      <td>2006-01-01 04:00:00.003</td>\n",
       "      <td>6957.302786</td>\n",
       "      <td>774.671447</td>\n",
       "      <td>1004.026250</td>\n",
       "      <td>711.968331</td>\n",
       "      <td>6896.466664</td>\n",
       "      <td>1609.080496</td>\n",
       "      <td>3363.417807</td>\n",
       "      <td>611.227308</td>\n",
       "      <td>21928.161089</td>\n",
       "    </tr>\n",
       "    <tr>\n",
       "      <th>4</th>\n",
       "      <td>2006-01-01 04:59:59.997</td>\n",
       "      <td>6861.596790</td>\n",
       "      <td>772.916673</td>\n",
       "      <td>1005.141879</td>\n",
       "      <td>708.933070</td>\n",
       "      <td>6810.395549</td>\n",
       "      <td>1595.417621</td>\n",
       "      <td>3303.547499</td>\n",
       "      <td>613.746434</td>\n",
       "      <td>21671.695516</td>\n",
       "    </tr>\n",
       "  </tbody>\n",
       "</table>\n",
       "</div>"
      ],
      "text/plain": [
       "                 Hour_End        COAST        EAST     FAR_WEST       NORTH  \\\n",
       "0 2006-01-01 01:00:00.003  7623.394894  788.305875  1026.559049  777.157535   \n",
       "1 2006-01-01 01:59:59.997  7437.102525  779.587442  1024.320168  752.171350   \n",
       "2 2006-01-01 03:00:00.000  7151.481479  767.310985  1011.297406  725.028737   \n",
       "3 2006-01-01 04:00:00.003  6957.302786  774.671447  1004.026250  711.968331   \n",
       "4 2006-01-01 04:59:59.997  6861.596790  772.916673  1005.141879  708.933070   \n",
       "\n",
       "       NORTH_C     SOUTHERN      SOUTH_C        WEST         ERCOT  \n",
       "0  7549.809438  1852.416802  3797.223989  639.553370  24054.420954  \n",
       "1  7291.494704  1770.283786  3637.505535  628.083900  23320.549410  \n",
       "2  7012.269706  1676.891230  3482.207530  614.014931  22440.502004  \n",
       "3  6896.466664  1609.080496  3363.417807  611.227308  21928.161089  \n",
       "4  6810.395549  1595.417621  3303.547499  613.746434  21671.695516  "
      ]
     },
     "execution_count": 5,
     "metadata": {},
     "output_type": "execute_result"
    }
   ],
   "source": [
    "df.head()"
   ]
  },
  {
   "cell_type": "code",
   "execution_count": 6,
   "metadata": {},
   "outputs": [],
   "source": [
    "df.to_pickle('power_data.pkl')"
   ]
  },
  {
   "cell_type": "code",
   "execution_count": null,
   "metadata": {},
   "outputs": [],
   "source": []
  }
 ],
 "metadata": {
  "kernelspec": {
   "display_name": "Python 3",
   "language": "python",
   "name": "python3"
  },
  "language_info": {
   "codemirror_mode": {
    "name": "ipython",
    "version": 3
   },
   "file_extension": ".py",
   "mimetype": "text/x-python",
   "name": "python",
   "nbconvert_exporter": "python",
   "pygments_lexer": "ipython3",
   "version": "3.6.7"
  }
 },
 "nbformat": 4,
 "nbformat_minor": 2
}
