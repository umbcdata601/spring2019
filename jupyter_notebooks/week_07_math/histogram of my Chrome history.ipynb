{
 "cells": [
  {
   "cell_type": "markdown",
   "metadata": {},
   "source": [
    "These pages explain how to get your Chrome history on your computer:\n",
    "    \n",
    "https://superuser.com/questions/602252/can-chrome-browser-history-be-exported-to-an-html-file\n",
    "    \n",
    "https://yuji.wordpress.com/2014/03/10/export-chrome-history-as-csv-spreadsheet/\n",
    "\n",
    "Notebook of Chrome history analysis:\n",
    "\n",
    "http://www.isabeldalessandro.com/cs234/google/notebook1.html\n",
    "\n",
    "https://gist.github.com/dropmeaword/9372cbeb29e8390521c2"
   ]
  },
  {
   "cell_type": "code",
   "execution_count": 1,
   "metadata": {},
   "outputs": [],
   "source": [
    "#!cp /Users/ben/Library/Application Support/Google/Chrome/Default/History ."
   ]
  },
  {
   "cell_type": "markdown",
   "metadata": {},
   "source": [
    "A good tutorial on how to load SQL into Pandas\n",
    "\n",
    "https://www.dataquest.io/blog/python-pandas-databases/\n",
    "\n",
    "The official documentation is\n",
    "\n",
    "https://pandas.pydata.org/pandas-docs/version/0.23.4/generated/pandas.read_sql.html\n",
    "\n",
    "https://pandas.pydata.org/pandas-docs/stable/io.html#sqlite-fallback"
   ]
  },
  {
   "cell_type": "code",
   "execution_count": 2,
   "metadata": {},
   "outputs": [
    {
     "data": {
      "text/plain": [
       "'0.23.4'"
      ]
     },
     "execution_count": 2,
     "metadata": {},
     "output_type": "execute_result"
    }
   ],
   "source": [
    "import pandas\n",
    "import sqlite3\n",
    "pandas.__version__"
   ]
  },
  {
   "cell_type": "markdown",
   "metadata": {},
   "source": [
    "Google Chrome's timestamp, named \"Webkit format\", is the number of microseconds since January, 1601\n",
    "\n",
    "We can use strftime in SQL to get that date:"
   ]
  },
  {
   "cell_type": "code",
   "execution_count": 3,
   "metadata": {},
   "outputs": [
    {
     "data": {
      "text/plain": [
       "'-11644473600'"
      ]
     },
     "execution_count": 3,
     "metadata": {},
     "output_type": "execute_result"
    }
   ],
   "source": [
    "conn = sqlite3.connect(\"History\")\n",
    "curr_time = pandas.read_sql_query(\"SELECT strftime('%s', '1601-01-01 00:00');\",conn)\n",
    "curr_time.iloc[0][0]"
   ]
  },
  {
   "cell_type": "code",
   "execution_count": 21,
   "metadata": {},
   "outputs": [
    {
     "data": {
      "text/plain": [
       "sqlite3.Connection"
      ]
     },
     "execution_count": 21,
     "metadata": {},
     "output_type": "execute_result"
    }
   ],
   "source": [
    "type(conn)"
   ]
  },
  {
   "cell_type": "code",
   "execution_count": 4,
   "metadata": {},
   "outputs": [
    {
     "data": {
      "text/html": [
       "<div>\n",
       "<style scoped>\n",
       "    .dataframe tbody tr th:only-of-type {\n",
       "        vertical-align: middle;\n",
       "    }\n",
       "\n",
       "    .dataframe tbody tr th {\n",
       "        vertical-align: top;\n",
       "    }\n",
       "\n",
       "    .dataframe thead th {\n",
       "        text-align: right;\n",
       "    }\n",
       "</style>\n",
       "<table border=\"1\" class=\"dataframe\">\n",
       "  <thead>\n",
       "    <tr style=\"text-align: right;\">\n",
       "      <th></th>\n",
       "      <th>date_time</th>\n",
       "      <th>url</th>\n",
       "    </tr>\n",
       "  </thead>\n",
       "  <tbody>\n",
       "    <tr>\n",
       "      <th>0</th>\n",
       "      <td>2019-03-12 07:46:52</td>\n",
       "      <td>http://localhost:8888/</td>\n",
       "    </tr>\n",
       "    <tr>\n",
       "      <th>1</th>\n",
       "      <td>2019-03-12 07:46:52</td>\n",
       "      <td>http://localhost:8888/lab?</td>\n",
       "    </tr>\n",
       "    <tr>\n",
       "      <th>2</th>\n",
       "      <td>2019-03-12 07:44:13</td>\n",
       "      <td>https://umbc-my.sharepoint.com/:p:/r/personal/...</td>\n",
       "    </tr>\n",
       "    <tr>\n",
       "      <th>3</th>\n",
       "      <td>2019-03-12 07:44:13</td>\n",
       "      <td>https://umbc-my.sharepoint.com/personal/benpay...</td>\n",
       "    </tr>\n",
       "    <tr>\n",
       "      <th>4</th>\n",
       "      <td>2019-03-12 07:44:11</td>\n",
       "      <td>https://www.facebook.com/</td>\n",
       "    </tr>\n",
       "  </tbody>\n",
       "</table>\n",
       "</div>"
      ],
      "text/plain": [
       "             date_time                                                url\n",
       "0  2019-03-12 07:46:52                             http://localhost:8888/\n",
       "1  2019-03-12 07:46:52                         http://localhost:8888/lab?\n",
       "2  2019-03-12 07:44:13  https://umbc-my.sharepoint.com/:p:/r/personal/...\n",
       "3  2019-03-12 07:44:13  https://umbc-my.sharepoint.com/personal/benpay...\n",
       "4  2019-03-12 07:44:11                          https://www.facebook.com/"
      ]
     },
     "execution_count": 4,
     "metadata": {},
     "output_type": "execute_result"
    }
   ],
   "source": [
    "conn = sqlite3.connect(\"History\")\n",
    "hist_df = pandas.read_sql_query(\"SELECT datetime(last_visit_time/1000000+strftime('%s', '1601-01-01 00:00:00')-(60*60*4),'unixepoch','localtime'), url FROM urls ORDER BY last_visit_time DESC;\", conn)\n",
    "hist_df.columns=['date_time','url']\n",
    "hist_df.head()"
   ]
  },
  {
   "cell_type": "code",
   "execution_count": 20,
   "metadata": {},
   "outputs": [
    {
     "data": {
      "text/plain": [
       "(13835, 2)"
      ]
     },
     "execution_count": 20,
     "metadata": {},
     "output_type": "execute_result"
    }
   ],
   "source": [
    "hist_df.shape"
   ]
  },
  {
   "cell_type": "code",
   "execution_count": 5,
   "metadata": {},
   "outputs": [
    {
     "data": {
      "text/html": [
       "<div>\n",
       "<style scoped>\n",
       "    .dataframe tbody tr th:only-of-type {\n",
       "        vertical-align: middle;\n",
       "    }\n",
       "\n",
       "    .dataframe tbody tr th {\n",
       "        vertical-align: top;\n",
       "    }\n",
       "\n",
       "    .dataframe thead th {\n",
       "        text-align: right;\n",
       "    }\n",
       "</style>\n",
       "<table border=\"1\" class=\"dataframe\">\n",
       "  <thead>\n",
       "    <tr style=\"text-align: right;\">\n",
       "      <th></th>\n",
       "      <th>date_time</th>\n",
       "      <th>url</th>\n",
       "    </tr>\n",
       "  </thead>\n",
       "  <tbody>\n",
       "    <tr>\n",
       "      <th>13830</th>\n",
       "      <td>1600-12-31 20:00:00</td>\n",
       "      <td>https://sites.google.com/site/physicsderivatio...</td>\n",
       "    </tr>\n",
       "    <tr>\n",
       "      <th>13831</th>\n",
       "      <td>1600-12-31 20:00:00</td>\n",
       "      <td>https://drive.google.com/drive/u/0/starred</td>\n",
       "    </tr>\n",
       "    <tr>\n",
       "      <th>13832</th>\n",
       "      <td>1600-12-31 20:00:00</td>\n",
       "      <td>https://github.com/allofphysicsgraph/proofofco...</td>\n",
       "    </tr>\n",
       "    <tr>\n",
       "      <th>13833</th>\n",
       "      <td>1600-12-31 20:00:00</td>\n",
       "      <td>https://old.reddit.com/r/Physics/</td>\n",
       "    </tr>\n",
       "    <tr>\n",
       "      <th>13834</th>\n",
       "      <td>1600-12-31 20:00:00</td>\n",
       "      <td>https://datascience.umbc.edu/courses.php</td>\n",
       "    </tr>\n",
       "  </tbody>\n",
       "</table>\n",
       "</div>"
      ],
      "text/plain": [
       "                 date_time                                                url\n",
       "13830  1600-12-31 20:00:00  https://sites.google.com/site/physicsderivatio...\n",
       "13831  1600-12-31 20:00:00         https://drive.google.com/drive/u/0/starred\n",
       "13832  1600-12-31 20:00:00  https://github.com/allofphysicsgraph/proofofco...\n",
       "13833  1600-12-31 20:00:00                  https://old.reddit.com/r/Physics/\n",
       "13834  1600-12-31 20:00:00           https://datascience.umbc.edu/courses.php"
      ]
     },
     "execution_count": 5,
     "metadata": {},
     "output_type": "execute_result"
    }
   ],
   "source": [
    "hist_df.tail()"
   ]
  },
  {
   "cell_type": "code",
   "execution_count": 6,
   "metadata": {},
   "outputs": [
    {
     "data": {
      "text/plain": [
       "date_time    object\n",
       "url          object\n",
       "dtype: object"
      ]
     },
     "execution_count": 6,
     "metadata": {},
     "output_type": "execute_result"
    }
   ],
   "source": [
    "hist_df.dtypes"
   ]
  },
  {
   "cell_type": "markdown",
   "metadata": {},
   "source": [
    "For timestamp format, see \n",
    "http://strftime.org/"
   ]
  },
  {
   "cell_type": "code",
   "execution_count": 7,
   "metadata": {},
   "outputs": [],
   "source": [
    "hist_df['date_time'] = pandas.to_datetime(hist_df['date_time'],\n",
    "                                          format='%Y-%m-%d %H:%M:%S',\n",
    "                                          errors='coerce')"
   ]
  },
  {
   "cell_type": "code",
   "execution_count": 8,
   "metadata": {},
   "outputs": [
    {
     "data": {
      "text/html": [
       "<div>\n",
       "<style scoped>\n",
       "    .dataframe tbody tr th:only-of-type {\n",
       "        vertical-align: middle;\n",
       "    }\n",
       "\n",
       "    .dataframe tbody tr th {\n",
       "        vertical-align: top;\n",
       "    }\n",
       "\n",
       "    .dataframe thead th {\n",
       "        text-align: right;\n",
       "    }\n",
       "</style>\n",
       "<table border=\"1\" class=\"dataframe\">\n",
       "  <thead>\n",
       "    <tr style=\"text-align: right;\">\n",
       "      <th></th>\n",
       "      <th>date_time</th>\n",
       "      <th>url</th>\n",
       "    </tr>\n",
       "  </thead>\n",
       "  <tbody>\n",
       "    <tr>\n",
       "      <th>0</th>\n",
       "      <td>2019-03-12 07:46:52</td>\n",
       "      <td>http://localhost:8888/</td>\n",
       "    </tr>\n",
       "    <tr>\n",
       "      <th>1</th>\n",
       "      <td>2019-03-12 07:46:52</td>\n",
       "      <td>http://localhost:8888/lab?</td>\n",
       "    </tr>\n",
       "    <tr>\n",
       "      <th>2</th>\n",
       "      <td>2019-03-12 07:44:13</td>\n",
       "      <td>https://umbc-my.sharepoint.com/:p:/r/personal/...</td>\n",
       "    </tr>\n",
       "    <tr>\n",
       "      <th>3</th>\n",
       "      <td>2019-03-12 07:44:13</td>\n",
       "      <td>https://umbc-my.sharepoint.com/personal/benpay...</td>\n",
       "    </tr>\n",
       "    <tr>\n",
       "      <th>4</th>\n",
       "      <td>2019-03-12 07:44:11</td>\n",
       "      <td>https://www.facebook.com/</td>\n",
       "    </tr>\n",
       "  </tbody>\n",
       "</table>\n",
       "</div>"
      ],
      "text/plain": [
       "            date_time                                                url\n",
       "0 2019-03-12 07:46:52                             http://localhost:8888/\n",
       "1 2019-03-12 07:46:52                         http://localhost:8888/lab?\n",
       "2 2019-03-12 07:44:13  https://umbc-my.sharepoint.com/:p:/r/personal/...\n",
       "3 2019-03-12 07:44:13  https://umbc-my.sharepoint.com/personal/benpay...\n",
       "4 2019-03-12 07:44:11                          https://www.facebook.com/"
      ]
     },
     "execution_count": 8,
     "metadata": {},
     "output_type": "execute_result"
    }
   ],
   "source": [
    "hist_df.head()"
   ]
  },
  {
   "cell_type": "code",
   "execution_count": 9,
   "metadata": {},
   "outputs": [
    {
     "data": {
      "text/html": [
       "<div>\n",
       "<style scoped>\n",
       "    .dataframe tbody tr th:only-of-type {\n",
       "        vertical-align: middle;\n",
       "    }\n",
       "\n",
       "    .dataframe tbody tr th {\n",
       "        vertical-align: top;\n",
       "    }\n",
       "\n",
       "    .dataframe thead th {\n",
       "        text-align: right;\n",
       "    }\n",
       "</style>\n",
       "<table border=\"1\" class=\"dataframe\">\n",
       "  <thead>\n",
       "    <tr style=\"text-align: right;\">\n",
       "      <th></th>\n",
       "      <th>date_time</th>\n",
       "      <th>url</th>\n",
       "    </tr>\n",
       "  </thead>\n",
       "  <tbody>\n",
       "    <tr>\n",
       "      <th>13830</th>\n",
       "      <td>NaT</td>\n",
       "      <td>https://sites.google.com/site/physicsderivatio...</td>\n",
       "    </tr>\n",
       "    <tr>\n",
       "      <th>13831</th>\n",
       "      <td>NaT</td>\n",
       "      <td>https://drive.google.com/drive/u/0/starred</td>\n",
       "    </tr>\n",
       "    <tr>\n",
       "      <th>13832</th>\n",
       "      <td>NaT</td>\n",
       "      <td>https://github.com/allofphysicsgraph/proofofco...</td>\n",
       "    </tr>\n",
       "    <tr>\n",
       "      <th>13833</th>\n",
       "      <td>NaT</td>\n",
       "      <td>https://old.reddit.com/r/Physics/</td>\n",
       "    </tr>\n",
       "    <tr>\n",
       "      <th>13834</th>\n",
       "      <td>NaT</td>\n",
       "      <td>https://datascience.umbc.edu/courses.php</td>\n",
       "    </tr>\n",
       "  </tbody>\n",
       "</table>\n",
       "</div>"
      ],
      "text/plain": [
       "      date_time                                                url\n",
       "13830       NaT  https://sites.google.com/site/physicsderivatio...\n",
       "13831       NaT         https://drive.google.com/drive/u/0/starred\n",
       "13832       NaT  https://github.com/allofphysicsgraph/proofofco...\n",
       "13833       NaT                  https://old.reddit.com/r/Physics/\n",
       "13834       NaT           https://datascience.umbc.edu/courses.php"
      ]
     },
     "execution_count": 9,
     "metadata": {},
     "output_type": "execute_result"
    }
   ],
   "source": [
    "hist_df.tail()"
   ]
  },
  {
   "cell_type": "code",
   "execution_count": 10,
   "metadata": {},
   "outputs": [
    {
     "data": {
      "text/plain": [
       "Timestamp('2019-03-12 07:46:52')"
      ]
     },
     "execution_count": 10,
     "metadata": {},
     "output_type": "execute_result"
    }
   ],
   "source": [
    "hist_df['date_time'].max()"
   ]
  },
  {
   "cell_type": "code",
   "execution_count": 11,
   "metadata": {},
   "outputs": [
    {
     "data": {
      "text/plain": [
       "Timestamp('2018-10-31 16:51:42')"
      ]
     },
     "execution_count": 11,
     "metadata": {},
     "output_type": "execute_result"
    }
   ],
   "source": [
    "hist_df['date_time'].min()"
   ]
  },
  {
   "cell_type": "markdown",
   "metadata": {},
   "source": [
    "how many entries are missing a timestamp?"
   ]
  },
  {
   "cell_type": "code",
   "execution_count": 12,
   "metadata": {},
   "outputs": [
    {
     "data": {
      "text/plain": [
       "13"
      ]
     },
     "execution_count": 12,
     "metadata": {},
     "output_type": "execute_result"
    }
   ],
   "source": [
    "pandas.isnull(hist_df['date_time']).sum()"
   ]
  },
  {
   "cell_type": "code",
   "execution_count": 13,
   "metadata": {},
   "outputs": [],
   "source": [
    "import matplotlib.pyplot as plt"
   ]
  },
  {
   "cell_type": "markdown",
   "metadata": {},
   "source": [
    "Source:\n",
    "https://stackoverflow.com/questions/27365467/can-pandas-plot-a-histogram-of-dates"
   ]
  },
  {
   "cell_type": "code",
   "execution_count": 14,
   "metadata": {},
   "outputs": [
    {
     "data": {
      "image/png": "[encoded data removed]",
      "text/plain": [
       "<Figure size 432x288 with 1 Axes>"
      ]
     },
     "metadata": {
      "needs_background": "light"
     },
     "output_type": "display_data"
    }
   ],
   "source": [
    "hist_df[\"date_time\"].groupby(hist_df[\"date_time\"].dt.month).count().plot(kind=\"bar\")\n",
    "plt.xlabel('month', fontsize=14)\n",
    "plt.ylabel('URL count', fontsize=14)\n",
    "plt.setp(plt.gca().get_xticklabels(), rotation=20, fontsize=12) # https://stackoverflow.com/questions/6390393/matplotlib-make-tick-labels-font-size-smaller\n",
    "plt.setp(plt.gca().get_yticklabels(), fontsize=12)\n",
    "plt.show()"
   ]
  },
  {
   "cell_type": "code",
   "execution_count": 15,
   "metadata": {},
   "outputs": [
    {
     "data": {
      "image/png": "[encoded data removed]",
      "text/plain": [
       "<Figure size 432x288 with 1 Axes>"
      ]
     },
     "metadata": {
      "needs_background": "light"
     },
     "output_type": "display_data"
    }
   ],
   "source": [
    "hist_plot = hist_df[\"date_time\"].groupby([hist_df[\"date_time\"].dt.year, hist_df[\"date_time\"].dt.month]).count().plot(kind=\"bar\")\n",
    "plt.xlabel('year,month', fontsize=14)\n",
    "plt.ylabel('URL count', fontsize=14)\n",
    "plt.setp(plt.gca().get_xticklabels(), rotation=45, fontsize=12)\n",
    "plt.setp(plt.gca().get_yticklabels(), fontsize=12)\n",
    "plt.show()"
   ]
  },
  {
   "cell_type": "code",
   "execution_count": 16,
   "metadata": {},
   "outputs": [
    {
     "data": {
      "image/png": "[encoded data removed]",
      "text/plain": [
       "<Figure size 720x432 with 1 Axes>"
      ]
     },
     "metadata": {
      "needs_background": "light"
     },
     "output_type": "display_data"
    }
   ],
   "source": [
    "fig = plt.figure(figsize=(10,6))\n",
    "#plt.figure(figsize=(20,20))\n",
    "\n",
    "hist_df[\"date_time\"].groupby(hist_df[\"date_time\"].dt.day).count().plot(kind=\"bar\")\n",
    "\n",
    "plt.xlabel('day of month', fontsize=14)\n",
    "plt.ylabel('URL count', fontsize=14)\n",
    "plt.setp(plt.gca().get_xticklabels(), rotation=45, fontsize=12)\n",
    "plt.setp(plt.gca().get_yticklabels(), fontsize=12)\n",
    "plt.show()"
   ]
  },
  {
   "cell_type": "code",
   "execution_count": 17,
   "metadata": {},
   "outputs": [
    {
     "data": {
      "image/png": "[encoded data removed]",
      "text/plain": [
       "<Figure size 720x432 with 1 Axes>"
      ]
     },
     "metadata": {
      "needs_background": "light"
     },
     "output_type": "display_data"
    }
   ],
   "source": [
    "fig = plt.figure(figsize=(10,6))\n",
    "\n",
    "hist_plot = hist_df[\"date_time\"].groupby([hist_df[\"date_time\"].dt.month, hist_df[\"date_time\"].dt.day]).count().plot(kind=\"bar\")\n",
    "# https://stackoverflow.com/questions/20337664/cleanest-way-to-hide-every-nth-tick-label-in-matplotlib-colorbar\n",
    "for label in hist_plot.xaxis.get_ticklabels()[::2]:\n",
    "    label.set_visible(False)\n",
    "plt.xlabel('day', fontsize=14)\n",
    "plt.ylabel('URL count', fontsize=14)\n",
    "\n",
    "plt.setp(plt.gca().get_xticklabels(), rotation=80, fontsize=12)\n",
    "plt.setp(plt.gca().get_yticklabels(), fontsize=12)\n",
    "\n",
    "plt.show()"
   ]
  },
  {
   "cell_type": "code",
   "execution_count": 18,
   "metadata": {},
   "outputs": [
    {
     "data": {
      "image/png": "[encoded data removed]",
      "text/plain": [
       "<Figure size 720x432 with 1 Axes>"
      ]
     },
     "metadata": {
      "needs_background": "light"
     },
     "output_type": "display_data"
    }
   ],
   "source": [
    "fig = plt.figure(figsize=(10,6))\n",
    "\n",
    "hist_df[\"date_time\"].groupby(hist_df[\"date_time\"].dt.hour).count().plot(kind=\"bar\")\n",
    "plt.xlabel('hour', fontsize=14)\n",
    "plt.ylabel('URL count', fontsize=14)\n",
    "\n",
    "plt.setp(plt.gca().get_xticklabels(), rotation=40, fontsize=12)\n",
    "plt.setp(plt.gca().get_yticklabels(), fontsize=12)\n",
    "\n",
    "\n",
    "plt.show()"
   ]
  },
  {
   "cell_type": "code",
   "execution_count": null,
   "metadata": {},
   "outputs": [],
   "source": []
  }
 ],
 "metadata": {
  "kernelspec": {
   "display_name": "Python 3",
   "language": "python",
   "name": "python3"
  },
  "language_info": {
   "codemirror_mode": {
    "name": "ipython",
    "version": 3
   },
   "file_extension": ".py",
   "mimetype": "text/x-python",
   "name": "python",
   "nbconvert_exporter": "python",
   "pygments_lexer": "ipython3",
   "version": "3.6.7"
  }
 },
 "nbformat": 4,
 "nbformat_minor": 2
}
