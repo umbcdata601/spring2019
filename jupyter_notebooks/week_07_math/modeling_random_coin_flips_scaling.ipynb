{
 "cells": [
  {
   "cell_type": "code",
   "execution_count": 1,
   "metadata": {},
   "outputs": [],
   "source": [
    "import random\n",
    "import timeit\n",
    "import time"
   ]
  },
  {
   "cell_type": "code",
   "execution_count": 2,
   "metadata": {},
   "outputs": [],
   "source": [
    "def create_sequence_of_interest(length_of_seq):\n",
    "    \"\"\"\n",
    "    create a sequence of given length containing integer values, either 1 or 2\n",
    "\n",
    "    this is intended to represent the outcome of a sequence of coin flips\n",
    "    \"\"\"\n",
    "    list_of_flips=[]\n",
    "    for this_flip in range(length_of_seq):\n",
    "        list_of_flips.append(random.randint(1, 2))\n",
    "    return tuple(list_of_flips)"
   ]
  },
  {
   "cell_type": "code",
   "execution_count": 3,
   "metadata": {},
   "outputs": [],
   "source": [
    "def find_match(sequence_of_interest):\n",
    "    \"\"\"\n",
    "    given a sequence of integers (either 1 or 2), flip a coin until that sequence is found\n",
    "    \"\"\"\n",
    "    start_time = timeit.default_timer()\n",
    "    number_of_coin_flips=0\n",
    "    this_run=[]  # store the results of the random coin flips in a list\n",
    "    while True:\n",
    "        coin = random.randint(1, 2) # random coin flip results in 1 or 2\n",
    "        number_of_coin_flips+=1\n",
    "        this_run.append(coin)       # add coin flip result to list\n",
    "        if (len(this_run)==len(sequence_of_interest)):\n",
    "            found_match=False\n",
    "            for flip_indx in range(len(sequence_of_interest)):\n",
    "                if (sequence_of_interest[flip_indx] == this_run[flip_indx]):\n",
    "                    found_match=True\n",
    "                else: # patterns don't match\n",
    "                    found_match=False\n",
    "                    this_run=[]\n",
    "                    break\n",
    "            if (found_match==True):\n",
    "                #print(this_run)\n",
    "                break\n",
    "\n",
    "    #print(\"number of coin flips:\",number_of_coin_flips)\n",
    "    elapsed = timeit.default_timer() - start_time\n",
    "    #print(str(elapsed) + \" seconds\")\n",
    "    return elapsed, number_of_coin_flips"
   ]
  },
  {
   "cell_type": "code",
   "execution_count": 4,
   "metadata": {},
   "outputs": [],
   "source": [
    "number_of_tries_per_loop=1000\n",
    "start_length=3\n",
    "end_length=10"
   ]
  },
  {
   "cell_type": "code",
   "execution_count": 5,
   "metadata": {},
   "outputs": [
    {
     "name": "stdout",
     "output_type": "stream",
     "text": [
      "elapsed: 31.750388145446777 seconds\n"
     ]
    }
   ],
   "source": [
    "list_of_result_dicts=[]\n",
    "start_time=time.time()\n",
    "for length_of_seq in range(3,10):\n",
    "    for this_try in range(number_of_tries_per_loop):\n",
    "        sequence_of_interest = create_sequence_of_interest(length_of_seq)\n",
    "#        print(sequence_of_interest)\n",
    "\n",
    "        elapsed, number_of_coin_flips = find_match(sequence_of_interest)\n",
    "#        print(elapsed,\"seconds\")\n",
    "#        print(number_of_coin_flips)\n",
    "        this_result={}\n",
    "        this_result['elapsed time in seconds'] = elapsed\n",
    "        this_result['number of flips'] = number_of_coin_flips\n",
    "        this_result['sequence length'] = length_of_seq\n",
    "        list_of_result_dicts.append(this_result)\n",
    "        \n",
    "print('elapsed:',time.time()-start_time,'seconds')"
   ]
  },
  {
   "cell_type": "code",
   "execution_count": 6,
   "metadata": {},
   "outputs": [
    {
     "data": {
      "text/plain": [
       "'0.23.4'"
      ]
     },
     "execution_count": 6,
     "metadata": {},
     "output_type": "execute_result"
    }
   ],
   "source": [
    "import pandas\n",
    "pandas.__version__"
   ]
  },
  {
   "cell_type": "code",
   "execution_count": 7,
   "metadata": {},
   "outputs": [
    {
     "data": {
      "text/html": [
       "<div>\n",
       "<style scoped>\n",
       "    .dataframe tbody tr th:only-of-type {\n",
       "        vertical-align: middle;\n",
       "    }\n",
       "\n",
       "    .dataframe tbody tr th {\n",
       "        vertical-align: top;\n",
       "    }\n",
       "\n",
       "    .dataframe thead th {\n",
       "        text-align: right;\n",
       "    }\n",
       "</style>\n",
       "<table border=\"1\" class=\"dataframe\">\n",
       "  <thead>\n",
       "    <tr style=\"text-align: right;\">\n",
       "      <th></th>\n",
       "      <th>elapsed time in seconds</th>\n",
       "      <th>number of flips</th>\n",
       "      <th>sequence length</th>\n",
       "    </tr>\n",
       "  </thead>\n",
       "  <tbody>\n",
       "    <tr>\n",
       "      <th>0</th>\n",
       "      <td>0.000029</td>\n",
       "      <td>3</td>\n",
       "      <td>3</td>\n",
       "    </tr>\n",
       "    <tr>\n",
       "      <th>1</th>\n",
       "      <td>0.000104</td>\n",
       "      <td>6</td>\n",
       "      <td>3</td>\n",
       "    </tr>\n",
       "    <tr>\n",
       "      <th>2</th>\n",
       "      <td>0.000232</td>\n",
       "      <td>51</td>\n",
       "      <td>3</td>\n",
       "    </tr>\n",
       "    <tr>\n",
       "      <th>3</th>\n",
       "      <td>0.000076</td>\n",
       "      <td>18</td>\n",
       "      <td>3</td>\n",
       "    </tr>\n",
       "    <tr>\n",
       "      <th>4</th>\n",
       "      <td>0.000288</td>\n",
       "      <td>39</td>\n",
       "      <td>3</td>\n",
       "    </tr>\n",
       "    <tr>\n",
       "      <th>5</th>\n",
       "      <td>0.000154</td>\n",
       "      <td>18</td>\n",
       "      <td>3</td>\n",
       "    </tr>\n",
       "    <tr>\n",
       "      <th>6</th>\n",
       "      <td>0.000104</td>\n",
       "      <td>6</td>\n",
       "      <td>3</td>\n",
       "    </tr>\n",
       "    <tr>\n",
       "      <th>7</th>\n",
       "      <td>0.000058</td>\n",
       "      <td>6</td>\n",
       "      <td>3</td>\n",
       "    </tr>\n",
       "    <tr>\n",
       "      <th>8</th>\n",
       "      <td>0.000073</td>\n",
       "      <td>9</td>\n",
       "      <td>3</td>\n",
       "    </tr>\n",
       "    <tr>\n",
       "      <th>9</th>\n",
       "      <td>0.000218</td>\n",
       "      <td>39</td>\n",
       "      <td>3</td>\n",
       "    </tr>\n",
       "  </tbody>\n",
       "</table>\n",
       "</div>"
      ],
      "text/plain": [
       "   elapsed time in seconds  number of flips  sequence length\n",
       "0                 0.000029                3                3\n",
       "1                 0.000104                6                3\n",
       "2                 0.000232               51                3\n",
       "3                 0.000076               18                3\n",
       "4                 0.000288               39                3\n",
       "5                 0.000154               18                3\n",
       "6                 0.000104                6                3\n",
       "7                 0.000058                6                3\n",
       "8                 0.000073                9                3\n",
       "9                 0.000218               39                3"
      ]
     },
     "execution_count": 7,
     "metadata": {},
     "output_type": "execute_result"
    }
   ],
   "source": [
    "results_df = pandas.DataFrame(list_of_result_dicts)\n",
    "results_df.head(10)"
   ]
  },
  {
   "cell_type": "code",
   "execution_count": 8,
   "metadata": {},
   "outputs": [
    {
     "data": {
      "text/plain": [
       "'3.0.2'"
      ]
     },
     "execution_count": 8,
     "metadata": {},
     "output_type": "execute_result"
    }
   ],
   "source": [
    "import matplotlib\n",
    "import matplotlib.pyplot as plt\n",
    "matplotlib.__version__"
   ]
  },
  {
   "cell_type": "code",
   "execution_count": 9,
   "metadata": {},
   "outputs": [
    {
     "data": {
      "image/png": "[encoded data removed]",
      "text/plain": [
       "<Figure size 432x288 with 1 Axes>"
      ]
     },
     "metadata": {
      "needs_background": "light"
     },
     "output_type": "display_data"
    }
   ],
   "source": [
    "results_df.plot.scatter(x='sequence length',y='elapsed time in seconds')\n",
    "plt.show()"
   ]
  },
  {
   "cell_type": "code",
   "execution_count": 10,
   "metadata": {},
   "outputs": [
    {
     "data": {
      "image/png": "[encoded data removed]",
      "text/plain": [
       "<Figure size 432x288 with 1 Axes>"
      ]
     },
     "metadata": {
      "needs_background": "light"
     },
     "output_type": "display_data"
    }
   ],
   "source": [
    "results_df.plot.scatter(x='sequence length',y='number of flips')\n",
    "plt.show()"
   ]
  },
  {
   "cell_type": "code",
   "execution_count": 11,
   "metadata": {},
   "outputs": [
    {
     "data": {
      "text/html": [
       "<div>\n",
       "<style scoped>\n",
       "    .dataframe tbody tr th:only-of-type {\n",
       "        vertical-align: middle;\n",
       "    }\n",
       "\n",
       "    .dataframe tbody tr th {\n",
       "        vertical-align: top;\n",
       "    }\n",
       "\n",
       "    .dataframe thead tr th {\n",
       "        text-align: left;\n",
       "    }\n",
       "\n",
       "    .dataframe thead tr:last-of-type th {\n",
       "        text-align: right;\n",
       "    }\n",
       "</style>\n",
       "<table border=\"1\" class=\"dataframe\">\n",
       "  <thead>\n",
       "    <tr>\n",
       "      <th></th>\n",
       "      <th colspan=\"8\" halign=\"left\">elapsed time in seconds</th>\n",
       "      <th colspan=\"8\" halign=\"left\">number of flips</th>\n",
       "    </tr>\n",
       "    <tr>\n",
       "      <th></th>\n",
       "      <th>count</th>\n",
       "      <th>mean</th>\n",
       "      <th>std</th>\n",
       "      <th>min</th>\n",
       "      <th>25%</th>\n",
       "      <th>50%</th>\n",
       "      <th>75%</th>\n",
       "      <th>max</th>\n",
       "      <th>count</th>\n",
       "      <th>mean</th>\n",
       "      <th>std</th>\n",
       "      <th>min</th>\n",
       "      <th>25%</th>\n",
       "      <th>50%</th>\n",
       "      <th>75%</th>\n",
       "      <th>max</th>\n",
       "    </tr>\n",
       "    <tr>\n",
       "      <th>sequence length</th>\n",
       "      <th></th>\n",
       "      <th></th>\n",
       "      <th></th>\n",
       "      <th></th>\n",
       "      <th></th>\n",
       "      <th></th>\n",
       "      <th></th>\n",
       "      <th></th>\n",
       "      <th></th>\n",
       "      <th></th>\n",
       "      <th></th>\n",
       "      <th></th>\n",
       "      <th></th>\n",
       "      <th></th>\n",
       "      <th></th>\n",
       "      <th></th>\n",
       "    </tr>\n",
       "  </thead>\n",
       "  <tbody>\n",
       "    <tr>\n",
       "      <th>3</th>\n",
       "      <td>1000.0</td>\n",
       "      <td>0.000187</td>\n",
       "      <td>0.000324</td>\n",
       "      <td>0.000023</td>\n",
       "      <td>0.000056</td>\n",
       "      <td>0.000101</td>\n",
       "      <td>0.000202</td>\n",
       "      <td>0.004517</td>\n",
       "      <td>1000.0</td>\n",
       "      <td>23.574</td>\n",
       "      <td>21.841327</td>\n",
       "      <td>3.0</td>\n",
       "      <td>9.0</td>\n",
       "      <td>18.0</td>\n",
       "      <td>33.00</td>\n",
       "      <td>156.0</td>\n",
       "    </tr>\n",
       "    <tr>\n",
       "      <th>4</th>\n",
       "      <td>1000.0</td>\n",
       "      <td>0.000265</td>\n",
       "      <td>0.000291</td>\n",
       "      <td>0.000026</td>\n",
       "      <td>0.000081</td>\n",
       "      <td>0.000187</td>\n",
       "      <td>0.000342</td>\n",
       "      <td>0.003032</td>\n",
       "      <td>1000.0</td>\n",
       "      <td>62.400</td>\n",
       "      <td>60.704440</td>\n",
       "      <td>4.0</td>\n",
       "      <td>16.0</td>\n",
       "      <td>44.0</td>\n",
       "      <td>88.00</td>\n",
       "      <td>448.0</td>\n",
       "    </tr>\n",
       "    <tr>\n",
       "      <th>5</th>\n",
       "      <td>1000.0</td>\n",
       "      <td>0.000596</td>\n",
       "      <td>0.000597</td>\n",
       "      <td>0.000028</td>\n",
       "      <td>0.000188</td>\n",
       "      <td>0.000399</td>\n",
       "      <td>0.000825</td>\n",
       "      <td>0.005304</td>\n",
       "      <td>1000.0</td>\n",
       "      <td>159.270</td>\n",
       "      <td>157.219863</td>\n",
       "      <td>5.0</td>\n",
       "      <td>50.0</td>\n",
       "      <td>115.0</td>\n",
       "      <td>225.00</td>\n",
       "      <td>1720.0</td>\n",
       "    </tr>\n",
       "    <tr>\n",
       "      <th>6</th>\n",
       "      <td>1000.0</td>\n",
       "      <td>0.001533</td>\n",
       "      <td>0.001682</td>\n",
       "      <td>0.000032</td>\n",
       "      <td>0.000402</td>\n",
       "      <td>0.000979</td>\n",
       "      <td>0.001983</td>\n",
       "      <td>0.012420</td>\n",
       "      <td>1000.0</td>\n",
       "      <td>399.774</td>\n",
       "      <td>413.343012</td>\n",
       "      <td>6.0</td>\n",
       "      <td>114.0</td>\n",
       "      <td>276.0</td>\n",
       "      <td>541.50</td>\n",
       "      <td>3510.0</td>\n",
       "    </tr>\n",
       "    <tr>\n",
       "      <th>7</th>\n",
       "      <td>1000.0</td>\n",
       "      <td>0.004450</td>\n",
       "      <td>0.005911</td>\n",
       "      <td>0.000055</td>\n",
       "      <td>0.001001</td>\n",
       "      <td>0.002622</td>\n",
       "      <td>0.005729</td>\n",
       "      <td>0.083672</td>\n",
       "      <td>1000.0</td>\n",
       "      <td>935.095</td>\n",
       "      <td>913.704416</td>\n",
       "      <td>7.0</td>\n",
       "      <td>259.0</td>\n",
       "      <td>644.0</td>\n",
       "      <td>1260.00</td>\n",
       "      <td>5915.0</td>\n",
       "    </tr>\n",
       "    <tr>\n",
       "      <th>8</th>\n",
       "      <td>1000.0</td>\n",
       "      <td>0.007240</td>\n",
       "      <td>0.007736</td>\n",
       "      <td>0.000040</td>\n",
       "      <td>0.002012</td>\n",
       "      <td>0.004852</td>\n",
       "      <td>0.010031</td>\n",
       "      <td>0.061173</td>\n",
       "      <td>1000.0</td>\n",
       "      <td>1950.208</td>\n",
       "      <td>1913.453535</td>\n",
       "      <td>8.0</td>\n",
       "      <td>560.0</td>\n",
       "      <td>1336.0</td>\n",
       "      <td>2600.00</td>\n",
       "      <td>12912.0</td>\n",
       "    </tr>\n",
       "    <tr>\n",
       "      <th>9</th>\n",
       "      <td>1000.0</td>\n",
       "      <td>0.017164</td>\n",
       "      <td>0.020413</td>\n",
       "      <td>0.000040</td>\n",
       "      <td>0.005022</td>\n",
       "      <td>0.011146</td>\n",
       "      <td>0.022820</td>\n",
       "      <td>0.290053</td>\n",
       "      <td>1000.0</td>\n",
       "      <td>4770.855</td>\n",
       "      <td>4868.653124</td>\n",
       "      <td>9.0</td>\n",
       "      <td>1413.0</td>\n",
       "      <td>3226.5</td>\n",
       "      <td>6338.25</td>\n",
       "      <td>39339.0</td>\n",
       "    </tr>\n",
       "  </tbody>\n",
       "</table>\n",
       "</div>"
      ],
      "text/plain": [
       "                elapsed time in seconds                                \\\n",
       "                                  count      mean       std       min   \n",
       "sequence length                                                         \n",
       "3                                1000.0  0.000187  0.000324  0.000023   \n",
       "4                                1000.0  0.000265  0.000291  0.000026   \n",
       "5                                1000.0  0.000596  0.000597  0.000028   \n",
       "6                                1000.0  0.001533  0.001682  0.000032   \n",
       "7                                1000.0  0.004450  0.005911  0.000055   \n",
       "8                                1000.0  0.007240  0.007736  0.000040   \n",
       "9                                1000.0  0.017164  0.020413  0.000040   \n",
       "\n",
       "                                                        number of flips  \\\n",
       "                      25%       50%       75%       max           count   \n",
       "sequence length                                                           \n",
       "3                0.000056  0.000101  0.000202  0.004517          1000.0   \n",
       "4                0.000081  0.000187  0.000342  0.003032          1000.0   \n",
       "5                0.000188  0.000399  0.000825  0.005304          1000.0   \n",
       "6                0.000402  0.000979  0.001983  0.012420          1000.0   \n",
       "7                0.001001  0.002622  0.005729  0.083672          1000.0   \n",
       "8                0.002012  0.004852  0.010031  0.061173          1000.0   \n",
       "9                0.005022  0.011146  0.022820  0.290053          1000.0   \n",
       "\n",
       "                                                                               \n",
       "                     mean          std  min     25%     50%      75%      max  \n",
       "sequence length                                                                \n",
       "3                  23.574    21.841327  3.0     9.0    18.0    33.00    156.0  \n",
       "4                  62.400    60.704440  4.0    16.0    44.0    88.00    448.0  \n",
       "5                 159.270   157.219863  5.0    50.0   115.0   225.00   1720.0  \n",
       "6                 399.774   413.343012  6.0   114.0   276.0   541.50   3510.0  \n",
       "7                 935.095   913.704416  7.0   259.0   644.0  1260.00   5915.0  \n",
       "8                1950.208  1913.453535  8.0   560.0  1336.0  2600.00  12912.0  \n",
       "9                4770.855  4868.653124  9.0  1413.0  3226.5  6338.25  39339.0  "
      ]
     },
     "execution_count": 11,
     "metadata": {},
     "output_type": "execute_result"
    }
   ],
   "source": [
    "results_df.groupby('sequence length').describe()"
   ]
  },
  {
   "cell_type": "markdown",
   "metadata": {},
   "source": [
    "We can add error bars to the plot for each sequence length\n",
    "\n",
    "https://matplotlib.org/api/_as_gen/matplotlib.pyplot.errorbar.html\n",
    "\n",
    "https://matplotlib.org/1.2.1/examples/pylab_examples/errorbar_demo.html\n",
    "\n",
    "https://matplotlib.org/gallery/statistics/errorbar_features.html\n",
    "\n",
    "or use a violin plot"
   ]
  },
  {
   "cell_type": "code",
   "execution_count": 12,
   "metadata": {},
   "outputs": [
    {
     "data": {
      "text/plain": [
       "'0.9.0'"
      ]
     },
     "execution_count": 12,
     "metadata": {},
     "output_type": "execute_result"
    }
   ],
   "source": [
    "import seaborn\n",
    "seaborn.__version__"
   ]
  },
  {
   "cell_type": "code",
   "execution_count": 13,
   "metadata": {},
   "outputs": [
    {
     "data": {
      "image/png": "[encoded data removed]",
      "text/plain": [
       "<Figure size 432x288 with 1 Axes>"
      ]
     },
     "metadata": {
      "needs_background": "light"
     },
     "output_type": "display_data"
    }
   ],
   "source": [
    "ax = seaborn.violinplot(x=\"sequence length\", \n",
    "                        y=\"number of flips\", \n",
    "                        data=results_df,\n",
    "                        showmeans=True,\n",
    "                        showextrema=True,\n",
    "                        showmedians=True)"
   ]
  },
  {
   "cell_type": "code",
   "execution_count": null,
   "metadata": {},
   "outputs": [],
   "source": []
  }
 ],
 "metadata": {
  "kernelspec": {
   "display_name": "Python 3",
   "language": "python",
   "name": "python3"
  },
  "language_info": {
   "codemirror_mode": {
    "name": "ipython",
    "version": 3
   },
   "file_extension": ".py",
   "mimetype": "text/x-python",
   "name": "python",
   "nbconvert_exporter": "python",
   "pygments_lexer": "ipython3",
   "version": "3.6.7"
  }
 },
 "nbformat": 4,
 "nbformat_minor": 2
}
